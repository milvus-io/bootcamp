{
 "cells": [
  {
   "cell_type": "code",
   "execution_count": 1,
   "id": "3417e035-a8e3-48ea-a0ac-8fb2bddfdab9",
   "metadata": {},
   "outputs": [
    {
     "name": "stdout",
     "output_type": "stream",
     "text": [
      "Requirement already satisfied: pymilvus in /Users/stephen/Library/Caches/pypoetry/virtualenvs/milvus-bootcamp-rag-MiiP0ihC-py3.11/lib/python3.11/site-packages (2.4.3)\n",
      "Requirement already satisfied: setuptools>=67 in /Users/stephen/Library/Caches/pypoetry/virtualenvs/milvus-bootcamp-rag-MiiP0ihC-py3.11/lib/python3.11/site-packages (from pymilvus) (69.1.0)\n",
      "Requirement already satisfied: grpcio<=1.63.0,>=1.49.1 in /Users/stephen/Library/Caches/pypoetry/virtualenvs/milvus-bootcamp-rag-MiiP0ihC-py3.11/lib/python3.11/site-packages (from pymilvus) (1.63.0)\n",
      "Requirement already satisfied: protobuf>=3.20.0 in /Users/stephen/Library/Caches/pypoetry/virtualenvs/milvus-bootcamp-rag-MiiP0ihC-py3.11/lib/python3.11/site-packages (from pymilvus) (5.27.1)\n",
      "Requirement already satisfied: environs<=9.5.0 in /Users/stephen/Library/Caches/pypoetry/virtualenvs/milvus-bootcamp-rag-MiiP0ihC-py3.11/lib/python3.11/site-packages (from pymilvus) (9.5.0)\n",
      "Requirement already satisfied: ujson>=2.0.0 in /Users/stephen/Library/Caches/pypoetry/virtualenvs/milvus-bootcamp-rag-MiiP0ihC-py3.11/lib/python3.11/site-packages (from pymilvus) (5.10.0)\n",
      "Requirement already satisfied: pandas>=1.2.4 in /Users/stephen/Library/Caches/pypoetry/virtualenvs/milvus-bootcamp-rag-MiiP0ihC-py3.11/lib/python3.11/site-packages (from pymilvus) (2.2.2)\n",
      "Requirement already satisfied: milvus-lite<2.5.0,>=2.4.0 in /Users/stephen/Library/Caches/pypoetry/virtualenvs/milvus-bootcamp-rag-MiiP0ihC-py3.11/lib/python3.11/site-packages (from pymilvus) (2.4.7)\n",
      "Requirement already satisfied: marshmallow>=3.0.0 in /Users/stephen/Library/Caches/pypoetry/virtualenvs/milvus-bootcamp-rag-MiiP0ihC-py3.11/lib/python3.11/site-packages (from environs<=9.5.0->pymilvus) (3.21.3)\n",
      "Requirement already satisfied: python-dotenv in /Users/stephen/Library/Caches/pypoetry/virtualenvs/milvus-bootcamp-rag-MiiP0ihC-py3.11/lib/python3.11/site-packages (from environs<=9.5.0->pymilvus) (1.0.1)\n",
      "Requirement already satisfied: numpy>=1.23.2 in /Users/stephen/Library/Caches/pypoetry/virtualenvs/milvus-bootcamp-rag-MiiP0ihC-py3.11/lib/python3.11/site-packages (from pandas>=1.2.4->pymilvus) (1.26.4)\n",
      "Requirement already satisfied: python-dateutil>=2.8.2 in /Users/stephen/Library/Caches/pypoetry/virtualenvs/milvus-bootcamp-rag-MiiP0ihC-py3.11/lib/python3.11/site-packages (from pandas>=1.2.4->pymilvus) (2.9.0.post0)\n",
      "Requirement already satisfied: pytz>=2020.1 in /Users/stephen/Library/Caches/pypoetry/virtualenvs/milvus-bootcamp-rag-MiiP0ihC-py3.11/lib/python3.11/site-packages (from pandas>=1.2.4->pymilvus) (2024.1)\n",
      "Requirement already satisfied: tzdata>=2022.7 in /Users/stephen/Library/Caches/pypoetry/virtualenvs/milvus-bootcamp-rag-MiiP0ihC-py3.11/lib/python3.11/site-packages (from pandas>=1.2.4->pymilvus) (2024.1)\n",
      "Requirement already satisfied: packaging>=17.0 in /Users/stephen/Library/Caches/pypoetry/virtualenvs/milvus-bootcamp-rag-MiiP0ihC-py3.11/lib/python3.11/site-packages (from marshmallow>=3.0.0->environs<=9.5.0->pymilvus) (23.2)\n",
      "Requirement already satisfied: six>=1.5 in /Users/stephen/Library/Caches/pypoetry/virtualenvs/milvus-bootcamp-rag-MiiP0ihC-py3.11/lib/python3.11/site-packages (from python-dateutil>=2.8.2->pandas>=1.2.4->pymilvus) (1.16.0)\n",
      "\n",
      "\u001b[1m[\u001b[0m\u001b[34;49mnotice\u001b[0m\u001b[1;39;49m]\u001b[0m\u001b[39;49m A new release of pip is available: \u001b[0m\u001b[31;49m24.0\u001b[0m\u001b[39;49m -> \u001b[0m\u001b[32;49m24.1.2\u001b[0m\n",
      "\u001b[1m[\u001b[0m\u001b[34;49mnotice\u001b[0m\u001b[1;39;49m]\u001b[0m\u001b[39;49m To update, run: \u001b[0m\u001b[32;49mpip install --upgrade pip\u001b[0m\n"
     ]
    }
   ],
   "source": [
    "! pip install --upgrade pymilvus"
   ]
  },
  {
   "cell_type": "code",
   "execution_count": 115,
   "id": "a93123a8-dd66-4850-ac14-d2948d66bde3",
   "metadata": {},
   "outputs": [
    {
     "name": "stdout",
     "output_type": "stream",
     "text": [
      "Requirement already satisfied: pymilvus in /Users/stephen/Library/Caches/pypoetry/virtualenvs/milvus-bootcamp-rag-MiiP0ihC-py3.11/lib/python3.11/site-packages (2.4.4)\n",
      "Requirement already satisfied: ollama in /Users/stephen/Library/Caches/pypoetry/virtualenvs/milvus-bootcamp-rag-MiiP0ihC-py3.11/lib/python3.11/site-packages (0.2.1)\n",
      "Requirement already satisfied: tqdm in /Users/stephen/Library/Caches/pypoetry/virtualenvs/milvus-bootcamp-rag-MiiP0ihC-py3.11/lib/python3.11/site-packages (4.66.4)\n",
      "Requirement already satisfied: pypdf in /Users/stephen/Library/Caches/pypoetry/virtualenvs/milvus-bootcamp-rag-MiiP0ihC-py3.11/lib/python3.11/site-packages (4.2.0)\n",
      "Requirement already satisfied: voyageai in /Users/stephen/Library/Caches/pypoetry/virtualenvs/milvus-bootcamp-rag-MiiP0ihC-py3.11/lib/python3.11/site-packages (0.2.3)\n",
      "Requirement already satisfied: openai in /Users/stephen/Library/Caches/pypoetry/virtualenvs/milvus-bootcamp-rag-MiiP0ihC-py3.11/lib/python3.11/site-packages (1.35.13)\n",
      "Requirement already satisfied: wget in /Users/stephen/Library/Caches/pypoetry/virtualenvs/milvus-bootcamp-rag-MiiP0ihC-py3.11/lib/python3.11/site-packages (3.2)\n",
      "Requirement already satisfied: setuptools>=67 in /Users/stephen/Library/Caches/pypoetry/virtualenvs/milvus-bootcamp-rag-MiiP0ihC-py3.11/lib/python3.11/site-packages (from pymilvus) (69.1.0)\n",
      "Requirement already satisfied: grpcio<=1.63.0,>=1.49.1 in /Users/stephen/Library/Caches/pypoetry/virtualenvs/milvus-bootcamp-rag-MiiP0ihC-py3.11/lib/python3.11/site-packages (from pymilvus) (1.63.0)\n",
      "Requirement already satisfied: protobuf>=3.20.0 in /Users/stephen/Library/Caches/pypoetry/virtualenvs/milvus-bootcamp-rag-MiiP0ihC-py3.11/lib/python3.11/site-packages (from pymilvus) (5.27.1)\n",
      "Requirement already satisfied: environs<=9.5.0 in /Users/stephen/Library/Caches/pypoetry/virtualenvs/milvus-bootcamp-rag-MiiP0ihC-py3.11/lib/python3.11/site-packages (from pymilvus) (9.5.0)\n",
      "Requirement already satisfied: ujson>=2.0.0 in /Users/stephen/Library/Caches/pypoetry/virtualenvs/milvus-bootcamp-rag-MiiP0ihC-py3.11/lib/python3.11/site-packages (from pymilvus) (5.10.0)\n",
      "Requirement already satisfied: pandas>=1.2.4 in /Users/stephen/Library/Caches/pypoetry/virtualenvs/milvus-bootcamp-rag-MiiP0ihC-py3.11/lib/python3.11/site-packages (from pymilvus) (2.2.2)\n",
      "Requirement already satisfied: milvus-lite<2.5.0,>=2.4.0 in /Users/stephen/Library/Caches/pypoetry/virtualenvs/milvus-bootcamp-rag-MiiP0ihC-py3.11/lib/python3.11/site-packages (from pymilvus) (2.4.7)\n",
      "Requirement already satisfied: httpx<0.28.0,>=0.27.0 in /Users/stephen/Library/Caches/pypoetry/virtualenvs/milvus-bootcamp-rag-MiiP0ihC-py3.11/lib/python3.11/site-packages (from ollama) (0.27.0)\n",
      "Requirement already satisfied: aiohttp<4.0,>=3.5 in /Users/stephen/Library/Caches/pypoetry/virtualenvs/milvus-bootcamp-rag-MiiP0ihC-py3.11/lib/python3.11/site-packages (from voyageai) (3.9.5)\n",
      "Requirement already satisfied: aiolimiter<2.0.0,>=1.1.0 in /Users/stephen/Library/Caches/pypoetry/virtualenvs/milvus-bootcamp-rag-MiiP0ihC-py3.11/lib/python3.11/site-packages (from voyageai) (1.1.0)\n",
      "Requirement already satisfied: numpy>=1.11 in /Users/stephen/Library/Caches/pypoetry/virtualenvs/milvus-bootcamp-rag-MiiP0ihC-py3.11/lib/python3.11/site-packages (from voyageai) (1.26.4)\n",
      "Requirement already satisfied: requests<3.0,>=2.20 in /Users/stephen/Library/Caches/pypoetry/virtualenvs/milvus-bootcamp-rag-MiiP0ihC-py3.11/lib/python3.11/site-packages (from voyageai) (2.32.3)\n",
      "Requirement already satisfied: tenacity>=8.0.1 in /Users/stephen/Library/Caches/pypoetry/virtualenvs/milvus-bootcamp-rag-MiiP0ihC-py3.11/lib/python3.11/site-packages (from voyageai) (8.3.0)\n",
      "Requirement already satisfied: anyio<5,>=3.5.0 in /Users/stephen/Library/Caches/pypoetry/virtualenvs/milvus-bootcamp-rag-MiiP0ihC-py3.11/lib/python3.11/site-packages (from openai) (4.4.0)\n",
      "Requirement already satisfied: distro<2,>=1.7.0 in /Users/stephen/Library/Caches/pypoetry/virtualenvs/milvus-bootcamp-rag-MiiP0ihC-py3.11/lib/python3.11/site-packages (from openai) (1.9.0)\n",
      "Requirement already satisfied: pydantic<3,>=1.9.0 in /Users/stephen/Library/Caches/pypoetry/virtualenvs/milvus-bootcamp-rag-MiiP0ihC-py3.11/lib/python3.11/site-packages (from openai) (2.7.4)\n",
      "Requirement already satisfied: sniffio in /Users/stephen/Library/Caches/pypoetry/virtualenvs/milvus-bootcamp-rag-MiiP0ihC-py3.11/lib/python3.11/site-packages (from openai) (1.3.1)\n",
      "Requirement already satisfied: typing-extensions<5,>=4.7 in /Users/stephen/Library/Caches/pypoetry/virtualenvs/milvus-bootcamp-rag-MiiP0ihC-py3.11/lib/python3.11/site-packages (from openai) (4.12.2)\n",
      "Requirement already satisfied: aiosignal>=1.1.2 in /Users/stephen/Library/Caches/pypoetry/virtualenvs/milvus-bootcamp-rag-MiiP0ihC-py3.11/lib/python3.11/site-packages (from aiohttp<4.0,>=3.5->voyageai) (1.3.1)\n",
      "Requirement already satisfied: attrs>=17.3.0 in /Users/stephen/Library/Caches/pypoetry/virtualenvs/milvus-bootcamp-rag-MiiP0ihC-py3.11/lib/python3.11/site-packages (from aiohttp<4.0,>=3.5->voyageai) (23.2.0)\n",
      "Requirement already satisfied: frozenlist>=1.1.1 in /Users/stephen/Library/Caches/pypoetry/virtualenvs/milvus-bootcamp-rag-MiiP0ihC-py3.11/lib/python3.11/site-packages (from aiohttp<4.0,>=3.5->voyageai) (1.4.1)\n",
      "Requirement already satisfied: multidict<7.0,>=4.5 in /Users/stephen/Library/Caches/pypoetry/virtualenvs/milvus-bootcamp-rag-MiiP0ihC-py3.11/lib/python3.11/site-packages (from aiohttp<4.0,>=3.5->voyageai) (6.0.5)\n",
      "Requirement already satisfied: yarl<2.0,>=1.0 in /Users/stephen/Library/Caches/pypoetry/virtualenvs/milvus-bootcamp-rag-MiiP0ihC-py3.11/lib/python3.11/site-packages (from aiohttp<4.0,>=3.5->voyageai) (1.9.4)\n",
      "Requirement already satisfied: idna>=2.8 in /Users/stephen/Library/Caches/pypoetry/virtualenvs/milvus-bootcamp-rag-MiiP0ihC-py3.11/lib/python3.11/site-packages (from anyio<5,>=3.5.0->openai) (3.7)\n",
      "Requirement already satisfied: marshmallow>=3.0.0 in /Users/stephen/Library/Caches/pypoetry/virtualenvs/milvus-bootcamp-rag-MiiP0ihC-py3.11/lib/python3.11/site-packages (from environs<=9.5.0->pymilvus) (3.21.3)\n",
      "Requirement already satisfied: python-dotenv in /Users/stephen/Library/Caches/pypoetry/virtualenvs/milvus-bootcamp-rag-MiiP0ihC-py3.11/lib/python3.11/site-packages (from environs<=9.5.0->pymilvus) (1.0.1)\n",
      "Requirement already satisfied: certifi in /Users/stephen/Library/Caches/pypoetry/virtualenvs/milvus-bootcamp-rag-MiiP0ihC-py3.11/lib/python3.11/site-packages (from httpx<0.28.0,>=0.27.0->ollama) (2024.6.2)\n",
      "Requirement already satisfied: httpcore==1.* in /Users/stephen/Library/Caches/pypoetry/virtualenvs/milvus-bootcamp-rag-MiiP0ihC-py3.11/lib/python3.11/site-packages (from httpx<0.28.0,>=0.27.0->ollama) (1.0.5)\n",
      "Requirement already satisfied: h11<0.15,>=0.13 in /Users/stephen/Library/Caches/pypoetry/virtualenvs/milvus-bootcamp-rag-MiiP0ihC-py3.11/lib/python3.11/site-packages (from httpcore==1.*->httpx<0.28.0,>=0.27.0->ollama) (0.14.0)\n",
      "Requirement already satisfied: python-dateutil>=2.8.2 in /Users/stephen/Library/Caches/pypoetry/virtualenvs/milvus-bootcamp-rag-MiiP0ihC-py3.11/lib/python3.11/site-packages (from pandas>=1.2.4->pymilvus) (2.9.0.post0)\n",
      "Requirement already satisfied: pytz>=2020.1 in /Users/stephen/Library/Caches/pypoetry/virtualenvs/milvus-bootcamp-rag-MiiP0ihC-py3.11/lib/python3.11/site-packages (from pandas>=1.2.4->pymilvus) (2024.1)\n",
      "Requirement already satisfied: tzdata>=2022.7 in /Users/stephen/Library/Caches/pypoetry/virtualenvs/milvus-bootcamp-rag-MiiP0ihC-py3.11/lib/python3.11/site-packages (from pandas>=1.2.4->pymilvus) (2024.1)\n",
      "Requirement already satisfied: annotated-types>=0.4.0 in /Users/stephen/Library/Caches/pypoetry/virtualenvs/milvus-bootcamp-rag-MiiP0ihC-py3.11/lib/python3.11/site-packages (from pydantic<3,>=1.9.0->openai) (0.7.0)\n",
      "Requirement already satisfied: pydantic-core==2.18.4 in /Users/stephen/Library/Caches/pypoetry/virtualenvs/milvus-bootcamp-rag-MiiP0ihC-py3.11/lib/python3.11/site-packages (from pydantic<3,>=1.9.0->openai) (2.18.4)\n",
      "Requirement already satisfied: charset-normalizer<4,>=2 in /Users/stephen/Library/Caches/pypoetry/virtualenvs/milvus-bootcamp-rag-MiiP0ihC-py3.11/lib/python3.11/site-packages (from requests<3.0,>=2.20->voyageai) (3.3.2)\n",
      "Requirement already satisfied: urllib3<3,>=1.21.1 in /Users/stephen/Library/Caches/pypoetry/virtualenvs/milvus-bootcamp-rag-MiiP0ihC-py3.11/lib/python3.11/site-packages (from requests<3.0,>=2.20->voyageai) (2.2.1)\n",
      "Requirement already satisfied: packaging>=17.0 in /Users/stephen/Library/Caches/pypoetry/virtualenvs/milvus-bootcamp-rag-MiiP0ihC-py3.11/lib/python3.11/site-packages (from marshmallow>=3.0.0->environs<=9.5.0->pymilvus) (23.2)\n",
      "Requirement already satisfied: six>=1.5 in /Users/stephen/Library/Caches/pypoetry/virtualenvs/milvus-bootcamp-rag-MiiP0ihC-py3.11/lib/python3.11/site-packages (from python-dateutil>=2.8.2->pandas>=1.2.4->pymilvus) (1.16.0)\n",
      "\n",
      "\u001b[1m[\u001b[0m\u001b[34;49mnotice\u001b[0m\u001b[1;39;49m]\u001b[0m\u001b[39;49m A new release of pip is available: \u001b[0m\u001b[31;49m24.0\u001b[0m\u001b[39;49m -> \u001b[0m\u001b[32;49m24.1.2\u001b[0m\n",
      "\u001b[1m[\u001b[0m\u001b[34;49mnotice\u001b[0m\u001b[1;39;49m]\u001b[0m\u001b[39;49m To update, run: \u001b[0m\u001b[32;49mpip install --upgrade pip\u001b[0m\n"
     ]
    }
   ],
   "source": [
    "! pip install --upgrade ollama tqdm pypdf voyageai openai wget"
   ]
  },
  {
   "cell_type": "markdown",
   "id": "554e2bbe-4142-486b-89dc-d45270ee2547",
   "metadata": {},
   "source": [
    "## Import API Keys"
   ]
  },
  {
   "cell_type": "code",
   "execution_count": 2,
   "id": "3ca59814-4ff3-4913-a498-79a5f79edf2a",
   "metadata": {},
   "outputs": [],
   "source": [
    "import os\n",
    "from dotenv import load_dotenv\n",
    "\n",
    "load_dotenv()\n",
    "\n",
    "VOYAGE_API_KEY = os.getenv('VOYAGE_API_KEY')\n"
   ]
  },
  {
   "cell_type": "markdown",
   "id": "dc8dc854-614b-45e8-aff2-fa2d8424a3cf",
   "metadata": {},
   "source": [
    "## Document \n",
    "URL of the Document https://www.judiciary.uk/wp-content/uploads/2024/07/Final-Judgment-CA-2023-001978-BBC-v-BBC-Pension-Trust-another.pdf"
   ]
  },
  {
   "cell_type": "code",
   "execution_count": 2,
   "id": "a1bca449-d6ad-484b-945a-76aa361011fc",
   "metadata": {},
   "outputs": [
    {
     "name": "stdout",
     "output_type": "stream",
     "text": [
      "--2024-07-11 15:07:58--  https://www.judiciary.uk/wp-content/uploads/2024/07/Final-Judgment-CA-2023-001978-BBC-v-BBC-Pension-Trust-another.pdf\n",
      "Resolving www.judiciary.uk (www.judiciary.uk)... 2600:9000:243d:7800:1f:7f0e:b300:93a1, 2600:9000:243d:cc00:1f:7f0e:b300:93a1, 2600:9000:243d:1400:1f:7f0e:b300:93a1, ...\n",
      "Connecting to www.judiciary.uk (www.judiciary.uk)|2600:9000:243d:7800:1f:7f0e:b300:93a1|:443... connected.\n",
      "HTTP request sent, awaiting response... 200 OK\n",
      "Length: 283459 (277K) [application/pdf]\n",
      "Saving to: ‘Final-Judgment-CA-2023-001978-BBC-v-BBC-Pension-Trust-another.pdf.2’\n",
      "\n",
      "Final-Judgment-CA-2 100%[===================>] 276.82K  --.-KB/s    in 0.07s   \n",
      "\n",
      "2024-07-11 15:07:58 (3.78 MB/s) - ‘Final-Judgment-CA-2023-001978-BBC-v-BBC-Pension-Trust-another.pdf.2’ saved [283459/283459]\n",
      "\n"
     ]
    }
   ],
   "source": [
    "! wget https://www.judiciary.uk/wp-content/uploads/2024/07/Final-Judgment-CA-2023-001978-BBC-v-BBC-Pension-Trust-another.pdf"
   ]
  },
  {
   "cell_type": "code",
   "execution_count": 4,
   "id": "87e65593-02b2-4866-ac87-5fd536939ebe",
   "metadata": {},
   "outputs": [
    {
     "name": "stdout",
     "output_type": "stream",
     "text": [
      "  \n",
      " \n",
      "Neutral Citation Number  [2024] EWCA Civ 767   \n",
      " \n",
      "Case No:  CA-2023 -001978   \n",
      "IN THE COURT OF APPEAL ( CIVIL  DIVISION)  \n",
      "ON APPEAL FROM  THE HIGH COURT OF JUSTICE  \n",
      "BUSINESS AND PROPERTY COURTS OF ENGLAND AND WALES  \n",
      "BUSINESS LIST : PENSIONS (ChD)        \n",
      "The Hon Mr Justice Adam Johnson  \n",
      "[2023] EWHC 1965  (Ch)  \n",
      "Royal Courts of Justice  \n",
      "Strand, London, WC2A 2LL  \n",
      " \n",
      "Date:  09/07 /2024   \n",
      "Before :  \n",
      " \n",
      "LORD JUSTICE LEWISON  \n",
      "LADY JUSTICE FALK  \n",
      "and \n",
      "SIR CHRISTOPHER FLOYD  \n",
      " \n",
      "- - - - - - - - - - - - - - - - - - - - - \n",
      " \n",
      "Between :  \n",
      " \n",
      " BRITISH BROADCASTING CORPORATION  Appellant  \n",
      " - and -  \n",
      " (1) BBC P ENSION TRUST LIMITED  \n",
      "(2) CHRISTINA BURNS   \n",
      "Respondent s \n",
      " \n",
      "- - - - - - - - - - - - - - - - - - - - - \n",
      " \n",
      "     Michael Tennet KC and Edward Sawyer  (instructed by  Linklaters LLP ) \n",
      "for the Appellant       \n",
      "      Brian Green KC and Joseph Steadman (instructed by  Slaughter and May  Solicitors ) \n",
      "for the  First Respondent  \n",
      "Andrew Spink KC and Saul Margo  (instructed by Stephenson Harwood LLP ) \n",
      "for the Second Respondent     \n",
      " \n",
      "Hearing dates: 25, 26 & 27/06/2024       \n",
      "- - - - - - - - - - - - - - - - - - - - - \n",
      " \n",
      "Approved Judgment  \n",
      " \n",
      "This judgment was handed down remotely at 11.00am on 09/07/2024 by circulation to the \n",
      "parties or their representatives by e -mail and by release to the Nat ional Archives.  \n",
      " \n",
      ".............................  \n",
      "\n"
     ]
    }
   ],
   "source": [
    "from pypdf import PdfReader\n",
    "\n",
    "reader = PdfReader(\"Final-Judgment-CA-2023-001978-BBC-v-BBC-Pension-Trust-another.pdf\")\n",
    "\n",
    "pages = [page.extract_text() for page in reader.pages]\n",
    "\n",
    "print(pages[0])"
   ]
  },
  {
   "cell_type": "markdown",
   "id": "0cf0f5c0-8112-4b8e-b8fd-bd04003563cd",
   "metadata": {},
   "source": [
    "# Prepare Embedding Models\n",
    "\n",
    "For this one, we are going to use `voyage-law-2`, it's an embedding model specialised for the legal domain"
   ]
  },
  {
   "cell_type": "code",
   "execution_count": 5,
   "id": "b6e03538-7c30-4f51-b1f0-9a4089f54545",
   "metadata": {},
   "outputs": [],
   "source": [
    "import voyageai\n",
    "\n",
    "voyage_client = voyageai.Client()\n",
    "\n",
    "result = voyage_client.embed([\"hello world\"], model=\"voyage-law-2\")"
   ]
  },
  {
   "cell_type": "code",
   "execution_count": 7,
   "id": "d5aa4ac0-a5e5-43a5-93b8-499b5e000809",
   "metadata": {},
   "outputs": [
    {
     "name": "stdout",
     "output_type": "stream",
     "text": [
      "1024\n",
      "[0.000756315013859421, -0.02162403240799904, 0.0052010356448590755, -0.02917512319982052, -0.00796651840209961, -0.03238343447446823, 0.0660339742898941, 0.03845587745308876, -0.01913367211818695, 0.05562642216682434]\n"
     ]
    }
   ],
   "source": [
    "embedding_dim = len(result.embeddings[0])\n",
    "print(embedding_dim)\n",
    "print(result.embeddings[0][:10])"
   ]
  },
  {
   "cell_type": "code",
   "execution_count": 8,
   "id": "5f838088-1181-4407-8733-d67989ab7b4f",
   "metadata": {},
   "outputs": [],
   "source": [
    "def embed_text(text: str) -> str:\n",
    "    return voyage_client.embed([text], model=\"voyage-law-2\").embeddings[0]\n"
   ]
  },
  {
   "cell_type": "code",
   "execution_count": 9,
   "id": "7e0a0aa8-2cdc-47c0-a602-ff857c86e26e",
   "metadata": {},
   "outputs": [],
   "source": [
    "from pymilvus import MilvusClient\n",
    "\n",
    "milvus_client = MilvusClient(uri=\"./milvus_legal.db\")\n",
    "\n",
    "collection_name = \"my_rag_collection\"\n"
   ]
  },
  {
   "cell_type": "code",
   "execution_count": 10,
   "id": "3ab12b5a-ab86-419a-8ab8-f83ca963939c",
   "metadata": {},
   "outputs": [],
   "source": [
    "if milvus_client.has_collection(collection_name):\n",
    "    milvus_client.drop_collection(collection_name)\n"
   ]
  },
  {
   "cell_type": "code",
   "execution_count": 11,
   "id": "c1f11767-95b1-4338-ab4e-831c4cb9045e",
   "metadata": {},
   "outputs": [],
   "source": [
    "milvus_client.create_collection(\n",
    "    collection_name=collection_name,\n",
    "    dimension=embedding_dim,\n",
    "    metric_type=\"IP\",  # Inner product distance\n",
    "    consistency_level=\"Strong\",  # Strong consistency level\n",
    ")\n"
   ]
  },
  {
   "cell_type": "code",
   "execution_count": 13,
   "id": "54b38dce-17b5-4bc5-94d2-58fe1a9fbe74",
   "metadata": {},
   "outputs": [
    {
     "name": "stderr",
     "output_type": "stream",
     "text": [
      "Creating embeddings: 100%|███████████████████████████████████████████████████████████████████████████████████████| 20/20 [00:08<00:00,  2.45it/s]\n"
     ]
    },
    {
     "data": {
      "text/plain": [
       "{'insert_count': 20,\n",
       " 'ids': [0, 1, 2, 3, 4, 5, 6, 7, 8, 9, 10, 11, 12, 13, 14, 15, 16, 17, 18, 19],\n",
       " 'cost': 0}"
      ]
     },
     "execution_count": 13,
     "metadata": {},
     "output_type": "execute_result"
    }
   ],
   "source": [
    "from tqdm import tqdm\n",
    "\n",
    "data = []\n",
    "\n",
    "for i, page in enumerate(tqdm(pages, desc=\"Creating embeddings\")):\n",
    "    data.append({\"id\": i, \"vector\": embed_text(page), \"text\": page})\n",
    "\n",
    "milvus_client.insert(collection_name=collection_name, data=data)"
   ]
  },
  {
   "cell_type": "code",
   "execution_count": 15,
   "id": "b2b35d20-cb42-4379-9a3f-c21ddfd65753",
   "metadata": {},
   "outputs": [],
   "source": [
    "question = \"who are the lawyers?\""
   ]
  },
  {
   "cell_type": "code",
   "execution_count": 16,
   "id": "e92a0ab5-0c4a-42f9-974b-0d189cb68474",
   "metadata": {},
   "outputs": [],
   "source": [
    "search_res = milvus_client.search(\n",
    "    collection_name=collection_name,\n",
    "    data=[\n",
    "        embed_text(question)\n",
    "    ],  # Use the `embed_text` function to convert the question to an embedding vector\n",
    "    limit=3,  # Return top 3 results\n",
    "    search_params={\"metric_type\": \"IP\", \"params\": {}},  # Inner product distance\n",
    "    output_fields=[\"text\"],  # Return the text field\n",
    ")\n"
   ]
  },
  {
   "cell_type": "code",
   "execution_count": 17,
   "id": "4fe8b74f-1d53-48e3-a49a-0c989f3063b5",
   "metadata": {},
   "outputs": [
    {
     "name": "stdout",
     "output_type": "stream",
     "text": [
      "[\n",
      "    [\n",
      "        \"BBC v BBC Pensions Trust  \\n13 meaning. Indeed , it would be the starting point for a reasonable reader wishing to \\nunderstand the scope of rule 19.2.  \\n48. Although the use of a dictionary is a permissible aid to the interpretation  of a written \\ninstrument, as Stey n LJ said in Arbuthnott v Fagan  [1995] CLC 1396, 1402:  \\n\\u201cDictionaries never solve concrete problems of construction. \\nThe meaning of words cannot be ascertained divorced from their \\ncontext. And part of the contextual scene is the purpose of the \\nprovision. \\u201d \\n49. In addition, as Lord Hoffmann pointed out in R v Brown  [1996] AC 543 , 561 it is a \\nfallacy to treat the words of an English sentence as building blocks whose meaning \\ncannot be affected by the rest of the sentence. The unit of communication by means of \\nlanguage is the sentence and not the parts of which it is composed. The signifi cance of \\nindividual words is affected by other words and the syntax of the whole.  \\n50. In many cases the word \\u201cinterest\\u201d is often only part of a composite phrase . For instance , \\nan \\u201cinterest in land\\u201d is a right or entitlement to land recognised by the law  as be ing \\nenforceable either at law or in equity . The part of the phrase \\u201cin land\\u201d colours the \\nmeaning of the word \\u201cinterest\\u201d. An interest in a fund may be the right to an ascertained \\npart of a fund; but a person with an entitlement to be considered as one of a class of \\ndiscretionary beneficiaries may also be described, without misuse of language, as \\nhaving an interest in the fund. Their respective interest s in the fund may be different, \\nbut that is because of their different rights. In other words, the word \\u201c interest\\u201d is flexible \\nenough to encompass both. In the very different context of permission to apply for \\njudicial review, the concept of \\u201csuffi cient interest in the matter\\u201d in section 31 (3) of the \\nSenior Courts Act 1981 is not based on the concept of rights but on interests : AXA \\nGeneral Insurance Ltd v HM Advocate  [2011] UKSC 46, [2012] 1 AC 868 at [170]. \\nAgain, the word is coloured by the context.  \\n51. Here  the word \\u201cinterests\\u201d in proviso (3) is untethered to any composite phrase.  \\n52. In short, I agree with the judge at [51] where he said:  \\n\\u201cI do not see why the word interests  has to have precisely the \\nsame content  in every context in which it appears. In fact, it \\nseems to me that it has an inherent pliability, and has been used \\nprecisely in order to allow the content it describes to differ as \\nnecessary, according to the context in which it appears and the \\nidentity of the party or parties affected. \\u201d (Original emphasis)  \\n53. The judge went on to say in the same paragraph that the meaning of \\u201cinterests\\u201d in each \\ncase meant \\u201cmatters of relevant concern\\u201d. Mr Tennet pointed out that the very broad \\nmeaning adopted by the judge h ad no logical stopping point. I do not agree with that \\nsubmission in the way in which it was put. What is a matter of relevant concern will \\ndepend not only on the context and identity of the persons concerned, but also the nature \\nof the proposed amendment under consideration. The judge\\u2019s elucidation  of the \\nmeaning of \\u201cinterests\\u201d must be read in the context of the particu lar questions raised in \\nthe claim form. Ultimately, however, whether  that gloss is overbroad as a matter of \\ngenerality does not in my view matter for the purposes of this appeal.  We need only \",\n",
      "        0.12972107529640198\n",
      "    ],\n",
      "    [\n",
      "        \"  \\n \\nNeutral Citation Number  [2024] EWCA Civ 767   \\n \\nCase No:  CA-2023 -001978   \\nIN THE COURT OF APPEAL ( CIVIL  DIVISION)  \\nON APPEAL FROM  THE HIGH COURT OF JUSTICE  \\nBUSINESS AND PROPERTY COURTS OF ENGLAND AND WALES  \\nBUSINESS LIST : PENSIONS (ChD)        \\nThe Hon Mr Justice Adam Johnson  \\n[2023] EWHC 1965  (Ch)  \\nRoyal Courts of Justice  \\nStrand, London, WC2A 2LL  \\n \\nDate:  09/07 /2024   \\nBefore :  \\n \\nLORD JUSTICE LEWISON  \\nLADY JUSTICE FALK  \\nand \\nSIR CHRISTOPHER FLOYD  \\n \\n- - - - - - - - - - - - - - - - - - - - - \\n \\nBetween :  \\n \\n BRITISH BROADCASTING CORPORATION  Appellant  \\n - and -  \\n (1) BBC P ENSION TRUST LIMITED  \\n(2) CHRISTINA BURNS   \\nRespondent s \\n \\n- - - - - - - - - - - - - - - - - - - - - \\n \\n     Michael Tennet KC and Edward Sawyer  (instructed by  Linklaters LLP ) \\nfor the Appellant       \\n      Brian Green KC and Joseph Steadman (instructed by  Slaughter and May  Solicitors ) \\nfor the  First Respondent  \\nAndrew Spink KC and Saul Margo  (instructed by Stephenson Harwood LLP ) \\nfor the Second Respondent     \\n \\nHearing dates: 25, 26 & 27/06/2024       \\n- - - - - - - - - - - - - - - - - - - - - \\n \\nApproved Judgment  \\n \\nThis judgment was handed down remotely at 11.00am on 09/07/2024 by circulation to the \\nparties or their representatives by e -mail and by release to the Nat ional Archives.  \\n \\n.............................  \\n\",\n",
      "        0.1101425364613533\n",
      "    ],\n",
      "    [\n",
      "        \"BBC v BBC Pensions Trust  \\n7 \\u201cFourthly, it is trite both that a provision in a pension scheme or \\nother formal document should be considered in the context of the \\ndocument as a whole and that one would in principle expect \\nwords and phrases to be us ed consistently in a carefully drafted \\ndocument, absent a reason for giving them different meanings. \\u201d \\n17. It is also pertinent to bear in mind what Lord Carnwath said in Lambeth LBC v Secretary \\nof State for Housing, Communities and Local Government  [2019] UKSC  33, [2019] 1 \\nWLR 4317 at [19]:  \\n\\u201cIn summary, whatever the legal character of the document in \\nquestion, the starting point \\u2014and usually the end point \\u2014is to \\nfind \\u201cthe natural and ordinary meaning\\u201d of the words there used, \\nviewed in their particular context (s tatutory or otherwise) and in \\nthe light of common sense. \\u201d \\n18. One other point of interpretation arose; and that was the relevance of the 1949 deed and \\nrules. As I have said, the proviso to rule 19.2 derives from clause 25 of the 1949 deed \\n(although the cross -reference in that deed to the interim deed has been expande d into a \\nquotation in the current version). Mr Tennet argued that the logical place to start in the \\nsearch for the correct interpretation of rule 19.2 was the interpretation of the equi valent \\nprovision in the 1949 deed. The judge used the 1949 deed as a cr oss-check only , which \\nled the judge to give too little weight to the meaning of the word \\u201cinterests\\u201d  in the 1949 \\ndeed as indicative of the correct meaning to be attributed to that word in the current \\ndeed.  The obvious inference from the re -adoption of a c lause in a pension scheme \\nwithout modification is that the same words do not change their meaning.  \\n19. It is common ground that the 1949 deed is admissible for the purpose of interpreting \\nthe scheme in its current form. Mr Spink KC for the representative beneficiary argued, \\nhowever, that the terms of the 1949 deed were only one factor which needed to be \\nweighed in the balance . As Arden LJ put it in Stena Line at [35]:  \\n\\u201c\\u2026 the meaning of a clause which is readopted from time to time \\nhas additionally to be considered in the context of circumstances \\nsubsequent to the date of its original adoption. It follows that \\nregard should be had both to relevant circumstances at the date \\nof its original adoption and to relevant circumstances at each \\nsubsequent re -adoption. Those circumstances can then be \\nweighed in the balance to assess the impact of all the relevant \\ncircumstances on the interpretation exercise in hand. \\u201d \\n20. I have myself expressed some scepticism about whether it is useful to delve into the \\narchaeology of a pension scheme, when current members of the scheme may have \\njoined many years after the scheme was initially established: Barnardo\\u2019s v \\nBuckinghamshire  [2016] EWCA Civ 1064, [2017] Pens LR 2 at [23], apparently \\napproved on appeal Buckin ghamshire v Barnado\\u2019s  at [26]. It also makes life difficult \\nfor a trustee if it has to trawl through previous iterations of a scheme in order to decide \\nwhat it can or cannot do. But in view of the limited common ground on this question, I \\ndo not propose to  discuss the principle any  further.  \",\n",
      "        0.10239334404468536\n",
      "    ]\n",
      "]\n"
     ]
    }
   ],
   "source": [
    "import json\n",
    "retrieved_lines_with_distances = [\n",
    "    (res[\"entity\"][\"text\"], res[\"distance\"]) for res in search_res[0]\n",
    "]\n",
    "print(json.dumps(retrieved_lines_with_distances, indent=4))\n"
   ]
  },
  {
   "cell_type": "markdown",
   "id": "7789b3a7-220b-4711-b002-e9f2166ef5fa",
   "metadata": {},
   "source": [
    "## Use LLM to get a RAG response"
   ]
  },
  {
   "cell_type": "code",
   "execution_count": 18,
   "id": "e7e969b6-dd6e-4bbe-91ac-9aaed69c02ee",
   "metadata": {},
   "outputs": [],
   "source": [
    "context = \"\\n\".join(\n",
    "    [line_with_distance[0] for line_with_distance in retrieved_lines_with_distances]\n",
    ")\n"
   ]
  },
  {
   "cell_type": "code",
   "execution_count": 19,
   "id": "cab2246f-edc4-4051-931e-9c443b0a83d9",
   "metadata": {},
   "outputs": [],
   "source": [
    "SYSTEM_PROMPT = \"\"\"\n",
    "Human: You are an AI assistant. You are able to find answers to the questions from the contextual passage snippets provided.\n",
    "\"\"\"\n",
    "\n",
    "USER_PROMPT = f\"\"\"\n",
    "    Use the following pieces of information enclosed in <context> tags to provide an answer to the question enclosed in <question> tags.\n",
    "    <context>\n",
    "    {context}\n",
    "    </context>\n",
    "    <question>\n",
    "    {question}\n",
    "    </question>\n",
    "\"\"\"\n"
   ]
  },
  {
   "cell_type": "code",
   "execution_count": 21,
   "id": "545f702f-5949-4997-a574-9040e7649a6b",
   "metadata": {},
   "outputs": [
    {
     "name": "stdout",
     "output_type": "stream",
     "text": [
      "According to the text, the lawyers involved in this case are:\n",
      "\n",
      "* Andrew Spink KC (instructed by Stephenson Harwood LLP) for the First Respondent\n",
      "* Saul Margo (also instructed by Stephenson Harwood LLP) for the First Respondent\n",
      "* Mr. Tennet (representing the Second Respondent)\n",
      "* Mr. Spink KC (also representing the Second Respondent)\n",
      "* Arden LJ (mentioned as having given a previous judgment in Stena Line)\n",
      "\n",
      "Note that \"KC\" stands for King's Counsel, which is a title of distinction conferred upon certain senior barristers in England and Wales.\n"
     ]
    }
   ],
   "source": [
    "from openai import OpenAI\n",
    "\n",
    "client = OpenAI(\n",
    "    base_url = 'http://localhost:11434/v1',\n",
    "    api_key='ollama', # required, but unused\n",
    ")\n",
    "\n",
    "response = client.chat.completions.create(\n",
    "    model=\"llama3\",\n",
    "    messages=[\n",
    "        {\"role\": \"system\", \"content\": SYSTEM_PROMPT},\n",
    "        {\"role\": \"user\", \"content\": USER_PROMPT},\n",
    "    ],\n",
    ")\n",
    "print(response.choices[0].message.content)\n"
   ]
  },
  {
   "cell_type": "code",
   "execution_count": null,
   "id": "0a3c9d7a-f833-4bbd-9e43-ce15ce52598b",
   "metadata": {},
   "outputs": [],
   "source": []
  }
 ],
 "metadata": {
  "kernelspec": {
   "display_name": "Python 3 (ipykernel)",
   "language": "python",
   "name": "python3"
  },
  "language_info": {
   "codemirror_mode": {
    "name": "ipython",
    "version": 3
   },
   "file_extension": ".py",
   "mimetype": "text/x-python",
   "name": "python",
   "nbconvert_exporter": "python",
   "pygments_lexer": "ipython3",
   "version": "3.11.8"
  }
 },
 "nbformat": 4,
 "nbformat_minor": 5
}
