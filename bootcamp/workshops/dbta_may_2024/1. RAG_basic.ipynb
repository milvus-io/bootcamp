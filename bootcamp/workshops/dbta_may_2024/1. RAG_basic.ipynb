{
 "cells": [
  {
   "cell_type": "markdown",
   "id": "369c3444",
   "metadata": {},
   "source": [
    "# ReadtheDocs Retrieval Augmented Generation (RAG)"
   ]
  },
  {
   "cell_type": "markdown",
   "id": "f6ffd11a",
   "metadata": {},
   "source": [
    "In this notebook, we are going to use Milvus documentation pages to create a chatbot about our product.  The chatbot is going to follow RAG steps to retrieve chunks of data using Semantic Vector Search, then the Question + Context will be fed as a Prompt to a LLM to generate an answer.\n",
    "\n",
    "Many RAG demos use OpenAI for the Embedding Model and ChatGPT for the Generative AI model.  **In this notebook, we will demo a fully open source RAG stack.**\n",
    "\n",
    "Using open-source Q&A with retrieval saves money since we make free calls to our own data almost all the time - retrieval, evaluation, and development iterations.\n",
    "\n",
    "<div>\n",
    "<img src=\"../../../images/rag_image.png\" width=\"80%\"/>\n",
    "</div>\n",
    "\n",
    "Let's get started!"
   ]
  },
  {
   "cell_type": "code",
   "execution_count": 1,
   "id": "b2509fe9",
   "metadata": {},
   "outputs": [],
   "source": [
    "# For colab install these libraries in this order:\n",
    "# !python -m pip install torch transformers sentence-transformers langchain\n",
    "# !python -m pip install -U pymilvus\n",
    "# !python -m pip install unstructured openai tqdm numpy ipykernel"
   ]
  },
  {
   "cell_type": "code",
   "execution_count": 2,
   "id": "d7570b2e",
   "metadata": {},
   "outputs": [],
   "source": [
    "# Import common libraries.\n",
    "import sys, os, time, pprint\n",
    "import numpy as np\n",
    "\n",
    "# Import custom functions for splitting and search.\n",
    "sys.path.append(\"../..\")  # Adds higher directory to python modules path.\n",
    "import milvus_utilities as _utils"
   ]
  },
  {
   "cell_type": "code",
   "execution_count": 3,
   "id": "33647d02",
   "metadata": {},
   "outputs": [],
   "source": [
    "# Function to remove newlines and double spaces from a string.\n",
    "def clean_text(text):\n",
    "    clean_text = text.replace(\"\\n\\n\", \" \")\\\n",
    "                     .replace(\"\\n\", \" \")\\\n",
    "                     .replace(\"<br><br>\", \" \")\\\n",
    "                     .replace(\"<br /><br />\", \" \")\n",
    "    \n",
    "    # Remove extra whitespace.\n",
    "    clean_text = ' '.join(clean_text.split())\n",
    "    return clean_text\n",
    "\n",
    "import numpy as np\n",
    "import matplotlib.pyplot as plt\n",
    "\n",
    "# Function to inspect chunk lengths in matplotlit.\n",
    "def plot_chunk_lengths(chunked_docs, title_keyword):\n",
    "    # Get chunk lengths.\n",
    "    lengths = [len(doc.page_content) for doc in chunked_docs]\n",
    "\n",
    "    # Mean, median lengths.\n",
    "    mean_length = np.mean(lengths)\n",
    "    median_length = np.median(lengths)\n",
    "\n",
    "    # Assemble the title.\n",
    "    title = f\"Chunk Lengths from {title_keyword} Chunking\"\n",
    "\n",
    "    # Plot the lengths.\n",
    "    plt.figure(figsize=(10, 6))  # Adjust figure size\n",
    "    plt.plot(lengths, marker='o')  # Plot lengths with circle markers\n",
    "    plt.title(title, fontsize=20, fontweight='bold')\n",
    "    plt.xlabel('Document Index')  # X-axis label\n",
    "    plt.ylabel('Length')  # Y-axis label\n",
    "    plt.grid(True)  # Show grid\n",
    "\n",
    "    # Add a horizontal line at mean and median length\n",
    "    plt.axhline(y=mean_length, color='g', linestyle='-')\n",
    "    plt.axhline(y=median_length, color='r', linestyle='-')\n",
    "    plt.text(len(lengths)-1, mean_length, f'mean = {mean_length:.0f}', va='center', ha='left', backgroundcolor='w', fontsize=12)\n",
    "    plt.text(0, median_length, f'median = {median_length:.0f}', va='center', ha='right', backgroundcolor='w', fontsize=12)\n",
    "\n",
    "    plt.show()  # Display the plot"
   ]
  },
  {
   "cell_type": "markdown",
   "id": "e059b674",
   "metadata": {},
   "source": [
    "## Download Data\n",
    "\n",
    "The data used in this notebook is Milvus documentation web pages.\n",
    "\n",
    "The code block below downloads all the web pages into a local directory called `rtdocs`.  \n",
    "\n",
    "I've already uploaded the `rtdocs` data folder to github, so you should see it if you cloned my repo."
   ]
  },
  {
   "cell_type": "code",
   "execution_count": 4,
   "id": "25686cc7",
   "metadata": {},
   "outputs": [],
   "source": [
    "# # UNCOMMENT TO DOWNLOAD THE DOCS.\n",
    "\n",
    "# # !pip install -U langchain\n",
    "# from langchain_community.document_loaders import RecursiveUrlLoader\n",
    "\n",
    "# DOCS_PAGE=\"https://milvus.io/docs/\"\n",
    "\n",
    "# loader = RecursiveUrlLoader(DOCS_PAGE)\n",
    "# docs = loader.load()\n",
    "\n",
    "# num_documents = len(docs)\n",
    "# print(f\"loaded {num_documents} documents\")\n",
    "\n",
    "# # Print the type of the docs.\n",
    "# print(type(docs))\n",
    "# print(type(docs[0]))\n",
    "# docs[0].page_content[:500]\n",
    "\n",
    "\n",
    "# # UNCOMMENT TO SAVE THE DOCS LOCALLY.\n",
    "# OUTPUT_DIR = \"../../RAG/rtdocs_new/\"\n",
    "# os.makedirs(OUTPUT_DIR, exist_ok=True)"
   ]
  },
  {
   "cell_type": "code",
   "execution_count": 5,
   "id": "075b55bc",
   "metadata": {},
   "outputs": [
    {
     "name": "stdout",
     "output_type": "stream",
     "text": [
      "loaded 22 documents\n",
      "Why Milvus Docs Tutorials Tools Blog Community Stars0 Try Managed Milvus FREE Search Home v2.4.x About Milvus Get StartedPrerequisitesInstall MilvusInstall SDKsQuickstart Concepts User Guide Models Administration Guide Tools Integrations Example Applications FAQs API reference Quickstart This guide explains how to connect to your Milvus cluster and performs CRUD operations in minutes Before you start You have installed Milvus standalone or Milvus cluster. You have installed preferred SDKs. You c\n",
      "{'source': 'https://milvus.io/docs/quickstart.md'}\n"
     ]
    }
   ],
   "source": [
    "# From raw docs\n",
    "\n",
    "# UNCOMMENT TO READ THE DOCS FROM A LOCAL DIRECTORY.\n",
    "\n",
    "# Read docs into LangChain\n",
    "# !pip install -U langchain\n",
    "# !pip install unstructured\n",
    "from langchain.document_loaders import DirectoryLoader\n",
    "\n",
    "# Load HTML files from a local directory\n",
    "path = \"../../RAG/rtdocs_new/\"\n",
    "global_pattern = '*.html'\n",
    "loader = DirectoryLoader(path=path, glob=global_pattern)\n",
    "docs = loader.load()\n",
    "\n",
    "num_documents = len(docs)\n",
    "print(f\"loaded {num_documents} documents\")\n",
    "\n",
    "# Clean up \\n literals and source metdata.\n",
    "for doc in docs:\n",
    "    doc.page_content = clean_text(doc.page_content)\n",
    "    doc.metadata[\"source\"] = \\\n",
    "        doc.metadata[\"source\"]\\\n",
    "            .replace(\"../../RAG/rtdocs_new\", \"https://milvus.io/docs\")\\\n",
    "            .replace(\".html\", \".md\")\n",
    "    \n",
    "print(docs[0].page_content[:500])\n",
    "pprint.pprint(docs[0].metadata)"
   ]
  },
  {
   "cell_type": "markdown",
   "id": "f19236fe",
   "metadata": {},
   "source": [
    "## Load the Embedding Model checkpoint and use it to create vector embeddings\n",
    "\n",
    "#### What are Embeddings?\n",
    "\n",
    "Check out [this blog](https://zilliz.com/glossary/vector-embeddings) for an introduction to embeddings.  \n",
    "\n",
    "An excellent place to start is by selecting an embedding model from the [HuggingFace MTEB Leaderboard](https://huggingface.co/spaces/mteb/leaderboard), sorted descending by the \"Retrieval Average'' column since this task is most relevant to RAG. Then, choose the smallest, highest-ranking embedding model. But, Beware!! some models listed are overfit to the training data, so they won't perform on your data as promised.  \n",
    "\n",
    "Milvus (and Zilliz) only supports tested embedding models that are **not overfit**!"
   ]
  },
  {
   "cell_type": "markdown",
   "id": "9b6c23fc",
   "metadata": {},
   "source": [
    "### Use open source Embedding Model from HuggingFace"
   ]
  },
  {
   "cell_type": "code",
   "execution_count": 6,
   "id": "f043c02e",
   "metadata": {},
   "outputs": [
    {
     "name": "stderr",
     "output_type": "stream",
     "text": [
      "/opt/miniconda3/envs/py311-unum/lib/python3.11/site-packages/huggingface_hub/file_download.py:1132: FutureWarning: `resume_download` is deprecated and will be removed in version 1.0.0. Downloads always resume when possible. If you want to force a new download, use `force_download=True`.\n",
      "  warnings.warn(\n"
     ]
    },
    {
     "name": "stdout",
     "output_type": "stream",
     "text": [
      "model_name: BAAI/bge-large-en-v1.5\n",
      "EMBEDDING_DIM: 1024\n",
      "MAX_SEQ_LENGTH: 512\n"
     ]
    }
   ],
   "source": [
    "# Import torch.\n",
    "import torch\n",
    "from sentence_transformers import SentenceTransformer\n",
    "\n",
    "# Initialize torch settings for device-agnostic code\n",
    "N_GPU = torch.cuda.device_count()\n",
    "DEVICE = torch.device('cuda:N_GPU' if torch.cuda.is_available() else 'cpu')\n",
    "\n",
    "# Load the model from huggingface model hub.\n",
    "model_name = \"BAAI/bge-large-en-v1.5\"\n",
    "encoder = SentenceTransformer(model_name, device=DEVICE)\n",
    "# print(encoder)\n",
    "\n",
    "# Get the model parameters and save for later.\n",
    "EMBEDDING_DIM = encoder.get_sentence_embedding_dimension()\n",
    "MAX_SEQ_LENGTH_IN_TOKENS = encoder.get_max_seq_length() \n",
    "# # Assume tokens are 3 characters long.\n",
    "# MAX_SEQ_LENGTH = MAX_SEQ_LENGTH_IN_TOKENS * 3\n",
    "# HF_EOS_TOKEN_LENGTH = 1 * 3\n",
    "# Test with 512 sequence length.\n",
    "MAX_SEQ_LENGTH = MAX_SEQ_LENGTH_IN_TOKENS\n",
    "HF_EOS_TOKEN_LENGTH = 1\n",
    "\n",
    "# Inspect model parameters.\n",
    "print(f\"model_name: {model_name}\")\n",
    "print(f\"EMBEDDING_DIM: {EMBEDDING_DIM}\")\n",
    "print(f\"MAX_SEQ_LENGTH: {MAX_SEQ_LENGTH}\")"
   ]
  },
  {
   "cell_type": "markdown",
   "id": "06a86a1e",
   "metadata": {},
   "source": [
    "## Create Milvus Collection and Index"
   ]
  },
  {
   "cell_type": "code",
   "execution_count": 7,
   "id": "2a43c38d",
   "metadata": {},
   "outputs": [],
   "source": [
    "# Connect a client to the Milvus Lite server.\n",
    "from pymilvus import MilvusClient\n",
    "mc = MilvusClient(\"milvus_demo.db\")"
   ]
  },
  {
   "cell_type": "code",
   "execution_count": 8,
   "id": "9fce83b1",
   "metadata": {},
   "outputs": [
    {
     "name": "stdout",
     "output_type": "stream",
     "text": [
      "Successfully dropped collection: `MilvusDocs`\n",
      "Successfully created collection: `MilvusDocs`\n"
     ]
    }
   ],
   "source": [
    "# Create vectorstore for vector index and retrieval.\n",
    "COLLECTION_NAME = \"MilvusDocs\"\n",
    "\n",
    "# Create a collection.\n",
    "COLLECTION_NAME = \"MilvusDocs\"\n",
    "\n",
    "# Milvus Lite uses the MilvusClient object.\n",
    "if mc.has_collection(COLLECTION_NAME):\n",
    "    mc.drop_collection(COLLECTION_NAME)\n",
    "    print(f\"Successfully dropped collection: `{COLLECTION_NAME}`\")\n",
    "\n",
    "# Create a collection with flexible schema and AUTOINDEX.\n",
    "mc.create_collection(COLLECTION_NAME, \n",
    "        EMBEDDING_DIM,\n",
    "        consistency_level=\"Eventually\", \n",
    "        auto_id=True,  \n",
    "        overwrite=True,\n",
    "    )\n",
    "print(f\"Successfully created collection: `{COLLECTION_NAME}`\")"
   ]
  },
  {
   "cell_type": "markdown",
   "id": "0804d3ff",
   "metadata": {},
   "source": [
    "## Fixed-length Chunking using LangChain\n",
    "\n",
    "Before embedding, it is necessary to decide your chunk strategy, chunk size, and chunk overlap.  This section uses:\n",
    "- **Strategy** = Use markdown header hierarchies.  Keep markdown sections together unless they are too long.\n",
    "- **Chunk size** = Use the embedding model's parameter `MAX_SEQ_LENGTH`\n",
    "- **Overlap** = Rule-of-thumb 10-15%\n",
    "- **Function** = \n",
    "  - Langchain's `RecursiveCharacterTextSplitter` to split up long reviews recursively.\n",
    "\n",
    "Notice below, each chunk is grounded with the document source page.  <br>"
   ]
  },
  {
   "cell_type": "code",
   "execution_count": 9,
   "id": "f51def0d",
   "metadata": {},
   "outputs": [
    {
     "name": "stdout",
     "output_type": "stream",
     "text": [
      "chunk_size: 512, chunk_overlap: 51.0\n",
      "22 docs split into 355 child documents.\n"
     ]
    },
    {
     "data": {
      "image/png": "[encoded data removed]",
      "text/plain": [
       "<Figure size 1000x600 with 1 Axes>"
      ]
     },
     "metadata": {},
     "output_type": "display_data"
    }
   ],
   "source": [
    "from langchain.text_splitter import RecursiveCharacterTextSplitter\n",
    "\n",
    "CHUNK_SIZE = 512\n",
    "chunk_overlap = np.round(CHUNK_SIZE * 0.10, 0)\n",
    "print(f\"chunk_size: {CHUNK_SIZE}, chunk_overlap: {chunk_overlap}\")\n",
    "\n",
    "# The splitter to create smaller (child) chunks\n",
    "# Default splitters: https://github.com/langchain-ai/langchain/blob/9ef2feb6747f5a69d186bd623b569ad722829a5e/libs/langchain/langchain/text_splitter.py#L842\n",
    "child_splitter = RecursiveCharacterTextSplitter(\n",
    "    chunk_size=CHUNK_SIZE, \n",
    "    chunk_overlap=chunk_overlap,\n",
    "    # length_function = len,  # use built-in Python len function\n",
    "    # separators = [\"\\n\\n\", \"\\n\", \" \", \". \", \"\"], # these are defaults\n",
    ")\n",
    "\n",
    "# Child docs for inspection\n",
    "chunks = child_splitter.split_documents(docs)\n",
    "print(f\"{len(docs)} docs split into {len(chunks)} child documents.\")\n",
    "\n",
    "# Inspect chunk lengths\n",
    "plot_chunk_lengths(chunks, 'Recursive Character')"
   ]
  },
  {
   "cell_type": "markdown",
   "id": "d2bad5f5",
   "metadata": {},
   "source": [
    "## Transform Chunks into Vectors"
   ]
  },
  {
   "cell_type": "code",
   "execution_count": 10,
   "id": "a10900de",
   "metadata": {},
   "outputs": [
    {
     "name": "stdout",
     "output_type": "stream",
     "text": [
      "Embedding time for 355 chunks: 34.68 seconds\n"
     ]
    }
   ],
   "source": [
    "# Encoder input is docs as a list of strings.\n",
    "list_of_strings = [doc.page_content for doc in chunks if hasattr(doc, 'page_content')]\n",
    "\n",
    "# Embedding inference using the Milvus built-in sparse-dense-reranking encoder.\n",
    "start_time = time.time()\n",
    "embeddings = torch.tensor(encoder.encode(list_of_strings))\n",
    "end_time = time.time()\n",
    "\n",
    "print(f\"Embedding time for {len(list_of_strings)} chunks: \", end=\"\")\n",
    "print(f\"{round(end_time - start_time, 2)} seconds\")"
   ]
  },
  {
   "cell_type": "code",
   "execution_count": 11,
   "id": "ea1b9782",
   "metadata": {},
   "outputs": [
    {
     "name": "stdout",
     "output_type": "stream",
     "text": [
      "type embeddings: <class 'list'> of <class 'numpy.ndarray'>\n",
      "of numbers: <class 'numpy.float32'>\n"
     ]
    }
   ],
   "source": [
    "# Normalize the embeddings.\n",
    "embeddings = np.array(embeddings / np.linalg.norm(embeddings))\n",
    "\n",
    "# Convert embeddings to list of `numpy.ndarray`, each containing `numpy.float32` numbers.\n",
    "converted_values = list(map(np.float32, embeddings))\n",
    "\n",
    "# Inspect the embeddings.\n",
    "assert len(chunks[0].page_content) <= MAX_SEQ_LENGTH-1\n",
    "assert len(converted_values[0]) == EMBEDDING_DIM\n",
    "print(f\"type embeddings: {type(converted_values)} of {type(converted_values[0])}\")\n",
    "print(f\"of numbers: {type(converted_values[0][0])}\")"
   ]
  },
  {
   "cell_type": "markdown",
   "id": "c4cd5859",
   "metadata": {},
   "source": [
    "## Insert data into Milvus\n",
    "\n",
    "For each original text chunk, we'll write the sextuplet (`chunk, h1, h2, source, dense_vector, sparse_vector`) into the database.\n",
    "\n",
    "<div>\n",
    "<img src=\"../../../images/db_insert.png\" width=\"80%\"/>\n",
    "</div>\n",
    "\n",
    "**The Milvus Client wrapper can only handle loading data from a list of dictionaries.**\n",
    "\n",
    "Otherwise, in general, Milvus supports loading data from:\n",
    "- pandas dataframes \n",
    "- list of dictionaries\n",
    "\n",
    "Below, we use the embedding model provided by HuggingFace, download its checkpoint, and run it locally as the encoder."
   ]
  },
  {
   "cell_type": "code",
   "execution_count": 12,
   "id": "97f4a20a",
   "metadata": {},
   "outputs": [
    {
     "name": "stdout",
     "output_type": "stream",
     "text": [
      "Start inserting entities\n",
      "Milvus insert time for 355 vectors: 0.21 seconds\n"
     ]
    }
   ],
   "source": [
    "# Create chunk_list and dict_list in a single loop\n",
    "dict_list = []\n",
    "for chunk, vector in zip(chunks, converted_values):\n",
    "    # Assemble embedding vector, original text chunk, metadata.\n",
    "    chunk_dict = {\n",
    "        'chunk': chunk.page_content,\n",
    "        # 'h1': chunk.metadata.get('h1', \"\")[:50],\n",
    "        # 'h2': chunk.metadata.get('h2', \"\")[:50],\n",
    "        'source': chunk.metadata.get('source', \"\"),\n",
    "        'vector': vector,\n",
    "    }\n",
    "    dict_list.append(chunk_dict)\n",
    "\n",
    "# # TODO - Uncomment to inspect the first chunk and its metadata.\n",
    "# print(len(dict_list))\n",
    "# print(type(dict_list[0]), len(dict_list[0]))\n",
    "# pprint.pprint(dict_list[0])\n",
    "\n",
    "# Insert data into the Milvus collection.\n",
    "print(\"Start inserting entities\")\n",
    "start_time = time.time()\n",
    "# mc.insert(dict_list)\n",
    "mc.insert(\n",
    "    COLLECTION_NAME,\n",
    "    data=dict_list,\n",
    "    progress_bar=True)\n",
    "\n",
    "end_time = time.time()\n",
    "print(f\"Milvus insert time for {len(dict_list)} vectors: \", end=\"\")\n",
    "print(f\"{round(end_time - start_time, 2)} seconds\")"
   ]
  },
  {
   "cell_type": "markdown",
   "id": "495bd7f4",
   "metadata": {},
   "source": [
    "## Define 4 questions\n",
    "\n",
    "Search Milvus using [PyMilvus API](https://milvus.io/docs/search.md).\n",
    "\n",
    "💡 By their nature, vector searches are \"semantic\" searches.  For example, if you were to search for \"leaky faucet\": \n",
    "> **Traditional Key-word Search** - either or both words \"leaky\", \"faucet\" would have to match some text in order to return a web page or link text to the document.\n",
    "\n",
    "> **Semantic search** - results containing words \"drippy\" \"taps\" would be returned as well because these words mean the same thing even though they are different words.\n"
   ]
  },
  {
   "cell_type": "code",
   "execution_count": 13,
   "id": "da6eb9c8",
   "metadata": {},
   "outputs": [
    {
     "name": "stdout",
     "output_type": "stream",
     "text": [
      "example query length: 75\n"
     ]
    }
   ],
   "source": [
    "# Define a sample question about your data.\n",
    "QUESTION1 = \"What do the parameters for HNSW mean?\"\n",
    "QUESTION2 = \"What are good default values for HNSW parameters with 25K vectors dim 1024?\"\n",
    "QUESTION3 = \"What does nlist vs nprobe mean in ivf_flat?\"\n",
    "QUESTION4 = \"What is the default AUTOINDEX index and vector field distance metric in Milvus?\"\n",
    "\n",
    "# In case you want to ask all the questions at once.\n",
    "QUERY = [QUESTION1, QUESTION2, QUESTION3, QUESTION4]\n",
    "\n",
    "# Inspect the length of one question.\n",
    "QUERY_LENGTH = len(QUESTION2)\n",
    "print(f\"example query length: {QUERY_LENGTH}\")"
   ]
  },
  {
   "cell_type": "code",
   "execution_count": 14,
   "id": "59452df4",
   "metadata": {},
   "outputs": [],
   "source": [
    "SAMPLE_QUESTION = QUESTION1"
   ]
  },
  {
   "cell_type": "markdown",
   "id": "c8c91b86",
   "metadata": {},
   "source": [
    "## Execute a vector search\n",
    "\n",
    "Search Milvus using [PyMilvus API](https://milvus.io/docs/search.md).\n",
    "\n",
    "💡 By their nature, vector searches are \"semantic\" searches.  For example, if you were to search for \"leaky faucet\": \n",
    "> **Traditional Key-word Search** - either or both words \"leaky\", \"faucet\" would have to match some text in order to return a web page or link text to the document.\n",
    "\n",
    "> **Semantic search** - results containing words \"drippy\" \"taps\" would be returned as well because these words mean the same thing even though they are different words."
   ]
  },
  {
   "cell_type": "code",
   "execution_count": 15,
   "id": "eb738b0f",
   "metadata": {},
   "outputs": [
    {
     "name": "stdout",
     "output_type": "stream",
     "text": [
      "output fields: ['chunk', 'source']\n"
     ]
    }
   ],
   "source": [
    "# Define metadata fields you can filter on.\n",
    "OUTPUT_FIELDS = list(dict_list[0].keys())\n",
    "OUTPUT_FIELDS.remove('vector')\n",
    "print(f\"output fields: {OUTPUT_FIELDS}\")\n",
    "\n",
    "TOP_K = 2\n",
    "\n",
    "# Define a convenience function for searching.\n",
    "def mc_run_search(question, filter_expression, top_k=2):\n",
    "    # Embed the question using the same encoder.\n",
    "    query_embeddings = _utils.embed_query(encoder, [question])\n",
    "\n",
    "    # Run semantic vector search using your query and the vector database.\n",
    "    results = mc.search(\n",
    "        COLLECTION_NAME,\n",
    "        data=query_embeddings,\n",
    "        output_fields=OUTPUT_FIELDS, \n",
    "        # Milvus can utilize metadata in boolean expressions to filter search.\n",
    "        filter=filter_expression,\n",
    "        limit=top_k,\n",
    "        consistency_level=\"Eventually\"\n",
    "    )\n",
    "\n",
    "    # Assemble retrieved context and context metadata.\n",
    "    # The search result is in the variable `results[0]`, which is type \n",
    "    # 'pymilvus.orm.search.SearchResult'. \n",
    "    METADATA_FIELDS = [f for f in OUTPUT_FIELDS if f != 'chunk']\n",
    "    formatted_results, context, context_metadata = _utils.client_assemble_retrieved_context(\n",
    "        results, metadata_fields=METADATA_FIELDS, num_shot_answers=top_k)\n",
    "    \n",
    "    return formatted_results, context, context_metadata"
   ]
  },
  {
   "cell_type": "code",
   "execution_count": 16,
   "id": "6be3c61f",
   "metadata": {},
   "outputs": [
    {
     "name": "stdout",
     "output_type": "stream",
     "text": [
      "filter: \n",
      "Milvus Client search time for 355 vectors: 0.19965791702270508 seconds\n",
      "type: <class 'list'>, count: 2\n"
     ]
    }
   ],
   "source": [
    "# RETRIEVE ANSWERS FROM YOUR DOCUMENTS STORED IN MILVUS OR ZILLIZ.\n",
    "\n",
    "# Metadata filters for CSV dataset.\n",
    "# expression = 'film_year >= 2019'\n",
    "expression = \"\"\n",
    "print(f\"filter: {expression}\")\n",
    "\n",
    "start_time = time.time()\n",
    "formatted_results, contexts, context_metadata = \\\n",
    "    mc_run_search(SAMPLE_QUESTION, expression)\n",
    "elapsed_time = time.time() - start_time\n",
    "print(f\"Milvus Client search time for {len(dict_list)} vectors: {elapsed_time} seconds\")\n",
    "\n",
    "# Inspect search result.\n",
    "print(f\"type: {type(formatted_results)}, count: {len(formatted_results)}\")"
   ]
  },
  {
   "cell_type": "code",
   "execution_count": 17,
   "id": "32b003e9",
   "metadata": {},
   "outputs": [
    {
     "name": "stdout",
     "output_type": "stream",
     "text": [
      "Retrieved result #1\n",
      "distance = 0.7001987099647522\n",
      "('Chunk text: layer, finds the node closest to the target in this layer, and '\n",
      " 'then enters the next layer to begin another search. After multiple '\n",
      " 'iterations, it can quickly approach the target position. In order to improve '\n",
      " 'performance, HNSW limits the maximum degree of nodes on each layer of the '\n",
      " 'graph to M. In addition, you can use efConstruction (when building index) or '\n",
      " 'ef (when searching targets) to specify a search range. Index building '\n",
      " 'parameters Parameter Description Range M M defines tha maximum number of '\n",
      " 'outgoing')\n",
      "source: https://milvus.io/docs/index.md\n",
      "\n",
      "Retrieved result #2\n",
      "distance = 0.6953287124633789\n",
      "('Chunk text: this value can improve recall rate at the cost of increased '\n",
      " 'search time. [1, 65535] 2 HNSW HNSW (Hierarchical Navigable Small World '\n",
      " 'Graph) is a graph-based indexing algorithm. It builds a multi-layer '\n",
      " 'navigation structure for an image according to certain rules. In this '\n",
      " 'structure, the upper layers are more sparse and the distances between nodes '\n",
      " 'are farther; the lower layers are denser and the distances between nodes are '\n",
      " 'closer. The search starts from the uppermost layer, finds the node closest '\n",
      " 'to the target')\n",
      "source: https://milvus.io/docs/index.md\n",
      "\n"
     ]
    }
   ],
   "source": [
    "# Loop through search results, print metadata.\n",
    "sources = []\n",
    "for i in range(len(contexts)):\n",
    "    print(f\"Retrieved result #{i+1}\")\n",
    "    print(f\"distance = {formatted_results[i][0]}\")\n",
    "    pprint.pprint(f\"Chunk text: {contexts[i]}\")\n",
    "    for key, value in context_metadata[i].items():\n",
    "        if key == \"source\":\n",
    "            sources.append(value)\n",
    "        print(f\"{key}: {value}\")\n",
    "    print()"
   ]
  },
  {
   "cell_type": "markdown",
   "id": "9e0a0bdb",
   "metadata": {},
   "source": [
    "## Get ready for G-Generation part of RAG"
   ]
  },
  {
   "cell_type": "code",
   "execution_count": 18,
   "id": "0cf40205",
   "metadata": {},
   "outputs": [],
   "source": [
    "# Define temperature for the LLM and random seed.\n",
    "TEMPERATURE = 0.1\n",
    "TOP_P = 0.9\n",
    "RANDOM_SEED = 415\n",
    "MAX_TOKENS = 512\n",
    "FREQUENCY_PENALTY = 2"
   ]
  },
  {
   "cell_type": "code",
   "execution_count": 19,
   "id": "410393e3",
   "metadata": {},
   "outputs": [
    {
     "name": "stdout",
     "output_type": "stream",
     "text": [
      "Length long text to summarize: 1021\n",
      "sources: https://milvus.io/docs/index.md\n"
     ]
    }
   ],
   "source": [
    "# Separate all the context together by space.\n",
    "contexts_combined = ' '.join(contexts)\n",
    "# Lance Martin, LangChain, says put best contexts at end.\n",
    "contexts_combined = ' '.join(reversed(contexts))\n",
    "\n",
    "print(f\"Length long text to summarize: {len(contexts_combined)}\")\n",
    "\n",
    "# Separate all the unique sources together by comma.\n",
    "source_combined = ' '.join(reversed(list(dict.fromkeys(sources))))\n",
    "print(f\"sources: {source_combined}\")"
   ]
  },
  {
   "cell_type": "markdown",
   "id": "bd6060ce",
   "metadata": {},
   "source": [
    "# Use an LLM to Generate a chat response to the user's question using the Retrieved Context.\n",
    "\n",
    "Many different generative LLMs exist these days.  Check out the lmsys [leaderboard](https://chat.lmsys.org/?leaderboard).\n",
    "\n",
    "In this notebook, we'll try these LLMs:\n",
    "- The newly released open-source Llama 3 from Meta.\n",
    "- The cheapest, paid model from Anthropic Claude3 Haiku.\n",
    "- The standard in its price cateogory, gpt-3.5-turbo, from Openai."
   ]
  },
  {
   "cell_type": "code",
   "execution_count": 20,
   "id": "47e5bd6a",
   "metadata": {},
   "outputs": [
    {
     "name": "stdout",
     "output_type": "stream",
     "text": [
      "Length prompt: 1432\n"
     ]
    }
   ],
   "source": [
    "from langchain.prompts import PromptTemplate\n",
    "\n",
    "SYSTEM_PROMPT = f\"\"\"First, check if the provided Context is relevant to \n",
    "the user's question.  Second, only if the provided Context is strongly relevant, \n",
    "answer the question using the Context.  Otherwise, if the Context is not \n",
    "strongly relevant, answer the question without using the Context.  \n",
    "Be clear, concise, relevant.  Answer clearly, in fewer than 2 sentences.\n",
    "Grounding sources: {source_combined}\n",
    "Context: {contexts_combined}\n",
    "\"\"\"\n",
    "print(f\"Length prompt: {len(SYSTEM_PROMPT)}\")\n",
    "\n",
    "# Inspect the prompt.\n",
    "# pprint.pprint(SYSTEM_PROMPT)"
   ]
  },
  {
   "cell_type": "markdown",
   "id": "11fb35aa",
   "metadata": {},
   "source": [
    "### Try Meta Llama 3 with Ollama to generate a human-like chat response to the user's question\n",
    "\n",
    "Follow the instructions to install ollama and pull a model.<br>\n",
    "https://github.com/ollama/ollama\n",
    "\n",
    "View details about which models are supported by ollama. <br>\n",
    "https://ollama.com/library/llama3\n",
    "\n",
    "That page says `ollama run llama3` will by default pull the latest \"instruct\" model, which is fine-tuned for chat/dialogue use cases.\n",
    "\n",
    "The other kind of llama3 models are \"pre-trained\" base model. <br>\n",
    "Example: ollama run llama3:text ollama run llama3:70b-text\n",
    "\n",
    "**Format** `gguf` means the model runs on CPU.  gg = \"Georgi Gerganov\", creator of the C library model format ggml, which was recently changed to gguf.\n",
    "\n",
    "**Quantization** (think of it like vector compaction) can lead to higher throughput at the expense of lower accuracy.  For the curious, quantization meanings can be found on: <br>\n",
    "https://huggingface.co/TheBloke/Llama-2-13B-chat-GGML/tree/main.  \n",
    "\n",
    "Below just listing the main quantization types.\n",
    "- **q4_0**: Original quant method, 4-bit.\n",
    "- **q4_k_m**: Uses Q6_K for half of the attention.wv and feed_forward.w2 tensors, else Q4_K\n",
    "- **q5_0**: Higher accuracy, higher resource usage and slower inference.\n",
    "- **q5_k_m**: Uses Q6_K for half of the attention.wv and feed_forward.w2 tensors, else Q5_K\n",
    "- **q 6_k**: Uses Q8_K for all tensors\n",
    "- **q8_0**: Almost indistinguishable from float16. High resource use and slow. Not recommended for most users."
   ]
  },
  {
   "cell_type": "code",
   "execution_count": 22,
   "id": "0edc67e3",
   "metadata": {},
   "outputs": [
    {
     "name": "stdout",
     "output_type": "stream",
     "text": [
      "MODEL:llama3.1:latest, FORMAT:gguf, PARAMETER_SIZE:8.0B, QUANTIZATION_LEVEL:Q4_0, \n",
      "\n"
     ]
    }
   ],
   "source": [
    "# !python -m pip install ollama\n",
    "# !ollama pull llama3.1\n",
    "import ollama\n",
    "\n",
    "# Verify details which model you are running.\n",
    "# ollama.list()['models'][0]\n",
    "\n",
    "# Print the model details.\n",
    "keys = ['format', 'parameter_size', 'quantization_level']\n",
    "print(f\"MODEL:{ollama.list()['models'][0]['name']}\", end=\", \")\n",
    "for key in keys:\n",
    "    print(f\"{str.upper(key)}:{ollama.list()['models'][0]['details'].get(key, 'Key not found in dictionary')}\", end=\", \")\n",
    "print(end=\"\\n\\n\")"
   ]
  },
  {
   "cell_type": "code",
   "execution_count": 25,
   "id": "394f31d0",
   "metadata": {},
   "outputs": [
    {
     "name": "stdout",
     "output_type": "stream",
     "text": [
      "('The parameter \"M\" in HNSW limits the maximum degree of nodes on each layer, '\n",
      " 'controlling recall rate and search time. A higher value can improve recall '\n",
      " 'at a cost of increased search time.')\n",
      "ollama_llama3_time: 3.12 seconds\n"
     ]
    }
   ],
   "source": [
    "# Send the question to llama 3 chat.\n",
    "start_time = time.time()\n",
    "response = ollama.chat(\n",
    "    messages=[\n",
    "        {\"role\": \"system\", \"content\": SYSTEM_PROMPT,},\n",
    "        \n",
    "        {\"role\": \"user\", \"content\": f\"question: {SAMPLE_QUESTION}\",}\n",
    "    ],\n",
    "    model='llama3',\n",
    "    stream=False,\n",
    "    options={\"temperature\": TEMPERATURE, \"seed\": RANDOM_SEED,\n",
    "             \"top_p\": TOP_P, \n",
    "            #  \"max_tokens\": MAX_TOKENS,\n",
    "             \"frequency_penalty\": FREQUENCY_PENALTY}\n",
    ")\n",
    "\n",
    "ollama_llama3_time = time.time() - start_time\n",
    "pprint.pprint(response['message']['content'])\n",
    "print(f\"ollama_llama3_time: {format(ollama_llama3_time, '.2f')} seconds\")"
   ]
  },
  {
   "cell_type": "code",
   "execution_count": 26,
   "id": "309d7025",
   "metadata": {},
   "outputs": [
    {
     "name": "stdout",
     "output_type": "stream",
     "text": [
      "('The parameters for HNSW (Hierarchical Navigable Small World Graph) are:  * '\n",
      " 'M: The maximum degree of nodes on each layer of the graph, which can improve '\n",
      " 'recall rate at the cost of increased search time. * efConstruction and ef: '\n",
      " 'These parameters specify a search range when building or searching an index.')\n",
      "llama3_octai_endpoints_time: 1.53 seconds\n"
     ]
    }
   ],
   "source": [
    "# Also try OctoAI\n",
    "# !python -m pip install octoai\n",
    "# Models supported: https://octo.ai/models/\n",
    "from octoai.text_gen import ChatMessage\n",
    "from octoai.client import OctoAI\n",
    "\n",
    "# LLM_NAME = \"meta-llama-3-8b-instruct\"\n",
    "LLM_NAME = \"meta-llama/meta-llama-3.1-8b-instruct\"\n",
    "\n",
    "octoai_client = OctoAI(\n",
    "    api_key=os.environ.get(\"OCTOAI_TOKEN\"),\n",
    ")\n",
    "\n",
    "# Generate response using OpenAI API.\n",
    "start_time = time.time()\n",
    "response = octoai_client.text_gen.create_chat_completion(\n",
    "\tmessages=[\n",
    "\t\tChatMessage(\n",
    "\t\t\tcontent=SYSTEM_PROMPT,\n",
    "\t\t\trole=\"system\"\n",
    "\t\t),\n",
    "\t\tChatMessage(\n",
    "\t\t\tcontent=SAMPLE_QUESTION,\n",
    "\t\t\trole=\"user\"\n",
    "\t\t)\n",
    "\t],\n",
    "\tmodel=LLM_NAME,\n",
    "    temperature=TEMPERATURE,\n",
    "    # seed=RANDOM_SEED,\n",
    "    frequency_penalty=FREQUENCY_PENALTY,\n",
    "    top_p=TOP_P, \n",
    "    max_tokens=MAX_TOKENS,\n",
    ")\n",
    "llama3_octai_endpoints_time = time.time() - start_time\n",
    "\n",
    "# Print the response.\n",
    "pprint.pprint(response.choices[0].message.content.replace('\\n', ' '))\n",
    "print(f\"llama3_octai_endpoints_time: {format(llama3_octai_endpoints_time, '.2f')} seconds\")"
   ]
  },
  {
   "cell_type": "code",
   "execution_count": null,
   "id": "e6b94795",
   "metadata": {},
   "outputs": [],
   "source": [
    "# Also try Groq endpoints\n",
    "# !python -m pip install groq\n",
    "# Models supported: https://console.groq.com/docs/models\n",
    "from groq import Groq\n",
    "\n",
    "# LLM_NAME = \"llama3-8b-8192\"\n",
    "LLM_NAME = \"llama-3.1-8b-instant\"\n",
    "\n",
    "groq_client = Groq(\n",
    "    api_key=os.environ.get(\"GROQ_API_KEY\"),\n",
    ")\n",
    "\n",
    "# Generate response using OpenAI API.\n",
    "start_time = time.time()\n",
    "response = groq_client.chat.completions.create(\n",
    "    messages=[\n",
    "        {\"role\": \"system\", \"content\": SYSTEM_PROMPT,},\n",
    "        {\"role\": \"user\", \"content\": f\"question: {SAMPLE_QUESTION}\",}\n",
    "    ],\n",
    "    model=LLM_NAME,\n",
    "    temperature=TEMPERATURE,\n",
    "    seed=RANDOM_SEED,\n",
    "    frequency_penalty=FREQUENCY_PENALTY,\n",
    "    top_p=TOP_P, \n",
    "    max_tokens=MAX_TOKENS,\n",
    ")\n",
    "llama3_groq_endpoints_time = time.time() - start_time\n",
    "\n",
    "# Print the response.\n",
    "pprint.pprint(response.choices[0].message.content.replace('\\n', ' '))\n",
    "print(f\"llama3_groq_endpoints_time: {format(llama3_groq_endpoints_time, '.2f')} seconds\")"
   ]
  },
  {
   "cell_type": "markdown",
   "id": "3e172726",
   "metadata": {},
   "source": [
    "## Also try OpenAI\n",
    "\n",
    "💡 Note: For use cases that need to always be factually grounded, use very low temperature values while more creative tasks can benefit from higher temperatures."
   ]
  },
  {
   "cell_type": "code",
   "execution_count": null,
   "id": "493c5e82",
   "metadata": {},
   "outputs": [],
   "source": [
    "SYSTEM_PROMPT = f\"\"\"First, check if the provided Context is relevant to \n",
    "the user's question.  Second, only if the provided Context is strongly relevant, \n",
    "answer the question using the Context.  Otherwise, if the Context is not \n",
    "strongly relevant, answer the question without using the Context.\n",
    "Be clear, concise, relevant.  Answer clearly, easy to understand, \n",
    "fewer than 2 sentences, and cite unique grounding sources.\n",
    "Grounding sources: {source_combined}\n",
    "Context: {contexts_combined}\n",
    "\"\"\"\n",
    "print(f\"Length prompt: {len(SYSTEM_PROMPT)}\")\n",
    "\n",
    "# Inspect the prompt.\n",
    "# pprint.pprint(SYSTEM_PROMPT)"
   ]
  },
  {
   "cell_type": "code",
   "execution_count": null,
   "id": "76a62feb",
   "metadata": {},
   "outputs": [],
   "source": [
    "import openai, pprint\n",
    "from openai import OpenAI\n",
    "\n",
    "# 1. Define the generation llm model to use.\n",
    "# LLM_NAME = \"gpt-3.5-turbo\"\n",
    "LLM_NAME = \"gpt-4o-mini\"\n",
    "\n",
    "# 2. Get your API key: https://platform.openai.com/api-keys\n",
    "# 3. Save your api key in env variable.\n",
    "# https://help.openai.com/en/articles/5112595-best-practices-for-api-key-safety\n",
    "openai_client = OpenAI(\n",
    "    # This is the default and can be omitted\n",
    "    api_key=os.environ.get(\"OPENAI_API_KEY\"),\n",
    ")\n",
    "\n",
    "# 4. Generate response using the OpenAI API.\n",
    "start_time = time.time()\n",
    "response = openai_client.chat.completions.create(\n",
    "    messages=[\n",
    "        {\"role\": \"system\", \"content\": SYSTEM_PROMPT,},\n",
    "        {\"role\": \"user\", \"content\": f\"question: {SAMPLE_QUESTION}\",}\n",
    "    ],\n",
    "    model=LLM_NAME,\n",
    "    temperature=TEMPERATURE,\n",
    "    seed=RANDOM_SEED,\n",
    "    frequency_penalty=FREQUENCY_PENALTY,\n",
    ")\n",
    "chatgpt_35turbo_time = time.time() - start_time\n",
    "\n",
    "# Print the question and answer along with grounding sources and citations.\n",
    "print(f\"Question: {SAMPLE_QUESTION}\")\n",
    "\n",
    "# 5. Print all answers in the response.\n",
    "for i, choice in enumerate(response.choices, 1):\n",
    "    pprint.pprint(f\"Answer: {choice.message.content}\")\n",
    "    print(\"\\n\")\n",
    "print(f\"chatgpt_3.5_turbo_time: {format(chatgpt_35turbo_time, '.5f')}\")"
   ]
  },
  {
   "cell_type": "code",
   "execution_count": null,
   "id": "d0e81e68",
   "metadata": {},
   "outputs": [],
   "source": [
    "# # Drop the collection.\n",
    "# mc.drop_collection(COLLECTION_NAME)\n",
    "# print(f\"Successfully dropped collection: `{COLLECTION_NAME}`\")"
   ]
  },
  {
   "cell_type": "code",
   "execution_count": null,
   "id": "c777937e",
   "metadata": {},
   "outputs": [],
   "source": [
    "# Props to Sebastian Raschka for this handy watermark.\n",
    "# !pip install watermark\n",
    "%load_ext watermark\n",
    "\n",
    "%watermark -a 'Christy Bergman' -v -p unstructured,torch,pymilvus,langchain,ollama,llm,openai --conda"
   ]
  }
 ],
 "metadata": {
  "kernelspec": {
   "display_name": "Python 3 (ipykernel)",
   "language": "python",
   "name": "python3"
  },
  "language_info": {
   "codemirror_mode": {
    "name": "ipython",
    "version": 3
   },
   "file_extension": ".py",
   "mimetype": "text/x-python",
   "name": "python",
   "nbconvert_exporter": "python",
   "pygments_lexer": "ipython3",
   "version": "3.11.8"
  }
 },
 "nbformat": 4,
 "nbformat_minor": 5
}
