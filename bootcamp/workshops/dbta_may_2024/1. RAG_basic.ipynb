{
 "cells": [
  {
   "cell_type": "markdown",
   "id": "369c3444",
   "metadata": {},
   "source": [
    "# ReadtheDocs Retrieval Augmented Generation (RAG)"
   ]
  },
  {
   "cell_type": "markdown",
   "id": "f6ffd11a",
   "metadata": {},
   "source": [
    "In this notebook, we are going to use Milvus documentation pages to create a chatbot about our product.  The chatbot is going to follow RAG steps to retrieve chunks of data using Semantic Vector Search, then the Question + Context will be fed as a Prompt to a LLM to generate an answer.\n",
    "\n",
    "Many RAG demos use OpenAI for the Embedding Model and ChatGPT for the Generative AI model.  **In this notebook, we will demo a fully open source RAG stack.**\n",
    "\n",
    "Using open-source Q&A with retrieval saves money since we make free calls to our own data almost all the time - retrieval, evaluation, and development iterations.\n",
    "\n",
    "<div>\n",
    "<img src=\"../../../images/rag_image.png\" width=\"80%\"/>\n",
    "</div>\n",
    "\n",
    "Let's get started!"
   ]
  },
  {
   "cell_type": "code",
   "execution_count": 1,
   "id": "b2509fe9",
   "metadata": {},
   "outputs": [],
   "source": [
    "# For colab install these libraries in this order:\n",
    "# !python -m pip install torch transformers sentence-transformers langchain\n",
    "# !python -m pip install -U pymilvus\n",
    "# !python -m pip install unstructured openai tqdm numpy ipykernel \n",
    "# !python -m pip install ragas datasets"
   ]
  },
  {
   "cell_type": "code",
   "execution_count": 2,
   "id": "d7570b2e",
   "metadata": {},
   "outputs": [],
   "source": [
    "# Import common libraries.\n",
    "import sys, os, time, pprint\n",
    "\n",
    "# # Import custom functions for splitting and search.\n",
    "# sys.path.append(\"../..\")  # Adds higher directory to python modules path.\n",
    "# import milvus_utilities as _utils\n",
    "\n",
    "import grpc\n",
    "from concurrent.futures import ThreadPoolExecutor\n",
    "\n",
    "# Server side.\n",
    "server = grpc.server(ThreadPoolExecutor(max_workers=10),\n",
    "                     options=[('grpc.max_receive_message_length', 50 * 1024 * 1024)])  # 50 MB\n",
    "\n",
    "# Client side.\n",
    "channel = grpc.insecure_channel('localhost:50051',\n",
    "                                options=[('grpc.max_send_message_length', 50 * 1024 * 1024)])  # 50 MB"
   ]
  },
  {
   "cell_type": "code",
   "execution_count": 3,
   "id": "0cac5a60",
   "metadata": {},
   "outputs": [],
   "source": [
    "# Function to remove newlines and double spaces from a string.\n",
    "def clean_text(text):\n",
    "    clean_text = text.replace(\"\\n\\n\", \" \")\\\n",
    "                     .replace(\"\\n\", \" \")\\\n",
    "                     .replace(\"<br><br>\", \" \")\\\n",
    "                     .replace(\"<br /><br />\", \" \")\n",
    "    \n",
    "    # Remove extra whitespace.\n",
    "    clean_text = ' '.join(clean_text.split())\n",
    "    return clean_text\n",
    "\n",
    "import numpy as np\n",
    "import matplotlib.pyplot as plt\n",
    "\n",
    "# Function to inspect chunk lengths in matplotlit.\n",
    "def plot_chunk_lengths(chunked_docs, title_keyword):\n",
    "    # Get chunk lengths.\n",
    "    lengths = [len(doc.page_content) for doc in chunked_docs]\n",
    "\n",
    "    # Mean, median lengths.\n",
    "    mean_length = np.mean(lengths)\n",
    "    median_length = np.median(lengths)\n",
    "\n",
    "    # Assemble the title.\n",
    "    title = f\"Chunk Lengths from {title_keyword} Chunking\"\n",
    "\n",
    "    # Plot the lengths.\n",
    "    plt.figure(figsize=(10, 6))  # Adjust figure size\n",
    "    plt.plot(lengths, marker='o')  # Plot lengths with circle markers\n",
    "    plt.title(title, fontsize=20, fontweight='bold')\n",
    "    plt.xlabel('Document Index')  # X-axis label\n",
    "    plt.ylabel('Length')  # Y-axis label\n",
    "    plt.grid(True)  # Show grid\n",
    "\n",
    "    # Add a horizontal line at mean and median length\n",
    "    plt.axhline(y=mean_length, color='g', linestyle='-')\n",
    "    plt.axhline(y=median_length, color='r', linestyle='-')\n",
    "    plt.text(len(lengths)-1, mean_length, f'mean = {mean_length:.0f}', va='center', ha='left', backgroundcolor='w', fontsize=12)\n",
    "    plt.text(0, median_length, f'median = {median_length:.0f}', va='center', ha='right', backgroundcolor='w', fontsize=12)\n",
    "\n",
    "    plt.show()  # Display the plot"
   ]
  },
  {
   "cell_type": "markdown",
   "id": "e059b674",
   "metadata": {},
   "source": [
    "## Download Data\n",
    "\n",
    "The data used in this notebook is Milvus documentation web pages.\n",
    "\n",
    "The code block below downloads all the web pages into a local directory called `rtdocs`.  \n",
    "\n",
    "I've already uploaded the `rtdocs` data folder to github, so you should see it if you cloned my repo."
   ]
  },
  {
   "cell_type": "code",
   "execution_count": 4,
   "id": "25686cc7",
   "metadata": {},
   "outputs": [
    {
     "name": "stdout",
     "output_type": "stream",
     "text": [
      "loaded 23 documents\n",
      "<class 'list'>\n",
      "<class 'langchain_core.documents.base.Document'>\n"
     ]
    },
    {
     "data": {
      "text/plain": [
       "'<!DOCTYPE html><html lang=\"en\"><head><meta charSet=\"utf-8\"/><meta name=\"viewport\" content=\"width=device-width\"/><link rel=\"icon\" href=\"/favicon-32x32.png\"/><meta name=\"image\" property=\"og:image\" content=\"https://assets.zilliz.com/meta_image_milvus_d6510e10e0.png\"/><meta property=\"og:type\" content=\"WebSite\"/><title>Milvus vector database documentation</title><meta name=\"description\" content=\"Milvus v2.4.x documentation\"/><meta property=\"og:title\" content=\"Milvus vector database documentation\"/><m'"
      ]
     },
     "execution_count": 4,
     "metadata": {},
     "output_type": "execute_result"
    }
   ],
   "source": [
    "# UNCOMMENT TO DOWNLOAD THE DOCS.\n",
    "\n",
    "# !pip install -U langchain\n",
    "from langchain_community.document_loaders import RecursiveUrlLoader\n",
    "\n",
    "DOCS_PAGE=\"https://milvus.io/docs/\"\n",
    "\n",
    "loader = RecursiveUrlLoader(DOCS_PAGE)\n",
    "docs = loader.load()\n",
    "\n",
    "num_documents = len(docs)\n",
    "print(f\"loaded {num_documents} documents\")\n",
    "\n",
    "# # Subset docs for faster testing\n",
    "# docs = docs[5:7].copy()\n",
    "# num_documents = len(docs)\n",
    "# print(f\"testing with {num_documents} documents\")\n",
    "\n",
    "# Print the type of the docs.\n",
    "print(type(docs))\n",
    "print(type(docs[0]))\n",
    "\n",
    "docs[0].page_content[:500]"
   ]
  },
  {
   "cell_type": "code",
   "execution_count": 5,
   "id": "3b5d81f4",
   "metadata": {},
   "outputs": [],
   "source": [
    "# # Save Langchain docs to a local directory.\n",
    "# OUTPUT_DIR = \"../../RAG/rtdocs_new/\"\n",
    "# os.makedirs(OUTPUT_DIR, exist_ok=True)\n",
    "\n",
    "# # Convert each doc to HTML and save to the specified directory\n",
    "# for doc in docs:\n",
    "#     # Extract file name\n",
    "#     filename = doc.metadata['source'].split('/')[-1].replace(\".md\", \".html\")\n",
    "    \n",
    "#     # Check that filename is not empty\n",
    "#     if filename:\n",
    "#         with open(os.path.join(OUTPUT_DIR, filename), \"w\") as f:\n",
    "#             f.write(doc.page_content)\n",
    "#     else:\n",
    "#         print(\"Filename is empty. Skipping this doc.\")\n",
    "#         pprint.pprint(doc.metadata)\n",
    "#         pprint.pprint(doc.page_content[:500])"
   ]
  },
  {
   "cell_type": "markdown",
   "id": "f19236fe",
   "metadata": {},
   "source": [
    "## Load the Embedding Model checkpoint and use it to create vector embeddings\n",
    "\n",
    "#### What are Embeddings?\n",
    "\n",
    "Check out [this blog](https://zilliz.com/glossary/vector-embeddings) for an introduction to embeddings.  \n",
    "\n",
    "An excellent place to start is by selecting an embedding model from the [HuggingFace MTEB Leaderboard](https://huggingface.co/spaces/mteb/leaderboard), sorted descending by the \"Retrieval Average'' column since this task is most relevant to RAG. Then, choose the smallest, highest-ranking embedding model. But, Beware!! some models listed are overfit to the training data, so they won't perform on your data as promised.  \n",
    "\n",
    "Milvus (and Zilliz) only supports tested embedding models that are **not overfit**!"
   ]
  },
  {
   "cell_type": "code",
   "execution_count": 6,
   "id": "f043c02e",
   "metadata": {},
   "outputs": [
    {
     "name": "stderr",
     "output_type": "stream",
     "text": [
      "/opt/miniconda3/envs/py311-unum/lib/python3.11/site-packages/huggingface_hub/file_download.py:1132: FutureWarning: `resume_download` is deprecated and will be removed in version 1.0.0. Downloads always resume when possible. If you want to force a new download, use `force_download=True`.\n",
      "  warnings.warn(\n"
     ]
    },
    {
     "name": "stdout",
     "output_type": "stream",
     "text": [
      "MODEL: BAAI/bge-large-en-v1.5, EMBEDDING_DIM: 1024\n"
     ]
    }
   ],
   "source": [
    "from langchain_huggingface import HuggingFaceEmbeddings\n",
    "\n",
    "# Use an embedding model.\n",
    "model_name = \"BAAI/bge-large-en-v1.5\"\n",
    "model_kwargs = {'device': 'cpu'}\n",
    "encode_kwargs = {'normalize_embeddings': True}\n",
    "embed_model = HuggingFaceEmbeddings(\n",
    "    model_name=model_name,\n",
    "    model_kwargs=model_kwargs,\n",
    "    encode_kwargs=encode_kwargs\n",
    ")\n",
    "EMBEDDING_DIM = embed_model.dict()['client'].get_sentence_embedding_dimension()\n",
    "print(f\"MODEL: {model_name}, EMBEDDING_DIM: {EMBEDDING_DIM}\")"
   ]
  },
  {
   "cell_type": "code",
   "execution_count": 7,
   "id": "de45cdd4",
   "metadata": {},
   "outputs": [],
   "source": [
    "# !python -m pip install --upgrade langchain_openai"
   ]
  },
  {
   "cell_type": "code",
   "execution_count": 8,
   "id": "1fab8a0e",
   "metadata": {},
   "outputs": [],
   "source": [
    "# from langchain_openai.embeddings import OpenAIEmbeddings\n",
    "\n",
    "# # 1. Get your API key: https://platform.openai.com/api-keys\n",
    "# # 2. Save your api key in env variable.\n",
    "# # https://help.openai.com/en/articles/5112595-best-practices-for-api-key-safety\n",
    "\n",
    "# # 3. OpenAI embedding model name, `text-embedding-3-large` or `ext-embedding-3-small`.\n",
    "# # release notes: https://openai.com/index/new-embedding-models-and-api-updates/\n",
    "# model_name = \"text-embedding-3-small\"\n",
    "# EMBEDDING_DIM = 512\n",
    "\n",
    "# model_kwargs = {'device': 'cpu'}\n",
    "# embed_model = OpenAIEmbeddings(\n",
    "#     model=model_name,\n",
    "#     dimensions=EMBEDDING_DIM,\n",
    "#     model_kwargs=model_kwargs\n",
    "# )\n",
    "# print(f\"MODEL: {model_name}, EMBEDDING_DIM: {EMBEDDING_DIM}\")"
   ]
  },
  {
   "cell_type": "markdown",
   "id": "0804d3ff",
   "metadata": {},
   "source": [
    "## HTML Chunking using LangChain\n",
    "\n",
    "Before embedding, it is necessary to decide your chunk strategy, chunk size, and chunk overlap.  This section uses:\n",
    "- **Strategy** = Use markdown header hierarchies.  Keep markdown sections together unless they are too long.\n",
    "- **Chunk size** = Use the embedding model's parameter `MAX_SEQ_LENGTH`\n",
    "- **Overlap** = Rule-of-thumb 10-15%\n",
    "- **Function** = \n",
    "  - Langchain's `HTMLHeaderTextSplitter` to split markdown sections.\n",
    "  - Langchain's `RecursiveCharacterTextSplitter` to split up long reviews recursively.\n",
    "\n",
    "\n",
    "Notice below, each chunk is grounded with the document source page.  <br>\n",
    "In addition, header titles are kept together with the chunk of markdown text."
   ]
  },
  {
   "cell_type": "code",
   "execution_count": 9,
   "id": "a9b8a0da",
   "metadata": {},
   "outputs": [
    {
     "name": "stdout",
     "output_type": "stream",
     "text": [
      "Pattern for splitting: <h[1-3](?: [^>]*)?>|</h[1-3]>|<h[1-3](?: [^>]*)?/>\n",
      "docs: 23, split into 23 html chunks.\n",
      "DocsBlogCommunity Why Milvus What is MilvusUse Cases Tutorials CodelabsBootcampDemosVideo Tools AttuMilvus CLISizing ToolMilvus Backup Get Started Docs Tutorials Tools Blog Community Get Started Searc\n",
      "{'h1': 'Welcome to Milvus Docs!', 'h2': 'Here you will learn about', 'h3': '', 'source': 'https://milvus.io/docs/', 'doc_index': '5a75d188-5760-42ed-908a-b9c35c6998a2'}\n"
     ]
    }
   ],
   "source": [
    "# !python -m pip install lxml\n",
    "from langchain.text_splitter import HTMLHeaderTextSplitter, RecursiveCharacterTextSplitter\n",
    "import uuid, re\n",
    "\n",
    "doc_ids = [str(uuid.uuid4()) for _ in docs]\n",
    "\n",
    "# Define the headers to split on for the HTMLHeaderTextSplitter\n",
    "headers_to_split_on = [\n",
    "    (\"<h1>\", \"Header 1\"),\n",
    "    (\"<h2>\", \"Header 2\"),\n",
    "    (\"<h3>\", \"Header 3\"),\n",
    "]\n",
    "# Create an instance of the HTMLHeaderTextSplitter\n",
    "html_splitter = HTMLHeaderTextSplitter(headers_to_split_on=headers_to_split_on)\n",
    "\n",
    "# Construct a regex pattern to match any of the specified headers\n",
    "pattern = '|'.join(re.escape(header[0]) for header in headers_to_split_on)\n",
    "# More complex pattern to match opening, closing, and self-closing tags.\n",
    "pattern = r\"<h[1-3](?: [^>]*)?>|</h[1-3]>|<h[1-3](?: [^>]*)?/>\"\n",
    "print(\"Pattern for splitting:\", pattern)\n",
    "\n",
    "# Function to remove all HTML tags\n",
    "def remove_html_tags(text):\n",
    "    return re.sub(r\"<[^>]+>\", \"\", text)\n",
    "\n",
    "# Split the HTML text using the HTMLHeaderTextSplitter.\n",
    "html_docs = []\n",
    "for doc_id, doc in zip(doc_ids, docs):\n",
    "\n",
    "    # Grab the headers\n",
    "    new_text = doc.page_content\n",
    "    new_text = clean_text(new_text).replace('\\n', ' ')\n",
    "    html_split_list = re.split(pattern, new_text)\n",
    "    # print(html_split_list[0])\n",
    "    # Remove HTML tags from each extracted header text\n",
    "    html_split_list = [remove_html_tags(header) for header in html_split_list]\n",
    "    # print(html_split_list[0])\n",
    "    # print(f\"Split into {len(html_split_list)} parts.\")\n",
    "\n",
    "    # Split the text into chunks using the HTMLHeaderTextSplitter.\n",
    "    splits = html_splitter.split_text(doc.page_content)\n",
    "\n",
    "    for split in splits:\n",
    "\n",
    "        # Clean the text.\n",
    "        split.page_content = clean_text(split.page_content)\n",
    "\n",
    "        # Assemble the metadata.\n",
    "        metadata = {}\n",
    "        # Handle exception if h1 does not exist.\n",
    "        try:\n",
    "            header_value1 = html_split_list[1].strip()[:25]\n",
    "            metadata[\"h1\"] = header_value1\n",
    "            # print(f\"header_name: h1, header_value: {header_value1}\")\n",
    "        except:\n",
    "            break\n",
    "        # Handle exception if h2 does not exist.\n",
    "        try:\n",
    "            header_value2 = html_split_list[2].strip()[:25]\n",
    "            if len(header_value2) <= 0:\n",
    "                header_value2 = html_split_list[3].strip()[:25]\n",
    "            metadata[\"h2\"] = header_value2\n",
    "            # print(f\"header_name: h2, header_value: {header_value2}\")\n",
    "        except:\n",
    "            break\n",
    "        # Handle exception if h2 does not exist.\n",
    "        try:\n",
    "            header_value3 = html_split_list[3].strip()[:25]\n",
    "            if (len(header_value3) <= 0 or header_value3 == header_value2):\n",
    "                header_value3 = html_split_list[4].strip()[:25]\n",
    "            if header_value3 == header_value2:\n",
    "                header_value3 = html_split_list[5].strip()[:25]\n",
    "            metadata[\"h3\"] = header_value3\n",
    "            # print(f\"header_name: h3, header_value: {header_value3}\")\n",
    "        except:\n",
    "            break\n",
    "        split.metadata = {\n",
    "            **metadata,\n",
    "            \"source\": doc.metadata[\"source\"],\n",
    "            'doc_index': doc_id\n",
    "        }\n",
    "    html_docs.extend(splits)\n",
    "\n",
    "print(f\"docs: {len(docs)}, split into {len(html_docs)} html chunks.\")\n",
    "\n",
    "# Inspect a chunk\n",
    "print(html_docs[0].page_content[:200])\n",
    "print(html_docs[0].metadata)"
   ]
  },
  {
   "cell_type": "code",
   "execution_count": 10,
   "id": "2e3acd77",
   "metadata": {},
   "outputs": [
    {
     "name": "stdout",
     "output_type": "stream",
     "text": [
      "DocsBlogCommunity Why Milvus What is MilvusUse Cases Tutorials CodelabsBootcampDemosVideo Tools AttuMilvus CLISizing ToolMilvus Backup Get Started Docs Tutorials Tools Blog Community Get Started Searc\n",
      "{'h1': 'Hybrid Search', 'h2': 'Since Milvus 2.4, we intr', 'h3': 'Preparations', 'source': 'https://milvus.io/docs/multi-vector-search.md', 'doc_index': 'd86ecd0c-39d2-432d-ac1e-a856274804af'}\n"
     ]
    }
   ],
   "source": [
    "# Inspect another chunk\n",
    "print(html_docs[20].page_content[:200])\n",
    "print(html_docs[20].metadata)"
   ]
  },
  {
   "cell_type": "code",
   "execution_count": 11,
   "id": "961af854",
   "metadata": {},
   "outputs": [
    {
     "data": {
      "image/png": "[encoded data removed]",
      "text/plain": [
       "<Figure size 1000x600 with 1 Axes>"
      ]
     },
     "metadata": {},
     "output_type": "display_data"
    }
   ],
   "source": [
    "# Inspect chunk lengths\n",
    "plot_chunk_lengths(html_docs, 'HTML')"
   ]
  },
  {
   "cell_type": "markdown",
   "id": "1fa9700d",
   "metadata": {},
   "source": [
    "## Small-to-Big using LangChain\n",
    "\n",
    "Often times it can be useful to retrieve larger chunks of information, but embed smaller chunks. This allows for embeddings to capture the semantic meaning as closely as possible, but for as much context as possible to be passed downstream. Note that this is what the ParentDocumentRetriever does. Here we show what is going on under the hood.\n",
    "\n",
    "> - The vector store indexes and searches embeddings of the smallest (sub) documents.  \n",
    "> - The document store houses the \"parent\" documents and associates them with an identifier.\n",
    "\n",
    "- See MultiVectorRetriever [api](https://api.python.langchain.com/en/latest/retrievers/langchain.retrievers.multi_vector.MultiVectorRetriever.html).\n",
    "- See ParentDocumentRetriever [docs](https://python.langchain.com/v0.2/docs/how_to/multi_vector/#smaller-chunks) and [api](https://api.python.langchain.com/en/latest/retrievers/langchain.retrievers.parent_document_retriever.ParentDocumentRetriever.html)."
   ]
  },
  {
   "cell_type": "code",
   "execution_count": 12,
   "id": "19a45770",
   "metadata": {},
   "outputs": [],
   "source": [
    "# !python -m pip install lxml\n",
    "from langchain_milvus import Milvus\n",
    "from langchain.text_splitter import RecursiveCharacterTextSplitter\n",
    "import time, pprint, uuid\n",
    "import numpy as np\n",
    "from langchain.storage import InMemoryByteStore\n",
    "from langchain.retrievers.multi_vector import MultiVectorRetriever\n",
    "\n",
    "# Create doc storage for the parent documents\n",
    "store = InMemoryByteStore()\n",
    "id_key = \"doc_id\"\n",
    "\n",
    "# Create vectorstore for vector index and retrieval.\n",
    "COLLECTION_NAME = \"MilvusDocs\"\n",
    "vectorstore = Milvus(\n",
    "    collection_name=COLLECTION_NAME,\n",
    "    embedding_function=embed_model,\n",
    "    connection_args={\"uri\": \"./milvus_demo.db\"},\n",
    "    auto_id=True,\n",
    "    # Set to True to drop the existing collection if it exists.\n",
    "    drop_old=True,\n",
    ")\n",
    "\n",
    "# The MultiVectorRetriever (empty to start)\n",
    "retriever = MultiVectorRetriever(\n",
    "    vectorstore=vectorstore,\n",
    "    byte_store=store,\n",
    "    id_key=id_key,\n",
    ")"
   ]
  },
  {
   "cell_type": "code",
   "execution_count": 85,
   "id": "2ffc217b",
   "metadata": {},
   "outputs": [
    {
     "name": "stdout",
     "output_type": "stream",
     "text": [
      "23 docs split into 3694 parent documents.\n",
      "<!DOCTYPE html><html lang=\"en\"><head><meta charSet=\"utf-8\"/><meta name=\"viewport\" content=\"width=device-width\"/><link rel=\"icon\" href=\"/favicon-32x32.png\"/><meta name=\"image\" property=\"og:image\" conte\n"
     ]
    }
   ],
   "source": [
    "PARENT_CHUNK_SIZE = 1586\n",
    "\n",
    "# The splitter to use to create bigger (parent) chunks\n",
    "parent_text_splitter = RecursiveCharacterTextSplitter(\n",
    "    chunk_size=PARENT_CHUNK_SIZE,\n",
    "    length_function = len,  # use built-in Python len function\n",
    "    # separators=[\"\\n\\n\"],  # split at end of paragraphs\n",
    ")\n",
    "# From HTML chunks.\n",
    "parent_docs = parent_text_splitter.split_documents(html_docs)\n",
    "\n",
    "print(f\"{len(html_docs)} docs split into {len(parent_docs)} parent documents.\")\n",
    "# inspect a parent doc.\n",
    "print(parent_docs[0].page_content[:200])\n",
    "pprint.pprint(parent_docs[0].metadata)"
   ]
  },
  {
   "cell_type": "code",
   "execution_count": 89,
   "id": "27a76006",
   "metadata": {},
   "outputs": [
    {
     "data": {
      "image/png": "[encoded data removed]",
      "text/plain": [
       "<Figure size 1000x600 with 1 Axes>"
      ]
     },
     "metadata": {},
     "output_type": "display_data"
    }
   ],
   "source": [
    "# Inspect chunk lengths\n",
    "plot_chunk_lengths(parent_docs, 'Parent-HTML')"
   ]
  },
  {
   "cell_type": "markdown",
   "id": "a3821b33",
   "metadata": {},
   "source": [
    "## Small-to-big Chunking without HTML chunking"
   ]
  },
  {
   "cell_type": "code",
   "execution_count": 86,
   "id": "10770e5c",
   "metadata": {},
   "outputs": [
    {
     "name": "stdout",
     "output_type": "stream",
     "text": [
      "loaded 22 documents\n",
      "<class 'list'>\n",
      "<class 'langchain_core.documents.base.Document'>\n"
     ]
    },
    {
     "data": {
      "text/plain": [
       "'Why Milvus\\n\\nDocs\\n\\nTutorials\\n\\nTools\\n\\nBlog\\n\\nCommunity\\n\\nStars0\\n\\nTry Managed Milvus FREE\\n\\nSearch\\n\\nHome\\n\\nv2.4.x\\n\\nAbout Milvus\\n\\nGet StartedPrerequisitesInstall MilvusInstall SDKsQuickstart\\n\\nConcepts\\n\\nUser Guide\\n\\nModels\\n\\nAdministration Guide\\n\\nTools\\n\\nIntegrations\\n\\nExample Applications\\n\\nFAQs\\n\\nAPI reference\\n\\nQuickstart\\n\\nThis guide explains how to connect to your Milvus cluster and performs CRUD operations in minutes\\n\\nBefore you start\\n\\nYou have installed Milvus standalone or Milvus cluster.\\n\\nYou have insta'"
      ]
     },
     "execution_count": 86,
     "metadata": {},
     "output_type": "execute_result"
    }
   ],
   "source": [
    "# From raw docs\n",
    "\n",
    "# UNCOMMENT TO READ THE DOCS FROM A LOCAL DIRECTORY.\n",
    "\n",
    "# Read docs into LangChain\n",
    "# !pip install -U langchain\n",
    "# !pip install unstructured\n",
    "from langchain.document_loaders import DirectoryLoader\n",
    "\n",
    "# Load HTML files from a local directory\n",
    "path = \"../../RAG/rtdocs_new/\"\n",
    "global_pattern = '*.html'\n",
    "loader = DirectoryLoader(path=path, glob=global_pattern)\n",
    "docs = loader.load()\n",
    "\n",
    "num_documents = len(docs)\n",
    "print(f\"loaded {num_documents} documents\")\n",
    "\n",
    "# # Subset docs for faster testing\n",
    "# docs = docs[5:7].copy()\n",
    "# num_documents = len(docs)\n",
    "# print(f\"testing with {num_documents} documents\")\n",
    "\n",
    "# Print the type of the docs.\n",
    "print(type(docs))\n",
    "print(type(docs[0]))\n",
    "\n",
    "docs[0].page_content[:500]"
   ]
  },
  {
   "cell_type": "code",
   "execution_count": 88,
   "id": "7424f6ca",
   "metadata": {},
   "outputs": [
    {
     "name": "stdout",
     "output_type": "stream",
     "text": [
      "23 docs split into 130 parent documents.\n",
      "Why Milvus Docs Tutorials Tools Blog Community Stars0 Try Managed Milvus FREE Search Home v2.4.x About Milvus Get StartedPrerequisitesInstall MilvusInstall SDKsQuickstart Concepts User Guide Models Ad\n",
      "{'doc_index': 'd6cda686-b369-40de-9784-666ee6a5952e',\n",
      " 'source': 'https://milvus.io/docs/quickstart.md'}\n"
     ]
    }
   ],
   "source": [
    "# Parent docs directly from raw docs\n",
    "parent_docs = parent_text_splitter.split_documents(docs)\n",
    "doc_ids = [str(uuid.uuid4()) for _ in parent_docs]\n",
    "\n",
    "# Clean the parent docs.\n",
    "for doc_id, doc in zip(doc_ids, parent_docs):\n",
    "    doc.page_content = clean_text(doc.page_content)\n",
    "    doc.metadata[\"source\"] = \\\n",
    "        doc.metadata[\"source\"]\\\n",
    "            .replace(\"../../RAG/rtdocs_new\", \"https://milvus.io/docs\")\\\n",
    "            .replace(\".html\", \".md\")\n",
    "    doc.metadata = {\n",
    "        **doc.metadata,\n",
    "        \"doc_index\": doc_id\n",
    "    }\n",
    "\n",
    "print(f\"{len(html_docs)} docs split into {len(parent_docs)} parent documents.\")\n",
    "# inspect a parent doc.\n",
    "print(parent_docs[0].page_content[:200])\n",
    "pprint.pprint(parent_docs[0].metadata)"
   ]
  },
  {
   "cell_type": "code",
   "execution_count": 90,
   "id": "5062ca09",
   "metadata": {},
   "outputs": [
    {
     "data": {
      "image/png": "[encoded data removed]",
      "text/plain": [
       "<Figure size 1000x600 with 1 Axes>"
      ]
     },
     "metadata": {},
     "output_type": "display_data"
    }
   ],
   "source": [
    "# Inspect chunk lengths\n",
    "plot_chunk_lengths(parent_docs, 'Parent')"
   ]
  },
  {
   "cell_type": "code",
   "execution_count": 15,
   "id": "b9f3b559",
   "metadata": {},
   "outputs": [
    {
     "name": "stdout",
     "output_type": "stream",
     "text": [
      "chunk_size: 512, chunk_overlap: 51.0\n",
      "228 docs split into 873 child documents.\n"
     ]
    }
   ],
   "source": [
    "CHUNK_SIZE = 512\n",
    "chunk_overlap = np.round(CHUNK_SIZE * 0.10, 0)\n",
    "print(f\"chunk_size: {CHUNK_SIZE}, chunk_overlap: {chunk_overlap}\")\n",
    "\n",
    "# The splitter to use to create smaller (child) chunks\n",
    "child_text_splitter = RecursiveCharacterTextSplitter(\n",
    "    chunk_size=CHUNK_SIZE, \n",
    "    chunk_overlap=chunk_overlap,\n",
    "    length_function = len,  # use built-in Python len function\n",
    "    # separators=[\"\\n\\n\"],  # split at end of paragraphs\n",
    ")\n",
    "\n",
    "# Generate the \"sub\" documents by splitting the original documents. \n",
    "# Store the doc_id in the metadata of the corresponding Document object.\n",
    "sub_docs = []\n",
    "for i, doc in enumerate(parent_docs):\n",
    "    _id = doc_ids[i]\n",
    "    _sub_docs = child_text_splitter.split_documents([doc])\n",
    "    for _doc in _sub_docs:\n",
    "        _doc.metadata[id_key] = _id\n",
    "    sub_docs.extend(_sub_docs)\n",
    "\n",
    "# # Insert HTML headers into smaller chunks (extends their \"context\").\n",
    "# for chunk in sub_docs:\n",
    "#     if chunk.page_content.startswith(chunk.metadata['h1'][:20]):\n",
    "#         continue\n",
    "#     metadata_str = ' '.join(str(v) for k, v in chunk.metadata.items() if k in ['h1', 'h2'])\n",
    "#     chunk.page_content = f'{metadata_str} {chunk.page_content}'\n",
    "\n",
    "print(f\"{len(parent_docs)} docs split into {len(sub_docs)} child documents.\")"
   ]
  },
  {
   "cell_type": "code",
   "execution_count": 16,
   "id": "6631ed2c",
   "metadata": {},
   "outputs": [
    {
     "name": "stdout",
     "output_type": "stream",
     "text": [
      "using PyMilvus. Added guidance on how to enable RBAC with Milvus Operator. Added descriptions of Milvus CDC. Introducing PyMilvus Integration with Embedding Models Engineering Made with Love by the De\n",
      "{'doc_id': 'ab615aaf-af19-4b50-ac9d-8bbd1d1c6d51',\n",
      " 'doc_index': '5a75d188-5760-42ed-908a-b9c35c6998a2',\n",
      " 'h1': 'Welcome to Milvus Docs!',\n",
      " 'h2': 'Here you will learn about',\n",
      " 'h3': '',\n",
      " 'source': 'https://milvus.io/docs/'}\n"
     ]
    }
   ],
   "source": [
    "# Inspect a sub_doc.\n",
    "print(sub_docs[4].page_content[:200])\n",
    "pprint.pprint(sub_docs[4].metadata)"
   ]
  },
  {
   "cell_type": "code",
   "execution_count": 17,
   "id": "4c8801a0",
   "metadata": {},
   "outputs": [
    {
     "data": {
      "image/png": "[encoded data removed]",
      "text/plain": [
       "<Figure size 1000x600 with 1 Axes>"
      ]
     },
     "metadata": {},
     "output_type": "display_data"
    }
   ],
   "source": [
    "# Inspect chunk lengths\n",
    "plot_chunk_lengths(sub_docs, 'Small-to-big')"
   ]
  },
  {
   "cell_type": "code",
   "execution_count": 18,
   "id": "68fd9dcb",
   "metadata": {},
   "outputs": [
    {
     "name": "stdout",
     "output_type": "stream",
     "text": [
      "Indexed 228 parent documents in 0.00 seconds and \n",
      "Indexed a total of 873 child documents in 116.82 seconds\n"
     ]
    }
   ],
   "source": [
    "# Index the documents in the document store.\n",
    "start_time = time.time()\n",
    "retriever.docstore.mset(list(zip(doc_ids, parent_docs)))\n",
    "print(f\"Indexed {len(parent_docs)} parent documents in {time.time()-start_time:.2f} seconds and \")\n",
    "\n",
    "# Index the documents in the vector store.\n",
    "batch_size = 300\n",
    "total_docs = len(sub_docs)\n",
    "# Calculate the number of batches needed\n",
    "batches = (total_docs + batch_size - 1) // batch_size\n",
    "start_time = time.time()\n",
    "for i in range(batches):\n",
    "    batch_start = i * batch_size\n",
    "    batch_end = min(batch_start + batch_size, total_docs)\n",
    "    batch = sub_docs[batch_start:batch_end]\n",
    "    retriever.vectorstore.add_documents(batch)\n",
    "\n",
    "print(f\"Indexed a total of {total_docs} child documents in {time.time()-start_time:.2f} seconds\")\n",
    "\n",
    "# Indexed 507 documents in 56.15 seconds."
   ]
  },
  {
   "cell_type": "code",
   "execution_count": 19,
   "id": "88aa1894",
   "metadata": {},
   "outputs": [],
   "source": [
    "# Delete the Milvus collection and doc store.\n",
    "# del vectorstore, retriever, store"
   ]
  },
  {
   "cell_type": "markdown",
   "id": "0c324937",
   "metadata": {},
   "source": [
    "## Semantic Chunking using LangChain\n",
    "\n",
    "This chunker works by determining when to \"break\" apart sentences. This is done by calculating cosine distances between adjacent sentences. Looking across all these cosine distances, look for outlier distances past some threshold.  These outlier distances determine when chunks are split.\n",
    "\n",
    "There are a few ways to determine what that threshold is, which are controlled by the breakpoint_threshold_type kwarg.\n",
    "\n",
    "- `percentile` (default) — In this method, any distances greater than X percentile is split into a chunk.\n",
    "\n",
    "- `standard_deviation` — In this method, any difference greater than X standard deviations is split.\n",
    "\n",
    "- `interquartile` — In this method, the interquartile distance is used to split chunks.\n",
    "\n",
    "- See Semantic Chunking [docs](https://python.langchain.com/v0.2/docs/how_to/semantic-chunker/#standard-deviation) and [api](https://api.python.langchain.com/en/latest/text_splitter/langchain_experimental.text_splitter.SemanticChunker.html)."
   ]
  },
  {
   "cell_type": "code",
   "execution_count": 20,
   "id": "23149b10",
   "metadata": {},
   "outputs": [],
   "source": [
    "# !python -m pip install langchain_experimental"
   ]
  },
  {
   "cell_type": "code",
   "execution_count": 21,
   "id": "574e5387",
   "metadata": {},
   "outputs": [],
   "source": [
    "# # UNCOMMENT TO READ THE DOCS FROM A LOCAL DIRECTORY.\n",
    "\n",
    "# # Read docs into LangChain\n",
    "# # !pip install -U langchain\n",
    "# # !pip install unstructured\n",
    "# from langchain.document_loaders import DirectoryLoader\n",
    "\n",
    "# # Load HTML files from a local directory\n",
    "# path = \"../../RAG/rtdocs_new/\"\n",
    "# global_pattern = '*.html'\n",
    "# loader = DirectoryLoader(path=path, glob=global_pattern)\n",
    "# docs = loader.load()\n",
    "\n",
    "# num_documents = len(docs)\n",
    "# print(f\"loaded {num_documents} documents\")\n",
    "\n",
    "# # # Subset docs for faster testing\n",
    "# # docs = docs[5:7].copy()\n",
    "# # num_documents = len(docs)\n",
    "# # print(f\"testing with {num_documents} documents\")\n",
    "\n",
    "# # Print the type of the docs.\n",
    "# print(type(docs))\n",
    "# print(type(docs[0]))\n",
    "\n",
    "# docs[0].page_content[:500]"
   ]
  },
  {
   "cell_type": "code",
   "execution_count": 22,
   "id": "bf87ad6a",
   "metadata": {},
   "outputs": [],
   "source": [
    "# TODO - MOVE THIS TO A LOOP\n",
    "# # Extract all document content into a single string.\n",
    "# all_page_contents = \" \".join(doc.page_content for doc in docs)\n",
    "# all_page_contents = clean_text(all_page_contents)\n",
    "# # print(f\"len(all_page_contents): {len(all_page_contents)}\")\n",
    "# # print(all_page_contents[:500])"
   ]
  },
  {
   "cell_type": "code",
   "execution_count": 23,
   "id": "093a58da",
   "metadata": {},
   "outputs": [],
   "source": [
    "# from langchain_experimental.text_splitter import SemanticChunker\n",
    "\n",
    "# text_splitter = SemanticChunker(embed_model)\n",
    "# semantic_docs = text_splitter.create_documents([all_page_contents])\n",
    "\n",
    "# lengths = [len(doc.page_content) for doc in semantic_docs]\n",
    "# print(f\"Created {len(semantic_docs)} semantic documents from {len(docs)}.\")\n",
    "# print(\", \".join(str(len(length)) for length in lengths))\n",
    "# pprint.pprint(semantic_docs[0].page_content)\n",
    "# # Created 59 semantic documents from 22."
   ]
  },
  {
   "cell_type": "code",
   "execution_count": 24,
   "id": "3d70b441",
   "metadata": {},
   "outputs": [],
   "source": [
    "# # Inspect chunk lengths\n",
    "# lengths = [len(doc.page_content) for doc in html_docs]\n",
    "# import matplotlib.pyplot as plt\n",
    "\n",
    "# # Mean, median lengths.\n",
    "# mean_length = np.mean(lengths)\n",
    "# median_length = np.median(lengths)\n",
    "\n",
    "# # Plotting the lengths.\n",
    "# plt.figure(figsize=(10, 6))  # Adjust figure size\n",
    "# plt.plot(lengths, marker='o')  # Plot normalized lengths with circle markers\n",
    "# plt.title('Chunk Lengths from Semantic Chunking', fontsize=20, fontweight='bold')\n",
    "# plt.xlabel('Document Index')  # X-axis label\n",
    "# plt.ylabel('Normalized Length')  # Y-axis label, now showing normalized length\n",
    "# plt.grid(True)  # Show grid\n",
    "\n",
    "# # Add a horizontal red line at mean length\n",
    "# plt.axhline(y=mean_length, color='g', linestyle='-')\n",
    "# plt.axhline(y=median_length, color='r', linestyle='-')\n",
    "# plt.text(len(lengths)-1, mean_length, f'mean = {mean_length:.0f}', va='center', ha='left', backgroundcolor='w', fontsize=12)\n",
    "# plt.text(0, median_length, f'median = {median_length:.0f}', va='center', ha='right', backgroundcolor='w', fontsize=12)\n",
    "\n",
    "# plt.show()  # Display the plot"
   ]
  },
  {
   "cell_type": "code",
   "execution_count": 25,
   "id": "a76a7304",
   "metadata": {},
   "outputs": [],
   "source": [
    "# # Use Percentile to determine breakpoints.\n",
    "# text_splitter = SemanticChunker(\n",
    "#     embed_model, \n",
    "#     breakpoint_threshold_type=\"percentile\",\n",
    "#     breakpoint_threshold_amount=0.99\n",
    "# )\n",
    "\n",
    "# semantic_docs = text_splitter.create_documents([all_page_contents])\n",
    "# print(f\"Created {len(semantic_docs)} semantic documents from {len(docs)}.\")\n",
    "\n",
    "# # Too many!\n",
    "# # Created 1138 semantic documents from 22."
   ]
  },
  {
   "cell_type": "code",
   "execution_count": 26,
   "id": "88e376c7",
   "metadata": {},
   "outputs": [],
   "source": [
    "# # Use Standard Deviation to determine breakpoints.\n",
    "# text_splitter = SemanticChunker(\n",
    "#     embed_model, \n",
    "#     breakpoint_threshold_type=\"standard_deviation\",\n",
    "#     breakpoint_threshold_amount=0.80\n",
    "# )\n",
    "# semantic_docs = text_splitter.create_documents([all_page_contents])\n",
    "\n",
    "# print(f\"Created {len(semantic_docs)} semantic documents from {len(docs)}.\")\n",
    "# print(\", \".join(str(len(doc.page_content)) for doc in semantic_docs))\n",
    "# pprint.pprint(semantic_docs[0].page_content)\n",
    "\n",
    "# # Created 195 semantic documents from 22."
   ]
  },
  {
   "cell_type": "code",
   "execution_count": 27,
   "id": "9fec633e",
   "metadata": {},
   "outputs": [],
   "source": [
    "# # Create vectorstore for vector index and retrieval.\n",
    "# COLLECTION_NAME = \"MilvusDocs\"\n",
    "# start_time = time.time()\n",
    "# vectorstore = Milvus.from_documents(\n",
    "#     collection_name=COLLECTION_NAME,\n",
    "#     documents=semantic_docs,\n",
    "#     embedding=embed_model,\n",
    "#     connection_args={\"uri\": \"./milvus_demo.db\"},\n",
    "#     # Override LangChain default values for Milvus.\n",
    "#     consistency_level=\"Eventually\",\n",
    "#     # auto_id=True,\n",
    "#     drop_old=True,\n",
    "#     index_params = {\n",
    "#         \"metric_type\": \"COSINE\",\n",
    "#         \"index_type\": \"AUTOINDEX\",\n",
    "#         \"params\": {},}\n",
    "# )\n",
    "# end_time = time.time()\n",
    "# print(f\"Created Milvus collection from {len(semantic_docs)} docs in {end_time - start_time:.2f} seconds\")"
   ]
  },
  {
   "cell_type": "code",
   "execution_count": 28,
   "id": "9d1ec60b",
   "metadata": {},
   "outputs": [],
   "source": [
    "# Delete the Milvus collection and vectorstore.\n",
    "# del vectorstore"
   ]
  },
  {
   "cell_type": "markdown",
   "id": "02c589ff",
   "metadata": {},
   "source": [
    "## Ask a question about your data\n",
    "\n",
    "So far in this demo notebook: \n",
    "1. Your custom data has been mapped into a vector embedding space\n",
    "2. Those vector embeddings have been saved into a vector database\n",
    "\n",
    "Next, you can ask a question about your custom data!\n",
    "\n",
    "💡 In LLM vocabulary:\n",
    "> **Query** is the generic term for user questions.  \n",
    "A query is a list of multiple individual questions, up to maybe 1000 different questions!\n",
    "\n",
    "> **Question** usually refers to a single user question.  \n",
    "In our example below, the user question is \"What is AUTOINDEX in Milvus Client?\"\n",
    "\n",
    "> **Semantic Search** = very fast search of the entire knowledge base to find the `TOP_K` documentation chunks with the closest embeddings to the user's query.\n",
    "\n",
    "💡 The same model should always be used for consistency for all the embeddings data and the query."
   ]
  },
  {
   "cell_type": "code",
   "execution_count": 29,
   "id": "5e7f41f4",
   "metadata": {},
   "outputs": [
    {
     "name": "stdout",
     "output_type": "stream",
     "text": [
      "example query length: 75\n"
     ]
    }
   ],
   "source": [
    "# Define a sample question about your data.\n",
    "QUESTION1 = \"What do the parameters for HNSW mean?\"\n",
    "QUESTION2 = \"What are good default values for HNSW parameters with 25K vectors dim 1024?\"\n",
    "QUESTION3 = \"What does nlist vs nprobe mean in ivf_flat?\"\n",
    "QUESTION4 = \"What is the default AUTOINDEX index and vector field distance metric in Milvus?\"\n",
    "\n",
    "# In case you want to ask all the questions at once.\n",
    "QUERY = [QUESTION1, QUESTION2, QUESTION3, QUESTION4]\n",
    "\n",
    "# Inspect the length of one question.\n",
    "QUERY_LENGTH = len(QUESTION2)\n",
    "print(f\"example query length: {QUERY_LENGTH}\")"
   ]
  },
  {
   "cell_type": "code",
   "execution_count": 68,
   "id": "cd25ffca",
   "metadata": {},
   "outputs": [],
   "source": [
    "# SELECT A PARTICULAR QUESTION TO ASK.\n",
    "\n",
    "SAMPLE_QUESTION = QUESTION4"
   ]
  },
  {
   "cell_type": "markdown",
   "id": "9ea29411",
   "metadata": {},
   "source": [
    "## Execute a vector search\n",
    "\n",
    "Search Milvus using [PyMilvus API](https://milvus.io/docs/search.md).\n",
    "\n",
    "💡 By their nature, vector searches are \"semantic\" searches.  For example, if you were to search for \"leaky faucet\": \n",
    "> **Traditional Key-word Search** - either or both words \"leaky\", \"faucet\" would have to match some text in order to return a web page or link text to the document.\n",
    "\n",
    "> **Semantic search** - results containing words \"drippy\" \"taps\" would be returned as well because these words mean the same thing even though they are different words."
   ]
  },
  {
   "cell_type": "code",
   "execution_count": 31,
   "id": "2b45afb5",
   "metadata": {},
   "outputs": [],
   "source": [
    "# # Retrieve semantic chunks.\n",
    "# TOP_K = 2\n",
    "# semantic_retriever = vectorstore.as_retriever(search_kwargs={\"k\" : TOP_K})\n",
    "# semantic_results = semantic_retriever.invoke(SAMPLE_QUESTION)\n",
    "\n",
    "# print(len(semantic_results))\n",
    "\n",
    "# # Print the retrieved chunk and metadata.\n",
    "# contexts = []\n",
    "# for semantic_result in semantic_results:\n",
    "#     context = semantic_result.page_content\n",
    "#     print(len(context))\n",
    "#     pprint.pprint(f\"chunk: {context}\")\n",
    "#     pprint.pprint(f\"metadata: {semantic_result.metadata}\")\n",
    "#     context = semantic_result.page_content\n",
    "#     contexts.append(context)"
   ]
  },
  {
   "cell_type": "code",
   "execution_count": 69,
   "id": "edf82971",
   "metadata": {},
   "outputs": [
    {
     "name": "stdout",
     "output_type": "stream",
     "text": [
      "512\n",
      "chunk: during searches or queries. Milvus provides several index types and metrics to sort field values for efficient similarity searches. The following table lists the supported index types and metrics for different vector field types. For details, refer to In-memory Index and Similarity Metrics. Floating point embeddings Binary embeddings Sparse embeddings Metric Types Index Types Euclidean distance (L2)Inner product (IP)Cosine similarity (COSINE) FLATIVF_FLATIVF_SQ8IVF_PQGPU_IVF_FLATGPU_IVF_PQHNSWDISKANN Metric\n",
      "(\"metadata: {'h1': 'Index Vector Fields', 'h2': 'This guide walks you thro', \"\n",
      " \"'h3': 'Overview', 'source': 'https://milvus.io/docs/index-vector-fields.md', \"\n",
      " \"'doc_index': 'c393a40d-864a-4cc4-9da3-4c53cf2d6602', 'doc_id': \"\n",
      " \"'6c120544-d259-4fb1-b6f2-0481de55c492', 'pk': 450852554287612165}\")\n",
      "498\n",
      "chunk: field. index_params.add_index( field_name=\"vector\", metric_type=\"COSINE\", index_type=\"IVF_FLAT\", index_name=\"vector_index\", params={ \"nlist\": 128 } ) # 4.3. Create an index file client.create_index( collection_name=\"customized_setup\", index_params=index_params ) import io.milvus.v2.common.IndexParam; import io.milvus.v2.service.index.request.CreateIndexReq; // 4 Prepare index parameters // 4.2 Add an index for the vector field \"vector\" IndexParam indexParamForVectorField = IndexParam.builder()\n",
      "(\"metadata: {'h1': 'Index Vector Fields', 'h2': 'This guide walks you thro', \"\n",
      " \"'h3': 'Overview', 'source': 'https://milvus.io/docs/index-vector-fields.md', \"\n",
      " \"'doc_index': 'c393a40d-864a-4cc4-9da3-4c53cf2d6602', 'doc_id': \"\n",
      " \"'2ba6f33a-058b-46d8-8139-b41b1bef3f45', 'pk': 450852554287612149}\")\n",
      "['https://milvus.io/docs/index-vector-fields.md']\n",
      "2\n"
     ]
    }
   ],
   "source": [
    "# The vector store alone will retrieve small chunks:\n",
    "TOP_K = 2\n",
    "child_results = retriever.vectorstore.similarity_search(\n",
    "    SAMPLE_QUESTION,\n",
    "    k=TOP_K)\n",
    "\n",
    "# Print the retrieved chunk and metadata.\n",
    "# Append each unique context and source to a list.\n",
    "contexts = []\n",
    "sources = []\n",
    "for child_result in child_results:\n",
    "    context = child_result.page_content\n",
    "    print(len(context))\n",
    "    print(f\"chunk: {context}\")\n",
    "    pprint.pprint(f\"metadata: {child_result.metadata}\")\n",
    "    context = child_result.page_content\n",
    "    contexts.append(context)\n",
    "    source = child_result.metadata['source']\n",
    "    if source not in sources:\n",
    "        sources.append(source)\n",
    "\n",
    "print(sources)\n",
    "print(len(contexts))"
   ]
  },
  {
   "cell_type": "code",
   "execution_count": 70,
   "id": "809ff495",
   "metadata": {},
   "outputs": [
    {
     "name": "stdout",
     "output_type": "stream",
     "text": [
      "Num parent results: 4\n",
      "1571\n",
      "chunk: during searches or queries. Milvus provides several index types and metrics to sort field values for efficient similarity searches. The following table lists the supported index types and metrics for different vector field types. For details, refer to In-memory Index and Similarity Metrics. Floating point embeddings Binary embeddings Sparse embeddings Metric Types Index Types Euclidean distance (L2)Inner product (IP)Cosine similarity (COSINE) FLATIVF_FLATIVF_SQ8IVF_PQGPU_IVF_FLATGPU_IVF_PQHNSWDISKANN Metric Types Index Types Jaccard (JACCARD)Hamming (HAMMING) BIN_FLATBIN_IVF_FLAT Metric Types Index Types IP SPARSE_INVERTED_INDEXSPARSE_WAND It is recommended to create indexes for both the vector field and scalar fields that are frequently accessed. As explained in Manage Collections, Milvus automatically generates an index and loads it into memory when creating a collection if any of the following conditions are specified in the collection creation request: The dimensionality of the vector field and the metric type, or The schema and the index parameters. The code snippet below repurposes the existing code to establish a connection to a Milvus instance and create a collection without specifying its index parameters. In this case, the collection lacks an index and remains unloaded. To prepare for indexing, use MilvusClient to connect to the Milvus server and set up a collection by using create_schema(), add_field(), and create_collection(). To prepare for indexing, use MilvusClientV2 to connect to the Milvus server and set up a collection by using\n",
      "(\"metadata: {'h1': 'Index Vector Fields', 'h2': 'This guide walks you thro', \"\n",
      " \"'h3': 'Overview', 'source': 'https://milvus.io/docs/index-vector-fields.md', \"\n",
      " \"'doc_index': 'c393a40d-864a-4cc4-9da3-4c53cf2d6602'}\")\n",
      "1584\n",
      "chunk: field. index_params.add_index( field_name=\"vector\", metric_type=\"COSINE\", index_type=\"IVF_FLAT\", index_name=\"vector_index\", params={ \"nlist\": 128 } ) # 4.3. Create an index file client.create_index( collection_name=\"customized_setup\", index_params=index_params ) import io.milvus.v2.common.IndexParam; import io.milvus.v2.service.index.request.CreateIndexReq; // 4 Prepare index parameters // 4.2 Add an index for the vector field \"vector\" IndexParam indexParamForVectorField = IndexParam.builder() .fieldName(\"vector\") .indexName(\"vector_index\") .indexType(IndexParam.IndexType.IVF_FLAT) .metricType(IndexParam.MetricType.COSINE) .extraParams(Map.of(\"nlist\", 128)) .build(); List<IndexParam> indexParams = new ArrayList<>(); indexParams.add(indexParamForVectorField); // 4.3 Crate an index file CreateIndexReq createIndexReq = CreateIndexReq.builder() .collectionName(\"customized_setup\") .indexParams(indexParams) .build(); client.createIndex(createIndexReq); // 4. Set up index for the collection // 4.1. Set up the index parameters res = await client.createIndex({ collection_name: \"customized_setup\", field_name: \"vector\", index_type: \"AUTOINDEX\", metric_type: \"COSINE\", index_name: \"vector_index\", params: { \"nlist\": 128 } }) console.log(res.error_code) // Output // // Success // Parameter Description field_name The name of the target file to apply this object applies. metric_type The algorithm that is used to measure similarity between vectors. Possible values are IP, L2, COSINE, JACCARD, HAMMING. This is available only when the specified field is a vector field. For more\n",
      "(\"metadata: {'h1': 'Index Vector Fields', 'h2': 'This guide walks you thro', \"\n",
      " \"'h3': 'Overview', 'source': 'https://milvus.io/docs/index-vector-fields.md', \"\n",
      " \"'doc_index': 'c393a40d-864a-4cc4-9da3-4c53cf2d6602'}\")\n",
      "1582\n",
      "chunk: DocsBlogCommunity Why Milvus What is MilvusUse Cases Tutorials CodelabsBootcampDemosVideo Tools AttuMilvus CLISizing ToolMilvus Backup Get Started Docs Tutorials Tools Blog Community Get Started Search Home ​ v2.4.x About Milvus Get Started Concepts Architecture Bitset Consistency Multi-tenancy Timestamp Similarity Metrics Time Synchronization Vector Index In-memory Index On-disk Index GPU Index Scalar Index Reranking Users and Roles In-memory Replica Terminology User Guide Models Milvus Migration Administration Guide Tools Integrations Tutorials FAQs API Reference In-memory Index ANNS vector indexes Indexes supported in Milvus FAQ What's next This topic lists various types of in-memory indexes Milvus supports, scenarios each of them best suits, and parameters users can configure to achieve better search performance. For on-disk indexes, see On-disk Index. Indexing is the process of efficiently organizing data, and it plays a major role in making similarity search useful by dramatically accelerating time-consuming queries on large datasets. To improve query performance, you can specify an index type for each vector field. Currently, a vector field only supports one index type. Milvus automatically deletes the old index when switching the index type. Most of the vector index types supported by Milvus use approximate nearest neighbors search (ANNS) algorithms. Compared with accurate retrieval, which is usually very time-consuming, the core idea of ANNS is no longer limited to returning the most accurate result, but only searching for neighbors of the target.\n",
      "(\"metadata: {'h1': 'In-memory Index', 'h2': 'This topic lists various ', 'h3': \"\n",
      " \"'ANNS vector indexes', 'source': 'https://milvus.io/docs/index.md', \"\n",
      " \"'doc_index': '709e587e-ba1f-4e39-900c-433bcfc02990'}\")\n",
      "1585\n",
      "chunk: DocsBlogCommunity Why Milvus What is MilvusUse Cases Tutorials CodelabsBootcampDemosVideo Tools AttuMilvus CLISizing ToolMilvus Backup Get Started Docs Tutorials Tools Blog Community Get Started Search Home ​ v2.4.x About Milvus Get Started Concepts User Guide Models Milvus Migration Administration Guide Tools Integrations Tutorials FAQs API Reference Blog Get Started Recommended articles Welcome to Milvus Docs! Here you will learn about what Milvus is, and how to install, use, and deploy Milvus to build an application according to your business need. Try Managed Milvus For Free! Try Zilliz Cloud for free! The easiest way to experience Milvus! Zilliz Cloud Zilliz Cloud China Install Milvus Learn how to install Milvus using either Docker Compose or on Kubernetes. Quick Start Learn how to quickly run Milvus with sample code. Bootcamp Learn how to build vector similarity search applications with Milvus. Use Manage Collections Insert, Upsert, and Delete Index Vector Fields Single-Vector Search Get & Scalar Query Deploy Configure Milvus Manage Dependencies Deploy on Clouds Scale a Milvus Cluster Monitor and Alert Learn System Configuration Architecture Overview Vector Index Similarity Metrics Glossary What's new in docs Mar 2024 - Milvus 2.4.0 release Added guidance on how to conduct hybrid search. Added description of GPU index. Added guidance on how to embed your data using PyMilvus. Added guidance on how to enable RBAC with Milvus Operator. Added descriptions of Milvus CDC. Introducing PyMilvus Integration with Embedding Models Engineering Made with Love by the\n",
      "(\"metadata: {'h1': 'Welcome to Milvus Docs!', 'h2': 'Here you will learn \"\n",
      " \"about', 'h3': '', 'source': 'https://milvus.io/docs/', 'doc_index': \"\n",
      " \"'5a75d188-5760-42ed-908a-b9c35c6998a2'}\")\n"
     ]
    }
   ],
   "source": [
    "# Whereas the retriever will return the larger parent document:\n",
    "parent_results = retriever.invoke(\n",
    "    SAMPLE_QUESTION)  #[0].page_content\n",
    "\n",
    "# Print the retrieved chunk and metadata.\n",
    "print(f\"Num parent results: {len(parent_results)}\")\n",
    "for parent_result in parent_results:\n",
    "    print(len(parent_result.page_content))\n",
    "    print(f\"chunk: {parent_result.page_content}\")\n",
    "    pprint.pprint(f\"metadata: {parent_result.metadata}\")\n",
    "\n",
    "# Only the 0th parent chunk seems relevant.\n",
    "assert parent_results[0].metadata['source'] == sources[0]"
   ]
  },
  {
   "cell_type": "markdown",
   "id": "20cf59f0",
   "metadata": {},
   "source": [
    "## Summarize the context using a LLM\n",
    "\n",
    "Using a small, open source LLM should be good enough for the summarization task."
   ]
  },
  {
   "cell_type": "code",
   "execution_count": 71,
   "id": "377d92fc",
   "metadata": {},
   "outputs": [
    {
     "name": "stdout",
     "output_type": "stream",
     "text": [
      "Length long text to summarize: 1011\n"
     ]
    }
   ],
   "source": [
    "# Separate all the context together by space.\n",
    "contexts_combined = ' '.join(contexts)\n",
    "\n",
    "# Alternatively use the parent (bigger) chunks.\n",
    "# contexts_combined = \" \".join([result.page_content \n",
    "#     for result in parent_results[:TOP_K]])\n",
    "# contexts_combined = parent_results[0].page_content\n",
    "\n",
    "print(f\"Length long text to summarize: {len(contexts_combined)}\")"
   ]
  },
  {
   "cell_type": "code",
   "execution_count": 72,
   "id": "cfd45c26",
   "metadata": {},
   "outputs": [
    {
     "name": "stdout",
     "output_type": "stream",
     "text": [
      "Length prompt: 1196\n"
     ]
    }
   ],
   "source": [
    "# Define temperature for the LLM and random seed.\n",
    "TEMPERATURE = 0.1\n",
    "TOP_P = 0.9\n",
    "RANDOM_SEED = 415\n",
    "MAX_TOKENS = 512\n",
    "FREQUENCY_PENALTY = 2\n",
    "\n",
    "# Define a system prompt to use for summarization.\n",
    "SYSTEM_PROMPT = f\"\"\"First select the text that is relevant to the \n",
    "user's question.  Second, summarize the selected text so it is clear,\n",
    "easy to understand, and concise, in fewer than 10 sentences.\n",
    "Text: {contexts_combined}\n",
    "\"\"\"\n",
    "print(f\"Length prompt: {len(SYSTEM_PROMPT)}\")\n"
   ]
  },
  {
   "cell_type": "code",
   "execution_count": 73,
   "id": "c66618c8",
   "metadata": {},
   "outputs": [
    {
     "name": "stdout",
     "output_type": "stream",
     "text": [
      "First select the text that is relevant to the \n",
      "user's question.  Second, summarize the selected text so it is clear,\n",
      "easy to understand, and concise, in fewer than 10 sentences.\n",
      "Text: during searches or queries. Milvus provides several index types and metrics to sort field values for efficient similarity searches. The following table lists the supported index types and metrics for different vector field types. For details, refer to In-memory Index and Similarity Metrics. Floating point embeddings Binary embeddings Sparse embeddings Metric Types Index Types Euclidean distance (L2)Inner product (IP)Cosine similarity (COSINE) FLATIVF_FLATIVF_SQ8IVF_PQGPU_IVF_FLATGPU_IVF_PQHNSWDISKANN Metric field. index_params.add_index( field_name=\"vector\", metric_type=\"COSINE\", index_type=\"IVF_FLAT\", index_name=\"vector_index\", params={ \"nlist\": 128 } ) # 4.3. Create an index file client.create_index( collection_name=\"customized_setup\", index_params=index_params ) import io.milvus.v2.common.IndexParam; import io.milvus.v2.service.index.request.CreateIndexReq; // 4 Prepare index parameters // 4.2 Add an index for the vector field \"vector\" IndexParam indexParamForVectorField = IndexParam.builder()\n",
      "\n"
     ]
    }
   ],
   "source": [
    "print(SYSTEM_PROMPT)"
   ]
  },
  {
   "cell_type": "code",
   "execution_count": 74,
   "id": "3eee4d7b",
   "metadata": {},
   "outputs": [
    {
     "name": "stdout",
     "output_type": "stream",
     "text": [
      "MODEL:llama3:latest, FORMAT:gguf, PARAMETER_SIZE:8B, QUANTIZATION_LEVEL:Q4_0, \n",
      "\n"
     ]
    }
   ],
   "source": [
    "# !python -m pip install ollama\n",
    "import ollama\n",
    "\n",
    "# Verify details which model you are running.\n",
    "ollama_llama3 = ollama.list()['models'][0]\n",
    "\n",
    "# Print the model details.\n",
    "keys = ['format', 'parameter_size', 'quantization_level']\n",
    "print(f\"MODEL:{ollama.list()['models'][0]['name']}\", end=\", \")\n",
    "for key in keys:\n",
    "    print(f\"{str.upper(key)}:{ollama.list()['models'][0]['details'].get(key, 'Key not found in dictionary')}\", end=\", \")\n",
    "print(end=\"\\n\\n\")"
   ]
  },
  {
   "cell_type": "code",
   "execution_count": 75,
   "id": "574da045",
   "metadata": {},
   "outputs": [
    {
     "name": "stdout",
     "output_type": "stream",
     "text": [
      "Answer: According to the provided text, there isn't a specific mention of what the default AUTOINDEX or vector field distance metric are in Milvus.\n",
      "\n",
      "However, based on other documentation available for Milvus (https://milvus.io/docs/), it appears that:\n",
      "\n",
      "* The default index type is IVF_PQ.\n",
      "* The default distance metric used by this index is Euclidean Distance (L2).\n",
      "\n",
      "Please note that these defaults might be subject to change or may have changed since the provided text was written. For more accurate and up-to-date information, I recommend consulting Milvus' official documentation or contacting their support team directly. \n",
      "\n",
      "\n",
      "ollama_llama3_time: 14.61 seconds\n"
     ]
    }
   ],
   "source": [
    "# Send the question to llama 3 chat.\n",
    "start_time = time.time()\n",
    "response = ollama.chat(\n",
    "    messages=[\n",
    "        {\"role\": \"system\", \"content\": SYSTEM_PROMPT,},\n",
    "        \n",
    "        {\"role\": \"user\", \"content\": f\"question: {SAMPLE_QUESTION}\",}\n",
    "    ],\n",
    "    model='llama3',\n",
    "    stream=False,\n",
    "    options={\"temperature\": TEMPERATURE, \"seed\": RANDOM_SEED,\n",
    "             \"top_p\": TOP_P, \n",
    "            #  \"max_tokens\": MAX_TOKENS,\n",
    "             \"frequency_penalty\": FREQUENCY_PENALTY}\n",
    ")\n",
    "ollama_llama3_time = time.time() - start_time\n",
    "\n",
    "# Print all answers in the response.\n",
    "semantic_summary = \"\"\n",
    "semantic_summary += response['message']['content'] + \" \"\n",
    "print(f\"Answer: {semantic_summary}\")\n",
    "print(\"\\n\")\n",
    "print(f\"ollama_llama3_time: {format(ollama_llama3_time, '.2f')} seconds\")"
   ]
  },
  {
   "cell_type": "markdown",
   "id": "bd6060ce",
   "metadata": {},
   "source": [
    "## Use an LLM to Generate a chat response to the user's question using the Retrieved Context.\n",
    "\n",
    "Many different generative LLMs exist these days.  Check out the lmsys [leaderboard](https://chat.lmsys.org/?leaderboard).\n",
    "\n",
    "In this notebook, we'll try these LLMs:\n",
    "- The newly released open-source Llama 3 from Meta.\n",
    "- The cheapest, paid model from Anthropic Claude3 Haiku.\n",
    "- The standard in its price cateogory, gpt-3.5-turbo, from Openai."
   ]
  },
  {
   "cell_type": "code",
   "execution_count": 38,
   "id": "eb4c323f",
   "metadata": {},
   "outputs": [],
   "source": [
    "# STEP 8. LLM-GENERATED ANSWER TO THE QUESTION, GROUNDED BY RETRIEVED CONTEXT.\n",
    "\n",
    "# Separate all the sources together by comma.\n",
    "source_combined = []\n",
    "source_combined = ' '.join(reversed(sources))\n",
    "\n",
    "# Separate all the context together by space.\n",
    "# Lance Martin, LangChain, says put best contexts at end.\n",
    "contexts_combined = ' '.join(reversed(contexts))\n",
    "\n",
    "# # Alternatively use the parent (bigger) chunk.\n",
    "# contexts_combined = parent_results[0].page_content\n",
    "\n",
    "# # # Alternatively use the summary.\n",
    "# contexts_combined = semantic_summary\n",
    "# print(f\"Length long text to summarize: {len(contexts_combined)}\")\n",
    "\n",
    "# Define temperature for the LLM and random seed.\n",
    "TEMPERATURE = 0.1\n",
    "TOP_P = 0.9\n",
    "RANDOM_SEED = 415\n",
    "MAX_TOKENS = 512\n",
    "FREQUENCY_PENALTY = 2"
   ]
  },
  {
   "cell_type": "code",
   "execution_count": 39,
   "id": "5fc90b64",
   "metadata": {},
   "outputs": [
    {
     "name": "stdout",
     "output_type": "stream",
     "text": [
      "Length prompt: 1465\n"
     ]
    }
   ],
   "source": [
    "SYSTEM_PROMPT = f\"\"\"First, check if the Context below is relevant to \n",
    "the user's question.  Second, only if the context is strongly relevant, \n",
    "answer the question using the context.  Otherwise, if the context is not \n",
    "strongly relevant, answer the question without using the context.  \n",
    "Be clear, concise, relevant.  Answer clearly, easy to understand, \n",
    "fewer than 2 sentences, and cite unique sources.\n",
    "Grounding sources: {source_combined}\n",
    "Context: {contexts_combined}\n",
    "\"\"\"\n",
    "print(f\"Length prompt: {len(SYSTEM_PROMPT)}\")"
   ]
  },
  {
   "cell_type": "code",
   "execution_count": 40,
   "id": "6c31718c",
   "metadata": {},
   "outputs": [
    {
     "name": "stdout",
     "output_type": "stream",
     "text": [
      "('First, check if the Context below is relevant to \\n'\n",
      " \"the user's question.  Second, only if the context is strongly relevant, \\n\"\n",
      " 'answer the question using the context.  Otherwise, if the context is not \\n'\n",
      " 'strongly relevant, answer the question without using the context.  \\n'\n",
      " 'Be clear, concise, relevant.  Answer clearly, easy to understand, \\n'\n",
      " 'fewer than 2 sentences, and cite unique sources.\\n'\n",
      " 'Grounding sources: https://milvus.io/docs/index.md\\n'\n",
      " 'Context: at the cost of increased search time.[1, 65535]2 Common search '\n",
      " 'Range search HNSW (Hierarchical Navigable Small World Graph) is a '\n",
      " 'graph-based indexing algorithm. It builds a multi-layer navigation structure '\n",
      " 'for an image according to certain rules. In this structure, the upper layers '\n",
      " 'are more sparse and the distances between nodes are farther; the lower '\n",
      " 'layers are denser and the distances between nodes are closer. The search '\n",
      " 'starts from the uppermost layer, finds the node closest to the target in '\n",
      " 'this layer, the node closest to the target in this layer, and then enters '\n",
      " 'the next layer to begin another search. After multiple iterations, it can '\n",
      " 'quickly approach the target position. In order to improve performance, HNSW '\n",
      " 'limits the maximum degree of nodes on each layer of the graph to M. In '\n",
      " 'addition, you can use efConstruction (when building index) or ef (when '\n",
      " 'searching targets) to specify a search range. ParameterDescriptionRange MM '\n",
      " 'defines tha maximum number of outgoing connections in the graph. Higher M '\n",
      " 'leads to\\n')\n"
     ]
    }
   ],
   "source": [
    "# Inspect the prompt.\n",
    "pprint.pprint(SYSTEM_PROMPT)"
   ]
  },
  {
   "cell_type": "markdown",
   "id": "11fb35aa",
   "metadata": {},
   "source": [
    "# Try Meta Llama 3 with Ollama to generate a human-like chat response to the user's question\n",
    "\n",
    "Follow the instructions to install ollama and pull a model.<br>\n",
    "https://github.com/ollama/ollama\n",
    "\n",
    "View details about which models are supported by ollama. <br>\n",
    "https://ollama.com/library/llama3\n",
    "\n",
    "That page says `ollama run llama3` will by default pull the latest \"instruct\" model, which is fine-tuned for chat/dialogue use cases.\n",
    "\n",
    "The other kind of llama3 models are \"pre-trained\" base model. <br>\n",
    "Example: ollama run llama3:text ollama run llama3:70b-text\n",
    "\n",
    "**Format** `gguf` means the model runs on CPU.  gg = \"Georgi Gerganov\", creator of the C library model format ggml, which was recently changed to gguf.\n",
    "\n",
    "**Quantization** (think of it like vector compaction) can lead to higher throughput at the expense of lower accuracy.  For the curious, quantization meanings can be found on: <br>\n",
    "https://huggingface.co/TheBloke/Llama-2-13B-chat-GGML/tree/main.  \n",
    "\n",
    "Below just listing the main quantization types.\n",
    "- **q4_0**: Original quant method, 4-bit.\n",
    "- **q4_k_m**: Uses Q6_K for half of the attention.wv and feed_forward.w2 tensors, else Q4_K\n",
    "- **q5_0**: Higher accuracy, higher resource usage and slower inference.\n",
    "- **q5_k_m**: Uses Q6_K for half of the attention.wv and feed_forward.w2 tensors, else Q5_K\n",
    "- **q 6_k**: Uses Q8_K for all tensors\n",
    "- **q8_0**: Almost indistinguishable from float16. High resource use and slow. Not recommended for most users."
   ]
  },
  {
   "cell_type": "code",
   "execution_count": 41,
   "id": "0edc67e3",
   "metadata": {},
   "outputs": [
    {
     "name": "stdout",
     "output_type": "stream",
     "text": [
      "MODEL:llama3:latest, FORMAT:gguf, PARAMETER_SIZE:8B, QUANTIZATION_LEVEL:Q4_0, \n",
      "\n"
     ]
    }
   ],
   "source": [
    "# !python -m pip install ollama\n",
    "import ollama\n",
    "\n",
    "# Verify details which model you are running.\n",
    "ollama_llama3 = ollama.list()['models'][0]\n",
    "\n",
    "\n",
    "# Print the model details.\n",
    "keys = ['format', 'parameter_size', 'quantization_level']\n",
    "print(f\"MODEL:{ollama.list()['models'][0]['name']}\", end=\", \")\n",
    "for key in keys:\n",
    "    print(f\"{str.upper(key)}:{ollama.list()['models'][0]['details'].get(key, 'Key not found in dictionary')}\", end=\", \")\n",
    "print(end=\"\\n\\n\")"
   ]
  },
  {
   "cell_type": "code",
   "execution_count": 42,
   "id": "76042c9a",
   "metadata": {},
   "outputs": [
    {
     "name": "stdout",
     "output_type": "stream",
     "text": [
      "In Hierarchical Navigable Small World Graph (HNSW), there are two main parameters that control its behavior:\n",
      "\n",
      "1. **M** (`max_degree`): This parameter defines the maximum number of outgoing connections in each layer of the graph. A higher value means more nodes can be connected to a single node, which increases the density and searchability of the index.\n",
      "2. **ef** (Efficiency Factor): This is used during both indexing construction and target searching. It controls how much information from previous searches should be reused when traversing through layers.\n",
      "\n",
      "In other words:\n",
      "\n",
      "* `M` determines how many \"neighbors\" each node can have, which affects the graph's density and search efficiency.\n",
      "* `ef` adjusts the trade-off between precision (search accuracy) and recall (completeness of results). A higher value means more information is reused from previous searches, making it faster but potentially less accurate.\n",
      "ollama_llama3_time: 10.23 seconds\n"
     ]
    }
   ],
   "source": [
    "# Send the question to llama 3 chat.\n",
    "start_time = time.time()\n",
    "response = ollama.chat(\n",
    "    messages=[\n",
    "        {\"role\": \"system\", \"content\": SYSTEM_PROMPT,},\n",
    "        \n",
    "        {\"role\": \"user\", \"content\": f\"question: {SAMPLE_QUESTION}\",}\n",
    "    ],\n",
    "    model='llama3',\n",
    "    stream=False,\n",
    "    options={\"temperature\": TEMPERATURE, \"seed\": RANDOM_SEED,\n",
    "             \"top_p\": TOP_P, \n",
    "            #  \"max_tokens\": MAX_TOKENS,\n",
    "             \"frequency_penalty\": FREQUENCY_PENALTY}\n",
    ")\n",
    "\n",
    "ollama_llama3_time = time.time() - start_time\n",
    "print(response['message']['content'])\n",
    "print(f\"ollama_llama3_time: {format(ollama_llama3_time, '.2f')} seconds\")"
   ]
  },
  {
   "cell_type": "markdown",
   "id": "cf12b360",
   "metadata": {},
   "source": [
    "# Now try Anyscale endpoints\n"
   ]
  },
  {
   "cell_type": "code",
   "execution_count": null,
   "id": "59f95f52",
   "metadata": {},
   "outputs": [],
   "source": [
    "# # List all the anyscale endpoint models.\n",
    "# !llm models list"
   ]
  },
  {
   "cell_type": "code",
   "execution_count": null,
   "id": "1ef7529f",
   "metadata": {},
   "outputs": [],
   "source": [
    "# Call Anyscale enpoint using OpenAI API.\n",
    "import openai\n",
    "\n",
    "LLM_NAME = \"meta-llama/Llama-3-8b-chat-hf\"\n",
    "\n",
    "# 1. Get your API key: https://platform.openai.com/api-keys\n",
    "# 2. Save your api key in env variable.\n",
    "# https://help.openai.com/en/articles/5112595-best-practices-for-api-key-safety\n",
    "anyscale_client = openai.OpenAI(\n",
    "    base_url = \"https://api.endpoints.anyscale.com/v1\",\n",
    "    api_key=os.environ.get(\"ANYSCALE_ENPOINT_KEY\"),\n",
    ")\n",
    "\n",
    "# 3. Generate response using the OpenAI API.\n",
    "start_time = time.time()\n",
    "response = anyscale_client.chat.completions.create(\n",
    "    messages=[\n",
    "        {\"role\": \"system\", \"content\": SYSTEM_PROMPT,},\n",
    "        {\"role\": \"user\", \"content\": f\"question: {SAMPLE_QUESTION}\",}\n",
    "    ],\n",
    "    model=LLM_NAME,\n",
    "    temperature=TEMPERATURE,\n",
    "    seed=RANDOM_SEED,\n",
    "    frequency_penalty=FREQUENCY_PENALTY,\n",
    "    top_p=TOP_P, \n",
    "    max_tokens=MAX_TOKENS,\n",
    ")\n",
    "llama3_anyscale_endpoints_time = time.time() - start_time\n",
    "\n",
    "# Print the response.\n",
    "pprint.pprint(response.choices[0].message.content.replace('\\n', ' '))\n",
    "print(f\"llama3_anyscale_endpoints_time: {format(llama3_anyscale_endpoints_time, '.2f')} seconds\")"
   ]
  },
  {
   "cell_type": "code",
   "execution_count": null,
   "id": "309d7025",
   "metadata": {},
   "outputs": [],
   "source": [
    "# Also try OctoAI\n",
    "# !python -m pip install octoai\n",
    "from octoai.text_gen import ChatMessage\n",
    "from octoai.client import OctoAI\n",
    "\n",
    "LLM_NAME = \"meta-llama-3-8b-instruct\"\n",
    "\n",
    "octoai_client = OctoAI(\n",
    "    api_key=os.environ.get(\"OCTOAI_TOKEN\"),\n",
    ")\n",
    "\n",
    "# Generate response using OpenAI API.\n",
    "start_time = time.time()\n",
    "response = octoai_client.text_gen.create_chat_completion(\n",
    "\tmessages=[\n",
    "\t\tChatMessage(\n",
    "\t\t\tcontent=SYSTEM_PROMPT,\n",
    "\t\t\trole=\"system\"\n",
    "\t\t),\n",
    "\t\tChatMessage(\n",
    "\t\t\tcontent=SAMPLE_QUESTION,\n",
    "\t\t\trole=\"user\"\n",
    "\t\t)\n",
    "\t],\n",
    "\tmodel=LLM_NAME,\n",
    "    temperature=TEMPERATURE,\n",
    "    # seed=RANDOM_SEED,\n",
    "    frequency_penalty=FREQUENCY_PENALTY,\n",
    "    top_p=TOP_P, \n",
    "    max_tokens=MAX_TOKENS,\n",
    ")\n",
    "llama3_octai_endpoints_time = time.time() - start_time\n",
    "\n",
    "# Print the response.\n",
    "pprint.pprint(response.choices[0].message.content.replace('\\n', ' '))\n",
    "print(f\"llama3_octai_endpoints_time: {format(llama3_octai_endpoints_time, '.2f')} seconds\")"
   ]
  },
  {
   "cell_type": "code",
   "execution_count": null,
   "id": "e6b94795",
   "metadata": {},
   "outputs": [],
   "source": [
    "# Also try Groq endpoints\n",
    "# !python -m pip install groq\n",
    "from groq import Groq\n",
    "\n",
    "LLM_NAME = \"llama3-8b-8192\"\n",
    "\n",
    "groq_client = Groq(\n",
    "    api_key=os.environ.get(\"GROQ_API_KEY\"),\n",
    ")\n",
    "\n",
    "# Generate response using OpenAI API.\n",
    "start_time = time.time()\n",
    "response = groq_client.chat.completions.create(\n",
    "    messages=[\n",
    "        {\"role\": \"system\", \"content\": SYSTEM_PROMPT,},\n",
    "        {\"role\": \"user\", \"content\": f\"question: {SAMPLE_QUESTION}\",}\n",
    "    ],\n",
    "    model=LLM_NAME,\n",
    "    temperature=TEMPERATURE,\n",
    "    seed=RANDOM_SEED,\n",
    "    frequency_penalty=FREQUENCY_PENALTY,\n",
    "    top_p=TOP_P, \n",
    "    max_tokens=MAX_TOKENS,\n",
    ")\n",
    "llama3_groq_endpoints_time = time.time() - start_time\n",
    "\n",
    "# Print the response.\n",
    "pprint.pprint(response.choices[0].message.content.replace('\\n', ' '))\n",
    "print(f\"llama3_groq_endpoints_time: {format(llama3_groq_endpoints_time, '.2f')} seconds\")"
   ]
  },
  {
   "cell_type": "markdown",
   "id": "4fd2b2dd",
   "metadata": {},
   "source": [
    "## Also try Anthropic Claude3 \n",
    "\n",
    "We've practiced retrieval for free on our own data using open-source LLMs.  <br>\n",
    "\n",
    "Now let's make a call to the paid Claude3. [List of models](https://docs.anthropic.com/claude/docs/models-overview)\n",
    "- Opus - most expensive\n",
    "- Sonnet\n",
    "- Haiku - least expensive!\n",
    "\n",
    "Prompt engineering tutorials\n",
    "- [Interactive](https://docs.google.com/spreadsheets/d/19jzLgRruG9kjUQNKtCg1ZjdD6l6weA6qRXG5zLIAhC8/edit#gid=150872633)\n",
    "- [Static](https://docs.google.com/spreadsheets/d/1jIxjzUWG-6xBVIa2ay6yDpLyeuOh_hR_ZB75a47KX_E/edit#gid=869808629)"
   ]
  },
  {
   "cell_type": "code",
   "execution_count": null,
   "id": "edf66e04",
   "metadata": {},
   "outputs": [],
   "source": [
    "# SYSTEM_PROMPT = f\"\"\"Use the Context below to answer the user's question. \n",
    "# Be clear, factual, complete, concise.\n",
    "# If the answer is not in the Context, say \"I don't know\". \n",
    "# Otherwise answer with fewer than 4 sentences and cite the unique sources.\n",
    "# Context: {contexts_combined}\n",
    "# Sources: {source_combined}\n",
    "\n",
    "# Answer with 2 parts: the answer and the source citations.\n",
    "# Answer: The answer to the question.\n",
    "# Sources: unique url sources\n",
    "# \"\"\""
   ]
  },
  {
   "cell_type": "code",
   "execution_count": null,
   "id": "c87b8428",
   "metadata": {},
   "outputs": [],
   "source": [
    "# # !python -m pip install anthropic\n",
    "# import anthropic\n",
    "\n",
    "# ANTHROPIC_API_KEY=os.environ.get(\"ANTHROPIC_API_KEY\")\n",
    "\n",
    "# # # Model names\n",
    "# # claude-3-opus-20240229\n",
    "# # claude-3-sonnet-20240229\n",
    "# # claude-3-haiku-20240307\n",
    "# CLAUDE_MODEL = \"claude-3-haiku-20240307\"\n",
    "# print(f\"Model: {CLAUDE_MODEL}\")\n",
    "# print()\n",
    "\n",
    "# client = anthropic.Anthropic(\n",
    "#     # defaults to os.environ.get(\"ANTHROPIC_API_KEY\")\n",
    "#     api_key=ANTHROPIC_API_KEY,\n",
    "# )\n",
    "\n",
    "# # Print the question and answer along with grounding sources and citations.\n",
    "# print(f\"Question: {SAMPLE_QUESTION}\")\n",
    "\n",
    "# # CAREFUL!! THIS COSTS MONEY!!\n",
    "# message = client.messages.create(\n",
    "#     model=CLAUDE_MODEL,\n",
    "#     max_tokens=1000,\n",
    "#     temperature=0.0,\n",
    "#     system=SYSTEM_PROMPT,\n",
    "#     messages=[\n",
    "#         {\"role\": \"user\", \"content\": SAMPLE_QUESTION}\n",
    "#     ]\n",
    "# )\n",
    "# print(\"Answer:\")\n",
    "# pprint.pprint(message.content[0].text.replace('\\n', ' '))"
   ]
  },
  {
   "cell_type": "markdown",
   "id": "8193430b",
   "metadata": {},
   "source": [
    "<div>\n",
    "<img src=\"../../../images/anthropic_claude3.png\" width=\"80%\"/>\n",
    "</div>"
   ]
  },
  {
   "cell_type": "markdown",
   "id": "f1facf70",
   "metadata": {},
   "source": [
    "## Also try MistralAI's Mixtral 8x7B-Instruct-v0.1\n",
    "\n",
    "This time ollama's version requires 48GB RAM. If you have big enough compute, run the command:\n",
    "> ollama run mixtral\n",
    "\n",
    "Since my laptop is a M2 with only 16GB RAM, I decided to **run Mixtral using Anyscale Endpoints**. Instructions to install. <br>\n",
    "> https://github.com/simonw/llm-anyscale-endpoints\n",
    "\n",
    "To get back to **Anyscale Endpoints** anytime, open the playground.<br>\n",
    "https://console.anyscale.com/v2/playground"
   ]
  },
  {
   "cell_type": "code",
   "execution_count": null,
   "id": "e6b16264",
   "metadata": {},
   "outputs": [],
   "source": [
    "# Call Anyscale enpoint using OpenAI API.\n",
    "import openai\n",
    "\n",
    "LLM_NAME = \"mistralai/Mixtral-8x7B-Instruct-v0.1\"\n",
    "\n",
    "# 2. Get your API key: https://platform.openai.com/api-keys\n",
    "# 3. Save your api key in env variable.\n",
    "# https://help.openai.com/en/articles/5112595-best-practices-for-api-key-safety\n",
    "openai_client = openai.OpenAI(\n",
    "    base_url = \"https://api.endpoints.anyscale.com/v1\",\n",
    "    api_key=os.environ.get(\"ANYSCALE_ENPOINT_KEY\"),\n",
    ")\n",
    "\n",
    "# 4. Generate response using the OpenAI API.\n",
    "start_time = time.time()\n",
    "response = openai_client.chat.completions.create(\n",
    "    messages=[\n",
    "        {\"role\": \"system\", \"content\": SYSTEM_PROMPT,},\n",
    "        {\"role\": \"user\", \"content\": f\"question: {SAMPLE_QUESTION}\",}\n",
    "    ],\n",
    "    model=LLM_NAME,\n",
    "    temperature=TEMPERATURE,\n",
    "    seed=RANDOM_SEED,\n",
    "    frequency_penalty=FREQUENCY_PENALTY,\n",
    ")\n",
    "mixtral_anyscale_endpoints_time = time.time() - start_time\n",
    "\n",
    "# Print the response.\n",
    "pprint.pprint(response.choices[0].message.content.replace('\\n', ' '))\n",
    "print(f\"mixtral_anyscale_endpoints_time: {format(mixtral_anyscale_endpoints_time, '.2f')} seconds\")"
   ]
  },
  {
   "cell_type": "markdown",
   "id": "ecc532a8",
   "metadata": {},
   "source": [
    "<div>\n",
    "<img src=\"../../../images/mistral_mixtral.png\" width=\"80%\"/>\n",
    "</div>"
   ]
  },
  {
   "cell_type": "markdown",
   "id": "3e172726",
   "metadata": {},
   "source": [
    "## Also try OpenAI\n",
    "\n",
    "💡 Note: For use cases that need to always be factually grounded, use very low temperature values while more creative tasks can benefit from higher temperatures."
   ]
  },
  {
   "cell_type": "code",
   "execution_count": 43,
   "id": "493c5e82",
   "metadata": {},
   "outputs": [],
   "source": [
    "SYSTEM_PROMPT = f\"\"\"First, check if the Context below is relevant to \n",
    "the user's question.  Second, only if the context is strongly relevant, \n",
    "answer the question using the context.  Otherwise, if the context is not \n",
    "strongly relevant, answer the question without using the context.\n",
    "Be clear, concise, relevant.  Answer clearly, easy to understand, \n",
    "fewer than 4 sentences, and cite unique grounding sources.\n",
    "Grounding sources: {source_combined}\n",
    "Context: {contexts_combined}\n",
    "\"\"\""
   ]
  },
  {
   "cell_type": "code",
   "execution_count": 44,
   "id": "ad653053",
   "metadata": {},
   "outputs": [
    {
     "name": "stdout",
     "output_type": "stream",
     "text": [
      "('First, check if the Context below is relevant to \\n'\n",
      " \"the user's question.  Second, only if the context is strongly relevant, \\n\"\n",
      " 'answer the question using the context.  Otherwise, if the context is not \\n'\n",
      " 'strongly relevant, answer the question without using the context.\\n'\n",
      " 'Be clear, concise, relevant.  Answer clearly, easy to understand, \\n'\n",
      " 'fewer than 4 sentences, and cite unique grounding sources.\\n'\n",
      " 'Grounding sources: https://milvus.io/docs/index.md\\n'\n",
      " 'Context: at the cost of increased search time.[1, 65535]2 Common search '\n",
      " 'Range search HNSW (Hierarchical Navigable Small World Graph) is a '\n",
      " 'graph-based indexing algorithm. It builds a multi-layer navigation structure '\n",
      " 'for an image according to certain rules. In this structure, the upper layers '\n",
      " 'are more sparse and the distances between nodes are farther; the lower '\n",
      " 'layers are denser and the distances between nodes are closer. The search '\n",
      " 'starts from the uppermost layer, finds the node closest to the target in '\n",
      " 'this layer, the node closest to the target in this layer, and then enters '\n",
      " 'the next layer to begin another search. After multiple iterations, it can '\n",
      " 'quickly approach the target position. In order to improve performance, HNSW '\n",
      " 'limits the maximum degree of nodes on each layer of the graph to M. In '\n",
      " 'addition, you can use efConstruction (when building index) or ef (when '\n",
      " 'searching targets) to specify a search range. ParameterDescriptionRange MM '\n",
      " 'defines tha maximum number of outgoing connections in the graph. Higher M '\n",
      " 'leads to\\n')\n"
     ]
    }
   ],
   "source": [
    "pprint.pprint(SYSTEM_PROMPT)"
   ]
  },
  {
   "cell_type": "code",
   "execution_count": 45,
   "id": "76a62feb",
   "metadata": {},
   "outputs": [
    {
     "name": "stdout",
     "output_type": "stream",
     "text": [
      "Question: What do the parameters for HNSW mean?\n",
      "('Answer: In the context of HNSW (Hierarchical Navigable Small World Graph), '\n",
      " 'the parameters are as follows:\\n'\n",
      " '- M: It defines the maximum number of outgoing connections in the graph. A '\n",
      " 'higher M value leads to increased recall but also increases search time.\\n'\n",
      " '- efConstruction: This parameter is used when building an index and '\n",
      " 'specifies a search range for constructing the graph.\\n'\n",
      " '- ef: This parameter is used when searching for targets and specifies a '\n",
      " 'search range to find nearest neighbors efficiently.\\n'\n",
      " '\\n'\n",
      " 'Source:\\n'\n",
      " 'https://milvus.io/docs/index.md')\n",
      "\n",
      "\n",
      "chatgpt_3.5_turbo_time: 1.98639\n"
     ]
    }
   ],
   "source": [
    "import openai, pprint\n",
    "from openai import OpenAI\n",
    "\n",
    "# 1. Define the generation llm model to use.\n",
    "# https://openai.com/blog/new-embedding-models-and-api-updates\n",
    "# Customers using the pinned gpt-3.5-turbo model alias will be automatically upgraded to gpt-3.5-turbo-0125 two weeks after this model launches.\n",
    "LLM_NAME = \"gpt-3.5-turbo\"\n",
    "\n",
    "# 2. Get your API key: https://platform.openai.com/api-keys\n",
    "# 3. Save your api key in env variable.\n",
    "# https://help.openai.com/en/articles/5112595-best-practices-for-api-key-safety\n",
    "openai_client = OpenAI(\n",
    "    # This is the default and can be omitted\n",
    "    api_key=os.environ.get(\"OPENAI_API_KEY\"),\n",
    ")\n",
    "\n",
    "# 4. Generate response using the OpenAI API.\n",
    "start_time = time.time()\n",
    "response = openai_client.chat.completions.create(\n",
    "    messages=[\n",
    "        {\"role\": \"system\", \"content\": SYSTEM_PROMPT,},\n",
    "        {\"role\": \"user\", \"content\": f\"question: {SAMPLE_QUESTION}\",}\n",
    "    ],\n",
    "    model=LLM_NAME,\n",
    "    temperature=TEMPERATURE,\n",
    "    seed=RANDOM_SEED,\n",
    "    frequency_penalty=FREQUENCY_PENALTY,\n",
    ")\n",
    "chatgpt_35turbo_time = time.time() - start_time\n",
    "\n",
    "# Print the question and answer along with grounding sources and citations.\n",
    "print(f\"Question: {SAMPLE_QUESTION}\")\n",
    "\n",
    "# 5. Print all answers in the response.\n",
    "for i, choice in enumerate(response.choices, 1):\n",
    "    pprint.pprint(f\"Answer: {choice.message.content}\")\n",
    "    print(\"\\n\")\n",
    "print(f\"chatgpt_3.5_turbo_time: {format(chatgpt_35turbo_time, '.5f')}\")\n",
    "\n",
    "# Question1: What do the parameters for HNSW mean?\n",
    "# Answer:  Looks perfect!\n",
    "# Best answer:  M: maximum degree of nodes in a layer of the graph. \n",
    "# efConstruction: number of nearest neighbors to consider when connecting nodes in the graph.\n",
    "# ef: number of nearest neighbors to consider when searching for similar vectors. \n",
    "\n",
    "# Question2: What are good default values for HNSW parameters with 25K vectors dim 1024?\n",
    "# Answer: M=16, efConstruction=500, and ef=64\n",
    "# Best answer:  M=16, efConstruction=32, ef=32\n",
    "\n",
    "# Question3: what is the default distance metric used in AUTOINDEX in Milvus?\n",
    "# Answer: L2 \n",
    "# Best answer:  IP inner product, not yet updated in documentation still says L2.\n",
    "\n",
    "# Question4: What does nlist mean in ivf_flat?\n",
    "# 'Answer: In IVF_FLAT, nlist refers to the number of cluster units that divide '\n",
    "#  'a vector space. When using the default value of 16384 for nlist in Milvus, '\n",
    "#  \"distances between the target vector and all 16384 clusters' centers are \"\n",
    "#  'compared to find the nearest clusters for further comparison with vectors '\n",
    "#  'within those selected clusters. This parameter influences how clustering is '\n",
    "#  'performed and affects search efficiency in Milvus.\\n'\n",
    "#  'Sources: https://milvus.io/docs/index.md')"
   ]
  },
  {
   "cell_type": "markdown",
   "id": "cb8aeeba",
   "metadata": {},
   "source": [
    "## Use Ragas to evaluate RAG pipeline\n",
    "\n",
    "Ragas is an open source project for evaluating RAG components.  [Paper](https://arxiv.org/abs/2309.15217), [Code](https://docs.ragas.io/en/stable/getstarted/index.html), [Docs](https://docs.ragas.io/en/stable/getstarted/index.html), [Intro blog](https://medium.com/towards-data-science/rag-evaluation-using-ragas-4645a4c6c477).\n",
    "\n",
    "<div>\n",
    "<img src=\"../../../images/ragas_eval_image.png\" width=\"80%\"/>\n",
    "</div>\n",
    "\n",
    "**Please note that RAGAS can use a large amount of OpenAI api token consumption.** <br> \n",
    "\n",
    "Read through this notebook carefully and pay attention to the number of questions and metrics you want to evaluate.\n",
    "\n"
   ]
  },
  {
   "cell_type": "code",
   "execution_count": null,
   "id": "5d0c2299",
   "metadata": {},
   "outputs": [],
   "source": [
    "# !python -m pip install -U ragas dataset"
   ]
  },
  {
   "cell_type": "code",
   "execution_count": 76,
   "id": "e1097990",
   "metadata": {},
   "outputs": [
    {
     "data": {
      "text/html": [
       "<div>\n",
       "<style scoped>\n",
       "    .dataframe tbody tr th:only-of-type {\n",
       "        vertical-align: middle;\n",
       "    }\n",
       "\n",
       "    .dataframe tbody tr th {\n",
       "        vertical-align: top;\n",
       "    }\n",
       "\n",
       "    .dataframe thead th {\n",
       "        text-align: right;\n",
       "    }\n",
       "</style>\n",
       "<table border=\"1\" class=\"dataframe\">\n",
       "  <thead>\n",
       "    <tr style=\"text-align: right;\">\n",
       "      <th></th>\n",
       "      <th>Question</th>\n",
       "      <th>ground_truth_answer</th>\n",
       "      <th>naive_context_k_2</th>\n",
       "      <th>html_context_k_2</th>\n",
       "      <th>parent_context_k1</th>\n",
       "      <th>html_context_k_2_summary</th>\n",
       "      <th>semantic_context_k2_summary</th>\n",
       "      <th>parent_context_k1_text-embedding-3-small</th>\n",
       "      <th>Custom_RAG_answer</th>\n",
       "      <th>llama3_ollama_answer</th>\n",
       "      <th>llama3_anyscale_answer</th>\n",
       "      <th>llama3_octoai_answer</th>\n",
       "      <th>llama3_groq_answer</th>\n",
       "      <th>mixtral_8x7b_anyscale_answer</th>\n",
       "    </tr>\n",
       "  </thead>\n",
       "  <tbody>\n",
       "    <tr>\n",
       "      <th>0</th>\n",
       "      <td>What do the parameters for HNSW mean?</td>\n",
       "      <td>* M: maximum degree, or number of connections ...</td>\n",
       "      <td>In order to improve performance, HNSW limits t...</td>\n",
       "      <td>the node closest to the target in this layer, ...</td>\n",
       "      <td>Search parameters ParameterDescriptionRangeDef...</td>\n",
       "      <td>* `M`: defines maximum number of outgoing conn...</td>\n",
       "      <td>The three main parameters for Hierarchical Nav...</td>\n",
       "      <td>In order to improve performance, HNSW limits t...</td>\n",
       "      <td>In the context of HNSW (Hierarchical Navigabl...</td>\n",
       "      <td>* **M** controls the graph's density and compu...</td>\n",
       "      <td>* M: defines the maximum number of outgoing co...</td>\n",
       "      <td>* M: defines the maximum number of outgoing co...</td>\n",
       "      <td>* M: defines the maximum number of outgoing co...</td>\n",
       "      <td>* The `M` parameter in `MM` defines the maximu...</td>\n",
       "    </tr>\n",
       "    <tr>\n",
       "      <th>1</th>\n",
       "      <td>What are good default values for HNSW paramete...</td>\n",
       "      <td>M=16, efConstruction=32,  ef=32</td>\n",
       "      <td>When conducting searches, note that you can se...</td>\n",
       "      <td>first. When conducting searches, note that you...</td>\n",
       "      <td>between the target vector and the clustering c...</td>\n",
       "      <td>* `nlist`: Set to a moderate value such as 128...</td>\n",
       "      <td>For an index built on top of a dataset with ap...</td>\n",
       "      <td>Index building parameters Parameter Descriptio...</td>\n",
       "      <td>- M = 32  - efConstruction = 100</td>\n",
       "      <td>M=16\\nefConstruction=128 ef=64</td>\n",
       "      <td>* M: 16  * efConstruction: 100  * ef: top_k</td>\n",
       "      <td>* M: 16  * efConstruction: 100  * ef: top_k</td>\n",
       "      <td>* M: 16  * efConstruction: 100  * ef: 100</td>\n",
       "      <td>- M: 16 - efConstruction: 100 - ef: 50</td>\n",
       "    </tr>\n",
       "    <tr>\n",
       "      <th>2</th>\n",
       "      <td>What does nlist vs nprobe mean in ivf_flat?</td>\n",
       "      <td># nlist:  controls how the vector data is part...</td>\n",
       "      <td>By adjusting nprobe, an ideal balance between ...</td>\n",
       "      <td>FLAT index and IVF_FLAT index? IVF_FLAT index ...</td>\n",
       "      <td>FLAT index and IVF_FLAT index? IVF_FLAT index ...</td>\n",
       "      <td>* `NLIST`: controls how many initial \"buckets\"...</td>\n",
       "      <td>In IVF_FLAT, `nlist` (short for \"number of lis...</td>\n",
       "      <td>By adjusting nprobe, an ideal balance between ...</td>\n",
       "      <td>- nlist in IVF_FLAT refers to the number of cl...</td>\n",
       "      <td>- `nlist` refers to the number of cluster unit...</td>\n",
       "      <td>- `nlist` refers to the number of cluster unit...</td>\n",
       "      <td>- `nlist` refers to the number of cluster unit...</td>\n",
       "      <td>- `nlist` refers to the number of cluster unit...</td>\n",
       "      <td>- `nlist` refers to the number of cluster unit...</td>\n",
       "    </tr>\n",
       "    <tr>\n",
       "      <th>3</th>\n",
       "      <td>What is the default AUTOINDEX index and vector...</td>\n",
       "      <td>Index type = HNSW and distance metric=IP Inner...</td>\n",
       "      <td>Leveraging the metadata stored in an index fil...</td>\n",
       "      <td>during searches or queries. Milvus provides se...</td>\n",
       "      <td>during searches or queries. Milvus provides se...</td>\n",
       "      <td>According to the provided text, there are no s...</td>\n",
       "      <td>According to the provided text, there isn't a ...</td>\n",
       "      <td>Why Milvus Docs Tutorials Tools Blog Community...</td>\n",
       "      <td>The default AUTOINDEX index in Milvus is IVF_S...</td>\n",
       "      <td>The default `AUTOINDEX` index uses a combinati...</td>\n",
       "      <td>According to the Milvus documentation, the def...</td>\n",
       "      <td>According to the Milvus documentation, the def...</td>\n",
       "      <td>According to the Milvus documentation, the def...</td>\n",
       "      <td>The default AUTOINDEX index in Milvus is an An...</td>\n",
       "    </tr>\n",
       "  </tbody>\n",
       "</table>\n",
       "</div>"
      ],
      "text/plain": [
       "                                            Question  \\\n",
       "0              What do the parameters for HNSW mean?   \n",
       "1  What are good default values for HNSW paramete...   \n",
       "2        What does nlist vs nprobe mean in ivf_flat?   \n",
       "3  What is the default AUTOINDEX index and vector...   \n",
       "\n",
       "                                 ground_truth_answer  \\\n",
       "0  * M: maximum degree, or number of connections ...   \n",
       "1                    M=16, efConstruction=32, \n",
       "ef=32   \n",
       "2  # nlist:  controls how the vector data is part...   \n",
       "3  Index type = HNSW and distance metric=IP Inner...   \n",
       "\n",
       "                                   naive_context_k_2  \\\n",
       "0  In order to improve performance, HNSW limits t...   \n",
       "1  When conducting searches, note that you can se...   \n",
       "2  By adjusting nprobe, an ideal balance between ...   \n",
       "3  Leveraging the metadata stored in an index fil...   \n",
       "\n",
       "                                    html_context_k_2  \\\n",
       "0  the node closest to the target in this layer, ...   \n",
       "1  first. When conducting searches, note that you...   \n",
       "2  FLAT index and IVF_FLAT index? IVF_FLAT index ...   \n",
       "3  during searches or queries. Milvus provides se...   \n",
       "\n",
       "                                   parent_context_k1  \\\n",
       "0  Search parameters ParameterDescriptionRangeDef...   \n",
       "1  between the target vector and the clustering c...   \n",
       "2  FLAT index and IVF_FLAT index? IVF_FLAT index ...   \n",
       "3  during searches or queries. Milvus provides se...   \n",
       "\n",
       "                            html_context_k_2_summary  \\\n",
       "0  * `M`: defines maximum number of outgoing conn...   \n",
       "1  * `nlist`: Set to a moderate value such as 128...   \n",
       "2  * `NLIST`: controls how many initial \"buckets\"...   \n",
       "3  According to the provided text, there are no s...   \n",
       "\n",
       "                         semantic_context_k2_summary  \\\n",
       "0  The three main parameters for Hierarchical Nav...   \n",
       "1  For an index built on top of a dataset with ap...   \n",
       "2  In IVF_FLAT, `nlist` (short for \"number of lis...   \n",
       "3  According to the provided text, there isn't a ...   \n",
       "\n",
       "            parent_context_k1_text-embedding-3-small  \\\n",
       "0  In order to improve performance, HNSW limits t...   \n",
       "1  Index building parameters Parameter Descriptio...   \n",
       "2  By adjusting nprobe, an ideal balance between ...   \n",
       "3  Why Milvus Docs Tutorials Tools Blog Community...   \n",
       "\n",
       "                                   Custom_RAG_answer  \\\n",
       "0   In the context of HNSW (Hierarchical Navigabl...   \n",
       "1                  - M = 32 \n",
       "- efConstruction = 100    \n",
       "2  - nlist in IVF_FLAT refers to the number of cl...   \n",
       "3  The default AUTOINDEX index in Milvus is IVF_S...   \n",
       "\n",
       "                                llama3_ollama_answer  \\\n",
       "0  * **M** controls the graph's density and compu...   \n",
       "1                     M=16\\nefConstruction=128\n",
       "ef=64   \n",
       "2  - `nlist` refers to the number of cluster unit...   \n",
       "3  The default `AUTOINDEX` index uses a combinati...   \n",
       "\n",
       "                              llama3_anyscale_answer  \\\n",
       "0  * M: defines the maximum number of outgoing co...   \n",
       "1        * M: 16 \n",
       "* efConstruction: 100 \n",
       "* ef: top_k   \n",
       "2  - `nlist` refers to the number of cluster unit...   \n",
       "3  According to the Milvus documentation, the def...   \n",
       "\n",
       "                                llama3_octoai_answer  \\\n",
       "0  * M: defines the maximum number of outgoing co...   \n",
       "1        * M: 16 \n",
       "* efConstruction: 100 \n",
       "* ef: top_k   \n",
       "2  - `nlist` refers to the number of cluster unit...   \n",
       "3  According to the Milvus documentation, the def...   \n",
       "\n",
       "                                  llama3_groq_answer  \\\n",
       "0  * M: defines the maximum number of outgoing co...   \n",
       "1          * M: 16 \n",
       "* efConstruction: 100 \n",
       "* ef: 100   \n",
       "2  - `nlist` refers to the number of cluster unit...   \n",
       "3  According to the Milvus documentation, the def...   \n",
       "\n",
       "                        mixtral_8x7b_anyscale_answer  \n",
       "0  * The `M` parameter in `MM` defines the maximu...  \n",
       "1             - M: 16\n",
       "- efConstruction: 100\n",
       "- ef: 50  \n",
       "2  - `nlist` refers to the number of cluster unit...  \n",
       "3  The default AUTOINDEX index in Milvus is an An...  "
      ]
     },
     "metadata": {},
     "output_type": "display_data"
    }
   ],
   "source": [
    "import os, sys\n",
    "import pandas as pd\n",
    "import numpy as np\n",
    "import ragas, datasets\n",
    "from langchain_huggingface import HuggingFaceEmbeddings\n",
    "from ragas.embeddings import LangchainEmbeddingsWrapper\n",
    "\n",
    "# Import custom functions for evaluation.\n",
    "sys.path.append(\"../../Integration\")  \n",
    "import eval_ragas as _eval_ragas\n",
    "\n",
    "# Import the evaluation metrics.\n",
    "from ragas.metrics import (\n",
    "    context_recall, \n",
    "    context_precision, \n",
    "    faithfulness, \n",
    "    answer_relevancy, \n",
    "    answer_similarity,\n",
    "    answer_correctness\n",
    "    )\n",
    "\n",
    "# Get the current working directory.\n",
    "cwd = os.getcwd()\n",
    "relative_path = '/../../Evaluation/data/blog_eval_answers.csv'\n",
    "file_path = cwd + relative_path\n",
    "# print(f\"file_path: {file_path}\")\n",
    "\n",
    "# Read ground truth answers from file.\n",
    "eval_df = pd.read_csv(file_path, header=0, skip_blank_lines=True)\n",
    "display(eval_df.head())"
   ]
  },
  {
   "cell_type": "code",
   "execution_count": 81,
   "id": "8ae8d2b2",
   "metadata": {},
   "outputs": [
    {
     "name": "stderr",
     "output_type": "stream",
     "text": [
      "/opt/miniconda3/envs/py311-unum/lib/python3.11/site-packages/huggingface_hub/file_download.py:1132: FutureWarning: `resume_download` is deprecated and will be removed in version 1.0.0. Downloads always resume when possible. If you want to force a new download, use `force_download=True`.\n",
      "  warnings.warn(\n"
     ]
    },
    {
     "name": "stdout",
     "output_type": "stream",
     "text": [
      "Evaluating CONTEXTS using 4 eval questions:\n"
     ]
    },
    {
     "data": {
      "application/vnd.jupyter.widget-view+json": {
       "model_id": "dc8cc97274534e54b258fb08e9d52819",
       "version_major": 2,
       "version_minor": 0
      },
      "text/plain": [
       "Evaluating:   0%|          | 0/8 [00:00<?, ?it/s]"
      ]
     },
     "metadata": {},
     "output_type": "display_data"
    },
    {
     "name": "stdout",
     "output_type": "stream",
     "text": [
      "Evaluate chunking: naive_context_k_2, avg_score: 0.57\n"
     ]
    },
    {
     "data": {
      "application/vnd.jupyter.widget-view+json": {
       "model_id": "b078d3455075419d9b35f7c5d7cce04d",
       "version_major": 2,
       "version_minor": 0
      },
      "text/plain": [
       "Evaluating:   0%|          | 0/8 [00:00<?, ?it/s]"
      ]
     },
     "metadata": {},
     "output_type": "display_data"
    },
    {
     "name": "stdout",
     "output_type": "stream",
     "text": [
      "Evaluate chunking: html_context_k_2, avg_score: 0.54\n"
     ]
    },
    {
     "data": {
      "application/vnd.jupyter.widget-view+json": {
       "model_id": "fe296a8903a4403cb1e0cc63b7869d08",
       "version_major": 2,
       "version_minor": 0
      },
      "text/plain": [
       "Evaluating:   0%|          | 0/8 [00:00<?, ?it/s]"
      ]
     },
     "metadata": {},
     "output_type": "display_data"
    },
    {
     "name": "stdout",
     "output_type": "stream",
     "text": [
      "Evaluate chunking: parent_context_k1, avg_score: 0.42\n"
     ]
    },
    {
     "data": {
      "application/vnd.jupyter.widget-view+json": {
       "model_id": "5e3a96099141433d82aaa150febb10f3",
       "version_major": 2,
       "version_minor": 0
      },
      "text/plain": [
       "Evaluating:   0%|          | 0/8 [00:00<?, ?it/s]"
      ]
     },
     "metadata": {},
     "output_type": "display_data"
    },
    {
     "name": "stdout",
     "output_type": "stream",
     "text": [
      "Evaluate chunking: html_context_k_2_summary, avg_score: 0.42\n"
     ]
    },
    {
     "data": {
      "application/vnd.jupyter.widget-view+json": {
       "model_id": "f4b31f34b9464f5aaedcee1ec20afe23",
       "version_major": 2,
       "version_minor": 0
      },
      "text/plain": [
       "Evaluating:   0%|          | 0/8 [00:00<?, ?it/s]"
      ]
     },
     "metadata": {},
     "output_type": "display_data"
    },
    {
     "name": "stdout",
     "output_type": "stream",
     "text": [
      "Evaluate chunking: semantic_context_k2_summary, avg_score: 0.42\n"
     ]
    }
   ],
   "source": [
    "##########################################\n",
    "# Set the evaluation type.\n",
    "EVALUATE_WHAT = 'ANSWERS' \n",
    "EVALUATE_WHAT = 'CONTEXTS'\n",
    "##########################################\n",
    "\n",
    "# Set the columns to evaluate.\n",
    "if EVALUATE_WHAT == 'CONTEXTS':\n",
    "    cols_to_evaluate=\\\n",
    "    ['naive_context_k_2', 'html_context_k_2', 'parent_context_k1', \n",
    "     'html_context_k_2_summary', 'semantic_context_k2_summary']\n",
    "elif EVALUATE_WHAT == 'ANSWERS':\n",
    "    cols_to_evaluate=['Custom_RAG_answer', 'llama3_ollama_answer', \n",
    "                      'llama3_anyscale_answer', 'llama3_octoai_answer',\n",
    "                      'llama3_groq_answer', 'mixtral_8x7b_anyscale_answer']\n",
    "\n",
    "# Set the metrics to evaluate.\n",
    "if EVALUATE_WHAT == 'ANSWERS':\n",
    "    eval_metrics=[\n",
    "        answer_relevancy,\n",
    "        answer_similarity,\n",
    "        answer_correctness,\n",
    "        faithfulness,\n",
    "        ]\n",
    "    metrics = ['answer_relevancy', 'answer_similarity', 'answer_correctness', 'faithfulness']\n",
    "elif EVALUATE_WHAT == 'CONTEXTS':\n",
    "    eval_metrics=[\n",
    "        context_recall, \n",
    "        context_precision,\n",
    "        ]\n",
    "    metrics = ['context_recall', 'context_precision']\n",
    "    \n",
    "# Change the default the llm-as-critic model.\n",
    "LLM_NAME = \"gpt-3.5-turbo\"\n",
    "ragas_llm = ragas.llms.llm_factory(model=LLM_NAME)\n",
    "\n",
    "# Change the default embeddings models to HuggingFace models.\n",
    "EMB_NAME = \"BAAI/bge-large-en-v1.5\"\n",
    "# Define the embedding model.\n",
    "EMB_NAME = \"BAAI/bge-large-en-v1.5\"\n",
    "model_kwargs = {'device': 'cpu'}\n",
    "encode_kwargs = {'normalize_embeddings': True}\n",
    "lc_embed_model = HuggingFaceEmbeddings(\n",
    "    model_name=EMB_NAME,\n",
    "    model_kwargs=model_kwargs,\n",
    "    encode_kwargs=encode_kwargs\n",
    ")\n",
    "ragas_emb = LangchainEmbeddingsWrapper(embeddings=lc_embed_model)\n",
    "\n",
    "# Change embeddings and critic models for each metric.\n",
    "for metric in metrics:\n",
    "    globals()[metric].llm = ragas_llm\n",
    "    globals()[metric].embeddings = ragas_emb\n",
    "\n",
    "# Execute the evaluation.\n",
    "print(f\"Evaluating {EVALUATE_WHAT} using {eval_df.shape[0]} eval questions:\")\n",
    "ragas_result, scores = _eval_ragas.evaluate_ragas_model(\n",
    "    eval_df, \n",
    "    eval_metrics, \n",
    "    what_to_evaluate=EVALUATE_WHAT,\n",
    "    cols_to_evaluate=cols_to_evaluate)"
   ]
  },
  {
   "cell_type": "code",
   "execution_count": null,
   "id": "dc70455f",
   "metadata": {},
   "outputs": [],
   "source": [
    "print(type(scores))\n",
    "print(scores)\n",
    "# scores[1]['parent_context_k1']\n",
    "# scores[3]['semantic_context_k2_summary']"
   ]
  },
  {
   "cell_type": "code",
   "execution_count": 83,
   "id": "5bad9cd6",
   "metadata": {},
   "outputs": [
    {
     "name": "stdout",
     "output_type": "stream",
     "text": [
      "[{'naive_context_k_2': 0.57},\n",
      " {'html_context_k_2': 0.54},\n",
      " {'parent_context_k1': 0.42},\n",
      " {'html_context_k_2_summary': 0.42},\n",
      " {'semantic_context_k2_summary': 0.42}]\n",
      "Chunking 36.0% improvement.\n"
     ]
    },
    {
     "data": {
      "text/html": [
       "<div>\n",
       "<style scoped>\n",
       "    .dataframe tbody tr th:only-of-type {\n",
       "        vertical-align: middle;\n",
       "    }\n",
       "\n",
       "    .dataframe tbody tr th {\n",
       "        vertical-align: top;\n",
       "    }\n",
       "\n",
       "    .dataframe thead th {\n",
       "        text-align: right;\n",
       "    }\n",
       "</style>\n",
       "<table border=\"1\" class=\"dataframe\">\n",
       "  <thead>\n",
       "    <tr style=\"text-align: right;\">\n",
       "      <th></th>\n",
       "      <th>question</th>\n",
       "      <th>contexts</th>\n",
       "      <th>answer</th>\n",
       "      <th>ground_truth</th>\n",
       "      <th>context_recall</th>\n",
       "      <th>context_precision</th>\n",
       "      <th>context_f1</th>\n",
       "      <th>evaluated</th>\n",
       "    </tr>\n",
       "  </thead>\n",
       "  <tbody>\n",
       "    <tr>\n",
       "      <th>0</th>\n",
       "      <td>What do the parameters for HNSW mean?</td>\n",
       "      <td>[In order to improve performance, HNSW limits ...</td>\n",
       "      <td>In the context of HNSW (Hierarchical Navigabl...</td>\n",
       "      <td>* M: maximum degree, or number of connections ...</td>\n",
       "      <td>1.000000</td>\n",
       "      <td>1.0</td>\n",
       "      <td>1.000000</td>\n",
       "      <td>naive_context_k_2</td>\n",
       "    </tr>\n",
       "    <tr>\n",
       "      <th>1</th>\n",
       "      <td>What are good default values for HNSW paramete...</td>\n",
       "      <td>[When conducting searches, note that you can s...</td>\n",
       "      <td>- M = 32  - efConstruction = 100</td>\n",
       "      <td>M=16, efConstruction=32,  ef=32</td>\n",
       "      <td>0.333333</td>\n",
       "      <td>1.0</td>\n",
       "      <td>0.500000</td>\n",
       "      <td>naive_context_k_2</td>\n",
       "    </tr>\n",
       "    <tr>\n",
       "      <th>2</th>\n",
       "      <td>What does nlist vs nprobe mean in ivf_flat?</td>\n",
       "      <td>[By adjusting nprobe, an ideal balance between...</td>\n",
       "      <td>- nlist in IVF_FLAT refers to the number of cl...</td>\n",
       "      <td># nlist:  controls how the vector data is part...</td>\n",
       "      <td>0.666667</td>\n",
       "      <td>1.0</td>\n",
       "      <td>0.800000</td>\n",
       "      <td>naive_context_k_2</td>\n",
       "    </tr>\n",
       "    <tr>\n",
       "      <th>3</th>\n",
       "      <td>What is the default AUTOINDEX index and vector...</td>\n",
       "      <td>[Leveraging the metadata stored in an index fi...</td>\n",
       "      <td>The default AUTOINDEX index in Milvus is IVF_S...</td>\n",
       "      <td>Index type = HNSW and distance metric=IP Inner...</td>\n",
       "      <td>0.000000</td>\n",
       "      <td>1.0</td>\n",
       "      <td>0.000000</td>\n",
       "      <td>naive_context_k_2</td>\n",
       "    </tr>\n",
       "    <tr>\n",
       "      <th>4</th>\n",
       "      <td>What do the parameters for HNSW mean?</td>\n",
       "      <td>[the node closest to the target in this layer,...</td>\n",
       "      <td>In the context of HNSW (Hierarchical Navigabl...</td>\n",
       "      <td>* M: maximum degree, or number of connections ...</td>\n",
       "      <td>1.000000</td>\n",
       "      <td>1.0</td>\n",
       "      <td>1.000000</td>\n",
       "      <td>html_context_k_2</td>\n",
       "    </tr>\n",
       "    <tr>\n",
       "      <th>5</th>\n",
       "      <td>What are good default values for HNSW paramete...</td>\n",
       "      <td>[first. When conducting searches, note that yo...</td>\n",
       "      <td>- M = 32  - efConstruction = 100</td>\n",
       "      <td>M=16, efConstruction=32,  ef=32</td>\n",
       "      <td>0.333333</td>\n",
       "      <td>1.0</td>\n",
       "      <td>0.500000</td>\n",
       "      <td>html_context_k_2</td>\n",
       "    </tr>\n",
       "    <tr>\n",
       "      <th>6</th>\n",
       "      <td>What does nlist vs nprobe mean in ivf_flat?</td>\n",
       "      <td>[FLAT index and IVF_FLAT index? IVF_FLAT index...</td>\n",
       "      <td>- nlist in IVF_FLAT refers to the number of cl...</td>\n",
       "      <td># nlist:  controls how the vector data is part...</td>\n",
       "      <td>0.500000</td>\n",
       "      <td>1.0</td>\n",
       "      <td>0.666667</td>\n",
       "      <td>html_context_k_2</td>\n",
       "    </tr>\n",
       "    <tr>\n",
       "      <th>7</th>\n",
       "      <td>What is the default AUTOINDEX index and vector...</td>\n",
       "      <td>[during searches or queries. Milvus provides s...</td>\n",
       "      <td>The default AUTOINDEX index in Milvus is IVF_S...</td>\n",
       "      <td>Index type = HNSW and distance metric=IP Inner...</td>\n",
       "      <td>0.000000</td>\n",
       "      <td>1.0</td>\n",
       "      <td>0.000000</td>\n",
       "      <td>html_context_k_2</td>\n",
       "    </tr>\n",
       "    <tr>\n",
       "      <th>8</th>\n",
       "      <td>What do the parameters for HNSW mean?</td>\n",
       "      <td>[Search parameters ParameterDescriptionRangeDe...</td>\n",
       "      <td>In the context of HNSW (Hierarchical Navigabl...</td>\n",
       "      <td>* M: maximum degree, or number of connections ...</td>\n",
       "      <td>1.000000</td>\n",
       "      <td>1.0</td>\n",
       "      <td>1.000000</td>\n",
       "      <td>parent_context_k1</td>\n",
       "    </tr>\n",
       "    <tr>\n",
       "      <th>9</th>\n",
       "      <td>What are good default values for HNSW paramete...</td>\n",
       "      <td>[between the target vector and the clustering ...</td>\n",
       "      <td>- M = 32  - efConstruction = 100</td>\n",
       "      <td>M=16, efConstruction=32,  ef=32</td>\n",
       "      <td>0.000000</td>\n",
       "      <td>1.0</td>\n",
       "      <td>0.000000</td>\n",
       "      <td>parent_context_k1</td>\n",
       "    </tr>\n",
       "    <tr>\n",
       "      <th>10</th>\n",
       "      <td>What does nlist vs nprobe mean in ivf_flat?</td>\n",
       "      <td>[FLAT index and IVF_FLAT index? IVF_FLAT index...</td>\n",
       "      <td>- nlist in IVF_FLAT refers to the number of cl...</td>\n",
       "      <td># nlist:  controls how the vector data is part...</td>\n",
       "      <td>0.500000</td>\n",
       "      <td>1.0</td>\n",
       "      <td>0.666667</td>\n",
       "      <td>parent_context_k1</td>\n",
       "    </tr>\n",
       "    <tr>\n",
       "      <th>11</th>\n",
       "      <td>What is the default AUTOINDEX index and vector...</td>\n",
       "      <td>[during searches or queries. Milvus provides s...</td>\n",
       "      <td>The default AUTOINDEX index in Milvus is IVF_S...</td>\n",
       "      <td>Index type = HNSW and distance metric=IP Inner...</td>\n",
       "      <td>0.000000</td>\n",
       "      <td>1.0</td>\n",
       "      <td>0.000000</td>\n",
       "      <td>parent_context_k1</td>\n",
       "    </tr>\n",
       "    <tr>\n",
       "      <th>12</th>\n",
       "      <td>What do the parameters for HNSW mean?</td>\n",
       "      <td>[* `M`: defines maximum number of outgoing con...</td>\n",
       "      <td>In the context of HNSW (Hierarchical Navigabl...</td>\n",
       "      <td>* M: maximum degree, or number of connections ...</td>\n",
       "      <td>1.000000</td>\n",
       "      <td>1.0</td>\n",
       "      <td>1.000000</td>\n",
       "      <td>html_context_k_2_summary</td>\n",
       "    </tr>\n",
       "    <tr>\n",
       "      <th>13</th>\n",
       "      <td>What are good default values for HNSW paramete...</td>\n",
       "      <td>[* `nlist`: Set to a moderate value such as 12...</td>\n",
       "      <td>- M = 32  - efConstruction = 100</td>\n",
       "      <td>M=16, efConstruction=32,  ef=32</td>\n",
       "      <td>0.000000</td>\n",
       "      <td>1.0</td>\n",
       "      <td>0.000000</td>\n",
       "      <td>html_context_k_2_summary</td>\n",
       "    </tr>\n",
       "    <tr>\n",
       "      <th>14</th>\n",
       "      <td>What does nlist vs nprobe mean in ivf_flat?</td>\n",
       "      <td>[* `NLIST`: controls how many initial \"buckets...</td>\n",
       "      <td>- nlist in IVF_FLAT refers to the number of cl...</td>\n",
       "      <td># nlist:  controls how the vector data is part...</td>\n",
       "      <td>0.500000</td>\n",
       "      <td>1.0</td>\n",
       "      <td>0.666667</td>\n",
       "      <td>html_context_k_2_summary</td>\n",
       "    </tr>\n",
       "    <tr>\n",
       "      <th>15</th>\n",
       "      <td>What is the default AUTOINDEX index and vector...</td>\n",
       "      <td>[According to the provided text, there are no ...</td>\n",
       "      <td>The default AUTOINDEX index in Milvus is IVF_S...</td>\n",
       "      <td>Index type = HNSW and distance metric=IP Inner...</td>\n",
       "      <td>0.000000</td>\n",
       "      <td>1.0</td>\n",
       "      <td>0.000000</td>\n",
       "      <td>html_context_k_2_summary</td>\n",
       "    </tr>\n",
       "    <tr>\n",
       "      <th>16</th>\n",
       "      <td>What do the parameters for HNSW mean?</td>\n",
       "      <td>[The three main parameters for Hierarchical Na...</td>\n",
       "      <td>In the context of HNSW (Hierarchical Navigabl...</td>\n",
       "      <td>* M: maximum degree, or number of connections ...</td>\n",
       "      <td>1.000000</td>\n",
       "      <td>1.0</td>\n",
       "      <td>1.000000</td>\n",
       "      <td>semantic_context_k2_summary</td>\n",
       "    </tr>\n",
       "    <tr>\n",
       "      <th>17</th>\n",
       "      <td>What are good default values for HNSW paramete...</td>\n",
       "      <td>[For an index built on top of a dataset with a...</td>\n",
       "      <td>- M = 32  - efConstruction = 100</td>\n",
       "      <td>M=16, efConstruction=32,  ef=32</td>\n",
       "      <td>0.000000</td>\n",
       "      <td>1.0</td>\n",
       "      <td>0.000000</td>\n",
       "      <td>semantic_context_k2_summary</td>\n",
       "    </tr>\n",
       "    <tr>\n",
       "      <th>18</th>\n",
       "      <td>What does nlist vs nprobe mean in ivf_flat?</td>\n",
       "      <td>[In IVF_FLAT, `nlist` (short for \"number of li...</td>\n",
       "      <td>- nlist in IVF_FLAT refers to the number of cl...</td>\n",
       "      <td># nlist:  controls how the vector data is part...</td>\n",
       "      <td>0.500000</td>\n",
       "      <td>1.0</td>\n",
       "      <td>0.666667</td>\n",
       "      <td>semantic_context_k2_summary</td>\n",
       "    </tr>\n",
       "    <tr>\n",
       "      <th>19</th>\n",
       "      <td>What is the default AUTOINDEX index and vector...</td>\n",
       "      <td>[According to the provided text, there isn't a...</td>\n",
       "      <td>The default AUTOINDEX index in Milvus is IVF_S...</td>\n",
       "      <td>Index type = HNSW and distance metric=IP Inner...</td>\n",
       "      <td>0.000000</td>\n",
       "      <td>0.0</td>\n",
       "      <td>0.000000</td>\n",
       "      <td>semantic_context_k2_summary</td>\n",
       "    </tr>\n",
       "  </tbody>\n",
       "</table>\n",
       "</div>"
      ],
      "text/plain": [
       "                                             question  \\\n",
       "0               What do the parameters for HNSW mean?   \n",
       "1   What are good default values for HNSW paramete...   \n",
       "2         What does nlist vs nprobe mean in ivf_flat?   \n",
       "3   What is the default AUTOINDEX index and vector...   \n",
       "4               What do the parameters for HNSW mean?   \n",
       "5   What are good default values for HNSW paramete...   \n",
       "6         What does nlist vs nprobe mean in ivf_flat?   \n",
       "7   What is the default AUTOINDEX index and vector...   \n",
       "8               What do the parameters for HNSW mean?   \n",
       "9   What are good default values for HNSW paramete...   \n",
       "10        What does nlist vs nprobe mean in ivf_flat?   \n",
       "11  What is the default AUTOINDEX index and vector...   \n",
       "12              What do the parameters for HNSW mean?   \n",
       "13  What are good default values for HNSW paramete...   \n",
       "14        What does nlist vs nprobe mean in ivf_flat?   \n",
       "15  What is the default AUTOINDEX index and vector...   \n",
       "16              What do the parameters for HNSW mean?   \n",
       "17  What are good default values for HNSW paramete...   \n",
       "18        What does nlist vs nprobe mean in ivf_flat?   \n",
       "19  What is the default AUTOINDEX index and vector...   \n",
       "\n",
       "                                             contexts  \\\n",
       "0   [In order to improve performance, HNSW limits ...   \n",
       "1   [When conducting searches, note that you can s...   \n",
       "2   [By adjusting nprobe, an ideal balance between...   \n",
       "3   [Leveraging the metadata stored in an index fi...   \n",
       "4   [the node closest to the target in this layer,...   \n",
       "5   [first. When conducting searches, note that yo...   \n",
       "6   [FLAT index and IVF_FLAT index? IVF_FLAT index...   \n",
       "7   [during searches or queries. Milvus provides s...   \n",
       "8   [Search parameters ParameterDescriptionRangeDe...   \n",
       "9   [between the target vector and the clustering ...   \n",
       "10  [FLAT index and IVF_FLAT index? IVF_FLAT index...   \n",
       "11  [during searches or queries. Milvus provides s...   \n",
       "12  [* `M`: defines maximum number of outgoing con...   \n",
       "13  [* `nlist`: Set to a moderate value such as 12...   \n",
       "14  [* `NLIST`: controls how many initial \"buckets...   \n",
       "15  [According to the provided text, there are no ...   \n",
       "16  [The three main parameters for Hierarchical Na...   \n",
       "17  [For an index built on top of a dataset with a...   \n",
       "18  [In IVF_FLAT, `nlist` (short for \"number of li...   \n",
       "19  [According to the provided text, there isn't a...   \n",
       "\n",
       "                                               answer  \\\n",
       "0    In the context of HNSW (Hierarchical Navigabl...   \n",
       "1                   - M = 32 \n",
       "- efConstruction = 100    \n",
       "2   - nlist in IVF_FLAT refers to the number of cl...   \n",
       "3   The default AUTOINDEX index in Milvus is IVF_S...   \n",
       "4    In the context of HNSW (Hierarchical Navigabl...   \n",
       "5                   - M = 32 \n",
       "- efConstruction = 100    \n",
       "6   - nlist in IVF_FLAT refers to the number of cl...   \n",
       "7   The default AUTOINDEX index in Milvus is IVF_S...   \n",
       "8    In the context of HNSW (Hierarchical Navigabl...   \n",
       "9                   - M = 32 \n",
       "- efConstruction = 100    \n",
       "10  - nlist in IVF_FLAT refers to the number of cl...   \n",
       "11  The default AUTOINDEX index in Milvus is IVF_S...   \n",
       "12   In the context of HNSW (Hierarchical Navigabl...   \n",
       "13                  - M = 32 \n",
       "- efConstruction = 100    \n",
       "14  - nlist in IVF_FLAT refers to the number of cl...   \n",
       "15  The default AUTOINDEX index in Milvus is IVF_S...   \n",
       "16   In the context of HNSW (Hierarchical Navigabl...   \n",
       "17                  - M = 32 \n",
       "- efConstruction = 100    \n",
       "18  - nlist in IVF_FLAT refers to the number of cl...   \n",
       "19  The default AUTOINDEX index in Milvus is IVF_S...   \n",
       "\n",
       "                                         ground_truth  context_recall  \\\n",
       "0   * M: maximum degree, or number of connections ...        1.000000   \n",
       "1                     M=16, efConstruction=32, \n",
       "ef=32        0.333333   \n",
       "2   # nlist:  controls how the vector data is part...        0.666667   \n",
       "3   Index type = HNSW and distance metric=IP Inner...        0.000000   \n",
       "4   * M: maximum degree, or number of connections ...        1.000000   \n",
       "5                     M=16, efConstruction=32, \n",
       "ef=32        0.333333   \n",
       "6   # nlist:  controls how the vector data is part...        0.500000   \n",
       "7   Index type = HNSW and distance metric=IP Inner...        0.000000   \n",
       "8   * M: maximum degree, or number of connections ...        1.000000   \n",
       "9                     M=16, efConstruction=32, \n",
       "ef=32        0.000000   \n",
       "10  # nlist:  controls how the vector data is part...        0.500000   \n",
       "11  Index type = HNSW and distance metric=IP Inner...        0.000000   \n",
       "12  * M: maximum degree, or number of connections ...        1.000000   \n",
       "13                    M=16, efConstruction=32, \n",
       "ef=32        0.000000   \n",
       "14  # nlist:  controls how the vector data is part...        0.500000   \n",
       "15  Index type = HNSW and distance metric=IP Inner...        0.000000   \n",
       "16  * M: maximum degree, or number of connections ...        1.000000   \n",
       "17                    M=16, efConstruction=32, \n",
       "ef=32        0.000000   \n",
       "18  # nlist:  controls how the vector data is part...        0.500000   \n",
       "19  Index type = HNSW and distance metric=IP Inner...        0.000000   \n",
       "\n",
       "    context_precision  context_f1                    evaluated  \n",
       "0                 1.0    1.000000            naive_context_k_2  \n",
       "1                 1.0    0.500000            naive_context_k_2  \n",
       "2                 1.0    0.800000            naive_context_k_2  \n",
       "3                 1.0    0.000000            naive_context_k_2  \n",
       "4                 1.0    1.000000             html_context_k_2  \n",
       "5                 1.0    0.500000             html_context_k_2  \n",
       "6                 1.0    0.666667             html_context_k_2  \n",
       "7                 1.0    0.000000             html_context_k_2  \n",
       "8                 1.0    1.000000            parent_context_k1  \n",
       "9                 1.0    0.000000            parent_context_k1  \n",
       "10                1.0    0.666667            parent_context_k1  \n",
       "11                1.0    0.000000            parent_context_k1  \n",
       "12                1.0    1.000000     html_context_k_2_summary  \n",
       "13                1.0    0.000000     html_context_k_2_summary  \n",
       "14                1.0    0.666667     html_context_k_2_summary  \n",
       "15                1.0    0.000000     html_context_k_2_summary  \n",
       "16                1.0    1.000000  semantic_context_k2_summary  \n",
       "17                1.0    0.000000  semantic_context_k2_summary  \n",
       "18                1.0    0.666667  semantic_context_k2_summary  \n",
       "19                0.0    0.000000  semantic_context_k2_summary  "
      ]
     },
     "metadata": {},
     "output_type": "display_data"
    }
   ],
   "source": [
    "# Calculate and print the percent improvements.\n",
    "if EVALUATE_WHAT == 'ANSWERS':\n",
    "    # Sort scores from highest to lowest\n",
    "    sorted_scores = sorted(scores, key=lambda item: sum(item.values()), reverse=True)\n",
    "    pprint.pprint(sorted_scores)\n",
    "    # Calculate the percent improvement of the best LLM over the worst LLM.\n",
    "    highest_score = list(sorted_scores[0].values())[0]\n",
    "    lowest_score = list(sorted_scores[-1].values())[0]\n",
    "    best_llm = list(sorted_scores[0].keys())[0]\n",
    "    worst_llm = list(sorted_scores[-1].keys())[0]\n",
    "    percent_better = (highest_score - lowest_score) / lowest_score * 100\n",
    "    print(f\"{best_llm} {np.round(percent_better,0)}% improvement over {worst_llm}.\")\n",
    "\n",
    "elif EVALUATE_WHAT == 'CONTEXTS':\n",
    "    pprint.pprint(scores)\n",
    "    percent_better = (scores[0]['naive_context_k_2'] - scores[3]['html_context_k_2_summary']) \\\n",
    "                     / scores[3]['html_context_k_2_summary'] * 100\n",
    "    # percent_better = (scores[0]['parent_context_k1'] - scores[1]['parent_context_k1_text-embedding-3-small']) \\\n",
    "    #                  / scores[1]['parent_context_k1_text-embedding-3-small'] * 100\n",
    "    print(f\"Chunking {np.round(percent_better,0)}% improvement.\")\n",
    "\n",
    "# Display the evaluation details.\n",
    "display(ragas_result)"
   ]
  },
  {
   "cell_type": "code",
   "execution_count": null,
   "id": "7c408624",
   "metadata": {},
   "outputs": [],
   "source": [
    "########### CHANGE THE CHUNKING STRATEGY ###########\n",
    "# F1-Score 'naive_context_k_2': 0.57  (36% improvement)\n",
    "# F1-Score 'html_context_k_2': 0.54\n",
    "# F1-Score 'parent_context_k1': 0.42\n",
    "# F1-Score 'html_context_k_2_summary': 0.42\n",
    "# F1-Score 'semantic_context_k2_summary': 0.42\n",
    "####################################################\n",
    "\n",
    "########### CHANGE THE EMBEDDING MODEL #############\n",
    "# F1-Score 'naive_context_k_2': 0.57  (27% improvement)\n",
    "# F1-Score 'pnaive_context_k_2_text-embedding-3-small': 0.45\n",
    "####################################################\n",
    "\n",
    "############## CHANGE THE LLM ######################\n",
    "# Avg mistralai mixtral_8x7b_instruct score = 0.7031 (6% improvement over gpt-3.5-turbo)\n",
    "# Avg llama3_70b_anyscale_chat score = 0.6888\n",
    "# Avg llama3_70b_groq_instruct score = 0.6867\n",
    "# Avg llama_3_70b_octoai_instruct score = 0.6863\n",
    "# Avg llama_3_8b_ollama_instruct score = 0.6783\n",
    "# Avg openai gpt-3.5-turbo score = 0.665 \n",
    "####################################################"
   ]
  },
  {
   "cell_type": "code",
   "execution_count": null,
   "id": "d0e81e68",
   "metadata": {},
   "outputs": [],
   "source": [
    "# Delete the Milvus collection and doc store.\n",
    "del vectorstore, retriever, store"
   ]
  },
  {
   "cell_type": "code",
   "execution_count": null,
   "id": "c777937e",
   "metadata": {},
   "outputs": [],
   "source": [
    "# Props to Sebastian Raschka for this handy watermark.\n",
    "# !pip install watermark\n",
    "\n",
    "%load_ext watermark\n",
    "%watermark -a 'Christy Bergman' -v -p unstructured,lxml,torch,pymilvus,langchain,ollama,octoai,groq,openai --conda"
   ]
  }
 ],
 "metadata": {
  "kernelspec": {
   "display_name": "Python 3 (ipykernel)",
   "language": "python",
   "name": "python3"
  },
  "language_info": {
   "codemirror_mode": {
    "name": "ipython",
    "version": 3
   },
   "file_extension": ".py",
   "mimetype": "text/x-python",
   "name": "python",
   "nbconvert_exporter": "python",
   "pygments_lexer": "ipython3",
   "version": "3.11.8"
  }
 },
 "nbformat": 4,
 "nbformat_minor": 5
}
