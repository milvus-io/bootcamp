{
 "cells": [
  {
   "cell_type": "markdown",
   "metadata": {},
   "source": [
    "[![Open in Colab](https://colab.research.google.com/assets/colab-badge.svg)](https://github.com/milvus-io/bootcamp/blob/master/bootcamp/tutorials/quickstart/multimodal_rag_with_milvus.ipynb)"
   ]
  },
  {
   "cell_type": "markdown",
   "metadata": {},
   "source": [
    "# Multimodal RAG with Milvus 🖼️"
   ]
  },
  {
   "cell_type": "markdown",
   "metadata": {},
   "source": [
    "This notebook showcases the integration of Milvus with [MagicLens](https://open-vision-language.github.io/MagicLens/) for advanced image searching based on user instructions. Users can upload an image and edit instructions, which are processed by MagicLens's composed retrieval model to search for candidate images. GPT-4o then acts as a reranker, selecting the most suitable image and providing the rationale behind the choice. This powerful combination enables a seamless and intuitive image search experience, leveraging Milvus for efficient retrieval and MagicLens for precise image processing and matching."
   ]
  },
  {
   "cell_type": "markdown",
   "metadata": {},
   "source": [
    "### Install Dependencies"
   ]
  },
  {
   "cell_type": "code",
   "execution_count": null,
   "metadata": {},
   "outputs": [],
   "source": [
    "!pip install --upgrade pymilvus Pillow numpy opencv-python datasets openai"
   ]
  },
  {
   "cell_type": "markdown",
   "metadata": {},
   "source": [
    "> If you are using Google Colab, to enable dependencies just installed, you may need to **restart the runtime** (click on the \"Runtime\" menu at the top of the screen, and select \"Restart session\" from the dropdown menu)."
   ]
  },
  {
   "cell_type": "markdown",
   "metadata": {},
   "source": [
    "### Set up Environment Variables"
   ]
  },
  {
   "cell_type": "markdown",
   "metadata": {},
   "source": [
    "We will use OpenAI as the LLM in this example. You should prepare the [api key](https://platform.openai.com/docs/quickstart) `OPENAI_API_KEY` as an environment variable."
   ]
  },
  {
   "cell_type": "code",
   "execution_count": null,
   "metadata": {},
   "outputs": [],
   "source": [
    "import os\n",
    "\n",
    "os.environ[\"OPENAI_API_KEY\"] = \"sk-***********\""
   ]
  },
  {
   "cell_type": "markdown",
   "metadata": {},
   "source": [
    "### Prepare MagicLens Model"
   ]
  },
  {
   "cell_type": "markdown",
   "metadata": {},
   "source": [
    "More detailed information can be found at <https://github.com/google-deepmind/magiclens>."
   ]
  },
  {
   "cell_type": "markdown",
   "metadata": {},
   "source": [
    "- Setup"
   ]
  },
  {
   "cell_type": "markdown",
   "metadata": {},
   "source": [
    "1. Create the Conda environment:"
   ]
  },
  {
   "cell_type": "code",
   "execution_count": null,
   "metadata": {},
   "outputs": [],
   "source": [
    "!conda create --name magic_lens python=3.9 -y"
   ]
  },
  {
   "cell_type": "markdown",
   "metadata": {},
   "source": [
    "2. Activate the environment and run the subsequent commands manually in a terminal:"
   ]
  },
  {
   "cell_type": "code",
   "execution_count": null,
   "metadata": {},
   "outputs": [],
   "source": [
    "!conda activate magic_lens"
   ]
  },
  {
   "cell_type": "markdown",
   "metadata": {},
   "source": [
    "3. Clone the repository and navigate to the directory:"
   ]
  },
  {
   "cell_type": "code",
   "execution_count": null,
   "metadata": {},
   "outputs": [],
   "source": [
    "!git clone https://github.com/google-research/scenic.git\n",
    "!cd scenic"
   ]
  },
  {
   "cell_type": "markdown",
   "metadata": {},
   "source": [
    "4. Install the dependencies:"
   ]
  },
  {
   "cell_type": "code",
   "execution_count": null,
   "metadata": {},
   "outputs": [],
   "source": [
    "!pip install .\n",
    "!pip install -r scenic/projects/baselines/clip/requirements.txt"
   ]
  },
  {
   "cell_type": "markdown",
   "metadata": {},
   "source": [
    "You may need to install corresponding GPU version of jax following <https://jax.readthedocs.io/en/latest/installation.html>."
   ]
  },
  {
   "cell_type": "code",
   "execution_count": null,
   "metadata": {},
   "outputs": [],
   "source": [
    "# CUDA 12 installation\n",
    "# Note: wheels only available on linux.\n",
    "!pip install --upgrade \"jax[cuda12_pip]\" -f https://storage.googleapis.com/jax-releases/jax_cuda_releases.html"
   ]
  },
  {
   "cell_type": "code",
   "execution_count": null,
   "metadata": {},
   "outputs": [],
   "source": [
    "# CUDA 11 installation\n",
    "!pip install --upgrade \"jax[cuda11_pip]\" -f https://storage.googleapis.com/jax-releases/jax_cuda_releases.html"
   ]
  },
  {
   "cell_type": "markdown",
   "metadata": {},
   "source": [
    "- Model Download"
   ]
  },
  {
   "cell_type": "code",
   "execution_count": null,
   "metadata": {},
   "outputs": [],
   "source": [
    "!cd .. # in main folder of demo.\n",
    "# you may need to use `gcloud auth login` for access, any gmail account should work.\n",
    "!gsutil cp -R gs://gresearch/magiclens/models ./"
   ]
  },
  {
   "cell_type": "markdown",
   "metadata": {},
   "source": [
    "Download the [categories.txt](https://github.com/milvus-io/bootcamp/blob/master/bootcamp/tutorials/quickstart/apps/cir_with_milvus/categories.txt) file here and keep it in the same directory: "
   ]
  },
  {
   "cell_type": "markdown",
   "metadata": {},
   "source": [
    "### Build Retriever"
   ]
  },
  {
   "cell_type": "code",
   "execution_count": null,
   "metadata": {},
   "outputs": [],
   "source": [
    "from typing import Dict\n",
    "from magiclens.model import MagicLens\n",
    "import jax\n",
    "import jax.numpy as jnp\n",
    "import pickle\n",
    "from flax import serialization\n",
    "from scenic.projects.baselines.clip import tokenizer as clip_tokenizer\n",
    "from PIL import Image\n",
    "import numpy as np\n",
    "\n",
    "jax.config.update(\"jax_platform_name\", \"gpu\")\n",
    "\n",
    "\n",
    "def load_model(model_size: str, model_path: str) -> Dict:\n",
    "    \"\"\"Load and initialize the model.\"\"\"\n",
    "    model = MagicLens(model_size)\n",
    "    rng = jax.random.PRNGKey(0)\n",
    "    dummy_input = {\n",
    "        \"ids\": jnp.ones((1, 1, 77), dtype=jnp.int32),\n",
    "        \"image\": jnp.ones((1, 224, 224, 3), dtype=jnp.float32),\n",
    "    }\n",
    "    params = model.init(rng, dummy_input)\n",
    "    print(\"Model initialized\")\n",
    "\n",
    "    with open(model_path, \"rb\") as f:\n",
    "        model_bytes = pickle.load(f)\n",
    "    params = serialization.from_bytes(params, model_bytes)\n",
    "    print(\"Model loaded\")\n",
    "    return model, params\n",
    "\n",
    "\n",
    "model, model_params = load_model(\n",
    "    \"large\", \"/home/data3/david/magiclens/models/magic_lens_clip_large.pkl\"\n",
    ")\n",
    "\n",
    "\n",
    "@jax.jit\n",
    "def apply_model(params, image, ids):\n",
    "    return model.apply(params, {\"ids\": ids, \"image\": image})\n",
    "\n",
    "\n",
    "def process_img(image_path: str, size: int) -> np.ndarray:\n",
    "    \"\"\"Process a single image to the desired size and normalize.\"\"\"\n",
    "    img = Image.open(image_path).convert(\"RGB\")\n",
    "    img = img.resize((size, size), Image.BILINEAR)\n",
    "    img = np.array(img) / 255.0  # Normalize to [0, 1]\n",
    "    img = img[np.newaxis, ...]  # Add batch dimension\n",
    "    return img\n",
    "\n",
    "\n",
    "class Retriever:\n",
    "    def __init__(self):\n",
    "        self.model = model\n",
    "        self.tokenizer = clip_tokenizer.build_tokenizer()\n",
    "        self.model_params = model_params\n",
    "\n",
    "    def encode_query(self, img_path, text):\n",
    "        img = process_img(img_path, 224)\n",
    "        tokens = self.tokenizer(text)\n",
    "        res = apply_model(self.model_params, img, tokens)\n",
    "        return np.array(res[\"multimodal_embed\"])\n",
    "\n",
    "\n",
    "retriever = Retriever()"
   ]
  },
  {
   "cell_type": "markdown",
   "metadata": {},
   "source": [
    "### Prepare Data and Create Collection\n",
    "\n",
    "We are using a subset of <https://github.com/hyp1231/AmazonReviews2023> which includes approximately 5000 images in 33 different categories, such as applicances, beauty and personal care, clothing, sports and outdoors, etc. <br>\n",
    "Create a collection and load image data from the dataset to get the knowledge ready."
   ]
  },
  {
   "cell_type": "code",
   "execution_count": null,
   "metadata": {},
   "outputs": [],
   "source": [
    "from datasets import load_dataset\n",
    "from pymilvus import MilvusClient\n",
    "import os\n",
    "import json\n",
    "\n",
    "# Define the image folder\n",
    "image_folder = \"/home/data3/david/magiclens/data/images/{}\"\n",
    "\n",
    "# Initialize the encoder\n",
    "encoder = Retriever()\n",
    "\n",
    "# Initialize Milvus client\n",
    "client = MilvusClient(\"./milvus_demo.db\")\n",
    "client.create_collection(\n",
    "    collection_name=\"cir_demo_large\",\n",
    "    overwrite=True,\n",
    "    auto_id=True,\n",
    "    dimension=768,\n",
    "    enable_dynamic_field=True,\n",
    ")\n",
    "\n",
    "# Read the categories from the file\n",
    "with open(\"categories.txt\") as fw:\n",
    "    lines = fw.readlines()\n",
    "\n",
    "# Loop through each category, download images, and insert data into Milvus\n",
    "for line in lines:\n",
    "    category = line.strip()\n",
    "    meta_dataset = load_dataset(\n",
    "        \"McAuley-Lab/Amazon-Reviews-2023\", f\"raw_meta_{category}\", split=\"full\"\n",
    "    )\n",
    "\n",
    "    for i in range(100):\n",
    "        if len(meta_dataset[i][\"images\"][\"large\"]) > 0:\n",
    "            img_url = meta_dataset[i][\"images\"][\"large\"][0]\n",
    "            img_name = os.path.basename(img_url)\n",
    "            img_path = image_folder.format(img_name)\n",
    "\n",
    "            # Download the image\n",
    "            os.system(\n",
    "                f\"wget {img_url} -P {os.path.dirname(img_path)} --no-check-certificate\"\n",
    "            )\n",
    "\n",
    "            if os.path.exists(img_path):\n",
    "                # Encode the image\n",
    "                feat = encoder.encode_query(img_path, \"\")\n",
    "                # Create the metadata spec\n",
    "                spec = json.dumps(meta_dataset[i])\n",
    "                # Insert the data into Milvus\n",
    "                res = client.insert(\n",
    "                    collection_name=\"cir_demo_large\",\n",
    "                    data={\n",
    "                        \"vector\": np.array(feat.flatten()),\n",
    "                        \"spec\": spec,\n",
    "                        \"name\": f\"{category}_{i}\",\n",
    "                    },\n",
    "                )"
   ]
  },
  {
   "cell_type": "markdown",
   "metadata": {},
   "source": [
    "### Upload Query Image"
   ]
  },
  {
   "cell_type": "code",
   "execution_count": 3,
   "metadata": {},
   "outputs": [
    {
     "data": {
      "application/vnd.jupyter.widget-view+json": {
       "model_id": "a610727efeba480287f500b767d4aeb0",
       "version_major": 2,
       "version_minor": 0
      },
      "text/plain": [
       "FileUpload(value=(), accept='image/*', description='Upload')"
      ]
     },
     "metadata": {},
     "output_type": "display_data"
    },
    {
     "data": {
      "application/vnd.jupyter.widget-view+json": {
       "model_id": "157bcd6a4df64dd5a935967a0ccf5adf",
       "version_major": 2,
       "version_minor": 0
      },
      "text/plain": [
       "Output()"
      ]
     },
     "metadata": {},
     "output_type": "display_data"
    }
   ],
   "source": [
    "import io\n",
    "from PIL import Image\n",
    "from IPython.display import display\n",
    "import ipywidgets as widgets\n",
    "\n",
    "# Create an upload widget\n",
    "upload_widget = widgets.FileUpload(\n",
    "    accept=\"image/*\",  # Accept only image files\n",
    "    multiple=False,  # Accept only a single file\n",
    ")\n",
    "display(upload_widget)\n",
    "\n",
    "# Create a display output area\n",
    "display_output = widgets.Output()\n",
    "display(display_output)\n",
    "\n",
    "uploaded_image = None\n",
    "\n",
    "\n",
    "def on_upload_change(change):\n",
    "    # Clear previous output\n",
    "    display_output.clear_output()\n",
    "\n",
    "    with display_output:\n",
    "        for uploaded_file in upload_widget.value:\n",
    "            content = uploaded_file[\"content\"]\n",
    "            uploaded_image = Image.open(io.BytesIO(content))\n",
    "            # Display the image\n",
    "            display(uploaded_image)\n",
    "\n",
    "\n",
    "# Attach the handler to the upload widget\n",
    "upload_widget.observe(on_upload_change, names=\"value\")"
   ]
  },
  {
   "cell_type": "markdown",
   "metadata": {},
   "source": [
    "### Enter Text Instruction"
   ]
  },
  {
   "cell_type": "code",
   "execution_count": 9,
   "metadata": {},
   "outputs": [
    {
     "name": "stdout",
     "output_type": "stream",
     "text": [
      "an earphone with the theme of the image\n"
     ]
    }
   ],
   "source": [
    "text = input(\"Enter your instruction: \")\n",
    "print(text)"
   ]
  },
  {
   "cell_type": "markdown",
   "metadata": {},
   "source": [
    "### Encode Query and Run the Search"
   ]
  },
  {
   "cell_type": "code",
   "execution_count": null,
   "metadata": {},
   "outputs": [],
   "source": [
    "emb = retriever.encode_query(\"temp.jpg\", text)\n",
    "\n",
    "search_results = client.search(\n",
    "    collection_name=\"cir_demo_large\",\n",
    "    data=[emb.flatten()],\n",
    "    output_fields=[\"spec\"],\n",
    "    limit=100,  # Max number of search results to return\n",
    "    search_params={\"metric_type\": \"COSINE\", \"params\": {}},  # Search parameters\n",
    ")"
   ]
  },
  {
   "cell_type": "markdown",
   "metadata": {},
   "source": [
    "### Display Search Results\n",
    "Top 25 retrieved images will be displayed in the form of a 5x5 grid."
   ]
  },
  {
   "cell_type": "code",
   "execution_count": null,
   "metadata": {},
   "outputs": [],
   "source": [
    "images = []\n",
    "path = \"/home/data3/david/magiclens/data/images\"\n",
    "for result in search_results:\n",
    "    for hit in result[:25]:\n",
    "        filename = hit[\"entity\"][\"filename\"]\n",
    "        img = Image.open(filename)\n",
    "        img = img.resize((150, 150))\n",
    "        images.append(img)\n",
    "\n",
    "width = 150 * 5\n",
    "height = 150 * 5\n",
    "concatenated_image = Image.new(\"RGB\", (width, height))\n",
    "\n",
    "for idx, img in enumerate(images):\n",
    "    x = idx % 5\n",
    "    y = idx // 5\n",
    "    concatenated_image.paste(img, (x * 150, y * 150))\n",
    "display(\"results\")\n",
    "display(concatenated_image)"
   ]
  },
  {
   "cell_type": "markdown",
   "metadata": {},
   "source": [
    "### Build Generative Reranker"
   ]
  },
  {
   "cell_type": "markdown",
   "metadata": {},
   "source": [
    "This reranker helps find the most suitable image based on image and text queries by creating a panoramic view image of the top 25 retrieved images, arranging them into a 5x5 grid, and utilizing an LLM to rank the images. "
   ]
  },
  {
   "cell_type": "code",
   "execution_count": null,
   "metadata": {},
   "outputs": [],
   "source": [
    "import json\n",
    "import os\n",
    "import cv2\n",
    "import numpy as np\n",
    "import base64\n",
    "import requests\n",
    "from openai import AzureOpenAI\n",
    "\n",
    "\n",
    "class GenerativeReranker:\n",
    "\n",
    "    def __init__(\n",
    "        self,\n",
    "        rowCount: int = 5,\n",
    "        dim: tuple = (300, 300),\n",
    "        cache_file: str = \"cache.json\",\n",
    "    ) -> None:\n",
    "        self.rowCount = rowCount\n",
    "        self.dim = dim\n",
    "        self.combined_image = None\n",
    "        self.cache_file = cache_file\n",
    "        self.cache = self.load_cache()\n",
    "        self.api_key = os.getenv(\"OPENAI_API_KEY\")\n",
    "\n",
    "    def __call__(self, query, caption, images, infos) -> list[int]:\n",
    "        cache_key = self.generate_cache_key(caption, infos)\n",
    "        if cache_key in self.cache:\n",
    "            ranked_indices, _ = self.cache[cache_key]\n",
    "        else:\n",
    "            self.combined_image = self.create_panoramic_view([query] + images)\n",
    "            cv2.imwrite(\"combined_image.jpg\", self.combined_image)\n",
    "            if self.api_type == \"openai\":\n",
    "                ranked_indices, explanation = self.generate_ranking_explanation(\n",
    "                    caption, infos\n",
    "                )\n",
    "            elif self.api_type == \"azure_openai\":\n",
    "                ranked_indices, explanation = (\n",
    "                    self.generate_ranking_explanation_azure_openai(caption, infos)\n",
    "                )\n",
    "            else:\n",
    "                pass\n",
    "\n",
    "            self.cache[cache_key] = (ranked_indices, explanation)\n",
    "            self.save_cache()\n",
    "        return [idx for idx in ranked_indices]\n",
    "\n",
    "    def get_best_item(self, query, caption, images, infos) -> int:\n",
    "        \"\"\"\n",
    "        returns:\n",
    "            index of the most matched image\n",
    "        \"\"\"\n",
    "        ranked_indices = self.__call__(query, caption, images, infos)\n",
    "        return ranked_indices[0]\n",
    "\n",
    "    def explain(self, query, caption, images, infos) -> str:\n",
    "        \"\"\"\n",
    "        provides an explanation of why the best item is chosen based on the query, caption, images, and infos\n",
    "        \"\"\"\n",
    "        cache_key = self.generate_cache_key(caption, infos)\n",
    "        if cache_key in self.cache:\n",
    "            _, explanation = self.cache[cache_key]\n",
    "        else:\n",
    "            if self.combined_image is None:\n",
    "                self.combined_image = self.create_panoramic_view([query] + images)\n",
    "            ranked_indices, explanation = self.generate_ranking_explanation(\n",
    "                caption, infos\n",
    "            )\n",
    "            self.cache[cache_key] = (ranked_indices, explanation)\n",
    "            self.save_cache()\n",
    "\n",
    "        return explanation\n",
    "\n",
    "    def create_panoramic_view(self, images: list) -> np.ndarray:\n",
    "        \"\"\"\n",
    "        creates a 5x5 panoramic view image from a list of images\n",
    "        \"\"\"\n",
    "        img_width, img_height = self.dim\n",
    "        panoramic_width = img_width * self.rowCount\n",
    "        panoramic_height = img_height * self.rowCount\n",
    "        panoramic_image = np.full(\n",
    "            (panoramic_height, panoramic_width, 3), 255, dtype=np.uint8\n",
    "        )\n",
    "\n",
    "        # create and resize the query image with a blue border\n",
    "        query_image = np.full((panoramic_height, img_width, 3), 255, dtype=np.uint8)\n",
    "        resized_image = cv2.resize(images[0], (img_width, img_height))\n",
    "\n",
    "        border_size = 10\n",
    "        blue = (255, 0, 0)  # blue color in BGR\n",
    "        bordered_query_image = cv2.copyMakeBorder(\n",
    "            resized_image,\n",
    "            border_size,\n",
    "            border_size,\n",
    "            border_size,\n",
    "            border_size,\n",
    "            cv2.BORDER_CONSTANT,\n",
    "            value=blue,\n",
    "        )\n",
    "\n",
    "        query_image[img_height * 2 : img_height * 3, 0:img_width] = cv2.resize(\n",
    "            bordered_query_image, (img_width, img_height)\n",
    "        )\n",
    "\n",
    "        # add text \"query\" below the query image\n",
    "        text = \"query\"\n",
    "        font_scale = 1\n",
    "        font_thickness = 2\n",
    "        text_org = (10, img_height * 3 + 30)\n",
    "        cv2.putText(\n",
    "            query_image,\n",
    "            text,\n",
    "            text_org,\n",
    "            cv2.FONT_HERSHEY_SIMPLEX,\n",
    "            font_scale,\n",
    "            blue,\n",
    "            font_thickness,\n",
    "            cv2.LINE_AA,\n",
    "        )\n",
    "\n",
    "        # combine the rest of the images into the panoramic view\n",
    "        for i, image in enumerate(images[1:]):\n",
    "            image = cv2.resize(image, (img_width - 4, img_height - 4))\n",
    "            row = i // self.rowCount\n",
    "            col = i % self.rowCount\n",
    "            start_row = row * img_height\n",
    "            start_col = col * img_width\n",
    "\n",
    "            border_size = 2\n",
    "            bordered_image = cv2.copyMakeBorder(\n",
    "                image,\n",
    "                border_size,\n",
    "                border_size,\n",
    "                border_size,\n",
    "                border_size,\n",
    "                cv2.BORDER_CONSTANT,\n",
    "                value=(0, 0, 0),\n",
    "            )\n",
    "            panoramic_image[\n",
    "                start_row : start_row + img_height, start_col : start_col + img_width\n",
    "            ] = bordered_image\n",
    "\n",
    "            # add red index numbers to each image\n",
    "            text = str(i)\n",
    "            org = (start_col + 50, start_row + 30)\n",
    "            (font_width, font_height), baseline = cv2.getTextSize(\n",
    "                text, cv2.FONT_HERSHEY_SIMPLEX, 1, 2\n",
    "            )\n",
    "\n",
    "            top_left = (org[0] - 48, start_row + 2)\n",
    "            bottom_right = (org[0] - 48 + font_width + 5, org[1] + baseline + 5)\n",
    "\n",
    "            cv2.rectangle(\n",
    "                panoramic_image, top_left, bottom_right, (255, 255, 255), cv2.FILLED\n",
    "            )\n",
    "            cv2.putText(\n",
    "                panoramic_image,\n",
    "                text,\n",
    "                (start_col + 10, start_row + 30),\n",
    "                cv2.FONT_HERSHEY_SIMPLEX,\n",
    "                1,\n",
    "                (0, 0, 255),\n",
    "                2,\n",
    "                cv2.LINE_AA,\n",
    "            )\n",
    "\n",
    "        # combine the query image with the panoramic view\n",
    "        panoramic_image = np.hstack([query_image, panoramic_image])\n",
    "        return panoramic_image\n",
    "\n",
    "    def generate_ranking_explanation(\n",
    "        self, caption: str, infos: dict\n",
    "    ) -> tuple[list[int], str]:\n",
    "        \"\"\"\n",
    "        uses an LLM to rank images and generate an explanation based on the combined panoramic view image, caption, and infos\n",
    "        \"\"\"\n",
    "        base64_image = self.encode_image(\"combined_image.jpg\")\n",
    "        headers = {\n",
    "            \"Content-Type\": \"application/json\",\n",
    "            \"Authorization\": f\"Bearer {self.api_key}\",\n",
    "        }\n",
    "        information = (\n",
    "            \"You are responsible for ranking results for a Composed Image Retrieval. \"\n",
    "            \"The user retrieves an image with an 'instruction' indicating their retrieval intent. \"\n",
    "            \"For example, if the user queries a red car with the instruction 'change this car to blue,' a similar type of car in blue would be ranked higher in the results. \"\n",
    "            \"Now you would receive instruction and query image with blue border. Every item has its red index number in its top left. Do not misunderstand it. \"\n",
    "            f\"User instruction: {caption} \\n\\n\"\n",
    "        )\n",
    "\n",
    "        # add additional information for each image\n",
    "        for i, info in enumerate(infos[\"product\"]):\n",
    "            information += f\"{i}. {info}\\n\"\n",
    "\n",
    "        information += (\n",
    "            \"Provide a new ranked list of indices from most suitable to least suitable, followed by an explanation for the top 1 most suitable item only. \"\n",
    "            \"The format of the response has to be 'Ranked list: []' with the indices in brackets as integers, followed by 'Reasons:' plus the explanation why this most fit user's query intent.\"\n",
    "        )\n",
    "\n",
    "        payload = {\n",
    "            \"model\": \"gpt-4o\",\n",
    "            \"messages\": [\n",
    "                {\n",
    "                    \"role\": \"user\",\n",
    "                    \"content\": [\n",
    "                        {\"type\": \"text\", \"text\": information},\n",
    "                        {\n",
    "                            \"type\": \"image_url\",\n",
    "                            \"image_url\": {\n",
    "                                \"url\": f\"data:image/jpeg;base64,{base64_image}\"\n",
    "                            },\n",
    "                        },\n",
    "                    ],\n",
    "                }\n",
    "            ],\n",
    "            \"max_tokens\": 300,\n",
    "        }\n",
    "\n",
    "        response = requests.post(\n",
    "            \"https://api.openai.com/v1/chat/completions\", headers=headers, json=payload\n",
    "        )\n",
    "        result = response.json()[\"choices\"][0][\"message\"][\"content\"]\n",
    "\n",
    "        # parse the ranked indices from the response\n",
    "        start_idx = result.find(\"[\")\n",
    "        end_idx = result.find(\"]\")\n",
    "        ranked_indices_str = result[start_idx + 1 : end_idx].split(\",\")\n",
    "        ranked_indices = [int(index.strip()) for index in ranked_indices_str]\n",
    "\n",
    "        # extract explanation\n",
    "        explanation = result[end_idx + 1 :].strip()\n",
    "\n",
    "        return ranked_indices, explanation\n",
    "\n",
    "    def encode_image(self, image_path):\n",
    "        with open(image_path, \"rb\") as image_file:\n",
    "            return base64.b64encode(image_file.read()).decode(\"utf-8\")\n",
    "\n",
    "    def load_cache(self):\n",
    "        if os.path.exists(self.cache_file):\n",
    "            with open(self.cache_file, \"r\") as file:\n",
    "                return json.load(file)\n",
    "        return {}\n",
    "\n",
    "    def save_cache(self):\n",
    "        with open(self.cache_file, \"w\") as file:\n",
    "            json.dump(self.cache, file)\n",
    "\n",
    "    def generate_cache_key(self, caption, infos):\n",
    "        return f\"{caption}_{json.dumps(infos, sort_keys=True)}\""
   ]
  },
  {
   "cell_type": "markdown",
   "metadata": {},
   "source": [
    "### Display the Combined Image of Top 25 Results"
   ]
  },
  {
   "cell_type": "code",
   "execution_count": null,
   "metadata": {},
   "outputs": [],
   "source": [
    "reranker = GenerativeReranker()\n",
    "top_images = search_results[0][:25]\n",
    "\n",
    "combined_image = reranker.create_panoramic_view(top_images)\n",
    "display(combined_image)"
   ]
  },
  {
   "cell_type": "markdown",
   "metadata": {},
   "source": [
    "### Show Best Item Index and Explanation"
   ]
  },
  {
   "cell_type": "code",
   "execution_count": null,
   "metadata": {},
   "outputs": [],
   "source": [
    "top_infos = {\"product\": [], \"instruction\": \"\"}\n",
    "\n",
    "for i, info in enumerate(search_results):\n",
    "    img_info = info[\"entity\"]\n",
    "    top_infos[\"product\"].append(img_info)\n",
    "\n",
    "top_infos[\"instruction\"] = text\n",
    "query_array = np.array(uploaded_image)[:, :, ::-1]\n",
    "\n",
    "best_index = reranker.get_best_item(query_array, text, top_images, top_infos)\n",
    "\n",
    "explanation = reranker.explain(uploaded_image, text, top_images, top_infos)\n",
    "print(\"Best index:\", best_index)\n",
    "\n",
    "# Display the best item and explanation\n",
    "best_item_image = top_images[best_index][:, :, ::-1]\n",
    "Image.fromarray(best_item_image).show()\n",
    "print(\"Explanation:\", explanation)"
   ]
  },
  {
   "cell_type": "markdown",
   "metadata": {},
   "source": [
    "### Quick Deploy\n",
    "\n",
    "To learn about how to start an online demo with this tutorial, please refer to [the example application](https://github.com/milvus-io/bootcamp/tree/master/bootcamp/tutorials/quickstart/apps/multimodal_rag_with_milvus).\n",
    "\n",
    "<img src=\"https://raw.githubusercontent.com/milvus-io/bootcamp/master/bootcamp/tutorials/quickstart/apps/multimodal_rag_with_milvus/pics/cir_demo.jpg\n",
    "\"/>"
   ]
  }
 ],
 "metadata": {
  "kernelspec": {
   "display_name": "Python 3",
   "language": "python",
   "name": "python3"
  },
  "language_info": {
   "codemirror_mode": {
    "name": "ipython",
    "version": 3
   },
   "file_extension": ".py",
   "mimetype": "text/x-python",
   "name": "python",
   "nbconvert_exporter": "python",
   "pygments_lexer": "ipython3",
   "version": "3.12.3"
  }
 },
 "nbformat": 4,
 "nbformat_minor": 2
}
