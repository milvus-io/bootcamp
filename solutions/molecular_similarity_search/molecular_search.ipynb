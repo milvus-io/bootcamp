{
 "cells": [
  {
   "cell_type": "markdown",
   "id": "52202dda",
   "metadata": {},
   "source": [
    "# Molecular Similarity Search\n",
    "In this example we are performing a similarity retrieval of molecular formulae by generating molecular fingerprints using RDKit. With this fingerprints we use Milvus to perform a search for the most similar result to the target molecular formula."
   ]
  },
  {
   "cell_type": "markdown",
   "id": "8f634caa",
   "metadata": {},
   "source": [
    "## Data\n",
    "We have already prepared a SMILE file containing 10,000 molecular formulae [test_1w.smi](./smiles-data) from [pubchem](ftp://ftp.ncbi.nlm.nih.gov/pubchem/Compound/CURRENT-Full/SDF). The file is composed of two columns, SMILES and ID. Below is an example of the data: \n",
    "\n",
    "| SMILES | ID |\n",
    "| --------------- | -------------- |\n",
    "| [O-]C(=O)CC(C[N+](C)(C)C)OC(=O)C        | 1 |\n",
    "| OC(=O)CC(C[N+](C)(C)C)OC(=O)C           | 2 |\n",
    "| OC1C=CC=C(C1O)C(=O)O                    | 3 |\n",
    "| CC(CN)O                                 | 4 |\n",
    "| NCC(=O)COP(=O)(O)O                      | 5 |\n"
   ]
  },
  {
   "cell_type": "markdown",
   "id": "c4b61385",
   "metadata": {},
   "source": [
    "## Requirements\n",
    "\n",
    "Before running this notebook, you need to install [conda](https://docs.conda.io/projects/conda/en/latest/user-guide/install/index.html) or [miniconda](https://docs.conda.io/en/latest/miniconda.html) locally. This is required due to [RDKit](https://www.rdkit.org/docs/Install.html) only being installable through conda. Once conda is setup, you need to active a conda enviroment running `Python 3.7`. It can be done quickly with the following command: `conda create -n mol_search python=3.7`. Once created, activate the enviroment with `conda activate mol_search`. Once the enviroment is activated you can run the notebook, in our case we are using jupyter, so this can be done running the command `jupyter lab` in this notebooks directory. \n",
    "\n",
    "\n",
    "| Packages |  Servers |\n",
    "| --------------- | -------------- |\n",
    "| pymilvus        | Milvus-1.1.0   |\n",
    "| pymysql           | MySQL          |\n",
    "| numpy |\n",
    "| ipyplot |\n",
    "| rdkit |\n",
    "We have included a requirements.txt file in order to easily satisfy the required packages.\n"
   ]
  },
  {
   "cell_type": "markdown",
   "id": "7f68d163-29f0-454d-b0ac-fad666a2e809",
   "metadata": {},
   "source": [
    "## Up and Running\n",
    "### Installing RDkit\n",
    "Install RDKit with Conda."
   ]
  },
  {
   "cell_type": "code",
   "execution_count": 1,
   "id": "ac36625f",
   "metadata": {},
   "outputs": [
    {
     "name": "stdout",
     "output_type": "stream",
     "text": [
      "Collecting package metadata (current_repodata.json): done\n",
      "Solving environment: done\n",
      "\n",
      "\n",
      "==> WARNING: A newer version of conda exists. <==\n",
      "  current version: 4.9.2\n",
      "  latest version: 4.10.1\n",
      "\n",
      "Please update conda by running\n",
      "\n",
      "    $ conda update -n base -c defaults conda\n",
      "\n",
      "\n",
      "\n",
      "## Package Plan ##\n",
      "\n",
      "  environment location: /Users/filiphaltmayer/opt/miniconda3/envs/test\n",
      "\n",
      "  added / updated specs:\n",
      "    - rdkit\n",
      "\n",
      "\n",
      "The following packages will be downloaded:\n",
      "\n",
      "    package                    |            build\n",
      "    ---------------------------|-----------------\n",
      "    blas-1.0                   |              mkl           6 KB\n",
      "    bzip2-1.0.8                |       h1de35cc_0          75 KB\n",
      "    cairo-1.16.0               |       h8023c5d_1         911 KB\n",
      "    fontconfig-2.13.1          |       ha9ee91d_0         211 KB\n",
      "    freetype-2.10.4            |       ha233b18_0         564 KB\n",
      "    gettext-0.21.0             |       h7535e17_0         2.6 MB\n",
      "    glib-2.68.1                |       hdf23fa2_0         2.7 MB\n",
      "    icu-58.2                   |       h0a44026_3        10.1 MB\n",
      "    intel-openmp-2021.2.0      |     hecd8cb5_564         942 KB\n",
      "    jpeg-9b                    |       he5867d9_2         201 KB\n",
      "    lcms2-2.12                 |       hf1fd2bf_0         284 KB\n",
      "    libboost-1.73.0            |      hd4c2dcd_11        12.7 MB\n",
      "    libiconv-1.16              |       h1de35cc_0         693 KB\n",
      "    libpng-1.6.37              |       ha441bb4_0         262 KB\n",
      "    libtiff-4.2.0              |       h87d7836_0         462 KB\n",
      "    libwebp-base-1.2.0         |       h9ed2024_0         389 KB\n",
      "    libxml2-2.9.10             |       h7cdb67c_3         1.1 MB\n",
      "    llvm-openmp-10.0.0         |       h28b9765_0         236 KB\n",
      "    lz4-c-1.9.3                |       h23ab428_0         140 KB\n",
      "    mkl-2021.2.0               |     hecd8cb5_269       100.0 MB\n",
      "    mkl-service-2.3.0          |   py37h9ed2024_1          43 KB\n",
      "    mkl_fft-1.3.0              |   py37h4a7008c_2         159 KB\n",
      "    mkl_random-1.2.1           |   py37hb2f4e1b_2         260 KB\n",
      "    numpy-1.20.1               |   py37hd6e1bb9_0          22 KB\n",
      "    numpy-base-1.20.1          |   py37h585ceec_0         4.3 MB\n",
      "    olefile-0.46               |           py37_0          49 KB\n",
      "    pandas-1.2.4               |   py37h23ab428_0         8.1 MB\n",
      "    pcre-8.44                  |       hb1e8313_0         185 KB\n",
      "    pillow-8.2.0               |   py37h5270095_0         590 KB\n",
      "    pixman-0.40.0              |       haf1e3a3_0         340 KB\n",
      "    py-boost-1.73.0            |  py37hb2f4e1b_11         189 KB\n",
      "    python-dateutil-2.8.1      |     pyhd3eb1b0_0         221 KB\n",
      "    pytz-2021.1                |     pyhd3eb1b0_0         181 KB\n",
      "    rdkit-2020.09.1.0          |   py37h81f2deb_1        24.1 MB  rdkit\n",
      "    six-1.15.0                 |   py37hecd8cb5_0          27 KB\n",
      "    zstd-1.4.5                 |       h41d2c2f_0         442 KB\n",
      "    ------------------------------------------------------------\n",
      "                                           Total:       173.8 MB\n",
      "\n",
      "The following NEW packages will be INSTALLED:\n",
      "\n",
      "  blas               pkgs/main/osx-64::blas-1.0-mkl\n",
      "  bzip2              pkgs/main/osx-64::bzip2-1.0.8-h1de35cc_0\n",
      "  cairo              pkgs/main/osx-64::cairo-1.16.0-h8023c5d_1\n",
      "  fontconfig         pkgs/main/osx-64::fontconfig-2.13.1-ha9ee91d_0\n",
      "  freetype           pkgs/main/osx-64::freetype-2.10.4-ha233b18_0\n",
      "  gettext            pkgs/main/osx-64::gettext-0.21.0-h7535e17_0\n",
      "  glib               pkgs/main/osx-64::glib-2.68.1-hdf23fa2_0\n",
      "  icu                pkgs/main/osx-64::icu-58.2-h0a44026_3\n",
      "  intel-openmp       pkgs/main/osx-64::intel-openmp-2021.2.0-hecd8cb5_564\n",
      "  jpeg               pkgs/main/osx-64::jpeg-9b-he5867d9_2\n",
      "  lcms2              pkgs/main/osx-64::lcms2-2.12-hf1fd2bf_0\n",
      "  libboost           pkgs/main/osx-64::libboost-1.73.0-hd4c2dcd_11\n",
      "  libiconv           pkgs/main/osx-64::libiconv-1.16-h1de35cc_0\n",
      "  libpng             pkgs/main/osx-64::libpng-1.6.37-ha441bb4_0\n",
      "  libtiff            pkgs/main/osx-64::libtiff-4.2.0-h87d7836_0\n",
      "  libwebp-base       pkgs/main/osx-64::libwebp-base-1.2.0-h9ed2024_0\n",
      "  libxml2            pkgs/main/osx-64::libxml2-2.9.10-h7cdb67c_3\n",
      "  llvm-openmp        pkgs/main/osx-64::llvm-openmp-10.0.0-h28b9765_0\n",
      "  lz4-c              pkgs/main/osx-64::lz4-c-1.9.3-h23ab428_0\n",
      "  mkl                pkgs/main/osx-64::mkl-2021.2.0-hecd8cb5_269\n",
      "  mkl-service        pkgs/main/osx-64::mkl-service-2.3.0-py37h9ed2024_1\n",
      "  mkl_fft            pkgs/main/osx-64::mkl_fft-1.3.0-py37h4a7008c_2\n",
      "  mkl_random         pkgs/main/osx-64::mkl_random-1.2.1-py37hb2f4e1b_2\n",
      "  numpy              pkgs/main/osx-64::numpy-1.20.1-py37hd6e1bb9_0\n",
      "  numpy-base         pkgs/main/osx-64::numpy-base-1.20.1-py37h585ceec_0\n",
      "  olefile            pkgs/main/osx-64::olefile-0.46-py37_0\n",
      "  pandas             pkgs/main/osx-64::pandas-1.2.4-py37h23ab428_0\n",
      "  pcre               pkgs/main/osx-64::pcre-8.44-hb1e8313_0\n",
      "  pillow             pkgs/main/osx-64::pillow-8.2.0-py37h5270095_0\n",
      "  pixman             pkgs/main/osx-64::pixman-0.40.0-haf1e3a3_0\n",
      "  py-boost           pkgs/main/osx-64::py-boost-1.73.0-py37hb2f4e1b_11\n",
      "  python-dateutil    pkgs/main/noarch::python-dateutil-2.8.1-pyhd3eb1b0_0\n",
      "  pytz               pkgs/main/noarch::pytz-2021.1-pyhd3eb1b0_0\n",
      "  rdkit              rdkit/osx-64::rdkit-2020.09.1.0-py37h81f2deb_1\n",
      "  six                pkgs/main/osx-64::six-1.15.0-py37hecd8cb5_0\n",
      "  zstd               pkgs/main/osx-64::zstd-1.4.5-h41d2c2f_0\n",
      "\n",
      "\n",
      "\n",
      "Downloading and Extracting Packages\n",
      "gettext-0.21.0       | 2.6 MB    | ##################################### | 100% \n",
      "six-1.15.0           | 27 KB     | ##################################### | 100% \n",
      "libpng-1.6.37        | 262 KB    | ##################################### | 100% \n",
      "fontconfig-2.13.1    | 211 KB    | ##################################### | 100% \n",
      "icu-58.2             | 10.1 MB   | ##################################### | 100% \n",
      "glib-2.68.1          | 2.7 MB    | ##################################### | 100% \n",
      "pixman-0.40.0        | 340 KB    | ##################################### | 100% \n",
      "jpeg-9b              | 201 KB    | ##################################### | 100% \n",
      "pcre-8.44            | 185 KB    | ##################################### | 100% \n",
      "libboost-1.73.0      | 12.7 MB   | ##################################### | 100% \n",
      "llvm-openmp-10.0.0   | 236 KB    | ##################################### | 100% \n",
      "blas-1.0             | 6 KB      | ##################################### | 100% \n",
      "cairo-1.16.0         | 911 KB    | ##################################### | 100% \n",
      "mkl_random-1.2.1     | 260 KB    | ##################################### | 100% \n",
      "lz4-c-1.9.3          | 140 KB    | ##################################### | 100% \n",
      "pillow-8.2.0         | 590 KB    | ##################################### | 100% \n",
      "libwebp-base-1.2.0   | 389 KB    | ##################################### | 100% \n",
      "numpy-1.20.1         | 22 KB     | ##################################### | 100% \n",
      "mkl-service-2.3.0    | 43 KB     | ##################################### | 100% \n",
      "zstd-1.4.5           | 442 KB    | ##################################### | 100% \n",
      "py-boost-1.73.0      | 189 KB    | ##################################### | 100% \n",
      "bzip2-1.0.8          | 75 KB     | ##################################### | 100% \n",
      "libtiff-4.2.0        | 462 KB    | ##################################### | 100% \n",
      "mkl-2021.2.0         | 100.0 MB  | ##################################### | 100% \n",
      "pytz-2021.1          | 181 KB    | ##################################### | 100% \n",
      "intel-openmp-2021.2. | 942 KB    | ##################################### | 100% \n",
      "libxml2-2.9.10       | 1.1 MB    | ##################################### | 100% \n",
      "python-dateutil-2.8. | 221 KB    | ##################################### | 100% \n",
      "numpy-base-1.20.1    | 4.3 MB    | ##################################### | 100% \n",
      "olefile-0.46         | 49 KB     | ##################################### | 100% \n",
      "mkl_fft-1.3.0        | 159 KB    | ##################################### | 100% \n",
      "rdkit-2020.09.1.0    | 24.1 MB   | ##################################### | 100% \n",
      "freetype-2.10.4      | 564 KB    | ##################################### | 100% \n",
      "lcms2-2.12           | 284 KB    | ##################################### | 100% \n",
      "pandas-1.2.4         | 8.1 MB    | ##################################### | 100% \n",
      "libiconv-1.16        | 693 KB    | ##################################### | 100% \n",
      "Preparing transaction: done\n",
      "Verifying transaction: done\n",
      "Executing transaction: done\n"
     ]
    }
   ],
   "source": [
    "! conda install -c rdkit rdkit -y"
   ]
  },
  {
   "cell_type": "markdown",
   "id": "00afa67a",
   "metadata": {},
   "source": [
    "### Installing Packages\n",
    "Install the required python packages with `requirements.txt`."
   ]
  },
  {
   "cell_type": "code",
   "execution_count": 2,
   "id": "113c1e44",
   "metadata": {},
   "outputs": [
    {
     "name": "stdout",
     "output_type": "stream",
     "text": [
      "Requirement already satisfied: numpy in /Users/filiphaltmayer/opt/miniconda3/envs/test/lib/python3.7/site-packages (from -r requirements.txt (line 1)) (1.20.1)\n",
      "Collecting pymilvus==1.1.0\n",
      "  Using cached pymilvus-1.1.0-py3-none-any.whl (56 kB)\n",
      "Collecting redis\n",
      "  Using cached redis-3.5.3-py2.py3-none-any.whl (72 kB)\n",
      "Collecting pymysql\n",
      "  Downloading PyMySQL-1.0.2-py3-none-any.whl (43 kB)\n",
      "\u001b[K     |████████████████████████████████| 43 kB 1.2 MB/s eta 0:00:01\n",
      "\u001b[?25hCollecting ipyplot\n",
      "  Downloading ipyplot-1.1.0-py3-none-any.whl (13 kB)\n",
      "Collecting grpcio>=1.22.0\n",
      "  Downloading grpcio-1.37.1-cp37-cp37m-macosx_10_10_x86_64.whl (3.9 MB)\n",
      "\u001b[K     |████████████████████████████████| 3.9 MB 3.3 MB/s eta 0:00:01\n",
      "\u001b[?25hCollecting grpcio-tools>=1.22.0\n",
      "  Downloading grpcio_tools-1.37.1-cp37-cp37m-macosx_10_10_x86_64.whl (2.0 MB)\n",
      "\u001b[K     |████████████████████████████████| 2.0 MB 19.7 MB/s eta 0:00:01\n",
      "\u001b[?25hRequirement already satisfied: requests>=2.22.0 in /Users/filiphaltmayer/opt/miniconda3/envs/test/lib/python3.7/site-packages (from pymilvus==1.1.0->-r requirements.txt (line 2)) (2.25.1)\n",
      "Collecting ujson>=2.0.0\n",
      "  Downloading ujson-4.0.2-cp37-cp37m-macosx_10_14_x86_64.whl (45 kB)\n",
      "\u001b[K     |████████████████████████████████| 45 kB 7.9 MB/s  eta 0:00:01\n",
      "\u001b[?25hRequirement already satisfied: six>=1.5.2 in /Users/filiphaltmayer/opt/miniconda3/envs/test/lib/python3.7/site-packages (from grpcio>=1.22.0->pymilvus==1.1.0->-r requirements.txt (line 2)) (1.16.0)\n",
      "Requirement already satisfied: setuptools in /Users/filiphaltmayer/opt/miniconda3/envs/test/lib/python3.7/site-packages (from grpcio-tools>=1.22.0->pymilvus==1.1.0->-r requirements.txt (line 2)) (52.0.0.post20210125)\n",
      "Collecting protobuf<4.0dev,>=3.5.0.post1\n",
      "  Downloading protobuf-3.17.0-cp37-cp37m-macosx_10_9_x86_64.whl (959 kB)\n",
      "\u001b[K     |████████████████████████████████| 959 kB 24.1 MB/s eta 0:00:01\n",
      "\u001b[?25hRequirement already satisfied: certifi>=2017.4.17 in /Users/filiphaltmayer/opt/miniconda3/envs/test/lib/python3.7/site-packages (from requests>=2.22.0->pymilvus==1.1.0->-r requirements.txt (line 2)) (2020.12.5)\n",
      "Requirement already satisfied: chardet<5,>=3.0.2 in /Users/filiphaltmayer/opt/miniconda3/envs/test/lib/python3.7/site-packages (from requests>=2.22.0->pymilvus==1.1.0->-r requirements.txt (line 2)) (4.0.0)\n",
      "Requirement already satisfied: idna<3,>=2.5 in /Users/filiphaltmayer/opt/miniconda3/envs/test/lib/python3.7/site-packages (from requests>=2.22.0->pymilvus==1.1.0->-r requirements.txt (line 2)) (2.10)\n",
      "Requirement already satisfied: urllib3<1.27,>=1.21.1 in /Users/filiphaltmayer/opt/miniconda3/envs/test/lib/python3.7/site-packages (from requests>=2.22.0->pymilvus==1.1.0->-r requirements.txt (line 2)) (1.26.4)\n",
      "Requirement already satisfied: IPython in /Users/filiphaltmayer/opt/miniconda3/envs/test/lib/python3.7/site-packages (from ipyplot->-r requirements.txt (line 5)) (7.23.1)\n",
      "Requirement already satisfied: pillow in /Users/filiphaltmayer/opt/miniconda3/envs/test/lib/python3.7/site-packages (from ipyplot->-r requirements.txt (line 5)) (8.2.0)\n",
      "Collecting shortuuid\n",
      "  Downloading shortuuid-1.0.1-py3-none-any.whl (7.5 kB)\n",
      "Requirement already satisfied: pickleshare in /Users/filiphaltmayer/opt/miniconda3/envs/test/lib/python3.7/site-packages (from IPython->ipyplot->-r requirements.txt (line 5)) (0.7.5)\n",
      "Requirement already satisfied: backcall in /Users/filiphaltmayer/opt/miniconda3/envs/test/lib/python3.7/site-packages (from IPython->ipyplot->-r requirements.txt (line 5)) (0.2.0)\n",
      "Requirement already satisfied: pexpect>4.3 in /Users/filiphaltmayer/opt/miniconda3/envs/test/lib/python3.7/site-packages (from IPython->ipyplot->-r requirements.txt (line 5)) (4.8.0)\n",
      "Requirement already satisfied: jedi>=0.16 in /Users/filiphaltmayer/opt/miniconda3/envs/test/lib/python3.7/site-packages (from IPython->ipyplot->-r requirements.txt (line 5)) (0.18.0)\n",
      "Requirement already satisfied: matplotlib-inline in /Users/filiphaltmayer/opt/miniconda3/envs/test/lib/python3.7/site-packages (from IPython->ipyplot->-r requirements.txt (line 5)) (0.1.2)\n",
      "Requirement already satisfied: appnope in /Users/filiphaltmayer/opt/miniconda3/envs/test/lib/python3.7/site-packages (from IPython->ipyplot->-r requirements.txt (line 5)) (0.1.2)\n",
      "Requirement already satisfied: prompt-toolkit!=3.0.0,!=3.0.1,<3.1.0,>=2.0.0 in /Users/filiphaltmayer/opt/miniconda3/envs/test/lib/python3.7/site-packages (from IPython->ipyplot->-r requirements.txt (line 5)) (3.0.18)\n",
      "Requirement already satisfied: pygments in /Users/filiphaltmayer/opt/miniconda3/envs/test/lib/python3.7/site-packages (from IPython->ipyplot->-r requirements.txt (line 5)) (2.9.0)\n",
      "Requirement already satisfied: traitlets>=4.2 in /Users/filiphaltmayer/opt/miniconda3/envs/test/lib/python3.7/site-packages (from IPython->ipyplot->-r requirements.txt (line 5)) (5.0.5)\n",
      "Requirement already satisfied: decorator in /Users/filiphaltmayer/opt/miniconda3/envs/test/lib/python3.7/site-packages (from IPython->ipyplot->-r requirements.txt (line 5)) (5.0.7)\n",
      "Requirement already satisfied: parso<0.9.0,>=0.8.0 in /Users/filiphaltmayer/opt/miniconda3/envs/test/lib/python3.7/site-packages (from jedi>=0.16->IPython->ipyplot->-r requirements.txt (line 5)) (0.8.2)\n",
      "Requirement already satisfied: ptyprocess>=0.5 in /Users/filiphaltmayer/opt/miniconda3/envs/test/lib/python3.7/site-packages (from pexpect>4.3->IPython->ipyplot->-r requirements.txt (line 5)) (0.7.0)\n",
      "Requirement already satisfied: wcwidth in /Users/filiphaltmayer/opt/miniconda3/envs/test/lib/python3.7/site-packages (from prompt-toolkit!=3.0.0,!=3.0.1,<3.1.0,>=2.0.0->IPython->ipyplot->-r requirements.txt (line 5)) (0.2.5)\n",
      "Requirement already satisfied: ipython-genutils in /Users/filiphaltmayer/opt/miniconda3/envs/test/lib/python3.7/site-packages (from traitlets>=4.2->IPython->ipyplot->-r requirements.txt (line 5)) (0.2.0)\n",
      "Installing collected packages: protobuf, grpcio, ujson, shortuuid, grpcio-tools, redis, pymysql, pymilvus, ipyplot\n",
      "Successfully installed grpcio-1.37.1 grpcio-tools-1.37.1 ipyplot-1.1.0 protobuf-3.17.0 pymilvus-1.1.0 pymysql-1.0.2 redis-3.5.3 shortuuid-1.0.1 ujson-4.0.2\n"
     ]
    }
   ],
   "source": [
    "! pip install -r requirements.txt"
   ]
  },
  {
   "cell_type": "markdown",
   "id": "5cd9e213",
   "metadata": {},
   "source": [
    "### Starting Milvus\n",
    "Start Docker container without mapping the files, if you want to map the paths to the local files to the container, you can refer to [Install and Start Milvus](https://milvus.io/docs/v1.1.0/milvus_docker-cpu.md)."
   ]
  },
  {
   "cell_type": "code",
   "execution_count": 2,
   "id": "9a11c5e5",
   "metadata": {},
   "outputs": [
    {
     "name": "stdout",
     "output_type": "stream",
     "text": [
      "docker: Error response from daemon: Conflict. The container name \"/milvus_cpu_1.1.0\" is already in use by container \"4fb8cec9122862bcb864b6b782796d32dacfd0b8489bd9666224222cde746485\". You have to remove (or rename) that container to be able to reuse that name.\n",
      "See 'docker run --help'.\n"
     ]
    }
   ],
   "source": [
    "! docker run --name milvus_cpu_1.1.0 -d \\\n",
    "-p 19530:19530 \\\n",
    "-p 19121:19121 \\\n",
    "milvusdb/milvus:1.1.0-cpu-d050721-5e559c"
   ]
  },
  {
   "cell_type": "markdown",
   "id": "dd12c33c",
   "metadata": {},
   "source": [
    "### Starting MySQL\n",
    "We are using MySQL as a metadata storage service. Code can easily be modified to use a python dictionary, but that usually does not work in any use case outside of quick examples. We need a metadata storage service in order to be able to be able to map between embeddings and their corresponding molecular formulae. "
   ]
  },
  {
   "cell_type": "code",
   "execution_count": 3,
   "id": "a55dbaa3",
   "metadata": {},
   "outputs": [
    {
     "name": "stdout",
     "output_type": "stream",
     "text": [
      "242386942fc1c5b9a5363834268e16a64c86d5d91753550c3b6651218b341f91\n"
     ]
    }
   ],
   "source": [
    "! docker run --name mysql -p 3306:3306 -e MYSQL_ROOT_PASSWORD=123456 -d mysql:5.7"
   ]
  },
  {
   "cell_type": "markdown",
   "id": "8c01aab4-c474-48b5-9dd5-a4d82cc8b02d",
   "metadata": {},
   "source": [
    "### Confirm Running Servers"
   ]
  },
  {
   "cell_type": "code",
   "execution_count": 4,
   "id": "942fa94b-d9a5-4906-915e-64be270e981f",
   "metadata": {},
   "outputs": [
    {
     "name": "stdout",
     "output_type": "stream",
     "text": [
      "\n",
      "    __  _________ _   ____  ______    \n",
      "   /  |/  /  _/ /| | / / / / / __/    \n",
      "  / /|_/ // // /_| |/ / /_/ /\\ \\    \n",
      " /_/  /_/___/____/___/\\____/___/     \n",
      "\n",
      "Welcome to use Milvus!\n",
      "Milvus Release version: v1.1.0, built at 2021-05-06 14:50.43, with OpenBLAS library.\n",
      "You are using Milvus CPU edition\n",
      "Last commit id: 5e559cd7918297bcdb55985b80567cb6278074dd\n",
      "\n",
      "Loading configuration from: /var/lib/milvus/conf/server_config.yaml\n",
      "WARNNING: You are using SQLite as the meta data management, which can't be used in production. Please change it to MySQL!\n",
      "Supported CPU instruction sets: avx2, sse4_2\n",
      "FAISS hook AVX2\n",
      "Milvus server started successfully!\n"
     ]
    }
   ],
   "source": [
    "! docker logs milvus_cpu_1.1.0"
   ]
  },
  {
   "cell_type": "code",
   "execution_count": 7,
   "id": "0199df27-5c90-4bce-a8f8-6236cfd01dbc",
   "metadata": {},
   "outputs": [
    {
     "name": "stdout",
     "output_type": "stream",
     "text": [
      "2021-05-18T21:19:41.953872Z 0 [Note] Server socket created on IP: '::'.\n",
      "2021-05-18T21:19:41.955648Z 0 [Warning] Insecure configuration for --pid-file: Location '/var/run/mysqld' in the path is accessible to all OS users. Consider choosing a different directory.\n",
      "2021-05-18T21:19:41.964580Z 0 [Note] Event Scheduler: Loaded 0 events\n",
      "2021-05-18T21:19:41.965281Z 0 [Note] mysqld: ready for connections.\n",
      "Version: '5.7.34'  socket: '/var/run/mysqld/mysqld.sock'  port: 3306  MySQL Community Server (GPL)\n"
     ]
    }
   ],
   "source": [
    "! docker logs mysql --tail 5"
   ]
  },
  {
   "cell_type": "markdown",
   "id": "d799a811",
   "metadata": {},
   "source": [
    "## Code Overview\n",
    "### Connecting to Servers\n",
    "After preparing the conda environment (installing RDKit, etc.) and successfully starting Milvus and MySQL, we will begin by connecting to the servers. In this case the docker containers are running on localhost and the ports are the default ports.\n",
    "\n",
    "> If there was a problem downloading the required packages and no Milvus module can be found, please run the requirments.txt install again in a terminal that has the conda enviroment activated."
   ]
  },
  {
   "cell_type": "code",
   "execution_count": 8,
   "id": "5a3f09d4",
   "metadata": {},
   "outputs": [],
   "source": [
    "# Connecting to servers\n",
    "\n",
    "import pymysql\n",
    "import milvus\n",
    "import time\n",
    "\n",
    "time.sleep(1)\n",
    "\n",
    "milv = milvus.Milvus(host='localhost', port='19530')\n",
    "conn = pymysql.connect(host='localhost', user='root', port=3306, password='123456', db='mysql', local_infile=True)\n",
    "cursor = conn.cursor()"
   ]
  },
  {
   "cell_type": "markdown",
   "id": "94fef14e",
   "metadata": {},
   "source": [
    "### Building Collection and Setting Indexing\n",
    "\n",
    "We first begin by declaring some variables, such as the dimension of the vector, the name of the collection/table, the path of the SMILES file and the SMILES molecule we will be searching."
   ]
  },
  {
   "cell_type": "code",
   "execution_count": 9,
   "id": "048db401",
   "metadata": {},
   "outputs": [],
   "source": [
    "VECTOR_DIMENSION = 512\n",
    "collection_name = 'mol_search'\n",
    "file_path = './smiles-data/test_1w.smi'\n",
    "target_smiles = 'Cc1ccc(cc1)S(=O)(=O)N'"
   ]
  },
  {
   "cell_type": "markdown",
   "id": "672e59b3-718a-48a4-beca-b195da304f07",
   "metadata": {},
   "source": [
    "For this example we are using the Jaccard distance in order to calculate similarity between vectors. "
   ]
  },
  {
   "cell_type": "code",
   "execution_count": 14,
   "id": "74b54643",
   "metadata": {},
   "outputs": [
    {
     "name": "stdout",
     "output_type": "stream",
     "text": [
      "Status(code=0, message='Create collection successfully!')\n"
     ]
    }
   ],
   "source": [
    "#Create collection\n",
    "\n",
    "milv.drop_collection(collection_name)\n",
    "time.sleep(.1)\n",
    "\n",
    "collection_param = {\n",
    "     \"collection_name\": collection_name,\n",
    "     \"dimension\": VECTOR_DIMENSION,\n",
    "     \"index_file_size\": 2048,\n",
    "     \"metric_type\": milvus.MetricType.JACCARD\n",
    "}\n",
    "\n",
    "status, ok = milv.has_collection(collection_name)\n",
    "\n",
    "if not ok:\n",
    "    status = milv.create_collection(collection_param)\n",
    "    print(status)"
   ]
  },
  {
   "cell_type": "markdown",
   "id": "88ace775-b19f-43c8-8d54-249ebe75b992",
   "metadata": {},
   "source": [
    "For the index we are using the ivf_flat index. We can set the index before inserting data so that it indexes concurrently."
   ]
  },
  {
   "cell_type": "code",
   "execution_count": 19,
   "id": "9b440f81-87ab-4979-a235-7aa6bfb1d302",
   "metadata": {},
   "outputs": [
    {
     "name": "stdout",
     "output_type": "stream",
     "text": [
      "(collection_name='mol_search', index_type=<IndexType: IVF_FLAT>, params={'nlist': 512})\n"
     ]
    }
   ],
   "source": [
    "#Index collection\n",
    "\n",
    "index_param = {\n",
    "    'nlist': 512\n",
    "}\n",
    "\n",
    "status = milv.create_index(collection_name, milvus.IndexType.IVF_FLAT, index_param)\n",
    "status, index = milv.get_index_info(collection_name)\n",
    "print(index)\n"
   ]
  },
  {
   "cell_type": "markdown",
   "id": "5c40791a",
   "metadata": {},
   "source": [
    "### Processing and Inserting Data into Milvus\n",
    "We can use RDKit to generate Morgan fingerprints, which defines a radius from a specific atom and calculates the number of chemical structures within the range of the radius to generate a chemical fingerprint. "
   ]
  },
  {
   "cell_type": "code",
   "execution_count": 20,
   "id": "793b9697",
   "metadata": {},
   "outputs": [],
   "source": [
    "#Process SMILES\n",
    "\n",
    "from rdkit import Chem\n",
    "from rdkit.Chem import AllChem\n",
    "from rdkit import DataStructs\n",
    "\n",
    "def smiles_to_vec(smiles):\n",
    "    mols = Chem.MolFromSmiles(smiles)\n",
    "    fp = AllChem.GetMorganFingerprintAsBitVect(mols, 2, VECTOR_DIMENSION)\n",
    "    hex_fp = DataStructs.BitVectToFPSText(fp)\n",
    "    vec = bytes.fromhex(hex_fp)\n",
    "    return vec\n",
    "\n",
    "def get_vectors(file_path):\n",
    "    ids = []\n",
    "    vectors = []\n",
    "    with open(file_path, 'r') as f:\n",
    "        for line in f:\n",
    "            line = line.strip().split()\n",
    "            smiles = line[0]\n",
    "            num = int(line[1])\n",
    "            vec = smiles_to_vec(smiles)\n",
    "            vectors.append(vec)\n",
    "            ids.append(num)\n",
    "    return vectors, ids"
   ]
  },
  {
   "cell_type": "markdown",
   "id": "dcab58f9",
   "metadata": {},
   "source": [
    "Then we can then read the SMILES file and batch insert it into Milvus."
   ]
  },
  {
   "cell_type": "code",
   "execution_count": 21,
   "id": "7e249e8a",
   "metadata": {},
   "outputs": [
    {
     "name": "stderr",
     "output_type": "stream",
     "text": [
      "RDKit WARNING: [15:06:24] WARNING: not removing hydrogen atom without neighbors\n"
     ]
    },
    {
     "name": "stdout",
     "output_type": "stream",
     "text": [
      "Status(code=0, message='Add vectors successfully!') 10000\n"
     ]
    }
   ],
   "source": [
    "# Batch insert\n",
    "\n",
    "vectors, ids = get_vectors(file_path)\n",
    "status, mids = milv.insert(collection_name, vectors, ids)\n",
    "print(status, len(mids))"
   ]
  },
  {
   "cell_type": "markdown",
   "id": "32761975",
   "metadata": {},
   "source": [
    "### Loading Mapping into MySQL\n",
    "After recieving the IDs from milvus we must save the mapping between the vector and the SMILES molecule. \n",
    "We do this buy saving the (ID, SMILES) pair in a table."
   ]
  },
  {
   "cell_type": "code",
   "execution_count": 22,
   "id": "f6f9f0e5",
   "metadata": {},
   "outputs": [],
   "source": [
    "# Create the table in MySQL\n",
    "\n",
    "def create_table_mysql(conn, cursor, table_name):\n",
    "    sql = \"create table if not exists \" + table_name + \"(smiles varchar(256), ids bigint);\"\n",
    "    try:\n",
    "        cursor.execute(sql)\n",
    "        conn.commit()\n",
    "    except Exception as e:\n",
    "        print(\"MYSQL ERROR:\", e, sql)\n",
    "\n",
    "# Load the local file to MySQL\n",
    "\n",
    "def load_data_mysql(conn, cursor, table_name, file_path):\n",
    "    sql = \"load data local infile '\" + file_path + \"' into table \" + table_name + \";\"\n",
    "    try:\n",
    "        cursor.execute(sql)\n",
    "        conn.commit()\n",
    "    except Exception as e:\n",
    "        print(\"MYSQL ERROR:\", e, sql)"
   ]
  },
  {
   "cell_type": "code",
   "execution_count": 23,
   "id": "28f75491",
   "metadata": {},
   "outputs": [],
   "source": [
    "create_table_mysql(conn, cursor, collection_name)\n",
    "load_data_mysql(conn, cursor, collection_name, file_path)"
   ]
  },
  {
   "cell_type": "markdown",
   "id": "39e780ab",
   "metadata": {},
   "source": [
    "### Searching\n",
    "With the data loaded in Milvus and the mapping loaded into MySQL, we can now perform the search. To begin, we must first transform the SMILES molecule into a molecular fingerprint. Then, with this fingerprint we can search the database, which gives us the closest IDs with their distances.\n"
   ]
  },
  {
   "cell_type": "code",
   "execution_count": 32,
   "id": "10bc65fb",
   "metadata": {},
   "outputs": [],
   "source": [
    "# Perform search\n",
    "\n",
    "def search_in_milvus(collection_name, smiles, top_k):\n",
    "    vec = smiles_to_vec(smiles)\n",
    "    search_sub_param = {\n",
    "        \"nprobe\": 16\n",
    "    }\n",
    "\n",
    "    search_param = {\n",
    "        'collection_name': collection_name,\n",
    "        'query_records': [vec],\n",
    "        'top_k': top_k,\n",
    "        'params': search_sub_param,\n",
    "    }\n",
    "    status, vectors = milv.search(**search_param)\n",
    "    print(status)\n",
    "    re_ids = [x.id for x in vectors[0]]\n",
    "    re_distance = [x.distance for x in vectors[0]]\n",
    "\n",
    "    return re_ids, re_distance"
   ]
  },
  {
   "cell_type": "markdown",
   "id": "b45dc633-fb5f-44c1-8178-6ba5a83f4976",
   "metadata": {},
   "source": [
    "With the IDs we can then search the MySQL table to find the corresponding SMILES molecules."
   ]
  },
  {
   "cell_type": "code",
   "execution_count": 33,
   "id": "1a5d4c61",
   "metadata": {},
   "outputs": [],
   "source": [
    "# Get SMILES results\n",
    "\n",
    "def search_by_milvus_id(conn, cursor, collection_name, ids):\n",
    "    str_ids = str(ids).replace('[','').replace(']','')\n",
    "    sql = \"select smiles from \" + collection_name + \" where ids in (\" + str_ids + \") order by field (ids, \" + str_ids + \");\"\n",
    "    try:\n",
    "        cursor.execute(sql)\n",
    "        results = cursor.fetchall()\n",
    "        results = [res[0] for res in results]\n",
    "        return results\n",
    "    except Exception as e:\n",
    "        print(\"MYSQL ERROR:\", e, sql)"
   ]
  },
  {
   "cell_type": "code",
   "execution_count": 34,
   "id": "fcdd9056",
   "metadata": {},
   "outputs": [
    {
     "name": "stdout",
     "output_type": "stream",
     "text": [
      "Status(code=0, message='Search vectors successfully!')\n"
     ]
    }
   ],
   "source": [
    "re_ids, re_distance = search_in_milvus(collection_name, target_smiles, 5)\n",
    "re_smiles = search_by_milvus_id(conn, cursor, collection_name, re_ids)"
   ]
  },
  {
   "cell_type": "code",
   "execution_count": 35,
   "id": "f6d642b4",
   "metadata": {},
   "outputs": [
    {
     "name": "stdout",
     "output_type": "stream",
     "text": [
      "target-smiles: Cc1ccc(cc1)S(=O)(=O)N\n"
     ]
    },
    {
     "data": {
      "image/png": "[encoded data removed]",
      "text/plain": [
       "<IPython.core.display.Image object>"
      ]
     },
     "metadata": {},
     "output_type": "display_data"
    },
    {
     "name": "stdout",
     "output_type": "stream",
     "text": [
      "results: \n",
      "Cc1ccc(cc1)S(=O)(=O)N \tids: 6269 \tdistance: 0.0\n"
     ]
    },
    {
     "data": {
      "image/png": "[encoded data removed]",
      "text/plain": [
       "<IPython.core.display.Image object>"
      ]
     },
     "metadata": {},
     "output_type": "display_data"
    },
    {
     "name": "stdout",
     "output_type": "stream",
     "text": [
      "Cc1ccc(cc1)S(=O)(=O)Cl \tids: 7397 \tdistance: 0.3636363744735718\n"
     ]
    },
    {
     "data": {
      "image/png": "[encoded data removed]",
      "text/plain": [
       "<IPython.core.display.Image object>"
      ]
     },
     "metadata": {},
     "output_type": "display_data"
    },
    {
     "name": "stdout",
     "output_type": "stream",
     "text": [
      "Nc1ccc(cc1)S(=O)(=O)N \tids: 5333 \tdistance: 0.40909090638160706\n"
     ]
    },
    {
     "data": {
      "image/png": "[encoded data removed]",
      "text/plain": [
       "<IPython.core.display.Image object>"
      ]
     },
     "metadata": {},
     "output_type": "display_data"
    },
    {
     "name": "stdout",
     "output_type": "stream",
     "text": [
      "Cc1ccc(cc1)S(=O)(=O)F \tids: 9965 \tdistance: 0.43478259444236755\n"
     ]
    },
    {
     "data": {
      "image/png": "[encoded data removed]",
      "text/plain": [
       "<IPython.core.display.Image object>"
      ]
     },
     "metadata": {},
     "output_type": "display_data"
    },
    {
     "name": "stdout",
     "output_type": "stream",
     "text": [
      "Cc1ccc(cc1)S(=O)(=O)O \tids: 6101 \tdistance: 0.43478259444236755\n"
     ]
    },
    {
     "data": {
      "image/png": "[encoded data removed]",
      "text/plain": [
       "<IPython.core.display.Image object>"
      ]
     },
     "metadata": {},
     "output_type": "display_data"
    }
   ],
   "source": [
    "#Display Results\n",
    "\n",
    "from rdkit.Chem import Draw\n",
    "\n",
    "def draw_smiles(smiles):\n",
    "    mols = Chem.MolFromSmiles(smiles)\n",
    "    img = Draw.MolsToGridImage([mols], molsPerRow=1, subImgSize=(150, 150))\n",
    "    return img\n",
    "\n",
    "img = draw_smiles(target_smiles)\n",
    "print(\"target-smiles:\", target_smiles)\n",
    "display(img)\n",
    "print(\"results: \")\n",
    "\n",
    "for s, i, d in zip(re_smiles,re_ids, re_distance):\n",
    "    print(s, \"\\tids:\", i, \"\\tdistance:\", d)\n",
    "    display(draw_smiles(s))"
   ]
  },
  {
   "cell_type": "markdown",
   "id": "40563145",
   "metadata": {},
   "source": [
    "## Conclusion\n",
    "This notebook shows how to search for similar molecules. We can also search the superstructure and substructure with the different [METRICS](https://milvus.io/docs/v1.1.0/metric.md#floating) when searching in Milvus.\n",
    "\n",
    "We have also built a [demo system](https://zilliz.com/milvus-demos), and also have an open source projects on substructure and superstructure search in [MolSearch](https://github.com/zilliztech/MolSearch). "
   ]
  },
  {
   "cell_type": "code",
   "execution_count": null,
   "id": "a09796bc-4044-4a30-8bbd-02768be847c8",
   "metadata": {},
   "outputs": [],
   "source": []
  }
 ],
 "metadata": {
  "kernelspec": {
   "display_name": "Python 3",
   "language": "python",
   "name": "python3"
  },
  "language_info": {
   "codemirror_mode": {
    "name": "ipython",
    "version": 3
   },
   "file_extension": ".py",
   "mimetype": "text/x-python",
   "name": "python",
   "nbconvert_exporter": "python",
   "pygments_lexer": "ipython3",
   "version": "3.8.0"
  }
 },
 "nbformat": 4,
 "nbformat_minor": 5
}
