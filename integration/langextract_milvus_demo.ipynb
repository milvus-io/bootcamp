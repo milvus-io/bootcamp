{
 "cells": [
  {
   "cell_type": "markdown",
   "id": "3367fdc4-0c79-4e69-a593-a6891aa14a5f",
   "metadata": {},
   "source": [
    "<a href=\"https://colab.research.google.com/github/milvus-io/bootcamp/blob/master/integration/langextract_milvus_demo.ipynb\" target=\"_parent\"><img src=\"https://colab.research.google.com/assets/colab-badge.svg\" alt=\"Open In Colab\"/></a>   <a href=\"https://github.com/milvus-io/bootcamp/blob/master/integration/langextract_milvus_demo.ipynb\" target=\"_blank\">\n",
    "    <img src=\"https://img.shields.io/badge/View%20on%20GitHub-555555?style=flat&logo=github&logoColor=white\" alt=\"GitHub Repository\"/>\n",
    "</a>\n",
    "\n",
    "\n",
    "# LangExtract + Milvus Integration\n",
    "\n",
    "This guide demonstrates how to use [LangExtract](https://github.com/google/langextract) with [Milvus](https://milvus.io/) to build an intelligent document processing and retrieval system.\n",
    "\n",
    "LangExtract is a Python library that uses Large Language Models (LLMs) to extract structured information from unstructured text documents with precise source grounding. The system combines LangExtract's extraction capabilities with Milvus's vector storage to enable both semantic similarity search and precise metadata filtering.\n",
    "\n",
    "This integration is particularly valuable for content management, semantic search, knowledge discovery, and building recommendation systems based on extracted document attributes.\n",
    "\n",
    "\n",
    "## Prerequisites\n",
    "\n",
    "Before running this notebook, make sure you have the following dependencies installed:"
   ]
  },
  {
   "cell_type": "code",
   "execution_count": null,
   "id": "dade4805-c2ea-4001-9e77-6847abf2a3ab",
   "metadata": {},
   "outputs": [],
   "source": [
    "! pip install --upgrade pymilvus langextract google-genai requests tqdm pandas"
   ]
  },
  {
   "cell_type": "markdown",
   "id": "9ca70edb-a121-40be-9397-c32a3941b332",
   "metadata": {},
   "source": [
    "> If you are using Google Colab, to enable dependencies just installed, you may need to **restart the runtime** (click on the \"Runtime\" menu at the top of the screen, and select \"Restart session\" from the dropdown menu).\n",
    "\n",
    "\n",
    "We will use Gemini as the LLM in this example. You should prepare the [api key](https://aistudio.google.com/app/apikey) `GEMINI_API_KEY` as an environment variable."
   ]
  },
  {
   "cell_type": "code",
   "execution_count": null,
   "id": "6741c94e-f8ce-473f-bc65-c15396f5bbdd",
   "metadata": {},
   "outputs": [],
   "source": [
    "import os\n",
    "\n",
    "os.environ[\"GEMINI_API_KEY\"] = \"AIza*****************\""
   ]
  },
  {
   "cell_type": "markdown",
   "id": "e6e5a8a5-9695-4b00-b88e-f83336d32f9a",
   "metadata": {},
   "source": [
    "## Define the LangExtract + Milvus pipeline\n",
    "\n",
    "We will define the pipeline that uses LangExtract for structured information extraction and Milvus as the vector store."
   ]
  },
  {
   "cell_type": "code",
   "execution_count": 15,
   "id": "5883b27c-3753-46f8-845b-5bf7846070a8",
   "metadata": {},
   "outputs": [],
   "source": [
    "import langextract as lx\n",
    "import textwrap\n",
    "from google import genai\n",
    "from google.genai.types import EmbedContentConfig\n",
    "from pymilvus import MilvusClient, DataType\n",
    "import uuid"
   ]
  },
  {
   "cell_type": "markdown",
   "id": "301c301a-3a7b-4d00-a03f-b0b5f72f3526",
   "metadata": {},
   "source": [
    "## Configuration and Setup\n",
    "\n",
    "Let's configure our global parameters for the integration. We'll use Gemini's embedding model to generate vector representations for our documents."
   ]
  },
  {
   "cell_type": "code",
   "execution_count": 16,
   "id": "8a68b9f9-58e6-44ab-b34c-233a4a86d221",
   "metadata": {},
   "outputs": [],
   "source": [
    "genai_client = genai.Client()\n",
    "\n",
    "COLLECTION_NAME = \"document_extractions\"\n",
    "EMBEDDING_MODEL = \"gemini-embedding-001\"\n",
    "EMBEDDING_DIM = 3072  # Default dimension for gemini-embedding-001"
   ]
  },
  {
   "cell_type": "markdown",
   "id": "a5b99f5e-c1d4-4ed4-a57f-03c8b1402b33",
   "metadata": {},
   "source": [
    "## Initialize Milvus Client\n",
    "\n",
    "Now let's initialize our Milvus client. We'll use a local database file for simplicity, but this can easily be scaled to a full Milvus server deployment."
   ]
  },
  {
   "cell_type": "code",
   "execution_count": 17,
   "id": "6d9ba73a-1159-423e-9654-7e6c89bcdadd",
   "metadata": {},
   "outputs": [],
   "source": [
    "client = MilvusClient(uri=\"./milvus_demo.db\")"
   ]
  },
  {
   "cell_type": "markdown",
   "id": "62891eab-f293-474e-b720-45f8d713d6eb",
   "metadata": {},
   "source": [
    "> As for the argument of `MilvusClient`:\n",
    "> - Setting the `uri` as a local file, e.g.`./milvus.db`, is the most convenient method, as it automatically utilizes [Milvus Lite](https://milvus.io/docs/milvus_lite.md) to store all data in this file.\n",
    "> - If you have large scale of data, you can set up a more performant Milvus server on [docker or kubernetes](https://milvus.io/docs/quickstart.md). In this setup, please use the server uri, e.g.`http://localhost:19530`, as your `uri`.\n",
    "> - If you want to use [Zilliz Cloud](https://zilliz.com/cloud), the fully managed cloud service for Milvus, adjust the `uri` and `token`, which correspond to the [Public Endpoint and Api key](https://docs.zilliz.com/docs/on-zilliz-cloud-console#free-cluster-details) in Zilliz Cloud.\n",
    "\n",
    "\n",
    "## Sample Data Preparation\n",
    "\n",
    "For this demonstration, we'll use movie descriptions as our sample documents. This showcases LangExtract's ability to extract structured information like genres, characters, and themes from unstructured text."
   ]
  },
  {
   "cell_type": "code",
   "execution_count": 18,
   "id": "5b0051ed-739d-44b6-a598-79f5b997a07a",
   "metadata": {},
   "outputs": [
    {
     "name": "stdout",
     "output_type": "stream",
     "text": [
      "=== LangExtract + Milvus Integration Demo ===\n",
      "Preparing to process 10 documents\n"
     ]
    }
   ],
   "source": [
    "sample_documents = [\n",
    "    \"John McClane fights terrorists in a Los Angeles skyscraper during Christmas Eve. The action-packed thriller features intense gunfights and explosive scenes.\",\n",
    "    \"A young wizard named Harry Potter discovers his magical abilities at Hogwarts School. The fantasy adventure includes magical creatures and epic battles.\",\n",
    "    \"Tony Stark builds an advanced suit of armor to become Iron Man. The superhero movie showcases cutting-edge technology and spectacular action sequences.\",\n",
    "    \"A group of friends get lost in a haunted forest where supernatural creatures lurk. The horror film creates a terrifying atmosphere with jump scares.\",\n",
    "    \"Two detectives investigate a series of mysterious murders in New York City. The crime thriller features suspenseful plot twists and dramatic confrontations.\",\n",
    "    \"A brilliant scientist creates artificial intelligence that becomes self-aware. The sci-fi thriller explores the dangers of advanced technology and human survival.\",\n",
    "    \"A romantic comedy about two friends who fall in love during a cross-country road trip. The drama explores personal growth and relationship dynamics.\",\n",
    "    \"An evil sorcerer threatens to destroy the magical kingdom. A brave hero must gather allies and master ancient magic to save the fantasy world.\",\n",
    "    \"Space marines battle alien invaders on a distant planet. The action sci-fi movie features futuristic weapons and intense combat in space.\",\n",
    "    \"A detective investigates supernatural crimes in Victorian London. The horror thriller combines period drama with paranormal investigation themes.\",\n",
    "]\n",
    "\n",
    "print(\"=== LangExtract + Milvus Integration Demo ===\")\n",
    "print(f\"Preparing to process {len(sample_documents)} documents\")"
   ]
  },
  {
   "cell_type": "markdown",
   "id": "4ff09e5f-926d-47a6-8532-7a9d45e1e2c6",
   "metadata": {},
   "source": [
    "## Setting Up the Milvus Collection\n",
    "\n",
    "Before we can store our extracted data, we need to create a Milvus collection with the appropriate schema. This collection will store the original document text, vector embeddings, and extracted metadata fields."
   ]
  },
  {
   "cell_type": "code",
   "execution_count": 19,
   "id": "2d38cef1-9786-450b-8d9c-dc7589cafaee",
   "metadata": {},
   "outputs": [
    {
     "name": "stdout",
     "output_type": "stream",
     "text": [
      "\n",
      "1. Setting up Milvus collection...\n",
      "Dropped existing collection: document_extractions\n",
      "Collection 'document_extractions' created successfully\n",
      "Vector index created successfully\n"
     ]
    }
   ],
   "source": [
    "print(\"\\n1. Setting up Milvus collection...\")\n",
    "\n",
    "# Drop existing collection if it exists\n",
    "if client.has_collection(collection_name=COLLECTION_NAME):\n",
    "    client.drop_collection(collection_name=COLLECTION_NAME)\n",
    "    print(f\"Dropped existing collection: {COLLECTION_NAME}\")\n",
    "\n",
    "# Create collection schema\n",
    "schema = client.create_schema(\n",
    "    auto_id=False,\n",
    "    enable_dynamic_field=True,\n",
    "    description=\"Document extraction results and vector storage\",\n",
    ")\n",
    "\n",
    "# Add fields - simplified to 3 main metadata fields\n",
    "schema.add_field(\n",
    "    field_name=\"id\", datatype=DataType.VARCHAR, max_length=100, is_primary=True\n",
    ")\n",
    "schema.add_field(\n",
    "    field_name=\"document_text\", datatype=DataType.VARCHAR, max_length=10000\n",
    ")\n",
    "schema.add_field(\n",
    "    field_name=\"embedding\", datatype=DataType.FLOAT_VECTOR, dim=EMBEDDING_DIM\n",
    ")\n",
    "\n",
    "# Create collection\n",
    "client.create_collection(collection_name=COLLECTION_NAME, schema=schema)\n",
    "print(f\"Collection '{COLLECTION_NAME}' created successfully\")\n",
    "\n",
    "# Create vector index\n",
    "index_params = client.prepare_index_params()\n",
    "index_params.add_index(\n",
    "    field_name=\"embedding\",\n",
    "    index_type=\"AUTOINDEX\",\n",
    "    metric_type=\"COSINE\",\n",
    ")\n",
    "client.create_index(collection_name=COLLECTION_NAME, index_params=index_params)\n",
    "print(\"Vector index created successfully\")"
   ]
  },
  {
   "cell_type": "markdown",
   "id": "d37e2c49-7a3d-4d8a-bd74-ddd9b70f0106",
   "metadata": {},
   "source": [
    "## Defining the Extraction Schema\n",
    "\n",
    "LangExtract uses prompts and examples to guide the LLM in extracting structured information. Let's define our extraction schema for movie descriptions, specifying what information to extract and how to categorize it."
   ]
  },
  {
   "cell_type": "code",
   "execution_count": 20,
   "id": "87bf8d84-6701-4eba-81ea-c53e2467c48c",
   "metadata": {},
   "outputs": [
    {
     "name": "stdout",
     "output_type": "stream",
     "text": [
      "\n",
      "2. Extracting tags from documents...\n"
     ]
    }
   ],
   "source": [
    "print(\"\\n2. Extracting tags from documents...\")\n",
    "\n",
    "# Define extraction prompt - for movie descriptions, specify attribute value ranges\n",
    "prompt = textwrap.dedent(\n",
    "    \"\"\"\\\n",
    "    Extract movie genre, main characters, and key themes from movie descriptions.\n",
    "    Use exact text for extractions. Do not paraphrase or overlap entities.\n",
    "    \n",
    "    For each extraction, provide attributes with values from these predefined sets:\n",
    "    \n",
    "    Genre attributes:\n",
    "    - primary_genre: [\"action\", \"comedy\", \"drama\", \"horror\", \"sci-fi\", \"fantasy\", \"thriller\", \"crime\", \"superhero\"]\n",
    "    - secondary_genre: [\"action\", \"comedy\", \"drama\", \"horror\", \"sci-fi\", \"fantasy\", \"thriller\", \"crime\", \"superhero\"]\n",
    "    \n",
    "    Character attributes:\n",
    "    - role: [\"protagonist\", \"antagonist\", \"supporting\"]\n",
    "    - type: [\"hero\", \"villain\", \"detective\", \"military\", \"wizard\", \"scientist\", \"friends\", \"investigator\"]\n",
    "    \n",
    "    Theme attributes:\n",
    "    - theme_type: [\"conflict\", \"investigation\", \"personal_growth\", \"technology\", \"magic\", \"survival\", \"romance\"]\n",
    "    - setting: [\"urban\", \"space\", \"fantasy_world\", \"school\", \"forest\", \"victorian\", \"america\", \"future\"]\n",
    "    \n",
    "    Focus on identifying key elements that would be useful for movie search and filtering.\"\"\"\n",
    ")"
   ]
  },
  {
   "cell_type": "markdown",
   "id": "9976fb30-e664-4d59-be82-602e4956a6c3",
   "metadata": {},
   "source": [
    "## Providing Examples for Better Extraction\n",
    "\n",
    "To improve the quality and consistency of extractions, we'll provide LangExtract with a few examples. These examples demonstrate the expected format and help the model understand our extraction requirements."
   ]
  },
  {
   "cell_type": "code",
   "execution_count": null,
   "id": "ff7e988b-47d2-48b4-bdda-63dfba9445c0",
   "metadata": {},
   "outputs": [],
   "source": [
    "# Provide examples to guide the model - n-shot examples for movie descriptions\n",
    "# Unify attribute keys to ensure consistency in extraction results\n",
    "examples = [\n",
    "    lx.data.ExampleData(\n",
    "        text=\"A space marine battles alien creatures on a distant planet. The sci-fi action movie features futuristic weapons and intense combat scenes.\",\n",
    "        extractions=[\n",
    "            lx.data.Extraction(\n",
    "                extraction_class=\"genre\",\n",
    "                extraction_text=\"sci-fi action\",\n",
    "                attributes={\"primary_genre\": \"sci-fi\", \"secondary_genre\": \"action\"},\n",
    "            ),\n",
    "            lx.data.Extraction(\n",
    "                extraction_class=\"character\",\n",
    "                extraction_text=\"space marine\",\n",
    "                attributes={\"role\": \"protagonist\", \"type\": \"military\"},\n",
    "            ),\n",
    "            lx.data.Extraction(\n",
    "                extraction_class=\"theme\",\n",
    "                extraction_text=\"battles alien creatures\",\n",
    "                attributes={\"theme_type\": \"conflict\", \"setting\": \"space\"},\n",
    "            ),\n",
    "        ],\n",
    "    ),\n",
    "    lx.data.ExampleData(\n",
    "        text=\"A detective investigates supernatural murders in Victorian London. The horror thriller film combines period drama with paranormal elements.\",\n",
    "        extractions=[\n",
    "            lx.data.Extraction(\n",
    "                extraction_class=\"genre\",\n",
    "                extraction_text=\"horror thriller\",\n",
    "                attributes={\"primary_genre\": \"horror\", \"secondary_genre\": \"thriller\"},\n",
    "            ),\n",
    "            lx.data.Extraction(\n",
    "                extraction_class=\"character\",\n",
    "                extraction_text=\"detective\",\n",
    "                attributes={\"role\": \"protagonist\", \"type\": \"detective\"},\n",
    "            ),\n",
    "            lx.data.Extraction(\n",
    "                extraction_class=\"theme\",\n",
    "                extraction_text=\"supernatural murders\",\n",
    "                attributes={\"theme_type\": \"investigation\", \"setting\": \"victorian\"},\n",
    "            ),\n",
    "        ],\n",
    "    ),\n",
    "    lx.data.ExampleData(\n",
    "        text=\"Two friends embark on a road trip adventure across America. The comedy drama explores friendship and self-discovery through humorous situations.\",\n",
    "        extractions=[\n",
    "            lx.data.Extraction(\n",
    "                extraction_class=\"genre\",\n",
    "                extraction_text=\"comedy drama\",\n",
    "                attributes={\"primary_genre\": \"comedy\", \"secondary_genre\": \"drama\"},\n",
    "            ),\n",
    "            lx.data.Extraction(\n",
    "                extraction_class=\"character\",\n",
    "                extraction_text=\"two friends\",\n",
    "                attributes={\"role\": \"protagonist\", \"type\": \"friends\"},\n",
    "            ),\n",
    "            lx.data.Extraction(\n",
    "                extraction_class=\"theme\",\n",
    "                extraction_text=\"friendship and self-discovery\",\n",
    "                attributes={\"theme_type\": \"personal_growth\", \"setting\": \"america\"},\n",
    "            ),\n",
    "        ],\n",
    "    ),\n",
    "]\n",
    "\n",
    "# Extract from each document\n",
    "extraction_results = []\n",
    "for doc in sample_documents:\n",
    "    result = lx.extract(\n",
    "        text_or_documents=doc,\n",
    "        prompt_description=prompt,\n",
    "        examples=examples,\n",
    "        model_id=\"gemini-2.0-flash\",\n",
    "    )\n",
    "    extraction_results.append(result)\n",
    "    print(f\"Successfully extracted from document: {doc[:50]}...\")\n",
    "\n",
    "print(f\"Completed tag extraction, processed {len(extraction_results)} documents\")"
   ]
  },
  {
   "cell_type": "markdown",
   "id": "a79902e2-1ccc-45d2-a3c7-ae69587f07a2",
   "metadata": {},
   "source": [
    "## Processing and Vectorizing the Results\n",
    "\n",
    "Now we need to process the extraction results and generate vector embeddings for each document. We'll also flatten the extracted attributes into separate fields to make them easily searchable in Milvus."
   ]
  },
  {
   "cell_type": "code",
   "execution_count": 22,
   "id": "f449fdd7-6adb-4c75-ba22-1471d0d39c9a",
   "metadata": {},
   "outputs": [
    {
     "name": "stdout",
     "output_type": "stream",
     "text": [
      "\n",
      "3. Processing extraction results and generating vectors...\n",
      "Successfully generated vector: John McClane fights terrorists...\n",
      "Successfully generated vector: A young wizard named Harry Pot...\n",
      "Successfully generated vector: Tony Stark builds an advanced ...\n",
      "Successfully generated vector: A group of friends get lost in...\n",
      "Successfully generated vector: Two detectives investigate a s...\n",
      "Successfully generated vector: A brilliant scientist creates ...\n",
      "Successfully generated vector: A romantic comedy about two fr...\n",
      "Successfully generated vector: An evil sorcerer threatens to ...\n",
      "Successfully generated vector: Space marines battle alien inv...\n",
      "Successfully generated vector: A detective investigates super...\n",
      "Completed data processing, ready to insert 10 records\n"
     ]
    }
   ],
   "source": [
    "print(\"\\n3. Processing extraction results and generating vectors...\")\n",
    "\n",
    "processed_data = []\n",
    "\n",
    "for result in extraction_results:\n",
    "    # Generate vectors for documents\n",
    "    embedding_response = genai_client.models.embed_content(\n",
    "        model=EMBEDDING_MODEL,\n",
    "        contents=[result.text],\n",
    "        config=EmbedContentConfig(\n",
    "            task_type=\"RETRIEVAL_DOCUMENT\",\n",
    "            output_dimensionality=EMBEDDING_DIM,\n",
    "        ),\n",
    "    )\n",
    "    embedding = embedding_response.embeddings[0].values\n",
    "    print(f\"Successfully generated vector: {result.text[:30]}...\")\n",
    "\n",
    "    # Initialize data structure, flatten attributes into separate fields\n",
    "    data_entry = {\n",
    "        \"id\": result.document_id or str(uuid.uuid4()),\n",
    "        \"document_text\": result.text,\n",
    "        \"embedding\": embedding,\n",
    "        # Initialize all possible fields with default values\n",
    "        \"genre\": \"unknown\",\n",
    "        \"primary_genre\": \"unknown\",\n",
    "        \"secondary_genre\": \"unknown\",\n",
    "        \"character_role\": \"unknown\",\n",
    "        \"character_type\": \"unknown\",\n",
    "        \"theme_type\": \"unknown\",\n",
    "        \"theme_setting\": \"unknown\",\n",
    "    }\n",
    "\n",
    "    # Process extraction results, flatten attributes\n",
    "    for extraction in result.extractions:\n",
    "        if extraction.extraction_class == \"genre\":\n",
    "            # Flatten genre attributes\n",
    "            data_entry[\"genre\"] = extraction.extraction_text\n",
    "            attrs = extraction.attributes or {}\n",
    "            data_entry[\"primary_genre\"] = attrs.get(\"primary_genre\", \"unknown\")\n",
    "            data_entry[\"secondary_genre\"] = attrs.get(\"secondary_genre\", \"unknown\")\n",
    "\n",
    "        elif extraction.extraction_class == \"character\":\n",
    "            # Flatten character attributes (take first main character's attributes)\n",
    "            attrs = extraction.attributes or {}\n",
    "            if (\n",
    "                data_entry[\"character_role\"] == \"unknown\"\n",
    "            ):  # Only take first character's attributes\n",
    "                data_entry[\"character_role\"] = attrs.get(\"role\", \"unknown\")\n",
    "                data_entry[\"character_type\"] = attrs.get(\"type\", \"unknown\")\n",
    "\n",
    "        elif extraction.extraction_class == \"theme\":\n",
    "            # Flatten theme attributes (take first main theme's attributes)\n",
    "            attrs = extraction.attributes or {}\n",
    "            if (\n",
    "                data_entry[\"theme_type\"] == \"unknown\"\n",
    "            ):  # Only take first theme's attributes\n",
    "                data_entry[\"theme_type\"] = attrs.get(\"theme_type\", \"unknown\")\n",
    "                data_entry[\"theme_setting\"] = attrs.get(\"setting\", \"unknown\")\n",
    "\n",
    "    processed_data.append(data_entry)\n",
    "\n",
    "print(f\"Completed data processing, ready to insert {len(processed_data)} records\")"
   ]
  },
  {
   "cell_type": "markdown",
   "id": "f2e633b1-b39e-4287-8fe1-05e044933a7b",
   "metadata": {},
   "source": [
    "## Inserting Data into Milvus\n",
    "\n",
    "With our processed data ready, let's insert it into the Milvus collection. This will enable us to perform both semantic searches and precise metadata filtering."
   ]
  },
  {
   "cell_type": "code",
   "execution_count": 23,
   "id": "ff2d7a3a-21f3-4049-b802-50e5b1e1b0b9",
   "metadata": {},
   "outputs": [
    {
     "name": "stdout",
     "output_type": "stream",
     "text": [
      "\n",
      "4. Inserting data into Milvus...\n",
      "Successfully inserted 10 documents into Milvus\n",
      "Insert result: {'insert_count': 10, 'ids': ['doc_f8797155', 'doc_78c7e586', 'doc_fa3a3ab5', 'doc_64981815', 'doc_3ab18cb2', 'doc_1ea42b18', 'doc_f0779243', 'doc_386590b7', 'doc_3b3ae1ab', 'doc_851089d6']}\n"
     ]
    }
   ],
   "source": [
    "print(\"\\n4. Inserting data into Milvus...\")\n",
    "\n",
    "if processed_data:\n",
    "    res = client.insert(collection_name=COLLECTION_NAME, data=processed_data)\n",
    "    print(f\"Successfully inserted {len(processed_data)} documents into Milvus\")\n",
    "    print(f\"Insert result: {res}\")\n",
    "else:\n",
    "    print(\"No data to insert\")"
   ]
  },
  {
   "cell_type": "markdown",
   "id": "bdfedd15-7344-4f84-a909-5e8fc76fd307",
   "metadata": {},
   "source": [
    "## Demonstrating Metadata Filtering\n",
    "\n",
    "One of the key advantages of combining LangExtract with Milvus is the ability to perform precise filtering based on extracted metadata. Let's demonstrate this with some filter expression searches."
   ]
  },
  {
   "cell_type": "code",
   "execution_count": 24,
   "id": "20264e81-1f3a-49c4-86e8-f8e1b31e3e0d",
   "metadata": {},
   "outputs": [
    {
     "name": "stdout",
     "output_type": "stream",
     "text": [
      "\n",
      "=== Filter Expression Search Examples ===\n",
      "Loading collection into memory...\n",
      "Collection loaded successfully\n",
      "\n",
      "1. Searching for thriller movies:\n",
      "- A brilliant scientist creates artificial intelligence that becomes self-aware. The sci-fi thriller e...\n",
      "  Genre: sci-fi thriller (sci-fi-thriller)\n",
      "- Two detectives investigate a series of mysterious murders in New York City. The crime thriller featu...\n",
      "  Genre: crime thriller (crime-thriller)\n",
      "- A detective investigates supernatural crimes in Victorian London. The horror thriller combines perio...\n",
      "  Genre: horror thriller (horror-thriller)\n",
      "- John McClane fights terrorists in a Los Angeles skyscraper during Christmas Eve. The action-packed t...\n",
      "  Genre: action-packed thriller (action-thriller)\n",
      "\n",
      "2. Searching for movies with military characters:\n",
      "- Space marines battle alien invaders on a distant planet. The action sci-fi movie features futuristic...\n",
      "  Genre: action sci-fi\n",
      "  Character: protagonist (military)\n"
     ]
    }
   ],
   "source": [
    "print(\"\\n=== Filter Expression Search Examples ===\")\n",
    "\n",
    "# Load collection into memory for querying\n",
    "print(\"Loading collection into memory...\")\n",
    "client.load_collection(collection_name=COLLECTION_NAME)\n",
    "print(\"Collection loaded successfully\")\n",
    "\n",
    "# Search for thriller movies\n",
    "print(\"\\n1. Searching for thriller movies:\")\n",
    "results = client.query(\n",
    "    collection_name=COLLECTION_NAME,\n",
    "    filter='secondary_genre == \"thriller\"',\n",
    "    output_fields=[\"document_text\", \"genre\", \"primary_genre\", \"secondary_genre\"],\n",
    "    limit=5,\n",
    ")\n",
    "\n",
    "for result in results:\n",
    "    print(f\"- {result['document_text'][:100]}...\")\n",
    "    print(\n",
    "        f\"  Genre: {result['genre']} ({result.get('primary_genre')}-{result.get('secondary_genre')})\"\n",
    "    )\n",
    "\n",
    "# Search for movies with military characters\n",
    "print(\"\\n2. Searching for movies with military characters:\")\n",
    "results = client.query(\n",
    "    collection_name=COLLECTION_NAME,\n",
    "    filter='character_type == \"military\"',\n",
    "    output_fields=[\"document_text\", \"genre\", \"character_role\", \"character_type\"],\n",
    "    limit=5,\n",
    ")\n",
    "\n",
    "for result in results:\n",
    "    print(f\"- {result['document_text'][:100]}...\")\n",
    "    print(f\"  Genre: {result['genre']}\")\n",
    "    print(\n",
    "        f\"  Character: {result.get('character_role')} ({result.get('character_type')})\"\n",
    "    )"
   ]
  },
  {
   "cell_type": "markdown",
   "id": "9a8ef6ef-0df7-4cc4-9429-83abd4ff502e",
   "metadata": {},
   "source": [
    "## Combining Semantic Search with Metadata Filtering\n",
    "\n",
    "The real power of this integration comes from combining semantic vector search with precise metadata filtering. This allows us to find semantically similar content while applying specific constraints based on extracted attributes."
   ]
  },
  {
   "cell_type": "code",
   "execution_count": 25,
   "id": "18ca081e-1fd0-4415-9e1e-d6fa7038569d",
   "metadata": {},
   "outputs": [
    {
     "name": "stdout",
     "output_type": "stream",
     "text": [
      "\n",
      "=== Semantic Search Examples ===\n",
      "\n",
      "1. Searching for action-related content + only thriller genre:\n",
      "- Similarity: 0.6947\n",
      "  Text: John McClane fights terrorists in a Los Angeles skyscraper during Christmas Eve. The action-packed t...\n",
      "  Genre: action-packed thriller (action-thriller)\n",
      "- Similarity: 0.6128\n",
      "  Text: Two detectives investigate a series of mysterious murders in New York City. The crime thriller featu...\n",
      "  Genre: crime thriller (crime-thriller)\n",
      "- Similarity: 0.5889\n",
      "  Text: A brilliant scientist creates artificial intelligence that becomes self-aware. The sci-fi thriller e...\n",
      "  Genre: sci-fi thriller (sci-fi-thriller)\n",
      "\n",
      "2. Searching for magic-related content + fantasy genre + conflict theme:\n",
      "- Similarity: 0.6986\n",
      "  Text: An evil sorcerer threatens to destroy the magical kingdom. A brave hero must gather allies and maste...\n",
      "  Genre: fantasy (fantasy)\n",
      "  Theme: conflict (fantasy_world)\n",
      "\n",
      "=== Demo Complete ===\n"
     ]
    }
   ],
   "source": [
    "print(\"\\n=== Semantic Search Examples ===\")\n",
    "\n",
    "# 1. Search for action-related content + only thriller genre\n",
    "print(\"\\n1. Searching for action-related content + only thriller genre:\")\n",
    "query_text = \"action fight combat battle explosion\"\n",
    "\n",
    "query_embedding_response = genai_client.models.embed_content(\n",
    "    model=EMBEDDING_MODEL,\n",
    "    contents=[query_text],\n",
    "    config=EmbedContentConfig(\n",
    "        task_type=\"RETRIEVAL_QUERY\",\n",
    "        output_dimensionality=EMBEDDING_DIM,\n",
    "    ),\n",
    ")\n",
    "query_embedding = query_embedding_response.embeddings[0].values\n",
    "\n",
    "results = client.search(\n",
    "    collection_name=COLLECTION_NAME,\n",
    "    data=[query_embedding],\n",
    "    anns_field=\"embedding\",\n",
    "    limit=3,\n",
    "    filter='secondary_genre == \"thriller\"',\n",
    "    output_fields=[\"document_text\", \"genre\", \"primary_genre\", \"secondary_genre\"],\n",
    "    search_params={\"metric_type\": \"COSINE\"},\n",
    ")\n",
    "\n",
    "if results:\n",
    "    for result in results[0]:\n",
    "        print(f\"- Similarity: {result['distance']:.4f}\")\n",
    "        print(f\"  Text: {result['document_text'][:100]}...\")\n",
    "        print(\n",
    "            f\"  Genre: {result.get('genre')} ({result.get('primary_genre')}-{result.get('secondary_genre')})\"\n",
    "        )\n",
    "\n",
    "# 2. Search for magic-related content + fantasy genre + conflict theme\n",
    "print(\"\\n2. Searching for magic-related content + fantasy genre + conflict theme:\")\n",
    "query_text = \"magic wizard spell fantasy magical\"\n",
    "\n",
    "query_embedding_response = genai_client.models.embed_content(\n",
    "    model=EMBEDDING_MODEL,\n",
    "    contents=[query_text],\n",
    "    config=EmbedContentConfig(\n",
    "        task_type=\"RETRIEVAL_QUERY\",\n",
    "        output_dimensionality=EMBEDDING_DIM,\n",
    "    ),\n",
    ")\n",
    "query_embedding = query_embedding_response.embeddings[0].values\n",
    "\n",
    "results = client.search(\n",
    "    collection_name=COLLECTION_NAME,\n",
    "    data=[query_embedding],\n",
    "    anns_field=\"embedding\",\n",
    "    limit=3,\n",
    "    filter='primary_genre == \"fantasy\" and theme_type == \"conflict\"',\n",
    "    output_fields=[\n",
    "        \"document_text\",\n",
    "        \"genre\",\n",
    "        \"primary_genre\",\n",
    "        \"theme_type\",\n",
    "        \"theme_setting\",\n",
    "    ],\n",
    "    search_params={\"metric_type\": \"COSINE\"},\n",
    ")\n",
    "\n",
    "if results:\n",
    "    for result in results[0]:\n",
    "        print(f\"- Similarity: {result['distance']:.4f}\")\n",
    "        print(f\"  Text: {result['document_text'][:100]}...\")\n",
    "        print(f\"  Genre: {result.get('genre')} ({result.get('primary_genre')})\")\n",
    "        print(f\"  Theme: {result.get('theme_type')} ({result.get('theme_setting')})\")\n",
    "\n",
    "print(\"\\n=== Demo Complete ===\")"
   ]
  }
 ],
 "metadata": {
  "kernelspec": {
   "display_name": "Python 3 (ipykernel)",
   "language": "python",
   "name": "python3"
  },
  "language_info": {
   "codemirror_mode": {
    "name": "ipython",
    "version": 3
   },
   "file_extension": ".py",
   "mimetype": "text/x-python",
   "name": "python",
   "nbconvert_exporter": "python",
   "pygments_lexer": "ipython3",
   "version": "3.11.9"
  }
 },
 "nbformat": 4,
 "nbformat_minor": 5
}
