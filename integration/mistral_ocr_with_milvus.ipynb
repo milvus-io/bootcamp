{
 "cells": [
  {
   "cell_type": "markdown",
   "metadata": {},
   "source": [
    "<a href=\"https://colab.research.google.com/github/milvus-io/bootcamp/blob/master/integration/mistral_ocr_with_milvus.ipynb\" target=\"_parent\"><img src=\"https://colab.research.google.com/assets/colab-badge.svg\" alt=\"Open In Colab\"/></a>   <a href=\"https://github.com/milvus-io/bootcamp/blob/master/integration/mistral_ocr_with_milvus.ipynb\" target=\"_blank\">\n",
    "    <img src=\"https://img.shields.io/badge/View%20on%20GitHub-555555?style=flat&logo=github&logoColor=white\" alt=\"GitHub Repository\"/>\n",
    "</a>\n"
   ]
  },
  {
   "cell_type": "markdown",
   "metadata": {},
   "source": [
    "# Document Understanding with Mistral OCR and Milvus\n",
    "\n",
    "This tutorial demonstrates how to build a document understanding system using:\n",
    "\n",
    "## Mistral OCR\n",
    "A powerful optical character recognition service that:\n",
    "* Processes PDFs, images, and other document formats\n",
    "* Preserves document structure and formatting\n",
    "* Handles multi-page documents\n",
    "* Recognizes tables, lists, and other complex elements\n",
    "\n",
    "## Mistral Embeddings\n",
    "* Transforms text into numerical representations:\n",
    "* Converts text into 1024-dimensional vectors\n",
    "* Captures semantic relationships between concepts\n",
    "* Enables similarity matching based on meaning\n",
    "* Provides foundation for semantic search\n",
    "\n",
    "## Milvus Vector Database\n",
    "Specialized database for vector similarity search:\n",
    "* Open-Source\n",
    "* Performs efficient Vector Search\n",
    "* Scales to large document collections\n",
    "* Supports hybrid search (vector similarity + metadata filtering)\n",
    "* Optimized for AI applications\n",
    "\n",
    "By the end of this tutorial, you'll have a system that can:\n",
    "1. Process documents (PDFs/images) via URLs\n",
    "2. Extract text using OCR\n",
    "3. Store the text and vector embeddings in Milvus\n",
    "4. Perform semantic search across your document collection\n",
    "\n",
    "---"
   ]
  },
  {
   "cell_type": "markdown",
   "metadata": {},
   "source": [
    "## Setup and Dependencies\n",
    "\n",
    "First, let's install the required packages:"
   ]
  },
  {
   "cell_type": "code",
   "execution_count": 1,
   "metadata": {},
   "outputs": [
    {
     "name": "stdout",
     "output_type": "stream",
     "text": [
      "Requirement already satisfied: mistralai in /Users/stephen/.pyenv/versions/3.12.2/lib/python3.12/site-packages (1.5.1)\n",
      "Requirement already satisfied: pymilvus in /Users/stephen/.pyenv/versions/3.12.2/lib/python3.12/site-packages (2.5.3)\n",
      "Requirement already satisfied: python-dotenv in /Users/stephen/.pyenv/versions/3.12.2/lib/python3.12/site-packages (1.0.1)\n",
      "Requirement already satisfied: eval-type-backport>=0.2.0 in /Users/stephen/.pyenv/versions/3.12.2/lib/python3.12/site-packages (from mistralai) (0.2.2)\n",
      "Requirement already satisfied: httpx>=0.27.0 in /Users/stephen/.pyenv/versions/3.12.2/lib/python3.12/site-packages (from mistralai) (0.28.1)\n",
      "Requirement already satisfied: jsonpath-python>=1.0.6 in /Users/stephen/.pyenv/versions/3.12.2/lib/python3.12/site-packages (from mistralai) (1.0.6)\n",
      "Requirement already satisfied: pydantic>=2.9.0 in /Users/stephen/.pyenv/versions/3.12.2/lib/python3.12/site-packages (from mistralai) (2.10.4)\n",
      "Requirement already satisfied: python-dateutil>=2.8.2 in /Users/stephen/.pyenv/versions/3.12.2/lib/python3.12/site-packages (from mistralai) (2.9.0.post0)\n",
      "Requirement already satisfied: typing-inspect>=0.9.0 in /Users/stephen/.pyenv/versions/3.12.2/lib/python3.12/site-packages (from mistralai) (0.9.0)\n",
      "Requirement already satisfied: setuptools>69 in /Users/stephen/.pyenv/versions/3.12.2/lib/python3.12/site-packages (from pymilvus) (75.6.0)\n",
      "Requirement already satisfied: grpcio<=1.67.1,>=1.49.1 in /Users/stephen/.pyenv/versions/3.12.2/lib/python3.12/site-packages (from pymilvus) (1.67.1)\n",
      "Requirement already satisfied: protobuf>=3.20.0 in /Users/stephen/.pyenv/versions/3.12.2/lib/python3.12/site-packages (from pymilvus) (5.29.2)\n",
      "Requirement already satisfied: ujson>=2.0.0 in /Users/stephen/.pyenv/versions/3.12.2/lib/python3.12/site-packages (from pymilvus) (5.10.0)\n",
      "Requirement already satisfied: pandas>=1.2.4 in /Users/stephen/.pyenv/versions/3.12.2/lib/python3.12/site-packages (from pymilvus) (2.2.3)\n",
      "Requirement already satisfied: milvus-lite>=2.4.0 in /Users/stephen/.pyenv/versions/3.12.2/lib/python3.12/site-packages (from pymilvus) (2.4.11)\n",
      "Requirement already satisfied: anyio in /Users/stephen/.pyenv/versions/3.12.2/lib/python3.12/site-packages (from httpx>=0.27.0->mistralai) (4.7.0)\n",
      "Requirement already satisfied: certifi in /Users/stephen/.pyenv/versions/3.12.2/lib/python3.12/site-packages (from httpx>=0.27.0->mistralai) (2024.2.2)\n",
      "Requirement already satisfied: httpcore==1.* in /Users/stephen/.pyenv/versions/3.12.2/lib/python3.12/site-packages (from httpx>=0.27.0->mistralai) (1.0.7)\n",
      "Requirement already satisfied: idna in /Users/stephen/.pyenv/versions/3.12.2/lib/python3.12/site-packages (from httpx>=0.27.0->mistralai) (3.6)\n",
      "Requirement already satisfied: h11<0.15,>=0.13 in /Users/stephen/.pyenv/versions/3.12.2/lib/python3.12/site-packages (from httpcore==1.*->httpx>=0.27.0->mistralai) (0.14.0)\n",
      "Requirement already satisfied: tqdm in /Users/stephen/.pyenv/versions/3.12.2/lib/python3.12/site-packages (from milvus-lite>=2.4.0->pymilvus) (4.67.1)\n",
      "Requirement already satisfied: numpy>=1.26.0 in /Users/stephen/.pyenv/versions/3.12.2/lib/python3.12/site-packages (from pandas>=1.2.4->pymilvus) (2.2.1)\n",
      "Requirement already satisfied: pytz>=2020.1 in /Users/stephen/.pyenv/versions/3.12.2/lib/python3.12/site-packages (from pandas>=1.2.4->pymilvus) (2024.2)\n",
      "Requirement already satisfied: tzdata>=2022.7 in /Users/stephen/.pyenv/versions/3.12.2/lib/python3.12/site-packages (from pandas>=1.2.4->pymilvus) (2024.2)\n",
      "Requirement already satisfied: annotated-types>=0.6.0 in /Users/stephen/.pyenv/versions/3.12.2/lib/python3.12/site-packages (from pydantic>=2.9.0->mistralai) (0.7.0)\n",
      "Requirement already satisfied: pydantic-core==2.27.2 in /Users/stephen/.pyenv/versions/3.12.2/lib/python3.12/site-packages (from pydantic>=2.9.0->mistralai) (2.27.2)\n",
      "Requirement already satisfied: typing-extensions>=4.12.2 in /Users/stephen/.pyenv/versions/3.12.2/lib/python3.12/site-packages (from pydantic>=2.9.0->mistralai) (4.12.2)\n",
      "Requirement already satisfied: six>=1.5 in /Users/stephen/.pyenv/versions/3.12.2/lib/python3.12/site-packages (from python-dateutil>=2.8.2->mistralai) (1.17.0)\n",
      "Requirement already satisfied: mypy-extensions>=0.3.0 in /Users/stephen/.pyenv/versions/3.12.2/lib/python3.12/site-packages (from typing-inspect>=0.9.0->mistralai) (1.0.0)\n",
      "Requirement already satisfied: sniffio>=1.1 in /Users/stephen/.pyenv/versions/3.12.2/lib/python3.12/site-packages (from anyio->httpx>=0.27.0->mistralai) (1.3.1)\n",
      "\n",
      "\u001b[1m[\u001b[0m\u001b[34;49mnotice\u001b[0m\u001b[1;39;49m]\u001b[0m\u001b[39;49m A new release of pip is available: \u001b[0m\u001b[31;49m24.0\u001b[0m\u001b[39;49m -> \u001b[0m\u001b[32;49m25.0.1\u001b[0m\n",
      "\u001b[1m[\u001b[0m\u001b[34;49mnotice\u001b[0m\u001b[1;39;49m]\u001b[0m\u001b[39;49m To update, run: \u001b[0m\u001b[32;49mpip install --upgrade pip\u001b[0m\n"
     ]
    }
   ],
   "source": [
    "!pip install mistralai pymilvus python-dotenv"
   ]
  },
  {
   "cell_type": "markdown",
   "metadata": {},
   "source": [
    "## Environment Setup\n",
    "\n",
    "You'll need:\n",
    "1. A Mistral API key (get one at https://console.mistral.ai/)\n",
    "2. Milvus running locally through [Docker](https://milvus.io/docs/install_standalone-docker.md) or with [Zilliz Cloud](https://zilliz.com) \n",
    "\n",
    "Let's set up our environment:"
   ]
  },
  {
   "cell_type": "code",
   "execution_count": 1,
   "metadata": {},
   "outputs": [
    {
     "name": "stdout",
     "output_type": "stream",
     "text": [
      "Connected to Mistral API and Milvus at http://localhost:19530\n"
     ]
    }
   ],
   "source": [
    "import json\n",
    "import os\n",
    "import re\n",
    "\n",
    "from dotenv import load_dotenv\n",
    "from mistralai import Mistral\n",
    "from pymilvus import CollectionSchema, DataType, FieldSchema, MilvusClient\n",
    "from pymilvus.client.types import LoadState\n",
    "\n",
    "# Load environment variables from .env file\n",
    "load_dotenv()\n",
    "\n",
    "# Initialize clients\n",
    "api_key = os.getenv(\"MISTRAL_API_KEY\")\n",
    "if not api_key:\n",
    "    api_key = input(\"Enter your Mistral API key: \")\n",
    "    os.environ[\"MISTRAL_API_KEY\"] = api_key\n",
    "\n",
    "client = Mistral(api_key=api_key)\n",
    "\n",
    "# Define models\n",
    "text_model = \"mistral-small-latest\"  # For chat interactions\n",
    "ocr_model = \"mistral-ocr-latest\"  # For OCR processing\n",
    "embedding_model = \"mistral-embed\"  # For generating embeddings\n",
    "\n",
    "# Connect to Milvus (default: localhost)\n",
    "milvus_uri = os.getenv(\"MILVUS_URI\", \"http://localhost:19530\")\n",
    "milvus_client = MilvusClient(uri=milvus_uri)\n",
    "\n",
    "# Milvus collection name\n",
    "COLLECTION_NAME = \"document_ocr\"\n",
    "\n",
    "print(f\"Connected to Mistral API and Milvus at {milvus_uri}\")"
   ]
  },
  {
   "cell_type": "markdown",
   "metadata": {},
   "source": [
    "## Setting Up Milvus Collection\n",
    "\n",
    "Now, let's create a Milvus collection to store our document data. The collection will have the following fields:\n",
    "- `id`: Primary key (auto-generated)\n",
    "- `url`: Source URL of the document\n",
    "- `page_num`: Page number within the document\n",
    "- `content`: Extracted text content\n",
    "- `embedding`: Vector representation of the content (1024 dimensions)"
   ]
  },
  {
   "cell_type": "code",
   "execution_count": 2,
   "metadata": {},
   "outputs": [
    {
     "name": "stdout",
     "output_type": "stream",
     "text": [
      "Collection 'document_ocr' already exists.\n"
     ]
    }
   ],
   "source": [
    "def setup_milvus_collection():\n",
    "    \"\"\"Create Milvus collection if it doesn't exist.\"\"\"\n",
    "    # Check if collection already exists\n",
    "    if milvus_client.has_collection(COLLECTION_NAME):\n",
    "        print(f\"Collection '{COLLECTION_NAME}' already exists.\")\n",
    "        return\n",
    "\n",
    "    # Define collection schema\n",
    "    fields = [\n",
    "        FieldSchema(name=\"id\", dtype=DataType.INT64, is_primary=True, auto_id=True),\n",
    "        FieldSchema(name=\"url\", dtype=DataType.VARCHAR, max_length=500),\n",
    "        FieldSchema(name=\"page_num\", dtype=DataType.INT64),\n",
    "        FieldSchema(name=\"content\", dtype=DataType.VARCHAR, max_length=65535),\n",
    "        FieldSchema(name=\"embedding\", dtype=DataType.FLOAT_VECTOR, dim=1024),\n",
    "    ]\n",
    "\n",
    "    schema = CollectionSchema(fields=fields)\n",
    "\n",
    "    # Create collection\n",
    "    milvus_client.create_collection(\n",
    "        collection_name=COLLECTION_NAME,\n",
    "        schema=schema,\n",
    "    )\n",
    "\n",
    "    # Create index for vector search\n",
    "    index_params = milvus_client.prepare_index_params()\n",
    "    index_params.add_index(\n",
    "        field_name=\"embedding\",\n",
    "        index_type=\"IVF_FLAT\",  # Index type for approximate nearest neighbor search\n",
    "        metric_type=\"COSINE\",  # Similarity metric\n",
    "        params={\"nlist\": 128},  # Number of clusters\n",
    "    )\n",
    "\n",
    "    milvus_client.create_index(\n",
    "        collection_name=COLLECTION_NAME, index_params=index_params\n",
    "    )\n",
    "\n",
    "    print(f\"Collection '{COLLECTION_NAME}' created successfully with index.\")\n",
    "\n",
    "\n",
    "setup_milvus_collection()"
   ]
  },
  {
   "cell_type": "markdown",
   "metadata": {},
   "source": [
    "## Core Functionality\n",
    "\n",
    "Let's implement the core functions for our document understanding system:"
   ]
  },
  {
   "cell_type": "code",
   "execution_count": 3,
   "metadata": {},
   "outputs": [],
   "source": [
    "# Generate embeddings using Mistral\n",
    "def generate_embedding(text):\n",
    "    \"\"\"Generate embedding for text using Mistral embedding model.\"\"\"\n",
    "    response = client.embeddings.create(model=embedding_model, inputs=[text])\n",
    "    return response.data[0].embedding\n",
    "\n",
    "\n",
    "# Store OCR results in Milvus\n",
    "def store_ocr_in_milvus(url, ocr_result):\n",
    "    \"\"\"Process OCR results and store in Milvus.\"\"\"\n",
    "    # Extract pages from OCR result\n",
    "    pages = []\n",
    "    current_page = \"\"\n",
    "    page_num = 0\n",
    "\n",
    "    for line in ocr_result.split(\"\\n\"):\n",
    "        if line.startswith(\"### Page \"):\n",
    "            if current_page:\n",
    "                pages.append((page_num, current_page.strip()))\n",
    "            page_num = int(line.replace(\"### Page \", \"\"))\n",
    "            current_page = \"\"\n",
    "        else:\n",
    "            current_page += line + \"\\n\"\n",
    "\n",
    "    # Add the last page\n",
    "    if current_page:\n",
    "        pages.append((page_num, current_page.strip()))\n",
    "\n",
    "    # Prepare data for Milvus\n",
    "    entities = []\n",
    "    for page_num, content in pages:\n",
    "        # Generate embedding for the page content\n",
    "        embedding = generate_embedding(content)\n",
    "\n",
    "        # Create entity\n",
    "        entity = {\n",
    "            \"url\": url,\n",
    "            \"page_num\": page_num,\n",
    "            \"content\": content,\n",
    "            \"embedding\": embedding,\n",
    "        }\n",
    "        entities.append(entity)\n",
    "\n",
    "    # Insert into Milvus\n",
    "    if entities:\n",
    "        milvus_client.insert(collection_name=COLLECTION_NAME, data=entities)\n",
    "        print(f\"Stored {len(entities)} pages from {url} in Milvus.\")\n",
    "\n",
    "    return len(entities)\n",
    "\n",
    "\n",
    "# Define OCR function\n",
    "def perform_ocr(url):\n",
    "    \"\"\"Apply OCR to a URL (PDF or image).\"\"\"\n",
    "    try:\n",
    "        # Try PDF OCR first\n",
    "        response = client.ocr.process(\n",
    "            model=ocr_model, document={\"type\": \"document_url\", \"document_url\": url}\n",
    "        )\n",
    "    except Exception:\n",
    "        try:\n",
    "            # If PDF OCR fails, try Image OCR\n",
    "            response = client.ocr.process(\n",
    "                model=ocr_model, document={\"type\": \"image_url\", \"image_url\": url}\n",
    "            )\n",
    "        except Exception as e:\n",
    "            return str(e)  # Return error message\n",
    "\n",
    "    # Format the OCR results\n",
    "    ocr_result = \"\\n\\n\".join(\n",
    "        [\n",
    "            f\"### Page {i + 1}\\n{response.pages[i].markdown}\"\n",
    "            for i in range(len(response.pages))\n",
    "        ]\n",
    "    )\n",
    "\n",
    "    # Store in Milvus\n",
    "    store_ocr_in_milvus(url, ocr_result)\n",
    "\n",
    "    return ocr_result\n",
    "\n",
    "\n",
    "# Process URLs\n",
    "def process_document(url):\n",
    "    \"\"\"Process a document URL and return its contents.\"\"\"\n",
    "    print(f\"Processing document: {url}\")\n",
    "    ocr_result = perform_ocr(url)\n",
    "    return ocr_result"
   ]
  },
  {
   "cell_type": "markdown",
   "metadata": {},
   "source": [
    "## Search Functionality\n",
    "\n",
    "Now, let's implement the search functionality to retrieve relevant document content:"
   ]
  },
  {
   "cell_type": "code",
   "execution_count": 4,
   "metadata": {},
   "outputs": [],
   "source": [
    "def search_documents(query, limit=5):\n",
    "    \"\"\"Search Milvus for similar content to the query.\"\"\"\n",
    "    # Check if collection exists\n",
    "    if not milvus_client.has_collection(COLLECTION_NAME):\n",
    "        return \"No documents have been processed yet.\"\n",
    "\n",
    "    # Load collection if not already loaded\n",
    "    if milvus_client.get_load_state(COLLECTION_NAME) != LoadState.Loaded:\n",
    "        milvus_client.load_collection(COLLECTION_NAME)\n",
    "\n",
    "    print(f\"Searching for: {query}\")\n",
    "    query_embedding = generate_embedding(query)\n",
    "\n",
    "    search_params = {\"metric_type\": \"COSINE\", \"params\": {\"nprobe\": 10}}\n",
    "\n",
    "    search_results = milvus_client.search(\n",
    "        collection_name=COLLECTION_NAME,\n",
    "        data=[query_embedding],\n",
    "        anns_field=\"embedding\",\n",
    "        search_params=search_params,\n",
    "        limit=limit,\n",
    "        output_fields=[\"url\", \"page_num\", \"content\"],\n",
    "    )\n",
    "\n",
    "    results = []\n",
    "\n",
    "    if not search_results or not search_results[0]:\n",
    "        return \"No matching documents found.\"\n",
    "\n",
    "    for i, hit in enumerate(search_results[0]):\n",
    "        url = hit[\"entity\"][\"url\"]\n",
    "        page_num = hit[\"entity\"][\"page_num\"]\n",
    "        content = hit[\"entity\"][\"content\"]\n",
    "        score = hit[\"distance\"]\n",
    "\n",
    "        results.append(\n",
    "            {\n",
    "                \"rank\": i + 1,\n",
    "                \"score\": score,\n",
    "                \"url\": url,\n",
    "                \"page\": page_num,\n",
    "                \"content\": content[:500] + \"...\" if len(content) > 500 else content,\n",
    "            }\n",
    "        )\n",
    "\n",
    "    return results\n",
    "\n",
    "\n",
    "# Get statistics about stored documents\n",
    "def get_document_stats():\n",
    "    \"\"\"Get statistics about documents stored in Milvus.\"\"\"\n",
    "    if not milvus_client.has_collection(COLLECTION_NAME):\n",
    "        return \"No documents have been processed yet.\"\n",
    "\n",
    "    # Get collection stats\n",
    "    stats = milvus_client.get_collection_stats(COLLECTION_NAME)\n",
    "    row_count = stats[\"row_count\"]\n",
    "\n",
    "    # Get unique URLs\n",
    "    results = milvus_client.query(\n",
    "        collection_name=COLLECTION_NAME, filter=\"\", output_fields=[\"url\"], limit=10000\n",
    "    )\n",
    "\n",
    "    unique_urls = set()\n",
    "    for result in results:\n",
    "        unique_urls.add(result[\"url\"])\n",
    "\n",
    "    return {\n",
    "        \"total_pages\": row_count,\n",
    "        \"unique_documents\": len(unique_urls),\n",
    "        \"documents\": list(unique_urls),\n",
    "    }"
   ]
  },
  {
   "cell_type": "markdown",
   "metadata": {},
   "source": [
    "## Demo: Processing Documents\n",
    "\n",
    "Let's process some example documents. You can replace these URLs with your own documents."
   ]
  },
  {
   "cell_type": "code",
   "execution_count": 5,
   "metadata": {},
   "outputs": [
    {
     "name": "stdout",
     "output_type": "stream",
     "text": [
      "Processing document: https://arxiv.org/pdf/2310.06825.pdf\n",
      "Stored 9 pages from https://arxiv.org/pdf/2310.06825.pdf in Milvus.\n",
      "\n",
      "OCR Result Preview:\n",
      "====================\n",
      "### Page 1\n",
      "# Mistral 7B \n",
      "\n",
      "Albert Q. Jiang, Alexandre Sablayrolles, Arthur Mensch, Chris Bamford, Devendra Singh Chaplot, Diego de las Casas, Florian Bressand, Gianna Lengyel, Guillaume Lample, Lucile Saulnier, Lélio Renard Lavaud, Marie-Anne Lachaux, Pierre Stock, Teven Le Scao, Thibaut Lavril, Thomas Wang, Timothée Lacroix, William El Sayed\n",
      "\n",
      "![img-0.jpeg](img-0.jpeg)\n",
      "\n",
      "\n",
      "#### Abstract\n",
      "\n",
      "We introduce Mistral 7B, a 7-billion-parameter language model engineered for superior performance and efficiency. Mistral 7B outperforms the best open 13B model (Llama 2) across all evaluated benchmarks, and the best released 34B model (Llama 1) in reasoning, mathematics, and code generation. Our model leverages grouped-query attention (GQA) for faster inference, coupled with sliding window attention (SWA) to effectively handle sequences of arbitrary length with a reduced inference cost. We also provide a model fine-tuned to follow instructions, Mistral 7B - Instruct, that surpasses Llama 2 13B - chat mod...\n"
     ]
    }
   ],
   "source": [
    "# Example PDF URL (Mistral AI paper)\n",
    "pdf_url = \"https://arxiv.org/pdf/2310.06825.pdf\"\n",
    "\n",
    "# Process the document\n",
    "ocr_result = process_document(pdf_url)\n",
    "\n",
    "# Display a preview of the OCR result\n",
    "print(\"\\nOCR Result Preview:\")\n",
    "print(\"====================\")\n",
    "print(ocr_result[:1000] + \"...\")"
   ]
  },
  {
   "cell_type": "markdown",
   "metadata": {},
   "source": [
    "Let's process an image as well:"
   ]
  },
  {
   "cell_type": "code",
   "execution_count": 6,
   "metadata": {},
   "outputs": [
    {
     "name": "stdout",
     "output_type": "stream",
     "text": [
      "Processing document: https://s3.eu-central-1.amazonaws.com/readcoop.cis.public-assets.prod/hero/old-german-scripts.png\n",
      "Stored 1 pages from https://s3.eu-central-1.amazonaws.com/readcoop.cis.public-assets.prod/hero/old-german-scripts.png in Milvus.\n",
      "\n",
      "Image OCR Result:\n",
      "=================\n",
      "### Page 1\n",
      "![img-0.jpeg](img-0.jpeg)\n",
      "![img-1.jpeg](img-1.jpeg)\n",
      "![img-2.jpeg](img-2.jpeg)\n",
      "![img-3.jpeg](img-3.jpeg)\n",
      "![img-4.jpeg](img-4.jpeg)\n",
      "![img-5.jpeg](img-5.jpeg)\n",
      "![img-6.jpeg](img-6.jpeg)\n",
      "![img-7.jpeg](img-7.jpeg)\n",
      "![img-8.jpeg](img-8.jpeg)\n",
      "![img-9.jpeg](img-9.jpeg)\n",
      "![img-10.jpeg](img-10.jpeg)\n",
      "![img-11.jpeg](img-11.jpeg)\n",
      "![img-12.jpeg](img-12.jpeg)\n",
      "![img-13.jpeg](img-13.jpeg)\n",
      "![img-14.jpeg](img-14.jpeg)\n",
      "![img-15.jpeg](img-15.jpeg)\n",
      "![img-16.jpeg](img-16.jpeg)\n",
      "![img-17.jpeg](img-17.jpeg)\n",
      "![img-18.jpeg](img-18.jpeg)\n",
      "![img-19.jpeg](img-19.jpeg)\n",
      "![img-20.jpeg](img-20.jpeg)\n",
      "![img-21.jpeg](img-21.jpeg)\n",
      "![img-22.jpeg](img-22.jpeg)\n",
      "![img-23.jpeg](img-23.jpeg)\n",
      "![img-24.jpeg](img-24.jpeg)\n",
      "![img-25.jpeg](img-25.jpeg)\n",
      "![img-26.jpeg](img-26.jpeg)\n",
      "![img-27.jpeg](img-27.jpeg)\n",
      "![img-28.jpeg](img-28.jpeg)\n",
      "![img-29.jpeg](img-29.jpeg)\n",
      "![img-30.jpeg](img-30.jpeg)\n"
     ]
    }
   ],
   "source": [
    "# Example image URL (replace with your own)\n",
    "image_url = \"https://s3.eu-central-1.amazonaws.com/readcoop.cis.public-assets.prod/hero/old-german-scripts.png\"\n",
    "\n",
    "# Process the image\n",
    "try:\n",
    "    ocr_result = process_document(image_url)\n",
    "    print(\"\\nImage OCR Result:\")\n",
    "    print(\"=================\")\n",
    "    print(ocr_result)\n",
    "except Exception as e:\n",
    "    print(f\"Error processing image: {e}\")"
   ]
  },
  {
   "cell_type": "markdown",
   "metadata": {},
   "source": [
    "## Demo: Searching Documents\n",
    "\n",
    "Now that we've processed some documents, let's search through them:"
   ]
  },
  {
   "cell_type": "code",
   "execution_count": 7,
   "metadata": {},
   "outputs": [
    {
     "name": "stdout",
     "output_type": "stream",
     "text": [
      "Total pages stored: 58\n",
      "Unique documents: 3\n",
      "\n",
      "Processed documents:\n",
      "1. https://arxiv.org/pdf/2310.06825.pdf\n",
      "2. https://s3.eu-central-1.amazonaws.com/readcoop.cis.public-assets.prod/hero/old-german-scripts.png\n",
      "3. https://arxiv.org/pdf/2410.07073\n"
     ]
    }
   ],
   "source": [
    "# Get document statistics\n",
    "stats = get_document_stats()\n",
    "print(f\"Total pages stored: {stats['total_pages']}\")\n",
    "print(f\"Unique documents: {stats['unique_documents']}\")\n",
    "print(\"\\nProcessed documents:\")\n",
    "for i, url in enumerate(stats[\"documents\"]):\n",
    "    print(f\"{i + 1}. {url}\")"
   ]
  },
  {
   "cell_type": "code",
   "execution_count": 8,
   "metadata": {},
   "outputs": [
    {
     "name": "stdout",
     "output_type": "stream",
     "text": [
      "Searching for: What is Mistral 7B?\n",
      "Search results for: 'What is Mistral 7B?'\n",
      "\n",
      "Result 1 (Score: 0.83)\n",
      "Source: https://arxiv.org/pdf/2310.06825.pdf (Page 2)\n",
      "Content: Mistral 7B is released under the Apache 2.0 license. This release is accompanied by a reference implementation ${ }^{1}$ facilitating easy deployment either locally or on cloud platforms such as AWS, GCP, or Azure using the vLLM [17] inference server and SkyPilot ${ }^{2}$. Integration with Hugging Face ${ }^{3}$ is also streamlined for easier integration. Moreover, Mistral 7B is crafted for ease of fine-tuning across a myriad of tasks. As a demonstration of its adaptability and superior perform...\n",
      "\n",
      "Result 2 (Score: 0.83)\n",
      "Source: https://arxiv.org/pdf/2310.06825.pdf (Page 2)\n",
      "Content: Mistral 7B is released under the Apache 2.0 license. This release is accompanied by a reference implementation ${ }^{1}$ facilitating easy deployment either locally or on cloud platforms such as AWS, GCP, or Azure using the vLLM [17] inference server and SkyPilot ${ }^{2}$. Integration with Hugging Face ${ }^{3}$ is also streamlined for easier integration. Moreover, Mistral 7B is crafted for ease of fine-tuning across a myriad of tasks. As a demonstration of its adaptability and superior perform...\n",
      "\n",
      "Result 3 (Score: 0.82)\n",
      "Source: https://arxiv.org/pdf/2310.06825.pdf (Page 1)\n",
      "Content: # Mistral 7B \n",
      "\n",
      "Albert Q. Jiang, Alexandre Sablayrolles, Arthur Mensch, Chris Bamford, Devendra Singh Chaplot, Diego de las Casas, Florian Bressand, Gianna Lengyel, Guillaume Lample, Lucile Saulnier, Lélio Renard Lavaud, Marie-Anne Lachaux, Pierre Stock, Teven Le Scao, Thibaut Lavril, Thomas Wang, Timothée Lacroix, William El Sayed\n",
      "\n",
      "![img-0.jpeg](img-0.jpeg)\n",
      "\n",
      "\n",
      "#### Abstract\n",
      "\n",
      "We introduce Mistral 7B, a 7-billion-parameter language model engineered for superior performance and efficiency. Mistral 7...\n",
      "\n"
     ]
    }
   ],
   "source": [
    "# Search for information\n",
    "query = \"What is Mistral 7B?\"\n",
    "results = search_documents(query, limit=3)\n",
    "\n",
    "print(f\"Search results for: '{query}'\\n\")\n",
    "\n",
    "if isinstance(results, str):\n",
    "    print(results)\n",
    "else:\n",
    "    for result in results:\n",
    "        print(f\"Result {result['rank']} (Score: {result['score']:.2f})\")\n",
    "        print(f\"Source: {result['url']} (Page {result['page']})\")\n",
    "        print(f\"Content: {result['content']}\\n\")"
   ]
  },
  {
   "cell_type": "markdown",
   "metadata": {},
   "source": [
    "Try another search query:"
   ]
  },
  {
   "cell_type": "code",
   "execution_count": 9,
   "metadata": {},
   "outputs": [
    {
     "name": "stdout",
     "output_type": "stream",
     "text": [
      "Searching for: What are the capabilities of Mistral's language models?\n",
      "Search results for: 'What are the capabilities of Mistral's language models?'\n",
      "\n",
      "Result 1 (Score: 0.85)\n",
      "Source: https://arxiv.org/pdf/2310.06825.pdf (Page 2)\n",
      "Content: Mistral 7B is released under the Apache 2.0 license. This release is accompanied by a reference implementation ${ }^{1}$ facilitating easy deployment either locally or on cloud platforms such as AWS, GCP, or Azure using the vLLM [17] inference server and SkyPilot ${ }^{2}$. Integration with Hugging Face ${ }^{3}$ is also streamlined for easier integration. Moreover, Mistral 7B is crafted for ease of fine-tuning across a myriad of tasks. As a demonstration of its adaptability and superior perform...\n",
      "\n",
      "Result 2 (Score: 0.85)\n",
      "Source: https://arxiv.org/pdf/2310.06825.pdf (Page 2)\n",
      "Content: Mistral 7B is released under the Apache 2.0 license. This release is accompanied by a reference implementation ${ }^{1}$ facilitating easy deployment either locally or on cloud platforms such as AWS, GCP, or Azure using the vLLM [17] inference server and SkyPilot ${ }^{2}$. Integration with Hugging Face ${ }^{3}$ is also streamlined for easier integration. Moreover, Mistral 7B is crafted for ease of fine-tuning across a myriad of tasks. As a demonstration of its adaptability and superior perform...\n",
      "\n",
      "Result 3 (Score: 0.84)\n",
      "Source: https://arxiv.org/pdf/2310.06825.pdf (Page 6)\n",
      "Content: | Model | Answer |\n",
      "| :--: | :--: |\n",
      "| Mistral 7B - Instruct with Mistral system prompt | To kill a Linux process, you can use the `kill' command followed by the process ID (PID) of the process you want to terminate. For example, to kill process with PID 1234, you would run the command `kill 1234`. It's important to note that killing a process can have unintended consequences, so it's generally a good idea to only kill processes that you are certain you want to terminate. Additionally, it's genera...\n",
      "\n"
     ]
    }
   ],
   "source": [
    "# Search for more specific information\n",
    "query = \"What are the capabilities of Mistral's language models?\"\n",
    "results = search_documents(query, limit=3)\n",
    "\n",
    "print(f\"Search results for: '{query}'\\n\")\n",
    "\n",
    "if isinstance(results, str):\n",
    "    print(results)\n",
    "else:\n",
    "    for result in results:\n",
    "        print(f\"Result {result['rank']} (Score: {result['score']:.2f})\")\n",
    "        print(f\"Source: {result['url']} (Page {result['page']})\")\n",
    "        print(f\"Content: {result['content']}\\n\")"
   ]
  },
  {
   "attachments": {
    "af7b18aa-753e-48a6-a608-b2c04ccc40a4.png": {
     "image/png": "[encoded data removed]"
    },
    "e0569552-6ae8-4687-bddb-639db76339da.png": {
     "image/png": "[encoded data removed]"
    }
   },
   "cell_type": "markdown",
   "metadata": {},
   "source": [
    "## Conclusion\n",
    "\n",
    "In this tutorial, we've built a complete document understanding system using Mistral OCR and Milvus. This system can:\n",
    "\n",
    "1. Process documents from URLs\n",
    "2. Extract text using Mistral's OCR capabilities\n",
    "3. Generate vector embeddings for the content\n",
    "4. Store both text and vectors in Milvus\n",
    "5. Perform semantic search across all processed documents\n",
    "\n",
    "This approach enables powerful document understanding capabilities that go beyond simple keyword matching, allowing users to find information based on meaning rather than exact text matches.\n",
    "\n",
    "## ⭐️ Github\n",
    "We hope you liked this tutorial showcasing how to use Milvus with OpenAI Agents. If you liked it and our project, please give us a **[star on Github](https://github.com/milvus-io/milvus)**! ⭐\n",
    "\n",
    "![image.png](attachment:e0569552-6ae8-4687-bddb-639db76339da.png)\n",
    "\n",
    "## 🤝 Add me on Linkedin!\n",
    "If you have some questions related to Milvus, GenAI, etc, I am Stephen Batifol, you can add me on LinkedIn and I'll gladly help you.\n",
    "\n",
    "![image.png](attachment:af7b18aa-753e-48a6-a608-b2c04ccc40a4.png)\n",
    "\n",
    "## 💬 Join our Discord\n",
    "If you're interested in learning more about Milvus or you wanna share some feedback, feel free to **join our [Discord](https://zilliz.com/discord) channel**.\n"
   ]
  }
 ],
 "metadata": {
  "kernelspec": {
   "display_name": "Python 3 (ipykernel)",
   "language": "python",
   "name": "python3"
  },
  "language_info": {
   "codemirror_mode": {
    "name": "ipython",
    "version": 3
   },
   "file_extension": ".py",
   "mimetype": "text/x-python",
   "name": "python",
   "nbconvert_exporter": "python",
   "pygments_lexer": "ipython3",
   "version": "3.12.8"
  }
 },
 "nbformat": 4,
 "nbformat_minor": 4
}
