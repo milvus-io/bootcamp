{
 "cells": [
  {
   "cell_type": "markdown",
   "metadata": {},
   "source": [
    "<a href=\"https://colab.research.google.com/github/milvus-io/bootcamp/blob/master/integration/openai_agents_milvus.ipynb\" target=\"_parent\"><img src=\"https://colab.research.google.com/assets/colab-badge.svg\" alt=\"Open In Colab\"/></a>   <a href=\"https://github.com/milvus-io/bootcamp/blob/master/integration/openai_agents_milvus.ipynb\" target=\"_blank\">\n",
    "    <img src=\"https://img.shields.io/badge/View%20on%20GitHub-555555?style=flat&logo=github&logoColor=white\" alt=\"GitHub Repository\"/>\n",
    "</a>\n"
   ]
  },
  {
   "cell_type": "markdown",
   "metadata": {},
   "source": [
    "# Milvus Integration with OpenAI Agents: A Step-by-Step Guide\n",
    "\n",
    "This notebook shows how to create an agent that can query Milvus using natural language through Function Calling. We'll combine OpenAI's Agents framework with Milvus's powerful vector search capabilities to create a nice search experience.\n",
    "\n",
    "## OpenAI Agents \n",
    "\n",
    "The OpenAI Agents SDK enables you to build agentic AI apps in a lightweight, easy-to-use package with very few abstractions. It's a production-ready upgrade of their previous experimentation for agents, Swarm. The Agents SDK has a very small set of primitives:\n",
    "\n",
    "* Agents, which are LLMs equipped with instructions and tools\n",
    "* Handoffs, which allow agents to delegate to other agents for specific tasks\n",
    "* Guardrails, which enable the inputs to agents to be validated\n",
    "\n",
    "In combination with Python, these primitives are powerful enough to express complex relationships between tools and agents, and allow you to build real-world applications without a steep learning curve. In addition, the SDK comes with built-in tracing that lets you visualize and debug your agentic flows, as well as evaluate them and even fine-tune models for your application.\n",
    "\n",
    "![](../pics/openai-agent.png)\n",
    "\n",
    "## Milvus\n",
    "\n",
    "Milvus is a high-performance, highly scalable Open-Source vector database that runs efficiently across a wide range of environments, from a laptop to large-scale distributed systems. It is available as both open-source software and a [Cloud Offering](https://zilliz.com/).\n",
    "\n",
    "## Setup and Dependencies\n",
    "\n",
    "First, we need to set up our environment with the necessary libraries and initialize asyncio for Jupyter compatibility."
   ]
  },
  {
   "cell_type": "code",
   "execution_count": 1,
   "metadata": {},
   "outputs": [],
   "source": [
    "! pip install openai pymilvus pydantic nest_asyncio"
   ]
  },
  {
   "cell_type": "markdown",
   "metadata": {},
   "source": [
    "> If you are using Google Colab, to enable dependencies just installed, you may need to **restart the runtime** (click on the \"Runtime\" menu at the top of the screen, and select \"Restart session\" from the dropdown menu).\n"
   ]
  },
  {
   "cell_type": "code",
   "execution_count": 1,
   "metadata": {},
   "outputs": [],
   "source": [
    "import asyncio\n",
    "import nest_asyncio\n",
    "from dotenv import load_dotenv\n",
    "\n",
    "load_dotenv()\n",
    "\n",
    "nest_asyncio.apply()"
   ]
  },
  {
   "cell_type": "markdown",
   "metadata": {},
   "source": [
    "We will use the models from OpenAI. You should prepare the [api key](https://platform.openai.com/docs/quickstart) `OPENAI_API_KEY` as an environment variable."
   ]
  },
  {
   "cell_type": "code",
   "execution_count": 2,
   "metadata": {},
   "outputs": [],
   "source": [
    "import os\n",
    "\n",
    "os.environ[\"OPENAI_API_KEY\"] = \"sk-***********\""
   ]
  },
  {
   "cell_type": "markdown",
   "metadata": {},
   "source": [
    "## Connecting to Milvus and Creating a Schema\n",
    "\n",
    "Now we'll connect to our Milvus instance and create a schema for our collection. This schema will define the structure of our data, including:\n",
    "- An ID field as the primary key\n",
    "- A text field to store our document content\n",
    "- A sparse vector field to store the BM25 embeddings\n",
    "\n",
    "### Full-Text Search in Milvus 2.5\n",
    "* Unified system for both vector and keyword search (unified APIs)\n",
    "* Built-in sparse-BM25 algorithm (similar as Elasticsearch use but vector based)\n",
    "* No need to manually generate embeddings for keyword search\n",
    "\n",
    "<img src=\"https://milvus.io/docs/v2.5.x/assets/full-text-search.png\" width=\"70%\" alt=\"img\">"
   ]
  },
  {
   "cell_type": "markdown",
   "metadata": {},
   "source": [
    "## Install Milvus with Docker \n",
    "\n",
    "Before running this example, make sure to install Milvus and start it with Docker, have a look at our documentation - https://milvus.io/docs/install_standalone-docker.md"
   ]
  },
  {
   "cell_type": "code",
   "execution_count": 2,
   "metadata": {},
   "outputs": [
    {
     "data": {
      "text/plain": [
       "{'auto_id': False, 'description': '', 'fields': [{'name': 'id', 'description': '', 'type': <DataType.INT64: 5>, 'is_primary': True, 'auto_id': True}, {'name': 'text', 'description': '', 'type': <DataType.VARCHAR: 21>, 'params': {'max_length': 1000, 'enable_analyzer': True}}, {'name': 'sparse', 'description': '', 'type': <DataType.SPARSE_FLOAT_VECTOR: 104>}], 'enable_dynamic_field': False}"
      ]
     },
     "execution_count": 2,
     "metadata": {},
     "output_type": "execute_result"
    }
   ],
   "source": [
    "from pymilvus import DataType, FunctionType, MilvusClient\n",
    "\n",
    "client = MilvusClient(uri=\"http://localhost:19530\")\n",
    "\n",
    "schema = client.create_schema()\n",
    "\n",
    "# Simple schema that handles both text and vectors\n",
    "schema.add_field(\n",
    "    field_name=\"id\", datatype=DataType.INT64, is_primary=True, auto_id=True\n",
    ")\n",
    "schema.add_field(\n",
    "    field_name=\"text\", datatype=DataType.VARCHAR, max_length=1000, enable_analyzer=True\n",
    ")\n",
    "schema.add_field(field_name=\"sparse\", datatype=DataType.SPARSE_FLOAT_VECTOR)"
   ]
  },
  {
   "cell_type": "markdown",
   "metadata": {},
   "source": [
    "## Setting Up BM25 for Full-Text Search\n",
    "\n",
    "Milvus supports full-text search through BM25 functions. Here we define a function that will automatically convert our text data into sparse vector representations optimized for text search."
   ]
  },
  {
   "cell_type": "code",
   "execution_count": 3,
   "metadata": {},
   "outputs": [
    {
     "data": {
      "text/plain": [
       "{'auto_id': False, 'description': '', 'fields': [{'name': 'id', 'description': '', 'type': <DataType.INT64: 5>, 'is_primary': True, 'auto_id': True}, {'name': 'text', 'description': '', 'type': <DataType.VARCHAR: 21>, 'params': {'max_length': 1000, 'enable_analyzer': True}}, {'name': 'sparse', 'description': '', 'type': <DataType.SPARSE_FLOAT_VECTOR: 104>, 'is_function_output': True}], 'enable_dynamic_field': False, 'functions': [{'name': 'text_bm25_emb', 'description': '', 'type': <FunctionType.BM25: 1>, 'input_field_names': ['text'], 'output_field_names': ['sparse'], 'params': {}}]}"
      ]
     },
     "execution_count": 3,
     "metadata": {},
     "output_type": "execute_result"
    }
   ],
   "source": [
    "from pymilvus import Function\n",
    "\n",
    "# Milvus handles tokenization and BM25 conversion\n",
    "bm25_function = Function(\n",
    "    name=\"text_bm25_emb\",  # Function name\n",
    "    input_field_names=[\"text\"],  # Name of the VARCHAR field containing raw text data\n",
    "    output_field_names=[\n",
    "        \"sparse\"\n",
    "    ],  # Name of the SPARSE_FLOAT_VECTOR field reserved to store generated embeddings\n",
    "    function_type=FunctionType.BM25,\n",
    ")\n",
    "\n",
    "schema.add_function(bm25_function)"
   ]
  },
  {
   "cell_type": "markdown",
   "metadata": {},
   "source": [
    "## Creating the Collection and Loading Sample Data\n",
    "\n",
    "Now we'll create our collection with the schema and index parameters, then load some sample data about information retrieval and Milvus."
   ]
  },
  {
   "cell_type": "code",
   "execution_count": 4,
   "metadata": {},
   "outputs": [
    {
     "data": {
      "text/plain": [
       "{'insert_count': 37, 'ids': [456486814660619140, 456486814660619141, 456486814660619142, 456486814660619143, 456486814660619144, 456486814660619145, 456486814660619146, 456486814660619147, 456486814660619148, 456486814660619149, 456486814660619150, 456486814660619151, 456486814660619152, 456486814660619153, 456486814660619154, 456486814660619155, 456486814660619156, 456486814660619157, 456486814660619158, 456486814660619159, 456486814660619160, 456486814660619161, 456486814660619162, 456486814660619163, 456486814660619164, 456486814660619165, 456486814660619166, 456486814660619167, 456486814660619168, 456486814660619169, 456486814660619170, 456486814660619171, 456486814660619172, 456486814660619173, 456486814660619174, 456486814660619175, 456486814660619176], 'cost': 0}"
      ]
     },
     "execution_count": 4,
     "metadata": {},
     "output_type": "execute_result"
    }
   ],
   "source": [
    "index_params = client.prepare_index_params()\n",
    "\n",
    "index_params.add_index(field_name=\"sparse\", index_type=\"AUTOINDEX\", metric_type=\"BM25\")\n",
    "\n",
    "if client.has_collection(\"demo\"):\n",
    "    client.drop_collection(\"demo\")\n",
    "\n",
    "client.create_collection(\n",
    "    collection_name=\"demo\",\n",
    "    schema=schema,\n",
    "    index_params=index_params,\n",
    ")\n",
    "\n",
    "## 3. Loading Test Data\n",
    "client.insert(\n",
    "    \"demo\",\n",
    "    [\n",
    "        {\n",
    "            \"text\": \"Information retrieval helps users find relevant documents in large datasets.\"\n",
    "        },\n",
    "        {\n",
    "            \"text\": \"Search engines use information retrieval techniques to index and rank web pages.\"\n",
    "        },\n",
    "        {\n",
    "            \"text\": \"The core of IR is matching user queries with the most relevant content.\"\n",
    "        },\n",
    "        {\n",
    "            \"text\": \"Vector search is revolutionising modern information retrieval systems.\"\n",
    "        },\n",
    "        {\n",
    "            \"text\": \"Machine learning improves ranking algorithms in information retrieval.\"\n",
    "        },\n",
    "        {\n",
    "            \"text\": \"IR techniques include keyword-based search, semantic search, and vector search.\"\n",
    "        },\n",
    "        {\n",
    "            \"text\": \"Boolean retrieval is one of the earliest information retrieval methods.\"\n",
    "        },\n",
    "        {\"text\": \"TF-IDF is a classic method used to score document relevance in IR.\"},\n",
    "        {\n",
    "            \"text\": \"Modern IR systems integrate deep learning for better contextual understanding.\"\n",
    "        },\n",
    "        {\n",
    "            \"text\": \"Milvus is an open-source vector database designed for AI-powered search.\"\n",
    "        },\n",
    "        {\n",
    "            \"text\": \"Milvus enables fast and scalable similarity search on high-dimensional data.\"\n",
    "        },\n",
    "        {\n",
    "            \"text\": \"With Milvus, developers can build applications that support image, text, and video retrieval.\"\n",
    "        },\n",
    "        {\n",
    "            \"text\": \"Milvus integrates well with deep learning frameworks like PyTorch and TensorFlow.\"\n",
    "        },\n",
    "        {\n",
    "            \"text\": \"The core of Milvus is optimised for approximate nearest neighbour (ANN) search.\"\n",
    "        },\n",
    "        {\n",
    "            \"text\": \"Milvus supports hybrid search combining structured and unstructured data.\"\n",
    "        },\n",
    "        {\n",
    "            \"text\": \"Large-scale AI applications rely on Milvus for efficient vector retrieval.\"\n",
    "        },\n",
    "        {\"text\": \"Milvus makes it easy to perform high-speed similarity searches.\"},\n",
    "        {\"text\": \"Cloud-native by design, Milvus scales effortlessly with demand.\"},\n",
    "        {\n",
    "            \"text\": \"Milvus powers applications in recommendation systems, fraud detection, and genomics.\"\n",
    "        },\n",
    "        {\n",
    "            \"text\": \"The latest version of Milvus introduces faster indexing and lower latency.\"\n",
    "        },\n",
    "        {\"text\": \"Milvus supports HNSW, IVF_FLAT, and other popular ANN algorithms.\"},\n",
    "        {\n",
    "            \"text\": \"Vector embeddings from models like OpenAI’s CLIP can be indexed in Milvus.\"\n",
    "        },\n",
    "        {\n",
    "            \"text\": \"Milvus has built-in support for multi-tenancy in enterprise use cases.\"\n",
    "        },\n",
    "        {\n",
    "            \"text\": \"The Milvus community actively contributes to improving its performance.\"\n",
    "        },\n",
    "        {\n",
    "            \"text\": \"Milvus integrates with data pipelines like Apache Kafka for real-time updates.\"\n",
    "        },\n",
    "        {\n",
    "            \"text\": \"Using Milvus, companies can enhance search experiences with vector search.\"\n",
    "        },\n",
    "        {\n",
    "            \"text\": \"Milvus plays a crucial role in powering AI search in medical research.\"\n",
    "        },\n",
    "        {\"text\": \"Milvus integrates with LangChain for advanced RAG pipelines.\"},\n",
    "        {\n",
    "            \"text\": \"Open-source contributors continue to enhance Milvus’ search performance.\"\n",
    "        },\n",
    "        {\n",
    "            \"text\": \"Multi-modal search in Milvus enables applications beyond text and images.\"\n",
    "        },\n",
    "        {\"text\": \"Milvus has an intuitive REST API for easy integration.\"},\n",
    "        {\"text\": \"Milvus’ FAISS and HNSW backends provide flexibility in indexing.\"},\n",
    "        {\n",
    "            \"text\": \"The architecture of Milvus ensures fault tolerance and high availability.\"\n",
    "        },\n",
    "        {\"text\": \"Milvus integrates seamlessly with LLM-based applications.\"},\n",
    "        {\"text\": \"Startups leverage Milvus to build next-gen AI-powered products.\"},\n",
    "        {\"text\": \"Milvus Cloud offers a managed solution for vector search at scale.\"},\n",
    "        {\n",
    "            \"text\": \"The future of AI search is being shaped by Milvus and similar vector databases.\"\n",
    "        },\n",
    "    ],\n",
    ")"
   ]
  },
  {
   "cell_type": "markdown",
   "metadata": {},
   "source": [
    "## Defining Output Types for Structured Results\n",
    "\n",
    "To make our search results more structured and easier to work with, we'll define Pydantic models that specify the format of our search results."
   ]
  },
  {
   "cell_type": "code",
   "execution_count": 5,
   "metadata": {},
   "outputs": [],
   "source": [
    "from pydantic import BaseModel\n",
    "\n",
    "\n",
    "# Simplified output model for search results\n",
    "class MilvusSearchResult(BaseModel):\n",
    "    id: int\n",
    "    text: str\n",
    "\n",
    "\n",
    "class MilvusSearchResults(BaseModel):\n",
    "    results: list[MilvusSearchResult]\n",
    "    query: str"
   ]
  },
  {
   "cell_type": "markdown",
   "metadata": {},
   "source": [
    "## Creating a Custom Search Tool\n",
    "\n",
    "Next, we'll create a custom function tool that our agent can use to search the Milvus database. This tool will:\n",
    "1. Accept a collection name, query text, and limit parameter\n",
    "2. Execute a BM25 search against the Milvus collection\n",
    "3. Return the results in a structured format"
   ]
  },
  {
   "cell_type": "code",
   "execution_count": 6,
   "metadata": {},
   "outputs": [],
   "source": [
    "import json\n",
    "from typing import Any\n",
    "from pymilvus import MilvusClient\n",
    "from agents import function_tool, RunContextWrapper\n",
    "\n",
    "\n",
    "@function_tool\n",
    "async def search_milvus_text(\n",
    "    ctx: RunContextWrapper[Any], collection_name: str, query_text: str, limit: int\n",
    ") -> str:\n",
    "    \"\"\"Search for text documents in a Milvus collection using full text search.\n",
    "\n",
    "    Args:\n",
    "        collection_name: Name of the Milvus collection to search.\n",
    "        query_text: The text query to search for.\n",
    "        limit: Maximum number of results to return.\n",
    "    \"\"\"\n",
    "    try:\n",
    "        # Initialize Milvus client\n",
    "        client = MilvusClient()\n",
    "\n",
    "        # Prepare search parameters for BM25\n",
    "        search_params = {\"metric_type\": \"BM25\", \"params\": {\"drop_ratio_search\": 0.2}}\n",
    "\n",
    "        # Execute search with text query\n",
    "        results = client.search(\n",
    "            collection_name=collection_name,\n",
    "            data=[query_text],\n",
    "            anns_field=\"sparse\",\n",
    "            limit=limit,\n",
    "            search_params=search_params,\n",
    "            output_fields=[\"text\"],\n",
    "        )\n",
    "        return json.dumps(\n",
    "            {\"results\": results, \"query\": query_text, \"collection\": collection_name}\n",
    "        )\n",
    "\n",
    "    except Exception as e:\n",
    "        print(f\"Exception is: {e}\")\n",
    "        return f\"Error searching Milvus: {str(e)}\""
   ]
  },
  {
   "cell_type": "markdown",
   "metadata": {},
   "source": [
    "## Building the Agent\n",
    "\n",
    "Now we'll create an agent that can use our search tool. We'll give it instructions on how to handle search requests and specify that it should return results in our structured format."
   ]
  },
  {
   "cell_type": "code",
   "execution_count": 7,
   "metadata": {},
   "outputs": [],
   "source": [
    "from agents import Agent, Runner, WebSearchTool, trace\n",
    "\n",
    "\n",
    "async def main():\n",
    "    agent = Agent(\n",
    "        name=\"Milvus Searcher\",\n",
    "        instructions=\"\"\"\n",
    "        You are a helpful agent that can search through Milvus vector database using full text search. Return the results in a structured format.\n",
    "        \"\"\",\n",
    "        tools=[\n",
    "            WebSearchTool(user_location={\"type\": \"approximate\", \"city\": \"New York\"}),\n",
    "            search_milvus_text,\n",
    "        ],\n",
    "        output_type=MilvusSearchResults,\n",
    "    )\n",
    "\n",
    "    with trace(\"Milvus search example\"):\n",
    "        result = await Runner.run(\n",
    "            agent,\n",
    "            \"Find documents in the 'demo' collection that are similar to this concept: 'information retrieval'\",\n",
    "        )\n",
    "        # print(result.final_output.results)\n",
    "        formatted_results = \"\\n\".join(\n",
    "            f\"{i+1}. ID: {res.id}, Text: {res.text}\"\n",
    "            for i, res in enumerate(result.final_output.results)\n",
    "        )\n",
    "        print(f\"Search results:\\n{formatted_results}\")"
   ]
  },
  {
   "cell_type": "code",
   "execution_count": 8,
   "metadata": {},
   "outputs": [
    {
     "name": "stdout",
     "output_type": "stream",
     "text": [
      "Search results:\n",
      "1. ID: 456486814660619146, Text: Boolean retrieval is one of the earliest information retrieval methods.\n",
      "2. ID: 456486814660619144, Text: Machine learning improves ranking algorithms in information retrieval.\n",
      "3. ID: 456486814660619143, Text: Vector search is revolutionising modern information retrieval systems.\n",
      "4. ID: 456486814660619140, Text: Information retrieval helps users find relevant documents in large datasets.\n",
      "5. ID: 456486814660619141, Text: Search engines use information retrieval techniques to index and rank web pages.\n"
     ]
    }
   ],
   "source": [
    "asyncio.run(main())"
   ]
  },
  {
   "attachments": {
    "74d6c61c-cb1d-4882-868d-f7e9fbd4c021.png": {
     "image/png": "[encoded data removed]"
    },
    "a4abc7aa-3e70-4266-8ec8-169ffc83bc26.png": {
     "image/png": "[encoded data removed]"
    }
   },
   "cell_type": "markdown",
   "metadata": {},
   "source": [
    "# ⭐️ Github\n",
    "We hope you liked this tutorial showcasing how to use Milvus with OpenAI Agents. If you liked it and our project, please give us a star on Github! ⭐\n",
    "\n",
    "![image.png](attachment:74d6c61c-cb1d-4882-868d-f7e9fbd4c021.png)\n",
    "\n",
    "# 🤝 Add me on Linkedin!\n",
    "If you have some questions related to Milvus, GenAI, etc, I am Stephen Batifol, you can add me on LinkedIn and I'll gladly help you.\n",
    "\n",
    "![image.png](attachment:a4abc7aa-3e70-4266-8ec8-169ffc83bc26.png)\n",
    "\n",
    "# 💬 Join our Discord\n",
    "\n",
    "If you're interested in learning more about Milvus or you wanna share some feedback, feel free to join our [Discord channel](https://zilliz.com/discord)."
   ]
  }
 ],
 "metadata": {
  "kernelspec": {
   "display_name": "Python 3 (ipykernel)",
   "language": "python",
   "name": "python3"
  },
  "language_info": {
   "codemirror_mode": {
    "name": "ipython",
    "version": 3
   },
   "file_extension": ".py",
   "mimetype": "text/x-python",
   "name": "python",
   "nbconvert_exporter": "python",
   "pygments_lexer": "ipython3",
   "version": "3.10.13"
  }
 },
 "nbformat": 4,
 "nbformat_minor": 4
}
