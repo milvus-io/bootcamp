{
  "nbformat": 4,
  "nbformat_minor": 0,
  "metadata": {
    "colab": {
      "name": "Milvus_tutorial.ipynb",
      "provenance": [],
      "collapsed_sections": [
        "ypRryY27eiVj",
        "5VYU_Vuse3du",
        "CgHV9nxip1Ki",
        "QNHMM1GZqLLe",
        "JfbcppegrYB4",
        "H6EFgdyLrd-0",
        "K_x-I2idrlSX",
        "-wbQVapprrcW",
        "zjK-yrDsrwWT",
        "W49q311Yr4ZM",
        "PUJJFWVwsCVK",
        "FHvWWc5bsGTZ"
      ]
    },
    "kernelspec": {
      "name": "python3",
      "display_name": "Python 3"
    }
  },
  "cells": [
    {
      "cell_type": "markdown",
      "metadata": {
        "id": "oty9WJMIZ0Qn"
      },
      "source": [
        "This tutorial will show you how to [install Milvus from source code](https://github.com/milvus-io/milvus/blob/master/INSTALL.md) and run the [python code](https://milvus-io.github.io/milvus-sdk-python/pythondoc/v0.2.14/index.html)."
      ]
    },
    {
      "cell_type": "markdown",
      "metadata": {
        "id": "H2IqGXnWeXKq"
      },
      "source": [
        "## Install Milvus from source code"
      ]
    },
    {
      "cell_type": "markdown",
      "metadata": {
        "id": "oRPsXxceets_"
      },
      "source": [
        "### Download the code and Compile"
      ]
    },
    {
      "cell_type": "markdown",
      "metadata": {
        "id": "6CYhW5oZf5v9"
      },
      "source": [
        "Step 1 Download Milvus source code"
      ]
    },
    {
      "cell_type": "code",
      "metadata": {
        "id": "StwePnJQErfy"
      },
      "source": [
        "!git clone -b 0.10.3 https://github.com/milvus-io/milvus.git"
      ],
      "execution_count": null,
      "outputs": []
    },
    {
      "cell_type": "markdown",
      "metadata": {
        "id": "dP0NOI8MgHsu"
      },
      "source": [
        "Step 2 Install dependencies"
      ]
    },
    {
      "cell_type": "code",
      "metadata": {
        "id": "Sc62EtnOIqkz"
      },
      "source": [
        "% cd /content/milvus/core\n",
        "! ./ubuntu_build_deps.sh"
      ],
      "execution_count": null,
      "outputs": []
    },
    {
      "cell_type": "markdown",
      "metadata": {
        "id": "AeCWtdQogQQ_"
      },
      "source": [
        "Step 3 Build Milvus source code"
      ]
    },
    {
      "cell_type": "code",
      "metadata": {
        "id": "lTnn2t5TJgwT"
      },
      "source": [
        "% cd /content/milvus/core  \n",
        "!ls\n",
        "!./build.sh -t Release\n",
        "# If you want to build GPU version, add -g option, and Edit the Notebook settings with GPU\n",
        "# !./build.sh -t Release -g"
      ],
      "execution_count": null,
      "outputs": []
    },
    {
      "cell_type": "markdown",
      "metadata": {
        "id": "5VYU_Vuse3du"
      },
      "source": [
        "### Launch Milvus server"
      ]
    },
    {
      "cell_type": "markdown",
      "metadata": {
        "id": "uuVy15nage21"
      },
      "source": [
        "Add `lib/` directory to `LD_LIBRARY_PATH`"
      ]
    },
    {
      "cell_type": "code",
      "metadata": {
        "id": "LWKTxbWB3t6k"
      },
      "source": [
        "% cd /content/milvus/core/milvus\n",
        "! echo $LD_LIBRARY_PATH\n",
        "import os\n",
        "os.environ['LD_LIBRARY_PATH'] +=\":/content/milvus/core/milvus/lib\"\n",
        "! echo $LD_LIBRARY_PATH"
      ],
      "execution_count": null,
      "outputs": []
    },
    {
      "cell_type": "markdown",
      "metadata": {
        "id": "LDItQnl6gqRB"
      },
      "source": [
        "Start Milvus server and hang"
      ]
    },
    {
      "cell_type": "code",
      "metadata": {
        "id": "kUP-sYY84f2w"
      },
      "source": [
        "% cd scripts\n",
        "! ls\n",
        "! nohup ./start_server.sh &"
      ],
      "execution_count": null,
      "outputs": []
    },
    {
      "cell_type": "markdown",
      "metadata": {
        "id": "cc58c0UEk6yZ"
      },
      "source": [
        "Show Milvus server status\n",
        "\n",
        "If you can find the following content, the Milvus server is successfully running: `Milvus server started successfully!`"
      ]
    },
    {
      "cell_type": "code",
      "metadata": {
        "id": "FPjd0KuT6RQG"
      },
      "source": [
        "! ls\n",
        "! cat nohup.out"
      ],
      "execution_count": null,
      "outputs": []
    },
    {
      "cell_type": "markdown",
      "metadata": {
        "id": "_b9dnZxsfBkb"
      },
      "source": [
        "## Run Python Code"
      ]
    },
    {
      "cell_type": "markdown",
      "metadata": {
        "id": "CgHV9nxip1Ki"
      },
      "source": [
        "### Install Milvus Python SDK"
      ]
    },
    {
      "cell_type": "code",
      "metadata": {
        "id": "mZ5XwO5m9cO2"
      },
      "source": [
        "! pip install pymilvus"
      ],
      "execution_count": null,
      "outputs": []
    },
    {
      "cell_type": "markdown",
      "metadata": {
        "id": "QNHMM1GZqLLe"
      },
      "source": [
        "### Import pymilvus"
      ]
    },
    {
      "cell_type": "code",
      "metadata": {
        "id": "YjAPCIG09lKt"
      },
      "source": [
        "import random\n",
        "import numpy as np\n",
        "\n",
        "from milvus import Milvus, IndexType, MetricType, Status\n",
        "\n",
        "# Milvus server IP address and port.\n",
        "# You may need to change _HOST and _PORT accordingly.\n",
        "_HOST = '127.0.0.1'\n",
        "_PORT = '19530'  # default value\n",
        "# _PORT = '19121'  # default http value\n",
        "\n",
        "# Vector parameters\n",
        "_DIM = 8  # dimension of vector\n",
        "\n",
        "_INDEX_FILE_SIZE = 32  # max file size of stored index\n",
        "\n",
        "# the demo name.\n",
        "collection_name = 'example_collection_'\n",
        "partition_tag = 'demo_tag_'\n",
        "segment_name= ''\n",
        "\n",
        "# 10 vectors with 8 dimension, per element is float32 type, vectors should be a 2-D array\n",
        "vectors = [[random.random() for _ in range(_DIM)] for _ in range(10)]\n",
        "ids = [i for i in range(10)]"
      ],
      "execution_count": null,
      "outputs": []
    },
    {
      "cell_type": "markdown",
      "metadata": {
        "id": "JfbcppegrYB4"
      },
      "source": [
        "### Connect Milvus and check version"
      ]
    },
    {
      "cell_type": "code",
      "metadata": {
        "id": "XSppa-yg9oSD"
      },
      "source": [
        "# Connect to Milvus Server \n",
        "milvus = Milvus(_HOST, _PORT)\n",
        "\n",
        "# Close client instance\n",
        "# milvus.close()\n",
        "\n",
        "# Returns the status of the Milvus server.\n",
        "server_status = milvus.server_status(timeout=10)\n",
        "print(server_status)"
      ],
      "execution_count": null,
      "outputs": []
    },
    {
      "cell_type": "code",
      "metadata": {
        "id": "39woJCzO9sYI"
      },
      "source": [
        "# Returns the version of the client.\n",
        "client_version= milvus.client_version()\n",
        "print(client_version)\n",
        "\n",
        "# Returns the version of the Milvus server.\n",
        "server_version = milvus.server_version(timeout=10)\n",
        "print(server_version)"
      ],
      "execution_count": null,
      "outputs": []
    },
    {
      "cell_type": "markdown",
      "metadata": {
        "id": "H6EFgdyLrd-0"
      },
      "source": [
        "### Check and create collection/index"
      ]
    },
    {
      "cell_type": "code",
      "metadata": {
        "id": "o-bno8kgAgPX"
      },
      "source": [
        "# Checks whether a collection exists.\n",
        "milvus.has_collection(collection_name=collection_name, timeout=10)"
      ],
      "execution_count": null,
      "outputs": []
    },
    {
      "cell_type": "code",
      "metadata": {
        "id": "ODxBgrSNAsYE"
      },
      "source": [
        "# Information needed to create a collection.Defult index_file_size=1024 and metric_type=MetricType.L2\n",
        "param={'collection_name':collection_name, 'dimension': _DIM, 'index_file_size': _INDEX_FILE_SIZE, 'metric_type': MetricType.L2}\n",
        "# Creates a collection.\n",
        "milvus.create_collection(param, timeout=10)"
      ],
      "execution_count": null,
      "outputs": []
    },
    {
      "cell_type": "code",
      "metadata": {
        "id": "41i7MqkqAur6"
      },
      "source": [
        "# Checks whether a partition exists.\n",
        "milvus.has_partition(collection_name=collection_name, partition_tag=partition_tag)"
      ],
      "execution_count": null,
      "outputs": []
    },
    {
      "cell_type": "code",
      "metadata": {
        "id": "dBkBbsNZAwr6"
      },
      "source": [
        "# Create a partition for a collection.\n",
        "milvus.create_partition(collection_name=collection_name, partition_tag=partition_tag, timeout=10)"
      ],
      "execution_count": null,
      "outputs": []
    },
    {
      "cell_type": "code",
      "metadata": {
        "id": "uo762CN5Az5y"
      },
      "source": [
        "ivf_param = {'nlist': 16384}\n",
        "# Creates index for a collection.\n",
        "milvus.create_index(collection_name=collection_name, index_type=IndexType.IVF_FLAT, params=ivf_param)"
      ],
      "execution_count": null,
      "outputs": []
    },
    {
      "cell_type": "markdown",
      "metadata": {
        "id": "K_x-I2idrlSX"
      },
      "source": [
        "### Insert data and flush"
      ]
    },
    {
      "cell_type": "code",
      "metadata": {
        "id": "9PU1gI4sA2Ta"
      },
      "source": [
        "# Insert vectors to a collection.\n",
        "milvus.insert(collection_name=collection_name, records=vectors, ids=ids)"
      ],
      "execution_count": null,
      "outputs": []
    },
    {
      "cell_type": "code",
      "metadata": {
        "id": "XPgZV4n6A5la"
      },
      "source": [
        "# Flushes vector data in one collection or multiple collections to disk.\n",
        "milvus.flush(collection_name_array=[collection_name], timeout=None)"
      ],
      "execution_count": null,
      "outputs": []
    },
    {
      "cell_type": "markdown",
      "metadata": {
        "id": "-wbQVapprrcW"
      },
      "source": [
        "### Load data and search"
      ]
    },
    {
      "cell_type": "code",
      "metadata": {
        "id": "NTyK-g5cA7wZ"
      },
      "source": [
        "# Loads a collection for caching.\n",
        "milvus.load_collection(collection_name=collection_name, timeout=None)"
      ],
      "execution_count": null,
      "outputs": []
    },
    {
      "cell_type": "code",
      "metadata": {
        "id": "vm8RWaZwA-eS"
      },
      "source": [
        "# Search vectors in a collection.\n",
        "search_param = { \"nprobe\": 16 }\n",
        "milvus.search(collection_name=collection_name,query_records=[vectors[0]],partition_tags=None,top_k=10,params=search_param)"
      ],
      "execution_count": null,
      "outputs": []
    },
    {
      "cell_type": "markdown",
      "metadata": {
        "id": "zjK-yrDsrwWT"
      },
      "source": [
        "### Get info about collection/index"
      ]
    },
    {
      "cell_type": "code",
      "metadata": {
        "id": "ai0crCJeBBpK"
      },
      "source": [
        "# Returns collection list.\n",
        "milvus.list_collections(timeout=10)"
      ],
      "execution_count": null,
      "outputs": []
    },
    {
      "cell_type": "code",
      "metadata": {
        "id": "Ujw58_88BFuS"
      },
      "source": [
        "# Show all partitions in a collection.\n",
        "milvus.list_partitions(collection_name=collection_name, timeout=10)"
      ],
      "execution_count": null,
      "outputs": []
    },
    {
      "cell_type": "code",
      "metadata": {
        "id": "Ym2OSR8UBJqy"
      },
      "source": [
        "# Returns the number of vectors in a collection.\n",
        "milvus.count_entities(collection_name=collection_name, timeout=10)"
      ],
      "execution_count": null,
      "outputs": []
    },
    {
      "cell_type": "code",
      "metadata": {
        "id": "25Armn5YBLkW"
      },
      "source": [
        "# Returns information of a collection.\n",
        "milvus.get_collection_info(collection_name=collection_name, timeout=10)"
      ],
      "execution_count": null,
      "outputs": []
    },
    {
      "cell_type": "code",
      "metadata": {
        "id": "08t78sWYBQBq"
      },
      "source": [
        "# Returns collection statistics information\n",
        "milvus.get_collection_stats(collection_name=collection_name, timeout=10)"
      ],
      "execution_count": null,
      "outputs": []
    },
    {
      "cell_type": "code",
      "metadata": {
        "id": "dY9CqZ72BSYS"
      },
      "source": [
        "# Show index information of a collection.\n",
        "milvus.get_index_info(collection_name=collection_name, timeout=10)"
      ],
      "execution_count": null,
      "outputs": []
    },
    {
      "cell_type": "markdown",
      "metadata": {
        "id": "W49q311Yr4ZM"
      },
      "source": [
        "### Get data by ids"
      ]
    },
    {
      "cell_type": "code",
      "metadata": {
        "id": "zQ_yUHauBYeK"
      },
      "source": [
        "# List the ids in segment\n",
        "# you can get the segment_name list by get_collection_stats() function.\n",
        "milvus.list_id_in_segment(collection_name =collection_name, segment_name='1600328539015368000', timeout=None)"
      ],
      "execution_count": null,
      "outputs": []
    },
    {
      "cell_type": "code",
      "metadata": {
        "id": "jmTFaoJVBc3K"
      },
      "source": [
        "# Returns raw vectors according to ids, and you can get the ids list by list_id_in_segment() function.\n",
        "# ids (list) -- list of vector id\n",
        "milvus.get_entity_by_id(collection_name=collection_name, ids=[0], timeout=None)"
      ],
      "execution_count": null,
      "outputs": []
    },
    {
      "cell_type": "markdown",
      "metadata": {
        "id": "PUJJFWVwsCVK"
      },
      "source": [
        "### Get and set the configurations"
      ]
    },
    {
      "cell_type": "code",
      "metadata": {
        "id": "HOVsUsPqBtDa"
      },
      "source": [
        "# Gets Milvus configurations.\n",
        "milvus.get_config(parent_key='cache', child_key='cache_size')"
      ],
      "execution_count": null,
      "outputs": []
    },
    {
      "cell_type": "code",
      "metadata": {
        "id": "48hPN8UsBv4h"
      },
      "source": [
        "# Sets Milvus configurations.\n",
        "milvus.set_config(parent_key='cache', child_key='cache_size', value='5G')"
      ],
      "execution_count": null,
      "outputs": []
    },
    {
      "cell_type": "markdown",
      "metadata": {
        "id": "FHvWWc5bsGTZ"
      },
      "source": [
        "### Delete data/index"
      ]
    },
    {
      "cell_type": "code",
      "metadata": {
        "id": "xxqtilXbBykZ"
      },
      "source": [
        "# Removes an index.\n",
        "milvus.drop_index(collection_name=collection_name, timeout=None)"
      ],
      "execution_count": null,
      "outputs": []
    },
    {
      "cell_type": "code",
      "metadata": {
        "id": "NLwaRd7aB2sS"
      },
      "source": [
        "# Deletes a partition in a collection.\n",
        "milvus.drop_partition(collection_name=collection_name, partition_tag=partition_tag, timeout=None)"
      ],
      "execution_count": null,
      "outputs": []
    },
    {
      "cell_type": "code",
      "metadata": {
        "id": "lRkG85SbB5qP"
      },
      "source": [
        "# Deletes vectors in a collection by vector ID.\n",
        "# id_array (list[int]) -- list of vector id\n",
        "milvus.delete_entity_by_id(collection_name=collection_name, id_array=[0], timeout=None)"
      ],
      "execution_count": null,
      "outputs": []
    },
    {
      "cell_type": "code",
      "metadata": {
        "id": "h_LRzasPB7KU"
      },
      "source": [
        "# Deletes a collection by name.\n",
        "# milvus.drop_collection(collection_name=collection_name, timeout=10)"
      ],
      "execution_count": null,
      "outputs": []
    }
  ]
}